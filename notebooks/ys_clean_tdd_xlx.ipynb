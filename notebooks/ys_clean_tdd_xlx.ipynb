{
 "cells": [
  {
   "cell_type": "code",
   "execution_count": 1,
   "id": "82bddb01",
   "metadata": {},
   "outputs": [],
   "source": [
    "import pandas as pd\n",
    "import re"
   ]
  },
  {
   "cell_type": "code",
   "execution_count": 2,
   "id": "d96d7f13",
   "metadata": {},
   "outputs": [],
   "source": [
    "df = pd.read_excel(\"ttd_database.xlsx\", index_col=0)"
   ]
  },
  {
   "cell_type": "code",
   "execution_count": 3,
   "id": "2f4b97b2",
   "metadata": {},
   "outputs": [
    {
     "data": {
      "text/html": [
       "<div>\n",
       "<style scoped>\n",
       "    .dataframe tbody tr th:only-of-type {\n",
       "        vertical-align: middle;\n",
       "    }\n",
       "\n",
       "    .dataframe tbody tr th {\n",
       "        vertical-align: top;\n",
       "    }\n",
       "\n",
       "    .dataframe thead th {\n",
       "        text-align: right;\n",
       "    }\n",
       "</style>\n",
       "<table border=\"1\" class=\"dataframe\">\n",
       "  <thead>\n",
       "    <tr style=\"text-align: right;\">\n",
       "      <th></th>\n",
       "      <th>DrugID</th>\n",
       "      <th>MOA</th>\n",
       "    </tr>\n",
       "    <tr>\n",
       "      <th>TargetID</th>\n",
       "      <th></th>\n",
       "      <th></th>\n",
       "    </tr>\n",
       "  </thead>\n",
       "  <tbody>\n",
       "    <tr>\n",
       "      <th>T71390</th>\n",
       "      <td>D07OAC</td>\n",
       "      <td>Inhibitor</td>\n",
       "    </tr>\n",
       "    <tr>\n",
       "      <th>T70309</th>\n",
       "      <td>D07OAC</td>\n",
       "      <td>Inhibitor</td>\n",
       "    </tr>\n",
       "    <tr>\n",
       "      <th>T97071</th>\n",
       "      <td>D0Y6UB</td>\n",
       "      <td>Inhibitor</td>\n",
       "    </tr>\n",
       "    <tr>\n",
       "      <th>T86679</th>\n",
       "      <td>D0J2UW</td>\n",
       "      <td>Agonist</td>\n",
       "    </tr>\n",
       "    <tr>\n",
       "      <th>T19229</th>\n",
       "      <td>D0UZ9U</td>\n",
       "      <td>Modulator</td>\n",
       "    </tr>\n",
       "  </tbody>\n",
       "</table>\n",
       "</div>"
      ],
      "text/plain": [
       "          DrugID        MOA\n",
       "TargetID                   \n",
       "T71390    D07OAC  Inhibitor\n",
       "T70309    D07OAC  Inhibitor\n",
       "T97071    D0Y6UB  Inhibitor\n",
       "T86679    D0J2UW    Agonist\n",
       "T19229    D0UZ9U  Modulator"
      ]
     },
     "execution_count": 3,
     "metadata": {},
     "output_type": "execute_result"
    }
   ],
   "source": [
    "TDD_df = df.drop(columns = 'Highest_status')\n",
    "TDD_df.head()"
   ]
  },
  {
   "cell_type": "code",
   "execution_count": 4,
   "id": "936896fb",
   "metadata": {},
   "outputs": [
    {
     "data": {
      "text/plain": [
       "array(['Inhibitor', 'Agonist', 'Modulator', 'Antagonist', 'Blocker',\n",
       "       'Binder', 'Binder (minor groove binder)',\n",
       "       'CAR-T-Cell-Therapy(Dual specific)', 'CAR-T-Cell-Therapy', '.',\n",
       "       'Activator', 'Stimulator', 'Immunomodulator', 'Replacement',\n",
       "       'Stabilizer', 'Immunostimulant', 'Opener', 'Enhancer',\n",
       "       'Modulator (allosteric modulator)', 'Inhibitor (gating inhibitor)',\n",
       "       'Blocker (channel blocker)', 'Inducer', 'Breaker',\n",
       "       'Regulator (upregulator)', 'Intercalator', 'Cofactor', 'Disrupter',\n",
       "       'Degrader', 'Immunomodulator (Immunostimulant)', 'Suppressor',\n",
       "       'Inactivator', 'Ligand', 'Agonis; Inverse agonist', 'Stablizer',\n",
       "       'Inverse agonist', 'Regulator', 'Immunomodulator ', 'Chelator',\n",
       "       'Reactivator', 'Partial agonist', 'Co-agonist', 'Stimulator ',\n",
       "       'Antisense ', 'Inhibitor; Antagonist; Blocker',\n",
       "       'Immune response agent', 'antagonist'], dtype=object)"
      ]
     },
     "execution_count": 4,
     "metadata": {},
     "output_type": "execute_result"
    }
   ],
   "source": [
    "TDD_df['MOA'].unique()"
   ]
  },
  {
   "cell_type": "code",
   "execution_count": 11,
   "id": "508825fe",
   "metadata": {},
   "outputs": [],
   "source": [
    "Anta_list = ['Inhibitor', 'Antagonist', 'Blocker', 'Inhibitor (gating inhibitor)', \n",
    "             'Blocker (channel blocker)', 'Disrupter', 'Suppressor', 'Inactivator', 'Inverse agonist',\n",
    "             'Inhibitor; Antagonist; Blocker', 'antagonist', 'Antagonist (gating inhibitor)','Antagonist (channel blocker)',\n",
    "            'Antagonist; Antagonist; Antagonist','Agonis; Antagonist','Agonis; Inverse agonist']\n",
    "Ago_list = ['Agonist', 'Activator', 'Stimulator', 'Immunostimulant', 'Enhancer', 'Inducer', 'Regulator (upregulator)', \n",
    "            'Cofactor', 'Partial agonist', 'Co-agonist', 'Stimulator ','Agonist ','Modulator (Agonist)']\n",
    "Mod_list = ['Modulator', 'Binder', 'Binder (minor groove binder)', 'Immunomodulator', 'Modulator (allosteric modulator)',\n",
    "            'Immunomodulator (Immunostimulant)','Regulator', 'Immunomodulator ','Modulator (minor groove binder)',\n",
    "           'Modulator (upregulator)','Modulator ']\n",
    "CART_list = ['CAR-T-Cell-Therapy', 'CAR-T-Cell-Therapy(Dual specific)','CART(Dual specific)']\n",
    "drop_list = ['Chelator', 'Reactivator', 'Intercalator', 'Antisense', 'Immune response agent', 'Stabilizer','Stablizer',\n",
    "             'Opener', 'Breaker', 'Degrader', 'Replacement', 'Antisense ','.']"
   ]
  },
  {
   "cell_type": "code",
   "execution_count": 12,
   "id": "d5e9bda3",
   "metadata": {},
   "outputs": [],
   "source": [
    "TDD_df = TDD_df[TDD_df['MOA'].isin(drop_list) == False]\n",
    "TDD_df['MOA'] = TDD_df['MOA'].replace(Anta_list, 'Antagonist')\n",
    "TDD_df['MOA'] = TDD_df['MOA'].replace(Ago_list, 'Agonist')\n",
    "TDD_df['MOA'] = TDD_df['MOA'].replace(Mod_list, 'Modulator')\n",
    "TDD_df['MOA'] = TDD_df['MOA'].replace(CART_list, 'CART')"
   ]
  },
  {
   "cell_type": "code",
   "execution_count": 13,
   "id": "63b5b06b",
   "metadata": {},
   "outputs": [
    {
     "data": {
      "text/plain": [
       "array(['Antagonist', 'Agonist', 'Modulator', 'CART', 'Ligand'],\n",
       "      dtype=object)"
      ]
     },
     "execution_count": 13,
     "metadata": {},
     "output_type": "execute_result"
    }
   ],
   "source": [
    "TDD_df['MOA'].unique()"
   ]
  },
  {
   "cell_type": "code",
   "execution_count": 17,
   "id": "a1964401",
   "metadata": {},
   "outputs": [
    {
     "data": {
      "text/plain": [
       "DrugID    30276\n",
       "MOA           5\n",
       "dtype: int64"
      ]
     },
     "execution_count": 17,
     "metadata": {},
     "output_type": "execute_result"
    }
   ],
   "source": [
    "TDD_df.nunique()"
   ]
  },
  {
   "cell_type": "code",
   "execution_count": 18,
   "id": "09528f56",
   "metadata": {},
   "outputs": [
    {
     "data": {
      "text/plain": [
       "Antagonist    33501\n",
       "Modulator      5386\n",
       "Agonist        3108\n",
       "CART            427\n",
       "Ligand          208\n",
       "Name: MOA, dtype: int64"
      ]
     },
     "execution_count": 18,
     "metadata": {},
     "output_type": "execute_result"
    }
   ],
   "source": [
    "TDD_df['MOA'].value_counts()"
   ]
  }
 ],
 "metadata": {
  "kernelspec": {
   "display_name": "Python 3 (ipykernel)",
   "language": "python",
   "name": "python3"
  },
  "language_info": {
   "codemirror_mode": {
    "name": "ipython",
    "version": 3
   },
   "file_extension": ".py",
   "mimetype": "text/x-python",
   "name": "python",
   "nbconvert_exporter": "python",
   "pygments_lexer": "ipython3",
   "version": "3.8.12"
  },
  "toc": {
   "base_numbering": 1,
   "nav_menu": {},
   "number_sections": true,
   "sideBar": true,
   "skip_h1_title": false,
   "title_cell": "Table of Contents",
   "title_sidebar": "Contents",
   "toc_cell": false,
   "toc_position": {},
   "toc_section_display": true,
   "toc_window_display": false
  }
 },
 "nbformat": 4,
 "nbformat_minor": 5
}
