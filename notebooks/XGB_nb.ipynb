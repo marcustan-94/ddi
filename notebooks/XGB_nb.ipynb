{
 "cells": [
  {
   "cell_type": "markdown",
   "id": "b8d2f3ca",
   "metadata": {},
   "source": [
    "# Merging 30 Datasets"
   ]
  },
  {
   "cell_type": "markdown",
   "id": "8fd3d733",
   "metadata": {},
   "source": [
    "## Imports"
   ]
  },
  {
   "cell_type": "code",
   "execution_count": null,
   "id": "54adec23",
   "metadata": {},
   "outputs": [],
   "source": [
    "from tdc.multi_pred import DTI\n",
    "import pandas as pd\n",
    "import numpy as np\n",
    "import seaborn as sns \n",
    "import matplotlib.pyplot as plt"
   ]
  },
  {
   "cell_type": "markdown",
   "id": "cab3080f",
   "metadata": {},
   "source": [
    "## Drug-Target Interaction Prediction"
   ]
  },
  {
   "cell_type": "markdown",
   "id": "9e4c9880",
   "metadata": {},
   "source": [
    "https://tdcommons.ai/multi_pred_tasks/dti/"
   ]
  },
  {
   "cell_type": "markdown",
   "id": "bf46636a",
   "metadata": {},
   "source": [
    "### Data Extraction"
   ]
  },
  {
   "cell_type": "code",
   "execution_count": null,
   "id": "164db479",
   "metadata": {},
   "outputs": [],
   "source": [
    "BindingDB_Kd = DTI(name = 'BindingDB_Kd')\n",
    "BindingDB_Kd.convert_to_log(form = 'standard')\n",
    "BindingDB_Kd = BindingDB_Kd.harmonize_affinities(mode = 'max_affinity')"
   ]
  },
  {
   "cell_type": "code",
   "execution_count": null,
   "id": "b9c40966",
   "metadata": {},
   "outputs": [],
   "source": [
    "DAVIS = DTI(name = 'DAVIS')\n",
    "DAVIS.convert_to_log(form = 'standard')\n",
    "DAVIS = DAVIS.get_data()"
   ]
  },
  {
   "cell_type": "code",
   "execution_count": null,
   "id": "07e46073",
   "metadata": {},
   "outputs": [],
   "source": [
    "KIBA = DTI(name = 'KIBA')\n",
    "KIBA.convert_to_log(form = 'standard')\n",
    "KIBA = KIBA.get_data()"
   ]
  },
  {
   "cell_type": "code",
   "execution_count": null,
   "id": "57869fb2",
   "metadata": {},
   "outputs": [],
   "source": [
    "sns.histplot(BindingDB_Kd['Y'])"
   ]
  },
  {
   "cell_type": "code",
   "execution_count": null,
   "id": "9590e623",
   "metadata": {},
   "outputs": [],
   "source": [
    "sns.histplot(DAVIS['Y'])"
   ]
  },
  {
   "cell_type": "code",
   "execution_count": null,
   "id": "cddbf860",
   "metadata": {},
   "outputs": [],
   "source": [
    "sns.histplot(KIBA['Y'])"
   ]
  },
  {
   "cell_type": "code",
   "execution_count": null,
   "id": "0e9196e3",
   "metadata": {},
   "outputs": [],
   "source": [
    "BindingDB_Kd.describe()"
   ]
  },
  {
   "cell_type": "markdown",
   "id": "0e714654",
   "metadata": {},
   "source": [
    "###  Data Cleaning"
   ]
  },
  {
   "cell_type": "code",
   "execution_count": null,
   "id": "dbc88923",
   "metadata": {},
   "outputs": [],
   "source": [
    "interactive_ds = [BindingDB_Kd, DAVIS, KIBA]"
   ]
  },
  {
   "cell_type": "code",
   "execution_count": null,
   "id": "61f6b07f",
   "metadata": {},
   "outputs": [],
   "source": [
    "clean_ds = []\n",
    "\n",
    "for df in interactive_ds:\n",
    "    min_value = df['Y'].min()\n",
    "    max_value = df['Y'].max()\n",
    "    bins = np.linspace(min_value,max_value,5)\n",
    "    labels = [3,2,1,0] # labels, lower the values, the higher the label.\n",
    "    df['Y_cat'] = pd.cut(df['Y'], bins=bins,labels=labels,include_lowest=True)\n",
    "    df = df[['Drug','Target','Y_cat']]\n",
    "    df = df.drop_duplicates(subset=['Drug', 'Target'], keep='first')\n",
    "    df_clean = pd.pivot(df, index='Drug',columns='Target', values ='Y_cat')\n",
    "    df_clean = df_clean.fillna(0)\n",
    "    clean_ds.append(df_clean)\n",
    "    \n",
    "BindingDB_Kd_clean, DAVIS_clean, KIBA_clean = clean_ds[0],clean_ds[1],clean_ds[2]"
   ]
  },
  {
   "cell_type": "code",
   "execution_count": null,
   "id": "7aa188cc",
   "metadata": {},
   "outputs": [],
   "source": [
    "BindingDB_Kd_clean"
   ]
  },
  {
   "cell_type": "code",
   "execution_count": null,
   "id": "8fe1703a",
   "metadata": {},
   "outputs": [],
   "source": [
    "DTI_merged = pd.merge(BindingDB_Kd_clean,DAVIS_clean, how ='outer', on = 'Drug').merge(\n",
    "    KIBA_clean, how='outer',on ='Drug').fillna(0)"
   ]
  },
  {
   "cell_type": "code",
   "execution_count": null,
   "id": "4700017b",
   "metadata": {
    "scrolled": true
   },
   "outputs": [],
   "source": [
    "DTI_merged"
   ]
  },
  {
   "cell_type": "markdown",
   "id": "2ea1a2de",
   "metadata": {},
   "source": [
    "## ADME Property Prediction"
   ]
  },
  {
   "cell_type": "markdown",
   "id": "41320b76",
   "metadata": {},
   "source": [
    "https://tdcommons.ai/single_pred_tasks/adme/"
   ]
  },
  {
   "cell_type": "markdown",
   "id": "4ca10093",
   "metadata": {},
   "source": [
    "### Data Extraction"
   ]
  },
  {
   "cell_type": "code",
   "execution_count": null,
   "id": "d1a6f002",
   "metadata": {},
   "outputs": [],
   "source": [
    "from tdc.single_pred import ADME"
   ]
  },
  {
   "cell_type": "code",
   "execution_count": null,
   "id": "45c273b7",
   "metadata": {},
   "outputs": [],
   "source": [
    "Caco2_Wang = ADME(name = 'Caco2_Wang').get_data()"
   ]
  },
  {
   "cell_type": "code",
   "execution_count": null,
   "id": "6d28eecf",
   "metadata": {},
   "outputs": [],
   "source": [
    "HIA_Hou = ADME(name = 'HIA_Hou').get_data()"
   ]
  },
  {
   "cell_type": "code",
   "execution_count": null,
   "id": "4f240c20",
   "metadata": {},
   "outputs": [],
   "source": [
    "Pgp_Broccatelli = ADME(name = 'Pgp_Broccatelli').get_data()"
   ]
  },
  {
   "cell_type": "code",
   "execution_count": null,
   "id": "0f4fcdfa",
   "metadata": {},
   "outputs": [],
   "source": [
    "Bioavailability_Ma = ADME(name = 'Bioavailability_Ma').get_data()"
   ]
  },
  {
   "cell_type": "code",
   "execution_count": null,
   "id": "3bfa2102",
   "metadata": {},
   "outputs": [],
   "source": [
    "Lipophilicity_AstraZeneca = ADME(name = 'Lipophilicity_AstraZeneca').get_data()"
   ]
  },
  {
   "cell_type": "code",
   "execution_count": null,
   "id": "5377251d",
   "metadata": {},
   "outputs": [],
   "source": [
    "Solubility_AqSolDB = ADME(name = 'Solubility_AqSolDB').get_data()"
   ]
  },
  {
   "cell_type": "code",
   "execution_count": null,
   "id": "0b06ce91",
   "metadata": {},
   "outputs": [],
   "source": [
    "HydrationFreeEnergy_FreeSolv = ADME(name = 'HydrationFreeEnergy_FreeSolv').get_data()"
   ]
  },
  {
   "cell_type": "code",
   "execution_count": null,
   "id": "bb04d405",
   "metadata": {},
   "outputs": [],
   "source": [
    "BBB_Martins = ADME(name = 'BBB_Martins').get_data()"
   ]
  },
  {
   "cell_type": "code",
   "execution_count": null,
   "id": "eb6ccb97",
   "metadata": {},
   "outputs": [],
   "source": [
    "PPBR_AZ = ADME(name = 'PPBR_AZ').get_data()"
   ]
  },
  {
   "cell_type": "code",
   "execution_count": null,
   "id": "c30f188f",
   "metadata": {},
   "outputs": [],
   "source": [
    "VDss_Lombardo = ADME(name = 'VDss_Lombardo').get_data()"
   ]
  },
  {
   "cell_type": "code",
   "execution_count": null,
   "id": "9cebe9f0",
   "metadata": {},
   "outputs": [],
   "source": [
    "CYP2C19_Veith = ADME(name = 'CYP2C19_Veith').get_data()"
   ]
  },
  {
   "cell_type": "code",
   "execution_count": null,
   "id": "8397cdb3",
   "metadata": {},
   "outputs": [],
   "source": [
    "CYP2D6_Veith = ADME(name = 'CYP2D6_Veith').get_data()"
   ]
  },
  {
   "cell_type": "code",
   "execution_count": null,
   "id": "69726dc5",
   "metadata": {},
   "outputs": [],
   "source": [
    "CYP3A4_Veith = ADME(name = 'CYP3A4_Veith').get_data()"
   ]
  },
  {
   "cell_type": "code",
   "execution_count": null,
   "id": "892e6a12",
   "metadata": {},
   "outputs": [],
   "source": [
    "CYP1A2_Veith= ADME(name = 'CYP1A2_Veith').get_data()"
   ]
  },
  {
   "cell_type": "code",
   "execution_count": null,
   "id": "023abf9e",
   "metadata": {},
   "outputs": [],
   "source": [
    "CYP2C9_Veith = ADME(name = 'CYP2C9_Veith').get_data()"
   ]
  },
  {
   "cell_type": "code",
   "execution_count": null,
   "id": "db696f22",
   "metadata": {},
   "outputs": [],
   "source": [
    "CYP2C9_Substrate_CarbonMangels = ADME(name = 'CYP2C9_Substrate_CarbonMangels').get_data()"
   ]
  },
  {
   "cell_type": "code",
   "execution_count": null,
   "id": "0c49f4cd",
   "metadata": {},
   "outputs": [],
   "source": [
    "CYP2D6_Substrate_CarbonMangels = ADME(name = 'CYP2D6_Substrate_CarbonMangels').get_data()"
   ]
  },
  {
   "cell_type": "code",
   "execution_count": null,
   "id": "78613314",
   "metadata": {},
   "outputs": [],
   "source": [
    "CYP3A4_Substrate_CarbonMangels = ADME(name = 'CYP3A4_Substrate_CarbonMangels').get_data()"
   ]
  },
  {
   "cell_type": "code",
   "execution_count": null,
   "id": "b9163235",
   "metadata": {},
   "outputs": [],
   "source": [
    "Half_Life_Obach = ADME(name = 'Half_Life_Obach').get_data()"
   ]
  },
  {
   "cell_type": "code",
   "execution_count": null,
   "id": "829d0208",
   "metadata": {},
   "outputs": [],
   "source": [
    "Clearance_Hepatocyte_AZ = ADME(name = 'Clearance_Hepatocyte_AZ').get_data()"
   ]
  },
  {
   "cell_type": "markdown",
   "id": "b66ddc96",
   "metadata": {},
   "source": [
    "### Data Cleaning"
   ]
  },
  {
   "cell_type": "code",
   "execution_count": null,
   "id": "983d5a47",
   "metadata": {},
   "outputs": [],
   "source": [
    "\n",
    "\n",
    "ADME_dfs = {'Caco2_Wang':Caco2_Wang,'HIA_Hou':HIA_Hou, 'Pgp_Broccatelli':Pgp_Broccatelli, 'Bioavailability_Ma': Bioavailability_Ma,\n",
    "           'Lipophilicity_AstraZeneca': Lipophilicity_AstraZeneca, 'Solubility_AqSolDB': Solubility_AqSolDB,\n",
    "           'HydrationFreeEnergy_FreeSolv':HydrationFreeEnergy_FreeSolv,'BBB_Martins': BBB_Martins,\n",
    "           'PPBR_AZ': PPBR_AZ, 'VDss_Lombardo': VDss_Lombardo, 'CYP2C19_Veith': CYP2C19_Veith, \n",
    "           'CYP2D6_Veith':CYP2D6_Veith, 'CYP3A4_Veith':CYP3A4_Veith, 'CYP1A2_Veith':CYP1A2_Veith,\n",
    "           'CYP2C9_Veith':CYP2C9_Veith, 'CYP2C9_Substrate_CarbonMangels': CYP2C9_Substrate_CarbonMangels,\n",
    "           'CYP2D6_Substrate_CarbonMangels':CYP2D6_Substrate_CarbonMangels, \n",
    "            'CYP3A4_Substrate_CarbonMangels': CYP3A4_Substrate_CarbonMangels, \n",
    "           'Half_Life_Obach':Half_Life_Obach, 'Clearance_Hepatocyte_AZ': Clearance_Hepatocyte_AZ}\n",
    "\n",
    "\n",
    "# rename Y as the name\n",
    "for df in ADME_dfs.items():\n",
    "    print(df[0])\n",
    "    df[1].rename(columns= {\"Y\": df[0]}, inplace = True)\n",
    "    df[1].drop(columns ='Drug_ID', inplace = True, axis = 0)\n",
    "\n",
    "ADME_df_clean = []\n",
    "for i in ADME_dfs:\n",
    "    ADME_df_clean.append(ADME_dfs[i])\n",
    "\n",
    "from functools import reduce\n",
    "AMDE_merged = reduce(lambda left, right : pd.merge(left,right, on =['Drug'], \n",
    "                                                 how ='outer'),ADME_df_clean).fillna(0)\n",
    "\n",
    "AMDE_merged"
   ]
  },
  {
   "cell_type": "markdown",
   "id": "4ff1662a",
   "metadata": {},
   "source": [
    "## Toxicity Prediction Task"
   ]
  },
  {
   "cell_type": "markdown",
   "id": "6df24c9e",
   "metadata": {},
   "source": [
    "https://tdcommons.ai/single_pred_tasks/tox/"
   ]
  },
  {
   "cell_type": "markdown",
   "id": "71279d86",
   "metadata": {},
   "source": [
    "### Data Extraction"
   ]
  },
  {
   "cell_type": "code",
   "execution_count": null,
   "id": "f5886c80",
   "metadata": {},
   "outputs": [],
   "source": [
    "from tdc.single_pred import Tox"
   ]
  },
  {
   "cell_type": "code",
   "execution_count": null,
   "id": "b88b2444",
   "metadata": {},
   "outputs": [],
   "source": [
    "LD50_Zhu = Tox(name = 'LD50_Zhu').get_data()"
   ]
  },
  {
   "cell_type": "code",
   "execution_count": null,
   "id": "9841af81",
   "metadata": {},
   "outputs": [],
   "source": [
    "hERG = Tox(name = 'hERG').get_data()"
   ]
  },
  {
   "cell_type": "code",
   "execution_count": null,
   "id": "10480dff",
   "metadata": {},
   "outputs": [],
   "source": [
    "from tdc.utils import retrieve_label_name_list\n",
    "label_list = retrieve_label_name_list('herg_central')\n",
    "herg_central = Tox(name = 'herg_central', label_name = label_list[0]).get_data()"
   ]
  },
  {
   "cell_type": "code",
   "execution_count": null,
   "id": "2b39bf57",
   "metadata": {},
   "outputs": [],
   "source": [
    "AMES = Tox(name = 'AMES').get_data()"
   ]
  },
  {
   "cell_type": "code",
   "execution_count": null,
   "id": "170b4204",
   "metadata": {},
   "outputs": [],
   "source": [
    "DILI = Tox(name = 'DILI').get_data()"
   ]
  },
  {
   "cell_type": "code",
   "execution_count": null,
   "id": "4198c44f",
   "metadata": {},
   "outputs": [],
   "source": [
    "Skin_Reaction = Tox(name = 'Skin Reaction').get_data()"
   ]
  },
  {
   "cell_type": "code",
   "execution_count": null,
   "id": "eeeb01bb",
   "metadata": {},
   "outputs": [],
   "source": [
    "Carcinogens_Lagunin = Tox(name = 'Carcinogens_Lagunin').get_data()"
   ]
  },
  {
   "cell_type": "code",
   "execution_count": null,
   "id": "13227f01",
   "metadata": {},
   "outputs": [],
   "source": [
    "label_list = retrieve_label_name_list('Tox21')\n",
    "Tox21 = Tox(name = 'Tox21', label_name = label_list[0]).get_data()"
   ]
  },
  {
   "cell_type": "code",
   "execution_count": null,
   "id": "25450f65",
   "metadata": {},
   "outputs": [],
   "source": [
    "label_list = retrieve_label_name_list('Toxcast')\n",
    "ToxCast = Tox(name = 'ToxCast', label_name = label_list[0]).get_data()"
   ]
  },
  {
   "cell_type": "code",
   "execution_count": null,
   "id": "9083edb5",
   "metadata": {},
   "outputs": [],
   "source": [
    "ClinTox = Tox(name = 'ClinTox').get_data()"
   ]
  },
  {
   "cell_type": "markdown",
   "id": "d92f6622",
   "metadata": {},
   "source": [
    "### Data Cleaning"
   ]
  },
  {
   "cell_type": "code",
   "execution_count": null,
   "id": "ddaa8cb1",
   "metadata": {},
   "outputs": [],
   "source": [
    "TOX_dfs = {'LD50_Zhu':LD50_Zhu, 'hERG': hERG, 'herg_central': herg_central, \n",
    "          'AMES': AMES, 'DILI': DILI, 'Skin_Reaction': Skin_Reaction, \n",
    "           'Carcinogens_Lagunin': Carcinogens_Lagunin, 'Tox21': Tox21, 'ToxCast': ToxCast,\n",
    "          'ClinTox': ClinTox }\n",
    "\n",
    "for df in TOX_dfs.items():\n",
    "    print(df[0])\n",
    "    df[1].rename(columns= {\"Y\": df[0]}, inplace = True)\n",
    "    df[1].drop(columns ='Drug_ID', inplace = True, axis = 0)\n",
    "\n",
    "TOX_df_clean = []\n",
    "for i in TOX_dfs:\n",
    "    TOX_df_clean.append(TOX_dfs[i])\n",
    "\n",
    "from functools import reduce\n",
    "TOX_merged = reduce(lambda left, right : pd.merge(left,right, on =['Drug'], \n",
    "                                                 how ='outer'),TOX_df_clean).fillna(0)\n",
    "TOX_merged"
   ]
  },
  {
   "cell_type": "markdown",
   "id": "80b21db4",
   "metadata": {},
   "source": [
    "## Major Merge"
   ]
  },
  {
   "cell_type": "code",
   "execution_count": null,
   "id": "256181d1",
   "metadata": {},
   "outputs": [],
   "source": [
    "merged_df = DTI_merged.merge(AMDE_merged, on ='Drug', how='outer').merge(TOX_merged, on ='Drug', how='outer').fillna(0)"
   ]
  },
  {
   "cell_type": "code",
   "execution_count": null,
   "id": "966fb4b7",
   "metadata": {},
   "outputs": [],
   "source": [
    "merged_df"
   ]
  },
  {
   "cell_type": "code",
   "execution_count": null,
   "id": "3d57a27e",
   "metadata": {},
   "outputs": [],
   "source": [
    "merged_df_dropped = merged_df.copy()"
   ]
  },
  {
   "cell_type": "code",
   "execution_count": null,
   "id": "1574d3a3",
   "metadata": {},
   "outputs": [],
   "source": [
    "# counting how many cols have a lot of 0s. \n",
    "count = 0 \n",
    "for col in merged_df_dropped.columns[1:]:\n",
    "    if merged_df_dropped[col].value_counts()[0]/len(merged_df_dropped[col]) > 0.9999:\n",
    "        count += 1\n",
    "print(count)"
   ]
  },
  {
   "cell_type": "code",
   "execution_count": null,
   "id": "b114d2db",
   "metadata": {},
   "outputs": [],
   "source": [
    "# dropping the cols that have a lot of 0s. \n",
    "for col in merged_df_dropped.columns[1:]:\n",
    "    if merged_df_dropped[col].value_counts()[0]/len(merged_df_dropped[col]) > 0.9999:\n",
    "        merged_df_dropped.drop(columns = col, inplace = True)"
   ]
  },
  {
   "cell_type": "code",
   "execution_count": null,
   "id": "d35cea6c",
   "metadata": {},
   "outputs": [],
   "source": [
    "merged_df_dropped.to_csv('/Users/george/Desktop/LW-DDI Project/xgb_merged_df_dropped.csv')"
   ]
  },
  {
   "cell_type": "code",
   "execution_count": null,
   "id": "10b3433d",
   "metadata": {},
   "outputs": [],
   "source": [
    "merged_df_dropped.head"
   ]
  },
  {
   "cell_type": "code",
   "execution_count": null,
   "id": "bcc968f0",
   "metadata": {},
   "outputs": [],
   "source": []
  }
 ],
 "metadata": {
  "kernelspec": {
   "display_name": "Python 3 (ipykernel)",
   "language": "python",
   "name": "python3"
  },
  "language_info": {
   "codemirror_mode": {
    "name": "ipython",
    "version": 3
   },
   "file_extension": ".py",
   "mimetype": "text/x-python",
   "name": "python",
   "nbconvert_exporter": "python",
   "pygments_lexer": "ipython3",
   "version": "3.8.12"
  },
  "toc": {
   "base_numbering": 1,
   "nav_menu": {},
   "number_sections": true,
   "sideBar": true,
   "skip_h1_title": false,
   "title_cell": "Table of Contents",
   "title_sidebar": "Contents",
   "toc_cell": false,
   "toc_position": {},
   "toc_section_display": true,
   "toc_window_display": false
  }
 },
 "nbformat": 4,
 "nbformat_minor": 5
}
