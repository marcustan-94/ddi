{
 "cells": [
  {
   "cell_type": "markdown",
   "id": "b8d2f3ca",
   "metadata": {},
   "source": [
    "# Merging 30 Datasets"
   ]
  },
  {
   "cell_type": "markdown",
   "id": "8fd3d733",
   "metadata": {},
   "source": [
    "## Imports"
   ]
  },
  {
   "cell_type": "code",
   "execution_count": 1,
   "id": "54adec23",
   "metadata": {},
   "outputs": [],
   "source": [
    "from tdc.multi_pred import DTI\n",
    "import pandas as pd\n",
    "import numpy as np\n",
    "import seaborn as sns \n",
    "import matplotlib.pyplot as plt\n",
    "from functools import reduce\n",
    "\n",
    "from tdc.single_pred import ADME\n",
    "from tdc.single_pred import Tox"
   ]
  },
  {
   "cell_type": "markdown",
   "id": "cab3080f",
   "metadata": {
    "heading_collapsed": true
   },
   "source": [
    "## Drug-Target Interaction Prediction"
   ]
  },
  {
   "cell_type": "markdown",
   "id": "9e4c9880",
   "metadata": {
    "hidden": true
   },
   "source": [
    "https://tdcommons.ai/multi_pred_tasks/dti/"
   ]
  },
  {
   "cell_type": "markdown",
   "id": "bf46636a",
   "metadata": {
    "hidden": true
   },
   "source": [
    "### Data Extraction"
   ]
  },
  {
   "cell_type": "code",
   "execution_count": 2,
   "id": "164db479",
   "metadata": {
    "hidden": true
   },
   "outputs": [
    {
     "name": "stderr",
     "output_type": "stream",
     "text": [
      "Found local copy...\n",
      "Loading...\n",
      "Done!\n",
      "To log space...\n"
     ]
    }
   ],
   "source": [
    "BindingDB_Kd = DTI(name = 'BindingDB_Kd')\n",
    "BindingDB_Kd.convert_to_log(form = 'standard')\n",
    "BindingDB_Kd = BindingDB_Kd.harmonize_affinities(mode = 'max_affinity')"
   ]
  },
  {
   "cell_type": "code",
   "execution_count": 3,
   "id": "b9c40966",
   "metadata": {
    "hidden": true
   },
   "outputs": [
    {
     "name": "stderr",
     "output_type": "stream",
     "text": [
      "Found local copy...\n",
      "Loading...\n",
      "Done!\n",
      "To log space...\n"
     ]
    }
   ],
   "source": [
    "DAVIS = DTI(name = 'DAVIS')\n",
    "DAVIS.convert_to_log(form = 'standard')\n",
    "DAVIS = DAVIS.get_data()"
   ]
  },
  {
   "cell_type": "code",
   "execution_count": 4,
   "id": "07e46073",
   "metadata": {
    "hidden": true
   },
   "outputs": [
    {
     "name": "stderr",
     "output_type": "stream",
     "text": [
      "Found local copy...\n",
      "Loading...\n",
      "Done!\n",
      "To log space...\n"
     ]
    }
   ],
   "source": [
    "KIBA = DTI(name = 'KIBA')\n",
    "KIBA.convert_to_log(form = 'standard')\n",
    "KIBA = KIBA.get_data()"
   ]
  },
  {
   "cell_type": "markdown",
   "id": "0e714654",
   "metadata": {
    "hidden": true
   },
   "source": [
    "###  Data Cleaning"
   ]
  },
  {
   "cell_type": "code",
   "execution_count": 5,
   "id": "dbc88923",
   "metadata": {
    "hidden": true
   },
   "outputs": [],
   "source": [
    "interactive_ds = [BindingDB_Kd, DAVIS, KIBA]"
   ]
  },
  {
   "cell_type": "code",
   "execution_count": 6,
   "id": "61f6b07f",
   "metadata": {
    "hidden": true
   },
   "outputs": [],
   "source": [
    "clean_ds = []\n",
    "\n",
    "for df in interactive_ds:\n",
    "    min_value = df['Y'].min()\n",
    "    max_value = df['Y'].max()\n",
    "    bins = np.linspace(min_value,max_value,5)\n",
    "    labels = [3,2,1,0] # labels, lower the values, the higher the label.\n",
    "    df['Y_cat'] = pd.cut(df['Y'], bins=bins,labels=labels,include_lowest=True)\n",
    "    df = df[['Drug','Target','Y_cat']]\n",
    "    df = df.drop_duplicates(subset=['Drug', 'Target'], keep='first')\n",
    "    df_clean = pd.pivot(df, index='Drug',columns='Target', values ='Y_cat')\n",
    "    df_clean = df_clean.fillna(0)\n",
    "    clean_ds.append(df_clean)\n",
    "    \n",
    "BindingDB_Kd_clean, DAVIS_clean, KIBA_clean = clean_ds[0],clean_ds[1],clean_ds[2]"
   ]
  },
  {
   "cell_type": "code",
   "execution_count": 7,
   "id": "7aa188cc",
   "metadata": {
    "hidden": true
   },
   "outputs": [
    {
     "data": {
      "text/html": [
       "<div>\n",
       "<style scoped>\n",
       "    .dataframe tbody tr th:only-of-type {\n",
       "        vertical-align: middle;\n",
       "    }\n",
       "\n",
       "    .dataframe tbody tr th {\n",
       "        vertical-align: top;\n",
       "    }\n",
       "\n",
       "    .dataframe thead th {\n",
       "        text-align: right;\n",
       "    }\n",
       "</style>\n",
       "<table border=\"1\" class=\"dataframe\">\n",
       "  <thead>\n",
       "    <tr style=\"text-align: right;\">\n",
       "      <th>Target</th>\n",
       "      <th>AMTDLLVSILVMPISIPYTITQTWSFGQLLCDIWLSSDITCCTASILHLCVIALDRYWAITDALEYSKRRTAGHAAAMIAIVWAISICISIPPLFWRQARAHEEISDCLVNTSQISYTIYSTCGAFYIPSLLLIILYGRIYRAARNRILNPPSLYGKRFTTAHLITGSAGSSLCSLNPSLHEGHSHSAGSPLFFNHVKIKLADSVLERKRISAARERKATKTLGIILGAFIICWLPFFVASLVLPICRDSCWIHPALFDFFTWLGYLNSLINPIIYTVFNEEFRQAFQKVV</th>\n",
       "      <th>MAAAAAAGAGPEMVRGQVFDVGPRYTNLSYIGEGAYGMVCSAYDNVNKVRVAIKKISPFEHQTYCQRTLREIKILLRFRHENIIGINDIIRAPTIEQMKDVYIVQDLMETDLYKLLKTQHLSNDHICYFLYQILRGLKYIHSANVLHRDLKPSNLLLNTTCDLKICDFGLARVADPDHDHTGFLTEYVATRWYRAPEIMLNSKGYTKSIDIWSVGCILAEMLSNRPIFPGKHYLDQLNHILGILGSPSQEDLNCIINLKARNYLLSLPHKNKVPWNRLFPNADSKALDLLDKMLTFNPHKRIEVEQALAHPYLEQYYDPSDEPIAEAPFKFDMELDDLPKEKLKELIFEETARFQPGYRS</th>\n",
       "      <th>MAAAAAAGPEMVRGQVFDVGPRYTNLSYIGEGAYGMVCSAYDNLNKVRVAIKKISPFEHQTYCQRTLREIKILLRFRHENIIGINDIIRAPTIEQMKDVYIVQDLMETDLYKLLKTQHLSNDHICYFLYQILRGLKYIHSANVLHRDLKPSNLLLNTTCDLKICDFGLARVADPDHDHTGFLTEYVATRWYRAPEIMLNSKGYTKSIDIWSVGCILAEMLSNRPIFPGKHYLDQLNHILGILGSPSQEDLNCIINLKARNYLLSLPHKNKVPWNRLFPNADSKALDLLDKMLTFNPHKRIEVEQALAHPYLEQYYDPSDEPIAEAPFKFDMELDDLPKEKLKELIFEETARFQPGYRS</th>\n",
       "      <th>MAAAAAAVGPGAGGAGSAVPGGAGPCATVSVFPGARLLTIGDANGEIQRHAEQQALRLEVRAGPDSAGIALYSHEDVCVFKCSVSRETECSRVGKQSFIITLGCNSVLIQFATPNDFCSFYNILKTCRGHTLERSVFSERTEESSAVQYFQFYGYLSQQQNMMQDYVRTGTYQRAILQNHTDFKDKIVLDVGCGSGILSFFAAQAGARKIYAVEASTMAQHAEVLVKSNNLTDRIVVIPGKVEEVSLPEQVDIIISEPMGYMLFNERMLESYLHAKKYLKPSGNMFPTIGDVHLAPFTDEQLYMEQFTKANFWYQPSFHGVDLSALRGAAVDEYFRQPVVDTFDIRILMAKSVKYTVNFLEAKEGDLHRIEIPFKFHMLHSGLVHGLAFWFDVAFIGSIMTVWLSTAPTEPLTHWYQVRCLFQSPLFAKAGDTLSGTCLLIANKRQSYDISIVAQVDQTGSKSSNLLDLKNPFFRYTGTTPSPPPGSHYTSPSENMWNTGSTYNLSSGMAVAGMPTAYDLSSVIASGSSVGHNNLIPLANTGIVNHTHSRMGSIMSTGIVQGSSGAQGSGGGSTSAHYAVNSQFTMGGPAISMASPMSIPTNTMHYGS</th>\n",
       "      <th>MAAAAAQGGGGGEPRRTEGVGPGVPGEVEMVKGQPFDVGPRYTQLQYIGEGAYGMVSSAYDHVRKTRVAIKKISPFEHQTYCQRTLREIQILLRFRHENVIGIRDILRASTLEAMRDVYIVQDLMETDLYKLLKSQQLSNDHICYFLYQILRGLKYIHSANVLHRDLKPSNLLINTTCDLKICDFGLARIADPEHDHTGFLTEYVATRWYRAPEIMLNSKGYTKSIDIWSVGCILAEMLSNRPIFPGKHYLDQLNHILGILGSPSQEDLNCIINMKARNYLQSLPSKTKVAWAKLFPKSDSKALDLLDRMLTFNPNKRITVEEALAHPYLEQYYDPTDEPVAEEPFTFAMELDDLPKERLKELIFQETARFQPGVLEAP</th>\n",
       "      <th>MAAAAGAAAAAAAEGEAPAEMGALLLEKETRGATERVHGSLGDTPRSEETLPKATPDSLEPAGPSSPASVTVTVGDEGADTPVGATPLIGDESENLEGDGDLRGGRILLGHATKSFPSSPSKGGSCPSRAKMSMTGAGKSPPSVQSLAMRLLSMPGAQGAAAAGSEPPPATTSPEGQPKVHRARKTMSKPGNGQPPVPEKRPPEIQHFRMSDDVHSLGKVTSDLAKRRKLNSGGGLSEELGSARRSGEVTLTKGDPGSLEEWETVVGDDFSLYYDSYSVDERVDSDSKSEVEALTEQLSEEEEEEEEEEEEEEEEEEEEEEEEDEESGNQSDRSGSSGRRKAKKKWRKDSPWVKPSRKRRKREPPRAKEPRGVNGVGSSGPSEYMEVPLGSLELPSEGTLSPNHAGVSNDTSSLETERGFEELPLCSCRMEAPKIDRISERAGHKCMATESVDGELSGCNAAILKRETMRPSSRVALMVLCETHRARMVKHHCCPGCGYFCTAGTFLECHPDFRVAHRFHKACVSQLNGMVFCPHCGEDASEAQEVTIPRGDGVTPPAGTAAPAPPPLSQDVPGRADTSQPSARMRGHGEPRRPPCDPLADTIDSSGPSLTLPNGGCLSAVGLPLGPGREALEKALVIQESERRKKLRFHPRQLYLSVKQGELQKVILMLLDNLDPNFQSDQQSKRTPLHAAAQKGSVEICHVLLQAGANINAVDKQQRTPLMEAVVNNHLEVARYMVQRGGCVYSKEEDGSTCLHHAAKIGNLEMVSLLLSTGQVDVNAQDSGGWTPIIWAAEHKHIEVIRMLLTRGADVTLTDNEENICLHWASFTGSAAIAEVLLNARCDLHAVNYHGDTPLHIAARESYHDCVLLFLSRGANPELRNKEGDTAWDLTPERSDVWFALQLNRKLRLGVGNRAIRTEKIICRDVARGYENVPIPCVNGVDGEPCPEDYKYISENCETSTMNIDRNITHLQHCTCVDDCSSSNCLCGQLSIRCWYDKDGRLLQEFNKIEPPLIFECNQACSCWRNCKNRVVQSGIKVRLQLYRTAKMGWGVRALQTIPQGTFICEYVGELISDAEADVREDDSYLFDLDNKDGEVYCIDARYYGNISRFINHLCDPNIIPVRVFMLHQDLRFPRIAFFSSRDIRTGEELGFDYGDRFWDIKSKYFTCQCGSEKCKHSAEAIALEQSRLARLDPHPELLPELGSLPPVNT</th>\n",
       "      <th>MAAADAEAVPARGEPQQDCCVKTELLGEETPMAADEGSAEKQAGEAHMAADGETNGSCENSDASSHANAAKHTQDSARVNPQDGTNTLTRIAENGVSERDSEAAKQNHVTADDFVQTSVIGSNGYILNKPALQAQPLRTTSTLASSLPGHAAKTLPGGAGKGRTPSAFPQTPAAPPATLGEGSADTEDRKLPAPGADVKVHRARKTMPKSVVGLHAASKDPREVREARDHKEPKEEINKNISDFGRQQLLPPFPSLHQSLPQNQCYMATTKSQTACLPFVLAAAVSRKKKRRMGTYSLVPKKKTKVLKQRTVIEMFKSITHSTVGSKGEKDLGASSLHVNGESLEMDSDEDDSEELEEDDGHGAEQAAAFPTEDSRTSKESMSEADRAQKMDGESEEEQESVDTGEEEEGGDESDLSSESSIKKKFLKRKGKTDSPWIKPARKRRRRSRKKPSGALGSESYKSSAGSAEQTAPGDSTGYMEVSLDSLDLRVKGILSSQAEGLANGPDVLETDGLQEVPLCSCRMETPKSREITTLANNQCMATESVDHELGRCTNSVVKYELMRPSNKAPLLVLCEDHRGRMVKHQCCPGCGYFCTAGNFMECQPESSISHRFHKDCASRVNNASYCPHCGEESSKAKEVTIAKADTTSTVTPVPGQEKGSALEGRADTTTGSAAGPPLSEDDKLQGAASHVPEGFDPTGPAGLGRPTPGLSQGPGKETLESALIALDSEKPKKLRFHPKQLYFSARQGELQKVLLMLVDGIDPNFKMEHQNKRSPLHAAAEAGHVDICHMLVQAGANIDTCSEDQRTPLMEAAENNHLEAVKYLIKAGALVDPKDAEGSTCLHLAAKKGHYEVVQYLLSNGQMDVNCQDDGGWTPMIWATEYKHVDLVKLLLSKGSDINIRDNEENICLHWAAFSGCVDIAEILLAAKCDLHAVNIHGDSPLHIAARENRYDCVVLFLSRDSDVTLKNKEGETPLQCASLNSQVWSALQMSKALQDSAPDRPSPVERIVSRDIARGYERIPIPCVNAVDSEPCPSNYKYVSQNCVTSPMNIDRNITHLQYCVCIDDCSSSNCMCGQLSMRCWYDKDGRLLPEFNMAEPPLIFECNHACSCWRNCRNRVVQNGLRARLQLYRTRDMGWGVRSLQDIPPGTFVCEYVGELISDSEADVREEDSYLFDLDNKDGEVYCIDARFYGNVSRFINHHCEPNLVPVRVFMAHQDLRFPRIAFFSTRLIEAGEQLGFDYGERFWDIKGKLFSCRCGSPKCRHSSAALAQRQASAAQEAQEDGLPDTSSAAAADPL</th>\n",
       "      <th>MAAAEEEPKPKKLKVEAPQALRENILFGMGNPLLDISAVVDKDFLDKYSLKPNDQILAEDKHKELFDELVKKFKVEYHAGGSTQNSIKVAQWMIQQPHKAATFFGCIGIDKFGEILKRKAAEAHVDAHYYEQNEQPTGTCAACITGDNRSLIANLAAANCYKKEKHLDLEKNWMLVEKARVCYIAGFFLTVSPESVLKVAHHASENNRIFTLNLSAPFISQFYKESLMKVMPYVDILFGNETEAATFAREQGFETKDIKEIAKKTQALPKMNSKRQRIVIFTQGRDDTIMATESEVTAFAVLDQDQKEIIDTNGAGDAFVGGFLSQLVSDKPLTECIRAGHYAASIIIRRTGCTFPEKPDFH</th>\n",
       "      <th>MAAAETQSLREQPEMEDANSEKSINEENGEVSEDQSQNKHSRHKKKKHKHRSKHKKHKHSSEEDKDKKHKHKHKHKKHKRKEIIDASDKEGMSPAKRTKLDDLALLEDLEKQRALIKAELDNELMEGKVQSGMGLILQGYESGSEEEGEIHEKARNGNRSSTRSSSTKGKLELVDNKITTKKRSKSRSKERTRHRSDKKKSKGGIEIVKEKTTRSKSKERKKSKSPSKRSKSQDQARKSKSPTLRRRSQEKIGKARSPTDDKVKIEDKSKSKDRKKSPIINESRSRDRGKKSRSPVDLRGKSKDRRSRSKERKSKRSETDKEKKPIKSPSKDASSGKENRSPSRRPGRSPKRRSLSPKPRDKSRRSRSPLLNDRRSKQSKSPSRTLSPGRRAKSRSLERKRREPERRRLSSPRTRPRDDILSRRERSKDASPINRWSPTRRRSRSPIRRRSRSPLRRSRSPRRRSRSPRRRDRGRRSRSRLRRRSRSRGGRRRRSRSKVKEDKFKGSLSEGMKVEQESSSDDNLEDFDVEEEDEEALIEQRRIQRQAIVQKYKYLAEDSNMSVPSEPSSPQSSTRTRSPSPDDILERVAADVKEYERENVDTFEASVKAKHNLMTVEQNNGSSQKKLLAPDMFTESDDMFAAYFDSARLRAAGIGKDFKENPNLRDNWTDAEGYYRVNIGEVLDKRYNVYGYTGQGVFSNVVRARDNARANQEVAVKIIRNNELMQKTGLKELEFLKKLNDADPDDKFHCLRLFRHFYHKQHLCLVFEPLSMNLREVLKKYGKDVGLHIKAVRSYSQQLFLALKLLKRCNILHADIKPDNILVNESKTILKLCDFGSASHVADNDITPYLVSRFYRAPEIIIGKSYDYGIDMWSVGCTLYELYTGKILFPGKTNNHMLKLAMDLKGKMPNKMIRKGVFKDQHFDQNLNFMYIEVDKVTEREKVTVMSTINPTKDLLADLIGCQRLPEDQRKKVHQLKDLLDQILMLDPAKRISINQALQHAFIQEKI</th>\n",
       "      <th>MAAAYLDPNLNHTPNSSTKTHLGTGMERSPGAMERVLKVFHYFESNSEPTTWASIIRHGDATDVRGIIQKIVDSHKVKHVACYGFRLSHLRSEEVHWLHVDMGVSSVREKYELAHPPEEWKYELRIRYLPKGFLNQFTEDKPTLNFFYQQVKSDYMLEIADQVDQEIALKLGCLEIRRSYWEMRGNALEKKSNYEVLEKDVGLKRFFPKSLLDSVKAKTLRKLIQQTFRQFANLNREESILKFFEILSPVYRFDKECFKCALGSSWIISVELAIGPEEGISYLTDKGCNPTHLADFTQVQTIQYSNSEDKDRKGMLQLKIAGAPEPLTVTAPSLTIAENMADLIDGYCRLVNGTSQSFIIRPQKEGERALPSIPKLANSEKQGMRTHAVSVSETDDYAEIIDEEDTYTMPSTRDYEIQRERIELGRCIGEGQFGDVHQGIYMSPENPALAVAIKTCKNCTSDSVREKFLQEALTMRQFDHPHIVKLIGVITENPVWIIMELCTLGELRSFLQVRKYSLDLASLILYAYQLSTALAYLESKRFVHRDIAARNVLVSSNDCVKLGDFGLSRYMEDSTYYKASKGKLPIKWMAPESINFRRFTSASDVWMFGVCMWEILMHGVKPFQGVKNNDVIGRIENGERLPMPPNCPPTLYSLMTKCWAYDPSRRPRFTELKAQLSTILEEEKAQQEERMRMESRRQATVSWDSGGSDEAPPKPSRPGYPSPRSSEGFYPSPQHMVQTNHYQVSGYPGSHGITAMAGSIYPGQASLLDQTDSWNHRPQEIAMWQPNVEDSTVLDLRGIGQVLPTHLMEERLIRQQQEMEEDQRWLEKEERFLKPDVRLSRGSIDREDGSLQGPIGNQHIYQPVGKPDPAAPPKKPPRPGAPGHLGSLASLSSPADSYNEGVKLQPQEISPPPTANLDRSNDKVYENVTGLVKAVIEMSSKIQPAPPEEYVPMVKEVGLALRTLLATVDETIPLLPASTHREIEMAQKLLNSDLGELINKMKLAQQYVMTSLQQEYKKQMLTAAHALAVDAKNLLDVIDQARLKMLGQTRPH</th>\n",
       "      <th>...</th>\n",
       "      <th>MWVPVVFLTLSVTWIGAAPLILSRIVGGWECEKHSQPWQVLVASRGRAVCGGVLVHPQWVLTAAHCIRNKSVILLGRHSLFHPEDTGQVFQVSHSFPHPLYDMSLLKNRFLRPGDDSSHDLMLLRLSEPAELTDAVKVMDLPTQEPALGTTCYASGWGSIEPEEFLTPKKLQCVDLHVISNDVCAQVHPQKVTKFMLCAGRWTGGKSTCSGDSGGPLVCNGVLQGITSWGSEPCALPERPSLYTKVVHYRKWIKDTIVANP</th>\n",
       "      <th>MWVTKLLPALLLQHVLLHLLLLPIAIPYAEGQRKRRNTIHEFKKSAKTTLIKIDPALKIKTKKVNTADQCANRCTRNKGLPFTCKAFVFDKARKQCLWFPFNSMSSGVKKEFGHEFDLYENKDYIRNCIIGKGRSYKGTVSITKSGIKCQPWSSMIPHEHSFLPSSYRGKDLQENYCRNPRGEEGGPWCFTSNPEVRYEVCDIPQCSEVECMTCNGESYRGLMDHTESGKICQRWDHQTPHRHKFLPERYPDKGFDDNYCRNPDGQPRPWCYTLDPHTRWEYCAIKTCADNTMNDTDVPLETTECIQGQGEGYRGTVNTIWNGIPCQRWDSQYPHEHDMTPENFKCKDLRENYCRNPDGSESPWCFTTDPNIRVGYCSQIPNCDMSHGQDCYRGNGKNYMGNLSQTRSGLTCSMWDKNMEDLHRHIFWEPDASKLNENYCRNPDDDAHGPWCYTGNPLIPWDYCPISRCEGDTTPTIVNLDHPVISCAKTKQLRVVNGIPTRTNIGWMVSLRYRNKHICGGSLIKESWVLTARQCFPSRDLKDYEAWLGIHDVHGRGDEKCKQVLNVSQLVYGPEGSDLVLMKLARPAVLDDFVSTIDLPNYGCTIPEKTSCSVYGWGYTGLINYDGLLRVAHLYIMGNEKCSQHHRGKVTLNESEICAGAEKIGSGPCEGDYGGPLVCEQHKMRMVLGVIVPGRGCAIPNRPGIFVRVAYYAKWIHKIILTYKVPQS</th>\n",
       "      <th>MYGKIIFVLLLSEIVSISASSTTGVAMHTSTSSSVTKSYISSQTNDTHKRDTYAATPRAHEVSEISVRTVYPPEEETGERVQLAHHFSEPEITLIIFGVMAGVIGTILLISYGIRRLIKKSPSDVKPLPSPDTDVPLSSVEIENPETSDQ</th>\n",
       "      <th>MYGNYSHFMKFPAGYGGSPGHTGSTSMSPSAALSTGKPMDSHPSYTDTPVSAPRTLSAVGTPLNALGSPYRVITSAMGPPSGALAAPPGINLVAPPSSQLNVVNSVSSSEDIKPLPGLPGIGNMNYPSTSPGSLVKHICAICGDRSSGKHYGVYSCEGCKGFFKRTIRKDLIYTCRDNKDCLIDKRQRNRCQYCRYQKCLVMGMKREAVQEERQRSRERAESEAECATSGHEDMPVERILEAELAVEPKTESYGDMNMENSTNDPVTNICHAADKQLFTLVEWAKRIPHFSDLTLEDQVILLRAGWNELLIASFSHRSVSVQDGILLATGLHVHRSSAHSAGVGSIFDRVLTELVSKMKDMQMDKSELGCLRAIVLFNPDAKGLSNPSEVETLREKVYATLEAYTKQKYPEQPGRFAKLLLRLPALRSIGLKCLEHLFFFKLIGDTPIDTFLMEMLETPLQIT</th>\n",
       "      <th>MYGNYSHFMKFPTGFGGSPGHTGSTSMSPSVALPTGKPMDSHPSYTDTPVSAPRTLSAVGTPLNALGSPYRVITSAMGPPSGALAAPPGINLVAPPSSQLNVVNSVSSSEDIKPLPGLPGIGNMNYPSTSPGSLVKHICAICGDRSSGKHYGVYSCEGCKGFFKRTIRKDLIYTCRDNKDCLIDKRQRNRCQYCRYQKCLVMGMKREAVQEERQRSRERAESEAECASSSHEDMPVERILEAELAVEPKTESYGDMNVENSTNDPVTNICHAADKQLFTLVEWAKRIPHFSDLTLEDQVILLRAGWNELLIASFSHRSVSVQDGILLATGLHVHRSSAHSAGVGSIFDRVLTELVSKMKDMQMDKSELGCLRAIVLFNPDAKGLSNPSEVETLREKVYATLEAYTKQKYPEQPGRFAKLLLRLPALRSIGLKCLEHLFFFKLIGDTPIDSFLMEMLETPLQIT</th>\n",
       "      <th>MYSNVIGTVTSGKRKVYLLSLLLIGFWDCVTCHGSPVDICTAKPRDIPMNPMCIYRSPEKKATEDEGSEQKIPEATNRRVWELSKANSRFATTFYQHLADSKNDNDNIFLSPLSISTAFAMTKLGACNDTLQQLMEVFKFDTISEKTSDQIHFFFAKLNCRLYRKANKSSKLVSANRLFGDKSLTFNETYQDISELVYGAKLQPLDFKENAEQSRAAINKWVSNKTEGRITDVIPSEAINELTVLVLVNTIYFKGLWKSKFSPENTRKELFYKADGESCSASMMYQEGKFRYRRVAEGTQVLELPFKGDDITMVLILPKPEKSLAKVEKELTPEVLQEWLDELEEMMLVVHMPRFRIEDGFSLKEQLQDMGLVDLFSPEKSKLPGIVAEGRDDLYVSDAFHKAFLEVNEEGSEAAASTAVVIAGRSLNPNRVTFKANRPFLVFIREVPLNTIIFMGRVANPCVK</th>\n",
       "      <th>MYTFVVRDENSSVYAEVSRLLLATGHWKRLRRDNPRFNLMLGERNRLPFGRLGHEPGLVQLVNYYRGADKLCRKASLVKLIKTSPELAESCTWFPESYVIYPTNLKTPVAPAQNGIQPPISNSRTDEREFFLASYNRKKEDGEGNVWIAKSSAGAKGEGILISSEASELLDFIDNQGQVHVIQKYLEHPLLLEPGHRKFDIRSWVLVDHQYNIYLYREGVLRTASEPYHVDNFQDKTCHLTNHCIQKEYSKNYGKYEEGNEMFFKEFNQYLTSALNITLESSILLQIKHIIRNCLLSVEPAISTKHLPYQSFQLFGFDFMVDEELKVWLIEVNGAPACAQKLYAELCQGIVDIAISSVFPPPDVEQPQTQPAAFIKL</th>\n",
       "      <th>MYWSNQITRRLGERVQGFMSGISPQQMGEPEGSWSGKNPGTMGASRLYTLVLVLQPQRVLLGMKKRGFGAGRWNGFGGKVQEGETIEDGARRELQEESGLTVDALHKVGQIVFEFVGEPELMDVHVFCTDSIQGTPVESDEMRPCWFQLDQIPFKDMWPDDSYWFPLLLQKKKFHGYFKFQGQDTILDYTLREVDTV</th>\n",
       "      <th>VRSLNSIVAVCQNMGIGKDGNLPWPPLRNEYKYFQRMTSTSHVEGKQNAVIMGKKTWFSIPEKNRPLKDRINIVLSRELKEAPKGAHYLSKSLDDALALLDSPELKSKVDMVWIVGGTAVYKAAMEKPINHRLFVTRILHEFESDTFFPEIDYKDFKLLTEYPGVPADIQEEDGIQYKFEVYQKSVLAQ</th>\n",
       "      <th>YTKMKTATNIYIFNLALADALATSTLPFQSVNYLMGTWPFGTILCKIVISIDYYNMFTSIFTLCTMSVDRYIAVCHPVKALDFRTPRNAKTVNVCNWI</th>\n",
       "    </tr>\n",
       "    <tr>\n",
       "      <th>Drug</th>\n",
       "      <th></th>\n",
       "      <th></th>\n",
       "      <th></th>\n",
       "      <th></th>\n",
       "      <th></th>\n",
       "      <th></th>\n",
       "      <th></th>\n",
       "      <th></th>\n",
       "      <th></th>\n",
       "      <th></th>\n",
       "      <th></th>\n",
       "      <th></th>\n",
       "      <th></th>\n",
       "      <th></th>\n",
       "      <th></th>\n",
       "      <th></th>\n",
       "      <th></th>\n",
       "      <th></th>\n",
       "      <th></th>\n",
       "      <th></th>\n",
       "      <th></th>\n",
       "    </tr>\n",
       "  </thead>\n",
       "  <tbody>\n",
       "    <tr>\n",
       "      <th>Br[Se]c1ccccc1</th>\n",
       "      <td>0</td>\n",
       "      <td>0</td>\n",
       "      <td>0</td>\n",
       "      <td>0</td>\n",
       "      <td>0</td>\n",
       "      <td>0</td>\n",
       "      <td>0</td>\n",
       "      <td>0</td>\n",
       "      <td>0</td>\n",
       "      <td>0</td>\n",
       "      <td>...</td>\n",
       "      <td>0</td>\n",
       "      <td>0</td>\n",
       "      <td>0</td>\n",
       "      <td>0</td>\n",
       "      <td>0</td>\n",
       "      <td>0</td>\n",
       "      <td>0</td>\n",
       "      <td>0</td>\n",
       "      <td>0</td>\n",
       "      <td>0</td>\n",
       "    </tr>\n",
       "    <tr>\n",
       "      <th>Brc1c[nH]c2nccnc12</th>\n",
       "      <td>0</td>\n",
       "      <td>0</td>\n",
       "      <td>0</td>\n",
       "      <td>0</td>\n",
       "      <td>0</td>\n",
       "      <td>0</td>\n",
       "      <td>0</td>\n",
       "      <td>0</td>\n",
       "      <td>0</td>\n",
       "      <td>0</td>\n",
       "      <td>...</td>\n",
       "      <td>0</td>\n",
       "      <td>0</td>\n",
       "      <td>0</td>\n",
       "      <td>0</td>\n",
       "      <td>0</td>\n",
       "      <td>0</td>\n",
       "      <td>0</td>\n",
       "      <td>0</td>\n",
       "      <td>0</td>\n",
       "      <td>0</td>\n",
       "    </tr>\n",
       "    <tr>\n",
       "      <th>Brc1ccc(C2CC3CCC2N3)cc1</th>\n",
       "      <td>0</td>\n",
       "      <td>0</td>\n",
       "      <td>0</td>\n",
       "      <td>0</td>\n",
       "      <td>0</td>\n",
       "      <td>0</td>\n",
       "      <td>0</td>\n",
       "      <td>0</td>\n",
       "      <td>0</td>\n",
       "      <td>0</td>\n",
       "      <td>...</td>\n",
       "      <td>0</td>\n",
       "      <td>0</td>\n",
       "      <td>0</td>\n",
       "      <td>0</td>\n",
       "      <td>0</td>\n",
       "      <td>0</td>\n",
       "      <td>0</td>\n",
       "      <td>0</td>\n",
       "      <td>0</td>\n",
       "      <td>0</td>\n",
       "    </tr>\n",
       "    <tr>\n",
       "      <th>Brc1ccc(OCc2ccccc2)c(CNCC2CCCO2)c1</th>\n",
       "      <td>0</td>\n",
       "      <td>0</td>\n",
       "      <td>0</td>\n",
       "      <td>0</td>\n",
       "      <td>0</td>\n",
       "      <td>0</td>\n",
       "      <td>0</td>\n",
       "      <td>0</td>\n",
       "      <td>0</td>\n",
       "      <td>0</td>\n",
       "      <td>...</td>\n",
       "      <td>0</td>\n",
       "      <td>0</td>\n",
       "      <td>0</td>\n",
       "      <td>0</td>\n",
       "      <td>0</td>\n",
       "      <td>0</td>\n",
       "      <td>0</td>\n",
       "      <td>0</td>\n",
       "      <td>0</td>\n",
       "      <td>0</td>\n",
       "    </tr>\n",
       "    <tr>\n",
       "      <th>Brc1ccc(OCc2ccccc2)c(CNCc2ccccn2)c1</th>\n",
       "      <td>0</td>\n",
       "      <td>0</td>\n",
       "      <td>0</td>\n",
       "      <td>0</td>\n",
       "      <td>0</td>\n",
       "      <td>0</td>\n",
       "      <td>0</td>\n",
       "      <td>0</td>\n",
       "      <td>0</td>\n",
       "      <td>0</td>\n",
       "      <td>...</td>\n",
       "      <td>0</td>\n",
       "      <td>0</td>\n",
       "      <td>0</td>\n",
       "      <td>0</td>\n",
       "      <td>0</td>\n",
       "      <td>0</td>\n",
       "      <td>0</td>\n",
       "      <td>0</td>\n",
       "      <td>0</td>\n",
       "      <td>0</td>\n",
       "    </tr>\n",
       "    <tr>\n",
       "      <th>...</th>\n",
       "      <td>...</td>\n",
       "      <td>...</td>\n",
       "      <td>...</td>\n",
       "      <td>...</td>\n",
       "      <td>...</td>\n",
       "      <td>...</td>\n",
       "      <td>...</td>\n",
       "      <td>...</td>\n",
       "      <td>...</td>\n",
       "      <td>...</td>\n",
       "      <td>...</td>\n",
       "      <td>...</td>\n",
       "      <td>...</td>\n",
       "      <td>...</td>\n",
       "      <td>...</td>\n",
       "      <td>...</td>\n",
       "      <td>...</td>\n",
       "      <td>...</td>\n",
       "      <td>...</td>\n",
       "      <td>...</td>\n",
       "      <td>...</td>\n",
       "    </tr>\n",
       "    <tr>\n",
       "      <th>c1ncc(CCCOCCC2CCCCC2)[nH]1</th>\n",
       "      <td>0</td>\n",
       "      <td>0</td>\n",
       "      <td>0</td>\n",
       "      <td>0</td>\n",
       "      <td>0</td>\n",
       "      <td>0</td>\n",
       "      <td>0</td>\n",
       "      <td>0</td>\n",
       "      <td>0</td>\n",
       "      <td>0</td>\n",
       "      <td>...</td>\n",
       "      <td>0</td>\n",
       "      <td>0</td>\n",
       "      <td>0</td>\n",
       "      <td>0</td>\n",
       "      <td>0</td>\n",
       "      <td>0</td>\n",
       "      <td>0</td>\n",
       "      <td>0</td>\n",
       "      <td>0</td>\n",
       "      <td>0</td>\n",
       "    </tr>\n",
       "    <tr>\n",
       "      <th>c1ncc(CCCOCCCC2CCCC2)[nH]1</th>\n",
       "      <td>0</td>\n",
       "      <td>0</td>\n",
       "      <td>0</td>\n",
       "      <td>0</td>\n",
       "      <td>0</td>\n",
       "      <td>0</td>\n",
       "      <td>0</td>\n",
       "      <td>0</td>\n",
       "      <td>0</td>\n",
       "      <td>0</td>\n",
       "      <td>...</td>\n",
       "      <td>0</td>\n",
       "      <td>0</td>\n",
       "      <td>0</td>\n",
       "      <td>0</td>\n",
       "      <td>0</td>\n",
       "      <td>0</td>\n",
       "      <td>0</td>\n",
       "      <td>0</td>\n",
       "      <td>0</td>\n",
       "      <td>0</td>\n",
       "    </tr>\n",
       "    <tr>\n",
       "      <th>c1ncc(CCCOCCCC2CCCCC2)[nH]1</th>\n",
       "      <td>0</td>\n",
       "      <td>0</td>\n",
       "      <td>0</td>\n",
       "      <td>0</td>\n",
       "      <td>0</td>\n",
       "      <td>0</td>\n",
       "      <td>0</td>\n",
       "      <td>0</td>\n",
       "      <td>0</td>\n",
       "      <td>0</td>\n",
       "      <td>...</td>\n",
       "      <td>0</td>\n",
       "      <td>0</td>\n",
       "      <td>0</td>\n",
       "      <td>0</td>\n",
       "      <td>0</td>\n",
       "      <td>0</td>\n",
       "      <td>0</td>\n",
       "      <td>0</td>\n",
       "      <td>0</td>\n",
       "      <td>0</td>\n",
       "    </tr>\n",
       "    <tr>\n",
       "      <th>c1ncc(COCC2CCCCC2)[nH]1</th>\n",
       "      <td>0</td>\n",
       "      <td>0</td>\n",
       "      <td>0</td>\n",
       "      <td>0</td>\n",
       "      <td>0</td>\n",
       "      <td>0</td>\n",
       "      <td>0</td>\n",
       "      <td>0</td>\n",
       "      <td>0</td>\n",
       "      <td>0</td>\n",
       "      <td>...</td>\n",
       "      <td>0</td>\n",
       "      <td>0</td>\n",
       "      <td>0</td>\n",
       "      <td>0</td>\n",
       "      <td>0</td>\n",
       "      <td>0</td>\n",
       "      <td>0</td>\n",
       "      <td>0</td>\n",
       "      <td>0</td>\n",
       "      <td>0</td>\n",
       "    </tr>\n",
       "    <tr>\n",
       "      <th>c1ncc(COCCCC2CCCCC2)[nH]1</th>\n",
       "      <td>0</td>\n",
       "      <td>0</td>\n",
       "      <td>0</td>\n",
       "      <td>0</td>\n",
       "      <td>0</td>\n",
       "      <td>0</td>\n",
       "      <td>0</td>\n",
       "      <td>0</td>\n",
       "      <td>0</td>\n",
       "      <td>0</td>\n",
       "      <td>...</td>\n",
       "      <td>0</td>\n",
       "      <td>0</td>\n",
       "      <td>0</td>\n",
       "      <td>0</td>\n",
       "      <td>0</td>\n",
       "      <td>0</td>\n",
       "      <td>0</td>\n",
       "      <td>0</td>\n",
       "      <td>0</td>\n",
       "      <td>0</td>\n",
       "    </tr>\n",
       "  </tbody>\n",
       "</table>\n",
       "<p>9887 rows × 1088 columns</p>\n",
       "</div>"
      ],
      "text/plain": [
       "Target                              AMTDLLVSILVMPISIPYTITQTWSFGQLLCDIWLSSDITCCTASILHLCVIALDRYWAITDALEYSKRRTAGHAAAMIAIVWAISICISIPPLFWRQARAHEEISDCLVNTSQISYTIYSTCGAFYIPSLLLIILYGRIYRAARNRILNPPSLYGKRFTTAHLITGSAGSSLCSLNPSLHEGHSHSAGSPLFFNHVKIKLADSVLERKRISAARERKATKTLGIILGAFIICWLPFFVASLVLPICRDSCWIHPALFDFFTWLGYLNSLINPIIYTVFNEEFRQAFQKVV  \\\n",
       "Drug                                                                                                                                                                                                                                                                                                                                      \n",
       "Br[Se]c1ccccc1                                                                       0                                                                                                                                                                                                                                                    \n",
       "Brc1c[nH]c2nccnc12                                                                   0                                                                                                                                                                                                                                                    \n",
       "Brc1ccc(C2CC3CCC2N3)cc1                                                              0                                                                                                                                                                                                                                                    \n",
       "Brc1ccc(OCc2ccccc2)c(CNCC2CCCO2)c1                                                   0                                                                                                                                                                                                                                                    \n",
       "Brc1ccc(OCc2ccccc2)c(CNCc2ccccn2)c1                                                  0                                                                                                                                                                                                                                                    \n",
       "...                                                                                ...                                                                                                                                                                                                                                                    \n",
       "c1ncc(CCCOCCC2CCCCC2)[nH]1                                                           0                                                                                                                                                                                                                                                    \n",
       "c1ncc(CCCOCCCC2CCCC2)[nH]1                                                           0                                                                                                                                                                                                                                                    \n",
       "c1ncc(CCCOCCCC2CCCCC2)[nH]1                                                          0                                                                                                                                                                                                                                                    \n",
       "c1ncc(COCC2CCCCC2)[nH]1                                                              0                                                                                                                                                                                                                                                    \n",
       "c1ncc(COCCCC2CCCCC2)[nH]1                                                            0                                                                                                                                                                                                                                                    \n",
       "\n",
       "Target                              MAAAAAAGAGPEMVRGQVFDVGPRYTNLSYIGEGAYGMVCSAYDNVNKVRVAIKKISPFEHQTYCQRTLREIKILLRFRHENIIGINDIIRAPTIEQMKDVYIVQDLMETDLYKLLKTQHLSNDHICYFLYQILRGLKYIHSANVLHRDLKPSNLLLNTTCDLKICDFGLARVADPDHDHTGFLTEYVATRWYRAPEIMLNSKGYTKSIDIWSVGCILAEMLSNRPIFPGKHYLDQLNHILGILGSPSQEDLNCIINLKARNYLLSLPHKNKVPWNRLFPNADSKALDLLDKMLTFNPHKRIEVEQALAHPYLEQYYDPSDEPIAEAPFKFDMELDDLPKEKLKELIFEETARFQPGYRS  \\\n",
       "Drug                                                                                                                                                                                                                                                                                                                                                                                                           \n",
       "Br[Se]c1ccccc1                                                                       0                                                                                                                                                                                                                                                                                                                         \n",
       "Brc1c[nH]c2nccnc12                                                                   0                                                                                                                                                                                                                                                                                                                         \n",
       "Brc1ccc(C2CC3CCC2N3)cc1                                                              0                                                                                                                                                                                                                                                                                                                         \n",
       "Brc1ccc(OCc2ccccc2)c(CNCC2CCCO2)c1                                                   0                                                                                                                                                                                                                                                                                                                         \n",
       "Brc1ccc(OCc2ccccc2)c(CNCc2ccccn2)c1                                                  0                                                                                                                                                                                                                                                                                                                         \n",
       "...                                                                                ...                                                                                                                                                                                                                                                                                                                         \n",
       "c1ncc(CCCOCCC2CCCCC2)[nH]1                                                           0                                                                                                                                                                                                                                                                                                                         \n",
       "c1ncc(CCCOCCCC2CCCC2)[nH]1                                                           0                                                                                                                                                                                                                                                                                                                         \n",
       "c1ncc(CCCOCCCC2CCCCC2)[nH]1                                                          0                                                                                                                                                                                                                                                                                                                         \n",
       "c1ncc(COCC2CCCCC2)[nH]1                                                              0                                                                                                                                                                                                                                                                                                                         \n",
       "c1ncc(COCCCC2CCCCC2)[nH]1                                                            0                                                                                                                                                                                                                                                                                                                         \n",
       "\n",
       "Target                              MAAAAAAGPEMVRGQVFDVGPRYTNLSYIGEGAYGMVCSAYDNLNKVRVAIKKISPFEHQTYCQRTLREIKILLRFRHENIIGINDIIRAPTIEQMKDVYIVQDLMETDLYKLLKTQHLSNDHICYFLYQILRGLKYIHSANVLHRDLKPSNLLLNTTCDLKICDFGLARVADPDHDHTGFLTEYVATRWYRAPEIMLNSKGYTKSIDIWSVGCILAEMLSNRPIFPGKHYLDQLNHILGILGSPSQEDLNCIINLKARNYLLSLPHKNKVPWNRLFPNADSKALDLLDKMLTFNPHKRIEVEQALAHPYLEQYYDPSDEPIAEAPFKFDMELDDLPKEKLKELIFEETARFQPGYRS  \\\n",
       "Drug                                                                                                                                                                                                                                                                                                                                                                                                         \n",
       "Br[Se]c1ccccc1                                                                       0                                                                                                                                                                                                                                                                                                                       \n",
       "Brc1c[nH]c2nccnc12                                                                   0                                                                                                                                                                                                                                                                                                                       \n",
       "Brc1ccc(C2CC3CCC2N3)cc1                                                              0                                                                                                                                                                                                                                                                                                                       \n",
       "Brc1ccc(OCc2ccccc2)c(CNCC2CCCO2)c1                                                   0                                                                                                                                                                                                                                                                                                                       \n",
       "Brc1ccc(OCc2ccccc2)c(CNCc2ccccn2)c1                                                  0                                                                                                                                                                                                                                                                                                                       \n",
       "...                                                                                ...                                                                                                                                                                                                                                                                                                                       \n",
       "c1ncc(CCCOCCC2CCCCC2)[nH]1                                                           0                                                                                                                                                                                                                                                                                                                       \n",
       "c1ncc(CCCOCCCC2CCCC2)[nH]1                                                           0                                                                                                                                                                                                                                                                                                                       \n",
       "c1ncc(CCCOCCCC2CCCCC2)[nH]1                                                          0                                                                                                                                                                                                                                                                                                                       \n",
       "c1ncc(COCC2CCCCC2)[nH]1                                                              0                                                                                                                                                                                                                                                                                                                       \n",
       "c1ncc(COCCCC2CCCCC2)[nH]1                                                            0                                                                                                                                                                                                                                                                                                                       \n",
       "\n",
       "Target                              MAAAAAAVGPGAGGAGSAVPGGAGPCATVSVFPGARLLTIGDANGEIQRHAEQQALRLEVRAGPDSAGIALYSHEDVCVFKCSVSRETECSRVGKQSFIITLGCNSVLIQFATPNDFCSFYNILKTCRGHTLERSVFSERTEESSAVQYFQFYGYLSQQQNMMQDYVRTGTYQRAILQNHTDFKDKIVLDVGCGSGILSFFAAQAGARKIYAVEASTMAQHAEVLVKSNNLTDRIVVIPGKVEEVSLPEQVDIIISEPMGYMLFNERMLESYLHAKKYLKPSGNMFPTIGDVHLAPFTDEQLYMEQFTKANFWYQPSFHGVDLSALRGAAVDEYFRQPVVDTFDIRILMAKSVKYTVNFLEAKEGDLHRIEIPFKFHMLHSGLVHGLAFWFDVAFIGSIMTVWLSTAPTEPLTHWYQVRCLFQSPLFAKAGDTLSGTCLLIANKRQSYDISIVAQVDQTGSKSSNLLDLKNPFFRYTGTTPSPPPGSHYTSPSENMWNTGSTYNLSSGMAVAGMPTAYDLSSVIASGSSVGHNNLIPLANTGIVNHTHSRMGSIMSTGIVQGSSGAQGSGGGSTSAHYAVNSQFTMGGPAISMASPMSIPTNTMHYGS  \\\n",
       "Drug                                                                                                                                                                                                                                                                                                                                                                                                                                                                                                                                                                                                                                                                   \n",
       "Br[Se]c1ccccc1                                                                       0                                                                                                                                                                                                                                                                                                                                                                                                                                                                                                                                                                                 \n",
       "Brc1c[nH]c2nccnc12                                                                   0                                                                                                                                                                                                                                                                                                                                                                                                                                                                                                                                                                                 \n",
       "Brc1ccc(C2CC3CCC2N3)cc1                                                              0                                                                                                                                                                                                                                                                                                                                                                                                                                                                                                                                                                                 \n",
       "Brc1ccc(OCc2ccccc2)c(CNCC2CCCO2)c1                                                   0                                                                                                                                                                                                                                                                                                                                                                                                                                                                                                                                                                                 \n",
       "Brc1ccc(OCc2ccccc2)c(CNCc2ccccn2)c1                                                  0                                                                                                                                                                                                                                                                                                                                                                                                                                                                                                                                                                                 \n",
       "...                                                                                ...                                                                                                                                                                                                                                                                                                                                                                                                                                                                                                                                                                                 \n",
       "c1ncc(CCCOCCC2CCCCC2)[nH]1                                                           0                                                                                                                                                                                                                                                                                                                                                                                                                                                                                                                                                                                 \n",
       "c1ncc(CCCOCCCC2CCCC2)[nH]1                                                           0                                                                                                                                                                                                                                                                                                                                                                                                                                                                                                                                                                                 \n",
       "c1ncc(CCCOCCCC2CCCCC2)[nH]1                                                          0                                                                                                                                                                                                                                                                                                                                                                                                                                                                                                                                                                                 \n",
       "c1ncc(COCC2CCCCC2)[nH]1                                                              0                                                                                                                                                                                                                                                                                                                                                                                                                                                                                                                                                                                 \n",
       "c1ncc(COCCCC2CCCCC2)[nH]1                                                            0                                                                                                                                                                                                                                                                                                                                                                                                                                                                                                                                                                                 \n",
       "\n",
       "Target                              MAAAAAQGGGGGEPRRTEGVGPGVPGEVEMVKGQPFDVGPRYTQLQYIGEGAYGMVSSAYDHVRKTRVAIKKISPFEHQTYCQRTLREIQILLRFRHENVIGIRDILRASTLEAMRDVYIVQDLMETDLYKLLKSQQLSNDHICYFLYQILRGLKYIHSANVLHRDLKPSNLLINTTCDLKICDFGLARIADPEHDHTGFLTEYVATRWYRAPEIMLNSKGYTKSIDIWSVGCILAEMLSNRPIFPGKHYLDQLNHILGILGSPSQEDLNCIINMKARNYLQSLPSKTKVAWAKLFPKSDSKALDLLDRMLTFNPNKRITVEEALAHPYLEQYYDPTDEPVAEEPFTFAMELDDLPKERLKELIFQETARFQPGVLEAP  \\\n",
       "Drug                                                                                                                                                                                                                                                                                                                                                                                                                              \n",
       "Br[Se]c1ccccc1                                                                       0                                                                                                                                                                                                                                                                                                                                            \n",
       "Brc1c[nH]c2nccnc12                                                                   0                                                                                                                                                                                                                                                                                                                                            \n",
       "Brc1ccc(C2CC3CCC2N3)cc1                                                              0                                                                                                                                                                                                                                                                                                                                            \n",
       "Brc1ccc(OCc2ccccc2)c(CNCC2CCCO2)c1                                                   0                                                                                                                                                                                                                                                                                                                                            \n",
       "Brc1ccc(OCc2ccccc2)c(CNCc2ccccn2)c1                                                  0                                                                                                                                                                                                                                                                                                                                            \n",
       "...                                                                                ...                                                                                                                                                                                                                                                                                                                                            \n",
       "c1ncc(CCCOCCC2CCCCC2)[nH]1                                                           0                                                                                                                                                                                                                                                                                                                                            \n",
       "c1ncc(CCCOCCCC2CCCC2)[nH]1                                                           0                                                                                                                                                                                                                                                                                                                                            \n",
       "c1ncc(CCCOCCCC2CCCCC2)[nH]1                                                          0                                                                                                                                                                                                                                                                                                                                            \n",
       "c1ncc(COCC2CCCCC2)[nH]1                                                              0                                                                                                                                                                                                                                                                                                                                            \n",
       "c1ncc(COCCCC2CCCCC2)[nH]1                                                            0                                                                                                                                                                                                                                                                                                                                            \n",
       "\n",
       "Target                              MAAAAGAAAAAAAEGEAPAEMGALLLEKETRGATERVHGSLGDTPRSEETLPKATPDSLEPAGPSSPASVTVTVGDEGADTPVGATPLIGDESENLEGDGDLRGGRILLGHATKSFPSSPSKGGSCPSRAKMSMTGAGKSPPSVQSLAMRLLSMPGAQGAAAAGSEPPPATTSPEGQPKVHRARKTMSKPGNGQPPVPEKRPPEIQHFRMSDDVHSLGKVTSDLAKRRKLNSGGGLSEELGSARRSGEVTLTKGDPGSLEEWETVVGDDFSLYYDSYSVDERVDSDSKSEVEALTEQLSEEEEEEEEEEEEEEEEEEEEEEEEDEESGNQSDRSGSSGRRKAKKKWRKDSPWVKPSRKRRKREPPRAKEPRGVNGVGSSGPSEYMEVPLGSLELPSEGTLSPNHAGVSNDTSSLETERGFEELPLCSCRMEAPKIDRISERAGHKCMATESVDGELSGCNAAILKRETMRPSSRVALMVLCETHRARMVKHHCCPGCGYFCTAGTFLECHPDFRVAHRFHKACVSQLNGMVFCPHCGEDASEAQEVTIPRGDGVTPPAGTAAPAPPPLSQDVPGRADTSQPSARMRGHGEPRRPPCDPLADTIDSSGPSLTLPNGGCLSAVGLPLGPGREALEKALVIQESERRKKLRFHPRQLYLSVKQGELQKVILMLLDNLDPNFQSDQQSKRTPLHAAAQKGSVEICHVLLQAGANINAVDKQQRTPLMEAVVNNHLEVARYMVQRGGCVYSKEEDGSTCLHHAAKIGNLEMVSLLLSTGQVDVNAQDSGGWTPIIWAAEHKHIEVIRMLLTRGADVTLTDNEENICLHWASFTGSAAIAEVLLNARCDLHAVNYHGDTPLHIAARESYHDCVLLFLSRGANPELRNKEGDTAWDLTPERSDVWFALQLNRKLRLGVGNRAIRTEKIICRDVARGYENVPIPCVNGVDGEPCPEDYKYISENCETSTMNIDRNITHLQHCTCVDDCSSSNCLCGQLSIRCWYDKDGRLLQEFNKIEPPLIFECNQACSCWRNCKNRVVQSGIKVRLQLYRTAKMGWGVRALQTIPQGTFICEYVGELISDAEADVREDDSYLFDLDNKDGEVYCIDARYYGNISRFINHLCDPNIIPVRVFMLHQDLRFPRIAFFSSRDIRTGEELGFDYGDRFWDIKSKYFTCQCGSEKCKHSAEAIALEQSRLARLDPHPELLPELGSLPPVNT  \\\n",
       "Drug                                                                                                                                                                                                                                                                                                                                                                                                                                                                                                                                                                                                                                                                                                                                                                                                                                                                                                                                                                                                                                                                                                                                                                                                                                                                                             \n",
       "Br[Se]c1ccccc1                                                                       0                                                                                                                                                                                                                                                                                                                                                                                                                                                                                                                                                                                                                                                                                                                                                                                                                                                                                                                                                                                                                                                                                                                                                                                                           \n",
       "Brc1c[nH]c2nccnc12                                                                   0                                                                                                                                                                                                                                                                                                                                                                                                                                                                                                                                                                                                                                                                                                                                                                                                                                                                                                                                                                                                                                                                                                                                                                                                           \n",
       "Brc1ccc(C2CC3CCC2N3)cc1                                                              0                                                                                                                                                                                                                                                                                                                                                                                                                                                                                                                                                                                                                                                                                                                                                                                                                                                                                                                                                                                                                                                                                                                                                                                                           \n",
       "Brc1ccc(OCc2ccccc2)c(CNCC2CCCO2)c1                                                   0                                                                                                                                                                                                                                                                                                                                                                                                                                                                                                                                                                                                                                                                                                                                                                                                                                                                                                                                                                                                                                                                                                                                                                                                           \n",
       "Brc1ccc(OCc2ccccc2)c(CNCc2ccccn2)c1                                                  0                                                                                                                                                                                                                                                                                                                                                                                                                                                                                                                                                                                                                                                                                                                                                                                                                                                                                                                                                                                                                                                                                                                                                                                                           \n",
       "...                                                                                ...                                                                                                                                                                                                                                                                                                                                                                                                                                                                                                                                                                                                                                                                                                                                                                                                                                                                                                                                                                                                                                                                                                                                                                                                           \n",
       "c1ncc(CCCOCCC2CCCCC2)[nH]1                                                           0                                                                                                                                                                                                                                                                                                                                                                                                                                                                                                                                                                                                                                                                                                                                                                                                                                                                                                                                                                                                                                                                                                                                                                                                           \n",
       "c1ncc(CCCOCCCC2CCCC2)[nH]1                                                           0                                                                                                                                                                                                                                                                                                                                                                                                                                                                                                                                                                                                                                                                                                                                                                                                                                                                                                                                                                                                                                                                                                                                                                                                           \n",
       "c1ncc(CCCOCCCC2CCCCC2)[nH]1                                                          0                                                                                                                                                                                                                                                                                                                                                                                                                                                                                                                                                                                                                                                                                                                                                                                                                                                                                                                                                                                                                                                                                                                                                                                                           \n",
       "c1ncc(COCC2CCCCC2)[nH]1                                                              0                                                                                                                                                                                                                                                                                                                                                                                                                                                                                                                                                                                                                                                                                                                                                                                                                                                                                                                                                                                                                                                                                                                                                                                                           \n",
       "c1ncc(COCCCC2CCCCC2)[nH]1                                                            0                                                                                                                                                                                                                                                                                                                                                                                                                                                                                                                                                                                                                                                                                                                                                                                                                                                                                                                                                                                                                                                                                                                                                                                                           \n",
       "\n",
       "Target                              MAAADAEAVPARGEPQQDCCVKTELLGEETPMAADEGSAEKQAGEAHMAADGETNGSCENSDASSHANAAKHTQDSARVNPQDGTNTLTRIAENGVSERDSEAAKQNHVTADDFVQTSVIGSNGYILNKPALQAQPLRTTSTLASSLPGHAAKTLPGGAGKGRTPSAFPQTPAAPPATLGEGSADTEDRKLPAPGADVKVHRARKTMPKSVVGLHAASKDPREVREARDHKEPKEEINKNISDFGRQQLLPPFPSLHQSLPQNQCYMATTKSQTACLPFVLAAAVSRKKKRRMGTYSLVPKKKTKVLKQRTVIEMFKSITHSTVGSKGEKDLGASSLHVNGESLEMDSDEDDSEELEEDDGHGAEQAAAFPTEDSRTSKESMSEADRAQKMDGESEEEQESVDTGEEEEGGDESDLSSESSIKKKFLKRKGKTDSPWIKPARKRRRRSRKKPSGALGSESYKSSAGSAEQTAPGDSTGYMEVSLDSLDLRVKGILSSQAEGLANGPDVLETDGLQEVPLCSCRMETPKSREITTLANNQCMATESVDHELGRCTNSVVKYELMRPSNKAPLLVLCEDHRGRMVKHQCCPGCGYFCTAGNFMECQPESSISHRFHKDCASRVNNASYCPHCGEESSKAKEVTIAKADTTSTVTPVPGQEKGSALEGRADTTTGSAAGPPLSEDDKLQGAASHVPEGFDPTGPAGLGRPTPGLSQGPGKETLESALIALDSEKPKKLRFHPKQLYFSARQGELQKVLLMLVDGIDPNFKMEHQNKRSPLHAAAEAGHVDICHMLVQAGANIDTCSEDQRTPLMEAAENNHLEAVKYLIKAGALVDPKDAEGSTCLHLAAKKGHYEVVQYLLSNGQMDVNCQDDGGWTPMIWATEYKHVDLVKLLLSKGSDINIRDNEENICLHWAAFSGCVDIAEILLAAKCDLHAVNIHGDSPLHIAARENRYDCVVLFLSRDSDVTLKNKEGETPLQCASLNSQVWSALQMSKALQDSAPDRPSPVERIVSRDIARGYERIPIPCVNAVDSEPCPSNYKYVSQNCVTSPMNIDRNITHLQYCVCIDDCSSSNCMCGQLSMRCWYDKDGRLLPEFNMAEPPLIFECNHACSCWRNCRNRVVQNGLRARLQLYRTRDMGWGVRSLQDIPPGTFVCEYVGELISDSEADVREEDSYLFDLDNKDGEVYCIDARFYGNVSRFINHHCEPNLVPVRVFMAHQDLRFPRIAFFSTRLIEAGEQLGFDYGERFWDIKGKLFSCRCGSPKCRHSSAALAQRQASAAQEAQEDGLPDTSSAAAADPL  \\\n",
       "Drug                                                                                                                                                                                                                                                                                                                                                                                                                                                                                                                                                                                                                                                                                                                                                                                                                                                                                                                                                                                                                                                                                                                                                                                                                                                                                                                                                                                     \n",
       "Br[Se]c1ccccc1                                                                       0                                                                                                                                                                                                                                                                                                                                                                                                                                                                                                                                                                                                                                                                                                                                                                                                                                                                                                                                                                                                                                                                                                                                                                                                                                                                                                   \n",
       "Brc1c[nH]c2nccnc12                                                                   0                                                                                                                                                                                                                                                                                                                                                                                                                                                                                                                                                                                                                                                                                                                                                                                                                                                                                                                                                                                                                                                                                                                                                                                                                                                                                                   \n",
       "Brc1ccc(C2CC3CCC2N3)cc1                                                              0                                                                                                                                                                                                                                                                                                                                                                                                                                                                                                                                                                                                                                                                                                                                                                                                                                                                                                                                                                                                                                                                                                                                                                                                                                                                                                   \n",
       "Brc1ccc(OCc2ccccc2)c(CNCC2CCCO2)c1                                                   0                                                                                                                                                                                                                                                                                                                                                                                                                                                                                                                                                                                                                                                                                                                                                                                                                                                                                                                                                                                                                                                                                                                                                                                                                                                                                                   \n",
       "Brc1ccc(OCc2ccccc2)c(CNCc2ccccn2)c1                                                  0                                                                                                                                                                                                                                                                                                                                                                                                                                                                                                                                                                                                                                                                                                                                                                                                                                                                                                                                                                                                                                                                                                                                                                                                                                                                                                   \n",
       "...                                                                                ...                                                                                                                                                                                                                                                                                                                                                                                                                                                                                                                                                                                                                                                                                                                                                                                                                                                                                                                                                                                                                                                                                                                                                                                                                                                                                                   \n",
       "c1ncc(CCCOCCC2CCCCC2)[nH]1                                                           0                                                                                                                                                                                                                                                                                                                                                                                                                                                                                                                                                                                                                                                                                                                                                                                                                                                                                                                                                                                                                                                                                                                                                                                                                                                                                                   \n",
       "c1ncc(CCCOCCCC2CCCC2)[nH]1                                                           0                                                                                                                                                                                                                                                                                                                                                                                                                                                                                                                                                                                                                                                                                                                                                                                                                                                                                                                                                                                                                                                                                                                                                                                                                                                                                                   \n",
       "c1ncc(CCCOCCCC2CCCCC2)[nH]1                                                          0                                                                                                                                                                                                                                                                                                                                                                                                                                                                                                                                                                                                                                                                                                                                                                                                                                                                                                                                                                                                                                                                                                                                                                                                                                                                                                   \n",
       "c1ncc(COCC2CCCCC2)[nH]1                                                              0                                                                                                                                                                                                                                                                                                                                                                                                                                                                                                                                                                                                                                                                                                                                                                                                                                                                                                                                                                                                                                                                                                                                                                                                                                                                                                   \n",
       "c1ncc(COCCCC2CCCCC2)[nH]1                                                            0                                                                                                                                                                                                                                                                                                                                                                                                                                                                                                                                                                                                                                                                                                                                                                                                                                                                                                                                                                                                                                                                                                                                                                                                                                                                                                   \n",
       "\n",
       "Target                              MAAAEEEPKPKKLKVEAPQALRENILFGMGNPLLDISAVVDKDFLDKYSLKPNDQILAEDKHKELFDELVKKFKVEYHAGGSTQNSIKVAQWMIQQPHKAATFFGCIGIDKFGEILKRKAAEAHVDAHYYEQNEQPTGTCAACITGDNRSLIANLAAANCYKKEKHLDLEKNWMLVEKARVCYIAGFFLTVSPESVLKVAHHASENNRIFTLNLSAPFISQFYKESLMKVMPYVDILFGNETEAATFAREQGFETKDIKEIAKKTQALPKMNSKRQRIVIFTQGRDDTIMATESEVTAFAVLDQDQKEIIDTNGAGDAFVGGFLSQLVSDKPLTECIRAGHYAASIIIRRTGCTFPEKPDFH  \\\n",
       "Drug                                                                                                                                                                                                                                                                                                                                                                                                             \n",
       "Br[Se]c1ccccc1                                                                       0                                                                                                                                                                                                                                                                                                                           \n",
       "Brc1c[nH]c2nccnc12                                                                   0                                                                                                                                                                                                                                                                                                                           \n",
       "Brc1ccc(C2CC3CCC2N3)cc1                                                              0                                                                                                                                                                                                                                                                                                                           \n",
       "Brc1ccc(OCc2ccccc2)c(CNCC2CCCO2)c1                                                   0                                                                                                                                                                                                                                                                                                                           \n",
       "Brc1ccc(OCc2ccccc2)c(CNCc2ccccn2)c1                                                  0                                                                                                                                                                                                                                                                                                                           \n",
       "...                                                                                ...                                                                                                                                                                                                                                                                                                                           \n",
       "c1ncc(CCCOCCC2CCCCC2)[nH]1                                                           0                                                                                                                                                                                                                                                                                                                           \n",
       "c1ncc(CCCOCCCC2CCCC2)[nH]1                                                           0                                                                                                                                                                                                                                                                                                                           \n",
       "c1ncc(CCCOCCCC2CCCCC2)[nH]1                                                          0                                                                                                                                                                                                                                                                                                                           \n",
       "c1ncc(COCC2CCCCC2)[nH]1                                                              0                                                                                                                                                                                                                                                                                                                           \n",
       "c1ncc(COCCCC2CCCCC2)[nH]1                                                            0                                                                                                                                                                                                                                                                                                                           \n",
       "\n",
       "Target                              MAAAETQSLREQPEMEDANSEKSINEENGEVSEDQSQNKHSRHKKKKHKHRSKHKKHKHSSEEDKDKKHKHKHKHKKHKRKEIIDASDKEGMSPAKRTKLDDLALLEDLEKQRALIKAELDNELMEGKVQSGMGLILQGYESGSEEEGEIHEKARNGNRSSTRSSSTKGKLELVDNKITTKKRSKSRSKERTRHRSDKKKSKGGIEIVKEKTTRSKSKERKKSKSPSKRSKSQDQARKSKSPTLRRRSQEKIGKARSPTDDKVKIEDKSKSKDRKKSPIINESRSRDRGKKSRSPVDLRGKSKDRRSRSKERKSKRSETDKEKKPIKSPSKDASSGKENRSPSRRPGRSPKRRSLSPKPRDKSRRSRSPLLNDRRSKQSKSPSRTLSPGRRAKSRSLERKRREPERRRLSSPRTRPRDDILSRRERSKDASPINRWSPTRRRSRSPIRRRSRSPLRRSRSPRRRSRSPRRRDRGRRSRSRLRRRSRSRGGRRRRSRSKVKEDKFKGSLSEGMKVEQESSSDDNLEDFDVEEEDEEALIEQRRIQRQAIVQKYKYLAEDSNMSVPSEPSSPQSSTRTRSPSPDDILERVAADVKEYERENVDTFEASVKAKHNLMTVEQNNGSSQKKLLAPDMFTESDDMFAAYFDSARLRAAGIGKDFKENPNLRDNWTDAEGYYRVNIGEVLDKRYNVYGYTGQGVFSNVVRARDNARANQEVAVKIIRNNELMQKTGLKELEFLKKLNDADPDDKFHCLRLFRHFYHKQHLCLVFEPLSMNLREVLKKYGKDVGLHIKAVRSYSQQLFLALKLLKRCNILHADIKPDNILVNESKTILKLCDFGSASHVADNDITPYLVSRFYRAPEIIIGKSYDYGIDMWSVGCTLYELYTGKILFPGKTNNHMLKLAMDLKGKMPNKMIRKGVFKDQHFDQNLNFMYIEVDKVTEREKVTVMSTINPTKDLLADLIGCQRLPEDQRKKVHQLKDLLDQILMLDPAKRISINQALQHAFIQEKI  \\\n",
       "Drug                                                                                                                                                                                                                                                                                                                                                                                                                                                                                                                                                                                                                                                                                                                                                                                                                                                                                                                                                                                                                                                                                  \n",
       "Br[Se]c1ccccc1                                                                       0                                                                                                                                                                                                                                                                                                                                                                                                                                                                                                                                                                                                                                                                                                                                                                                                                                                                                                                                                                                                \n",
       "Brc1c[nH]c2nccnc12                                                                   0                                                                                                                                                                                                                                                                                                                                                                                                                                                                                                                                                                                                                                                                                                                                                                                                                                                                                                                                                                                                \n",
       "Brc1ccc(C2CC3CCC2N3)cc1                                                              0                                                                                                                                                                                                                                                                                                                                                                                                                                                                                                                                                                                                                                                                                                                                                                                                                                                                                                                                                                                                \n",
       "Brc1ccc(OCc2ccccc2)c(CNCC2CCCO2)c1                                                   0                                                                                                                                                                                                                                                                                                                                                                                                                                                                                                                                                                                                                                                                                                                                                                                                                                                                                                                                                                                                \n",
       "Brc1ccc(OCc2ccccc2)c(CNCc2ccccn2)c1                                                  0                                                                                                                                                                                                                                                                                                                                                                                                                                                                                                                                                                                                                                                                                                                                                                                                                                                                                                                                                                                                \n",
       "...                                                                                ...                                                                                                                                                                                                                                                                                                                                                                                                                                                                                                                                                                                                                                                                                                                                                                                                                                                                                                                                                                                                \n",
       "c1ncc(CCCOCCC2CCCCC2)[nH]1                                                           0                                                                                                                                                                                                                                                                                                                                                                                                                                                                                                                                                                                                                                                                                                                                                                                                                                                                                                                                                                                                \n",
       "c1ncc(CCCOCCCC2CCCC2)[nH]1                                                           0                                                                                                                                                                                                                                                                                                                                                                                                                                                                                                                                                                                                                                                                                                                                                                                                                                                                                                                                                                                                \n",
       "c1ncc(CCCOCCCC2CCCCC2)[nH]1                                                          0                                                                                                                                                                                                                                                                                                                                                                                                                                                                                                                                                                                                                                                                                                                                                                                                                                                                                                                                                                                                \n",
       "c1ncc(COCC2CCCCC2)[nH]1                                                              0                                                                                                                                                                                                                                                                                                                                                                                                                                                                                                                                                                                                                                                                                                                                                                                                                                                                                                                                                                                                \n",
       "c1ncc(COCCCC2CCCCC2)[nH]1                                                            0                                                                                                                                                                                                                                                                                                                                                                                                                                                                                                                                                                                                                                                                                                                                                                                                                                                                                                                                                                                                \n",
       "\n",
       "Target                              MAAAYLDPNLNHTPNSSTKTHLGTGMERSPGAMERVLKVFHYFESNSEPTTWASIIRHGDATDVRGIIQKIVDSHKVKHVACYGFRLSHLRSEEVHWLHVDMGVSSVREKYELAHPPEEWKYELRIRYLPKGFLNQFTEDKPTLNFFYQQVKSDYMLEIADQVDQEIALKLGCLEIRRSYWEMRGNALEKKSNYEVLEKDVGLKRFFPKSLLDSVKAKTLRKLIQQTFRQFANLNREESILKFFEILSPVYRFDKECFKCALGSSWIISVELAIGPEEGISYLTDKGCNPTHLADFTQVQTIQYSNSEDKDRKGMLQLKIAGAPEPLTVTAPSLTIAENMADLIDGYCRLVNGTSQSFIIRPQKEGERALPSIPKLANSEKQGMRTHAVSVSETDDYAEIIDEEDTYTMPSTRDYEIQRERIELGRCIGEGQFGDVHQGIYMSPENPALAVAIKTCKNCTSDSVREKFLQEALTMRQFDHPHIVKLIGVITENPVWIIMELCTLGELRSFLQVRKYSLDLASLILYAYQLSTALAYLESKRFVHRDIAARNVLVSSNDCVKLGDFGLSRYMEDSTYYKASKGKLPIKWMAPESINFRRFTSASDVWMFGVCMWEILMHGVKPFQGVKNNDVIGRIENGERLPMPPNCPPTLYSLMTKCWAYDPSRRPRFTELKAQLSTILEEEKAQQEERMRMESRRQATVSWDSGGSDEAPPKPSRPGYPSPRSSEGFYPSPQHMVQTNHYQVSGYPGSHGITAMAGSIYPGQASLLDQTDSWNHRPQEIAMWQPNVEDSTVLDLRGIGQVLPTHLMEERLIRQQQEMEEDQRWLEKEERFLKPDVRLSRGSIDREDGSLQGPIGNQHIYQPVGKPDPAAPPKKPPRPGAPGHLGSLASLSSPADSYNEGVKLQPQEISPPPTANLDRSNDKVYENVTGLVKAVIEMSSKIQPAPPEEYVPMVKEVGLALRTLLATVDETIPLLPASTHREIEMAQKLLNSDLGELINKMKLAQQYVMTSLQQEYKKQMLTAAHALAVDAKNLLDVIDQARLKMLGQTRPH  \\\n",
       "Drug                                                                                                                                                                                                                                                                                                                                                                                                                                                                                                                                                                                                                                                                                                                                                                                                                                                                                                                                                                                                                                                                                                                               \n",
       "Br[Se]c1ccccc1                                                                       0                                                                                                                                                                                                                                                                                                                                                                                                                                                                                                                                                                                                                                                                                                                                                                                                                                                                                                                                                                                                                                             \n",
       "Brc1c[nH]c2nccnc12                                                                   0                                                                                                                                                                                                                                                                                                                                                                                                                                                                                                                                                                                                                                                                                                                                                                                                                                                                                                                                                                                                                                             \n",
       "Brc1ccc(C2CC3CCC2N3)cc1                                                              0                                                                                                                                                                                                                                                                                                                                                                                                                                                                                                                                                                                                                                                                                                                                                                                                                                                                                                                                                                                                                                             \n",
       "Brc1ccc(OCc2ccccc2)c(CNCC2CCCO2)c1                                                   0                                                                                                                                                                                                                                                                                                                                                                                                                                                                                                                                                                                                                                                                                                                                                                                                                                                                                                                                                                                                                                             \n",
       "Brc1ccc(OCc2ccccc2)c(CNCc2ccccn2)c1                                                  0                                                                                                                                                                                                                                                                                                                                                                                                                                                                                                                                                                                                                                                                                                                                                                                                                                                                                                                                                                                                                                             \n",
       "...                                                                                ...                                                                                                                                                                                                                                                                                                                                                                                                                                                                                                                                                                                                                                                                                                                                                                                                                                                                                                                                                                                                                                             \n",
       "c1ncc(CCCOCCC2CCCCC2)[nH]1                                                           0                                                                                                                                                                                                                                                                                                                                                                                                                                                                                                                                                                                                                                                                                                                                                                                                                                                                                                                                                                                                                                             \n",
       "c1ncc(CCCOCCCC2CCCC2)[nH]1                                                           0                                                                                                                                                                                                                                                                                                                                                                                                                                                                                                                                                                                                                                                                                                                                                                                                                                                                                                                                                                                                                                             \n",
       "c1ncc(CCCOCCCC2CCCCC2)[nH]1                                                          0                                                                                                                                                                                                                                                                                                                                                                                                                                                                                                                                                                                                                                                                                                                                                                                                                                                                                                                                                                                                                                             \n",
       "c1ncc(COCC2CCCCC2)[nH]1                                                              0                                                                                                                                                                                                                                                                                                                                                                                                                                                                                                                                                                                                                                                                                                                                                                                                                                                                                                                                                                                                                                             \n",
       "c1ncc(COCCCC2CCCCC2)[nH]1                                                            0                                                                                                                                                                                                                                                                                                                                                                                                                                                                                                                                                                                                                                                                                                                                                                                                                                                                                                                                                                                                                                             \n",
       "\n",
       "Target                               ...  \\\n",
       "Drug                                 ...   \n",
       "Br[Se]c1ccccc1                       ...   \n",
       "Brc1c[nH]c2nccnc12                   ...   \n",
       "Brc1ccc(C2CC3CCC2N3)cc1              ...   \n",
       "Brc1ccc(OCc2ccccc2)c(CNCC2CCCO2)c1   ...   \n",
       "Brc1ccc(OCc2ccccc2)c(CNCc2ccccn2)c1  ...   \n",
       "...                                  ...   \n",
       "c1ncc(CCCOCCC2CCCCC2)[nH]1           ...   \n",
       "c1ncc(CCCOCCCC2CCCC2)[nH]1           ...   \n",
       "c1ncc(CCCOCCCC2CCCCC2)[nH]1          ...   \n",
       "c1ncc(COCC2CCCCC2)[nH]1              ...   \n",
       "c1ncc(COCCCC2CCCCC2)[nH]1            ...   \n",
       "\n",
       "Target                              MWVPVVFLTLSVTWIGAAPLILSRIVGGWECEKHSQPWQVLVASRGRAVCGGVLVHPQWVLTAAHCIRNKSVILLGRHSLFHPEDTGQVFQVSHSFPHPLYDMSLLKNRFLRPGDDSSHDLMLLRLSEPAELTDAVKVMDLPTQEPALGTTCYASGWGSIEPEEFLTPKKLQCVDLHVISNDVCAQVHPQKVTKFMLCAGRWTGGKSTCSGDSGGPLVCNGVLQGITSWGSEPCALPERPSLYTKVVHYRKWIKDTIVANP  \\\n",
       "Drug                                                                                                                                                                                                                                                                                                        \n",
       "Br[Se]c1ccccc1                                                                       0                                                                                                                                                                                                                      \n",
       "Brc1c[nH]c2nccnc12                                                                   0                                                                                                                                                                                                                      \n",
       "Brc1ccc(C2CC3CCC2N3)cc1                                                              0                                                                                                                                                                                                                      \n",
       "Brc1ccc(OCc2ccccc2)c(CNCC2CCCO2)c1                                                   0                                                                                                                                                                                                                      \n",
       "Brc1ccc(OCc2ccccc2)c(CNCc2ccccn2)c1                                                  0                                                                                                                                                                                                                      \n",
       "...                                                                                ...                                                                                                                                                                                                                      \n",
       "c1ncc(CCCOCCC2CCCCC2)[nH]1                                                           0                                                                                                                                                                                                                      \n",
       "c1ncc(CCCOCCCC2CCCC2)[nH]1                                                           0                                                                                                                                                                                                                      \n",
       "c1ncc(CCCOCCCC2CCCCC2)[nH]1                                                          0                                                                                                                                                                                                                      \n",
       "c1ncc(COCC2CCCCC2)[nH]1                                                              0                                                                                                                                                                                                                      \n",
       "c1ncc(COCCCC2CCCCC2)[nH]1                                                            0                                                                                                                                                                                                                      \n",
       "\n",
       "Target                              MWVTKLLPALLLQHVLLHLLLLPIAIPYAEGQRKRRNTIHEFKKSAKTTLIKIDPALKIKTKKVNTADQCANRCTRNKGLPFTCKAFVFDKARKQCLWFPFNSMSSGVKKEFGHEFDLYENKDYIRNCIIGKGRSYKGTVSITKSGIKCQPWSSMIPHEHSFLPSSYRGKDLQENYCRNPRGEEGGPWCFTSNPEVRYEVCDIPQCSEVECMTCNGESYRGLMDHTESGKICQRWDHQTPHRHKFLPERYPDKGFDDNYCRNPDGQPRPWCYTLDPHTRWEYCAIKTCADNTMNDTDVPLETTECIQGQGEGYRGTVNTIWNGIPCQRWDSQYPHEHDMTPENFKCKDLRENYCRNPDGSESPWCFTTDPNIRVGYCSQIPNCDMSHGQDCYRGNGKNYMGNLSQTRSGLTCSMWDKNMEDLHRHIFWEPDASKLNENYCRNPDDDAHGPWCYTGNPLIPWDYCPISRCEGDTTPTIVNLDHPVISCAKTKQLRVVNGIPTRTNIGWMVSLRYRNKHICGGSLIKESWVLTARQCFPSRDLKDYEAWLGIHDVHGRGDEKCKQVLNVSQLVYGPEGSDLVLMKLARPAVLDDFVSTIDLPNYGCTIPEKTSCSVYGWGYTGLINYDGLLRVAHLYIMGNEKCSQHHRGKVTLNESEICAGAEKIGSGPCEGDYGGPLVCEQHKMRMVLGVIVPGRGCAIPNRPGIFVRVAYYAKWIHKIILTYKVPQS  \\\n",
       "Drug                                                                                                                                                                                                                                                                                                                                                                                                                                                                                                                                                                                                                                                                                                                                                                                           \n",
       "Br[Se]c1ccccc1                                                                       0                                                                                                                                                                                                                                                                                                                                                                                                                                                                                                                                                                                                                                                                                                         \n",
       "Brc1c[nH]c2nccnc12                                                                   0                                                                                                                                                                                                                                                                                                                                                                                                                                                                                                                                                                                                                                                                                                         \n",
       "Brc1ccc(C2CC3CCC2N3)cc1                                                              0                                                                                                                                                                                                                                                                                                                                                                                                                                                                                                                                                                                                                                                                                                         \n",
       "Brc1ccc(OCc2ccccc2)c(CNCC2CCCO2)c1                                                   0                                                                                                                                                                                                                                                                                                                                                                                                                                                                                                                                                                                                                                                                                                         \n",
       "Brc1ccc(OCc2ccccc2)c(CNCc2ccccn2)c1                                                  0                                                                                                                                                                                                                                                                                                                                                                                                                                                                                                                                                                                                                                                                                                         \n",
       "...                                                                                ...                                                                                                                                                                                                                                                                                                                                                                                                                                                                                                                                                                                                                                                                                                         \n",
       "c1ncc(CCCOCCC2CCCCC2)[nH]1                                                           0                                                                                                                                                                                                                                                                                                                                                                                                                                                                                                                                                                                                                                                                                                         \n",
       "c1ncc(CCCOCCCC2CCCC2)[nH]1                                                           0                                                                                                                                                                                                                                                                                                                                                                                                                                                                                                                                                                                                                                                                                                         \n",
       "c1ncc(CCCOCCCC2CCCCC2)[nH]1                                                          0                                                                                                                                                                                                                                                                                                                                                                                                                                                                                                                                                                                                                                                                                                         \n",
       "c1ncc(COCC2CCCCC2)[nH]1                                                              0                                                                                                                                                                                                                                                                                                                                                                                                                                                                                                                                                                                                                                                                                                         \n",
       "c1ncc(COCCCC2CCCCC2)[nH]1                                                            0                                                                                                                                                                                                                                                                                                                                                                                                                                                                                                                                                                                                                                                                                                         \n",
       "\n",
       "Target                              MYGKIIFVLLLSEIVSISASSTTGVAMHTSTSSSVTKSYISSQTNDTHKRDTYAATPRAHEVSEISVRTVYPPEEETGERVQLAHHFSEPEITLIIFGVMAGVIGTILLISYGIRRLIKKSPSDVKPLPSPDTDVPLSSVEIENPETSDQ  \\\n",
       "Drug                                                                                                                                                                                         \n",
       "Br[Se]c1ccccc1                                                                       0                                                                                                       \n",
       "Brc1c[nH]c2nccnc12                                                                   0                                                                                                       \n",
       "Brc1ccc(C2CC3CCC2N3)cc1                                                              0                                                                                                       \n",
       "Brc1ccc(OCc2ccccc2)c(CNCC2CCCO2)c1                                                   0                                                                                                       \n",
       "Brc1ccc(OCc2ccccc2)c(CNCc2ccccn2)c1                                                  0                                                                                                       \n",
       "...                                                                                ...                                                                                                       \n",
       "c1ncc(CCCOCCC2CCCCC2)[nH]1                                                           0                                                                                                       \n",
       "c1ncc(CCCOCCCC2CCCC2)[nH]1                                                           0                                                                                                       \n",
       "c1ncc(CCCOCCCC2CCCCC2)[nH]1                                                          0                                                                                                       \n",
       "c1ncc(COCC2CCCCC2)[nH]1                                                              0                                                                                                       \n",
       "c1ncc(COCCCC2CCCCC2)[nH]1                                                            0                                                                                                       \n",
       "\n",
       "Target                              MYGNYSHFMKFPAGYGGSPGHTGSTSMSPSAALSTGKPMDSHPSYTDTPVSAPRTLSAVGTPLNALGSPYRVITSAMGPPSGALAAPPGINLVAPPSSQLNVVNSVSSSEDIKPLPGLPGIGNMNYPSTSPGSLVKHICAICGDRSSGKHYGVYSCEGCKGFFKRTIRKDLIYTCRDNKDCLIDKRQRNRCQYCRYQKCLVMGMKREAVQEERQRSRERAESEAECATSGHEDMPVERILEAELAVEPKTESYGDMNMENSTNDPVTNICHAADKQLFTLVEWAKRIPHFSDLTLEDQVILLRAGWNELLIASFSHRSVSVQDGILLATGLHVHRSSAHSAGVGSIFDRVLTELVSKMKDMQMDKSELGCLRAIVLFNPDAKGLSNPSEVETLREKVYATLEAYTKQKYPEQPGRFAKLLLRLPALRSIGLKCLEHLFFFKLIGDTPIDTFLMEMLETPLQIT  \\\n",
       "Drug                                                                                                                                                                                                                                                                                                                                                                                                                                                                                                                  \n",
       "Br[Se]c1ccccc1                                                                       0                                                                                                                                                                                                                                                                                                                                                                                                                                \n",
       "Brc1c[nH]c2nccnc12                                                                   0                                                                                                                                                                                                                                                                                                                                                                                                                                \n",
       "Brc1ccc(C2CC3CCC2N3)cc1                                                              0                                                                                                                                                                                                                                                                                                                                                                                                                                \n",
       "Brc1ccc(OCc2ccccc2)c(CNCC2CCCO2)c1                                                   0                                                                                                                                                                                                                                                                                                                                                                                                                                \n",
       "Brc1ccc(OCc2ccccc2)c(CNCc2ccccn2)c1                                                  0                                                                                                                                                                                                                                                                                                                                                                                                                                \n",
       "...                                                                                ...                                                                                                                                                                                                                                                                                                                                                                                                                                \n",
       "c1ncc(CCCOCCC2CCCCC2)[nH]1                                                           0                                                                                                                                                                                                                                                                                                                                                                                                                                \n",
       "c1ncc(CCCOCCCC2CCCC2)[nH]1                                                           0                                                                                                                                                                                                                                                                                                                                                                                                                                \n",
       "c1ncc(CCCOCCCC2CCCCC2)[nH]1                                                          0                                                                                                                                                                                                                                                                                                                                                                                                                                \n",
       "c1ncc(COCC2CCCCC2)[nH]1                                                              0                                                                                                                                                                                                                                                                                                                                                                                                                                \n",
       "c1ncc(COCCCC2CCCCC2)[nH]1                                                            0                                                                                                                                                                                                                                                                                                                                                                                                                                \n",
       "\n",
       "Target                              MYGNYSHFMKFPTGFGGSPGHTGSTSMSPSVALPTGKPMDSHPSYTDTPVSAPRTLSAVGTPLNALGSPYRVITSAMGPPSGALAAPPGINLVAPPSSQLNVVNSVSSSEDIKPLPGLPGIGNMNYPSTSPGSLVKHICAICGDRSSGKHYGVYSCEGCKGFFKRTIRKDLIYTCRDNKDCLIDKRQRNRCQYCRYQKCLVMGMKREAVQEERQRSRERAESEAECASSSHEDMPVERILEAELAVEPKTESYGDMNVENSTNDPVTNICHAADKQLFTLVEWAKRIPHFSDLTLEDQVILLRAGWNELLIASFSHRSVSVQDGILLATGLHVHRSSAHSAGVGSIFDRVLTELVSKMKDMQMDKSELGCLRAIVLFNPDAKGLSNPSEVETLREKVYATLEAYTKQKYPEQPGRFAKLLLRLPALRSIGLKCLEHLFFFKLIGDTPIDSFLMEMLETPLQIT  \\\n",
       "Drug                                                                                                                                                                                                                                                                                                                                                                                                                                                                                                                  \n",
       "Br[Se]c1ccccc1                                                                       0                                                                                                                                                                                                                                                                                                                                                                                                                                \n",
       "Brc1c[nH]c2nccnc12                                                                   0                                                                                                                                                                                                                                                                                                                                                                                                                                \n",
       "Brc1ccc(C2CC3CCC2N3)cc1                                                              0                                                                                                                                                                                                                                                                                                                                                                                                                                \n",
       "Brc1ccc(OCc2ccccc2)c(CNCC2CCCO2)c1                                                   0                                                                                                                                                                                                                                                                                                                                                                                                                                \n",
       "Brc1ccc(OCc2ccccc2)c(CNCc2ccccn2)c1                                                  0                                                                                                                                                                                                                                                                                                                                                                                                                                \n",
       "...                                                                                ...                                                                                                                                                                                                                                                                                                                                                                                                                                \n",
       "c1ncc(CCCOCCC2CCCCC2)[nH]1                                                           0                                                                                                                                                                                                                                                                                                                                                                                                                                \n",
       "c1ncc(CCCOCCCC2CCCC2)[nH]1                                                           0                                                                                                                                                                                                                                                                                                                                                                                                                                \n",
       "c1ncc(CCCOCCCC2CCCCC2)[nH]1                                                          0                                                                                                                                                                                                                                                                                                                                                                                                                                \n",
       "c1ncc(COCC2CCCCC2)[nH]1                                                              0                                                                                                                                                                                                                                                                                                                                                                                                                                \n",
       "c1ncc(COCCCC2CCCCC2)[nH]1                                                            0                                                                                                                                                                                                                                                                                                                                                                                                                                \n",
       "\n",
       "Target                              MYSNVIGTVTSGKRKVYLLSLLLIGFWDCVTCHGSPVDICTAKPRDIPMNPMCIYRSPEKKATEDEGSEQKIPEATNRRVWELSKANSRFATTFYQHLADSKNDNDNIFLSPLSISTAFAMTKLGACNDTLQQLMEVFKFDTISEKTSDQIHFFFAKLNCRLYRKANKSSKLVSANRLFGDKSLTFNETYQDISELVYGAKLQPLDFKENAEQSRAAINKWVSNKTEGRITDVIPSEAINELTVLVLVNTIYFKGLWKSKFSPENTRKELFYKADGESCSASMMYQEGKFRYRRVAEGTQVLELPFKGDDITMVLILPKPEKSLAKVEKELTPEVLQEWLDELEEMMLVVHMPRFRIEDGFSLKEQLQDMGLVDLFSPEKSKLPGIVAEGRDDLYVSDAFHKAFLEVNEEGSEAAASTAVVIAGRSLNPNRVTFKANRPFLVFIREVPLNTIIFMGRVANPCVK  \\\n",
       "Drug                                                                                                                                                                                                                                                                                                                                                                                                                                                                                                                   \n",
       "Br[Se]c1ccccc1                                                                       0                                                                                                                                                                                                                                                                                                                                                                                                                                 \n",
       "Brc1c[nH]c2nccnc12                                                                   0                                                                                                                                                                                                                                                                                                                                                                                                                                 \n",
       "Brc1ccc(C2CC3CCC2N3)cc1                                                              0                                                                                                                                                                                                                                                                                                                                                                                                                                 \n",
       "Brc1ccc(OCc2ccccc2)c(CNCC2CCCO2)c1                                                   0                                                                                                                                                                                                                                                                                                                                                                                                                                 \n",
       "Brc1ccc(OCc2ccccc2)c(CNCc2ccccn2)c1                                                  0                                                                                                                                                                                                                                                                                                                                                                                                                                 \n",
       "...                                                                                ...                                                                                                                                                                                                                                                                                                                                                                                                                                 \n",
       "c1ncc(CCCOCCC2CCCCC2)[nH]1                                                           0                                                                                                                                                                                                                                                                                                                                                                                                                                 \n",
       "c1ncc(CCCOCCCC2CCCC2)[nH]1                                                           0                                                                                                                                                                                                                                                                                                                                                                                                                                 \n",
       "c1ncc(CCCOCCCC2CCCCC2)[nH]1                                                          0                                                                                                                                                                                                                                                                                                                                                                                                                                 \n",
       "c1ncc(COCC2CCCCC2)[nH]1                                                              0                                                                                                                                                                                                                                                                                                                                                                                                                                 \n",
       "c1ncc(COCCCC2CCCCC2)[nH]1                                                            0                                                                                                                                                                                                                                                                                                                                                                                                                                 \n",
       "\n",
       "Target                              MYTFVVRDENSSVYAEVSRLLLATGHWKRLRRDNPRFNLMLGERNRLPFGRLGHEPGLVQLVNYYRGADKLCRKASLVKLIKTSPELAESCTWFPESYVIYPTNLKTPVAPAQNGIQPPISNSRTDEREFFLASYNRKKEDGEGNVWIAKSSAGAKGEGILISSEASELLDFIDNQGQVHVIQKYLEHPLLLEPGHRKFDIRSWVLVDHQYNIYLYREGVLRTASEPYHVDNFQDKTCHLTNHCIQKEYSKNYGKYEEGNEMFFKEFNQYLTSALNITLESSILLQIKHIIRNCLLSVEPAISTKHLPYQSFQLFGFDFMVDEELKVWLIEVNGAPACAQKLYAELCQGIVDIAISSVFPPPDVEQPQTQPAAFIKL  \\\n",
       "Drug                                                                                                                                                                                                                                                                                                                                                                                                                            \n",
       "Br[Se]c1ccccc1                                                                       0                                                                                                                                                                                                                                                                                                                                          \n",
       "Brc1c[nH]c2nccnc12                                                                   0                                                                                                                                                                                                                                                                                                                                          \n",
       "Brc1ccc(C2CC3CCC2N3)cc1                                                              0                                                                                                                                                                                                                                                                                                                                          \n",
       "Brc1ccc(OCc2ccccc2)c(CNCC2CCCO2)c1                                                   0                                                                                                                                                                                                                                                                                                                                          \n",
       "Brc1ccc(OCc2ccccc2)c(CNCc2ccccn2)c1                                                  0                                                                                                                                                                                                                                                                                                                                          \n",
       "...                                                                                ...                                                                                                                                                                                                                                                                                                                                          \n",
       "c1ncc(CCCOCCC2CCCCC2)[nH]1                                                           0                                                                                                                                                                                                                                                                                                                                          \n",
       "c1ncc(CCCOCCCC2CCCC2)[nH]1                                                           0                                                                                                                                                                                                                                                                                                                                          \n",
       "c1ncc(CCCOCCCC2CCCCC2)[nH]1                                                          0                                                                                                                                                                                                                                                                                                                                          \n",
       "c1ncc(COCC2CCCCC2)[nH]1                                                              0                                                                                                                                                                                                                                                                                                                                          \n",
       "c1ncc(COCCCC2CCCCC2)[nH]1                                                            0                                                                                                                                                                                                                                                                                                                                          \n",
       "\n",
       "Target                              MYWSNQITRRLGERVQGFMSGISPQQMGEPEGSWSGKNPGTMGASRLYTLVLVLQPQRVLLGMKKRGFGAGRWNGFGGKVQEGETIEDGARRELQEESGLTVDALHKVGQIVFEFVGEPELMDVHVFCTDSIQGTPVESDEMRPCWFQLDQIPFKDMWPDDSYWFPLLLQKKKFHGYFKFQGQDTILDYTLREVDTV  \\\n",
       "Drug                                                                                                                                                                                                                                        \n",
       "Br[Se]c1ccccc1                                                                       0                                                                                                                                                      \n",
       "Brc1c[nH]c2nccnc12                                                                   0                                                                                                                                                      \n",
       "Brc1ccc(C2CC3CCC2N3)cc1                                                              0                                                                                                                                                      \n",
       "Brc1ccc(OCc2ccccc2)c(CNCC2CCCO2)c1                                                   0                                                                                                                                                      \n",
       "Brc1ccc(OCc2ccccc2)c(CNCc2ccccn2)c1                                                  0                                                                                                                                                      \n",
       "...                                                                                ...                                                                                                                                                      \n",
       "c1ncc(CCCOCCC2CCCCC2)[nH]1                                                           0                                                                                                                                                      \n",
       "c1ncc(CCCOCCCC2CCCC2)[nH]1                                                           0                                                                                                                                                      \n",
       "c1ncc(CCCOCCCC2CCCCC2)[nH]1                                                          0                                                                                                                                                      \n",
       "c1ncc(COCC2CCCCC2)[nH]1                                                              0                                                                                                                                                      \n",
       "c1ncc(COCCCC2CCCCC2)[nH]1                                                            0                                                                                                                                                      \n",
       "\n",
       "Target                              VRSLNSIVAVCQNMGIGKDGNLPWPPLRNEYKYFQRMTSTSHVEGKQNAVIMGKKTWFSIPEKNRPLKDRINIVLSRELKEAPKGAHYLSKSLDDALALLDSPELKSKVDMVWIVGGTAVYKAAMEKPINHRLFVTRILHEFESDTFFPEIDYKDFKLLTEYPGVPADIQEEDGIQYKFEVYQKSVLAQ  \\\n",
       "Drug                                                                                                                                                                                                                                \n",
       "Br[Se]c1ccccc1                                                                       0                                                                                                                                              \n",
       "Brc1c[nH]c2nccnc12                                                                   0                                                                                                                                              \n",
       "Brc1ccc(C2CC3CCC2N3)cc1                                                              0                                                                                                                                              \n",
       "Brc1ccc(OCc2ccccc2)c(CNCC2CCCO2)c1                                                   0                                                                                                                                              \n",
       "Brc1ccc(OCc2ccccc2)c(CNCc2ccccn2)c1                                                  0                                                                                                                                              \n",
       "...                                                                                ...                                                                                                                                              \n",
       "c1ncc(CCCOCCC2CCCCC2)[nH]1                                                           0                                                                                                                                              \n",
       "c1ncc(CCCOCCCC2CCCC2)[nH]1                                                           0                                                                                                                                              \n",
       "c1ncc(CCCOCCCC2CCCCC2)[nH]1                                                          0                                                                                                                                              \n",
       "c1ncc(COCC2CCCCC2)[nH]1                                                              0                                                                                                                                              \n",
       "c1ncc(COCCCC2CCCCC2)[nH]1                                                            0                                                                                                                                              \n",
       "\n",
       "Target                              YTKMKTATNIYIFNLALADALATSTLPFQSVNYLMGTWPFGTILCKIVISIDYYNMFTSIFTLCTMSVDRYIAVCHPVKALDFRTPRNAKTVNVCNWI  \n",
       "Drug                                                                                                                                    \n",
       "Br[Se]c1ccccc1                                                                       0                                                  \n",
       "Brc1c[nH]c2nccnc12                                                                   0                                                  \n",
       "Brc1ccc(C2CC3CCC2N3)cc1                                                              0                                                  \n",
       "Brc1ccc(OCc2ccccc2)c(CNCC2CCCO2)c1                                                   0                                                  \n",
       "Brc1ccc(OCc2ccccc2)c(CNCc2ccccn2)c1                                                  0                                                  \n",
       "...                                                                                ...                                                  \n",
       "c1ncc(CCCOCCC2CCCCC2)[nH]1                                                           0                                                  \n",
       "c1ncc(CCCOCCCC2CCCC2)[nH]1                                                           0                                                  \n",
       "c1ncc(CCCOCCCC2CCCCC2)[nH]1                                                          0                                                  \n",
       "c1ncc(COCC2CCCCC2)[nH]1                                                              0                                                  \n",
       "c1ncc(COCCCC2CCCCC2)[nH]1                                                            0                                                  \n",
       "\n",
       "[9887 rows x 1088 columns]"
      ]
     },
     "execution_count": 7,
     "metadata": {},
     "output_type": "execute_result"
    }
   ],
   "source": [
    "BindingDB_Kd_clean"
   ]
  },
  {
   "cell_type": "code",
   "execution_count": 8,
   "id": "8fe1703a",
   "metadata": {
    "hidden": true
   },
   "outputs": [],
   "source": [
    "DTI_merged = pd.merge(BindingDB_Kd_clean,DAVIS_clean, how ='outer', on = 'Drug').merge(\n",
    "    KIBA_clean, how='outer',on ='Drug').fillna(0)"
   ]
  },
  {
   "cell_type": "code",
   "execution_count": 9,
   "id": "4700017b",
   "metadata": {
    "hidden": true,
    "scrolled": true
   },
   "outputs": [
    {
     "data": {
      "text/html": [
       "<div>\n",
       "<style scoped>\n",
       "    .dataframe tbody tr th:only-of-type {\n",
       "        vertical-align: middle;\n",
       "    }\n",
       "\n",
       "    .dataframe tbody tr th {\n",
       "        vertical-align: top;\n",
       "    }\n",
       "\n",
       "    .dataframe thead th {\n",
       "        text-align: right;\n",
       "    }\n",
       "</style>\n",
       "<table border=\"1\" class=\"dataframe\">\n",
       "  <thead>\n",
       "    <tr style=\"text-align: right;\">\n",
       "      <th>Target</th>\n",
       "      <th>AMTDLLVSILVMPISIPYTITQTWSFGQLLCDIWLSSDITCCTASILHLCVIALDRYWAITDALEYSKRRTAGHAAAMIAIVWAISICISIPPLFWRQARAHEEISDCLVNTSQISYTIYSTCGAFYIPSLLLIILYGRIYRAARNRILNPPSLYGKRFTTAHLITGSAGSSLCSLNPSLHEGHSHSAGSPLFFNHVKIKLADSVLERKRISAARERKATKTLGIILGAFIICWLPFFVASLVLPICRDSCWIHPALFDFFTWLGYLNSLINPIIYTVFNEEFRQAFQKVV</th>\n",
       "      <th>MAAAAAAGAGPEMVRGQVFDVGPRYTNLSYIGEGAYGMVCSAYDNVNKVRVAIKKISPFEHQTYCQRTLREIKILLRFRHENIIGINDIIRAPTIEQMKDVYIVQDLMETDLYKLLKTQHLSNDHICYFLYQILRGLKYIHSANVLHRDLKPSNLLLNTTCDLKICDFGLARVADPDHDHTGFLTEYVATRWYRAPEIMLNSKGYTKSIDIWSVGCILAEMLSNRPIFPGKHYLDQLNHILGILGSPSQEDLNCIINLKARNYLLSLPHKNKVPWNRLFPNADSKALDLLDKMLTFNPHKRIEVEQALAHPYLEQYYDPSDEPIAEAPFKFDMELDDLPKEKLKELIFEETARFQPGYRS_x</th>\n",
       "      <th>MAAAAAAGPEMVRGQVFDVGPRYTNLSYIGEGAYGMVCSAYDNLNKVRVAIKKISPFEHQTYCQRTLREIKILLRFRHENIIGINDIIRAPTIEQMKDVYIVQDLMETDLYKLLKTQHLSNDHICYFLYQILRGLKYIHSANVLHRDLKPSNLLLNTTCDLKICDFGLARVADPDHDHTGFLTEYVATRWYRAPEIMLNSKGYTKSIDIWSVGCILAEMLSNRPIFPGKHYLDQLNHILGILGSPSQEDLNCIINLKARNYLLSLPHKNKVPWNRLFPNADSKALDLLDKMLTFNPHKRIEVEQALAHPYLEQYYDPSDEPIAEAPFKFDMELDDLPKEKLKELIFEETARFQPGYRS</th>\n",
       "      <th>MAAAAAAVGPGAGGAGSAVPGGAGPCATVSVFPGARLLTIGDANGEIQRHAEQQALRLEVRAGPDSAGIALYSHEDVCVFKCSVSRETECSRVGKQSFIITLGCNSVLIQFATPNDFCSFYNILKTCRGHTLERSVFSERTEESSAVQYFQFYGYLSQQQNMMQDYVRTGTYQRAILQNHTDFKDKIVLDVGCGSGILSFFAAQAGARKIYAVEASTMAQHAEVLVKSNNLTDRIVVIPGKVEEVSLPEQVDIIISEPMGYMLFNERMLESYLHAKKYLKPSGNMFPTIGDVHLAPFTDEQLYMEQFTKANFWYQPSFHGVDLSALRGAAVDEYFRQPVVDTFDIRILMAKSVKYTVNFLEAKEGDLHRIEIPFKFHMLHSGLVHGLAFWFDVAFIGSIMTVWLSTAPTEPLTHWYQVRCLFQSPLFAKAGDTLSGTCLLIANKRQSYDISIVAQVDQTGSKSSNLLDLKNPFFRYTGTTPSPPPGSHYTSPSENMWNTGSTYNLSSGMAVAGMPTAYDLSSVIASGSSVGHNNLIPLANTGIVNHTHSRMGSIMSTGIVQGSSGAQGSGGGSTSAHYAVNSQFTMGGPAISMASPMSIPTNTMHYGS</th>\n",
       "      <th>MAAAAAQGGGGGEPRRTEGVGPGVPGEVEMVKGQPFDVGPRYTQLQYIGEGAYGMVSSAYDHVRKTRVAIKKISPFEHQTYCQRTLREIQILLRFRHENVIGIRDILRASTLEAMRDVYIVQDLMETDLYKLLKSQQLSNDHICYFLYQILRGLKYIHSANVLHRDLKPSNLLINTTCDLKICDFGLARIADPEHDHTGFLTEYVATRWYRAPEIMLNSKGYTKSIDIWSVGCILAEMLSNRPIFPGKHYLDQLNHILGILGSPSQEDLNCIINMKARNYLQSLPSKTKVAWAKLFPKSDSKALDLLDRMLTFNPNKRITVEEALAHPYLEQYYDPTDEPVAEEPFTFAMELDDLPKERLKELIFQETARFQPGVLEAP_x</th>\n",
       "      <th>MAAAAGAAAAAAAEGEAPAEMGALLLEKETRGATERVHGSLGDTPRSEETLPKATPDSLEPAGPSSPASVTVTVGDEGADTPVGATPLIGDESENLEGDGDLRGGRILLGHATKSFPSSPSKGGSCPSRAKMSMTGAGKSPPSVQSLAMRLLSMPGAQGAAAAGSEPPPATTSPEGQPKVHRARKTMSKPGNGQPPVPEKRPPEIQHFRMSDDVHSLGKVTSDLAKRRKLNSGGGLSEELGSARRSGEVTLTKGDPGSLEEWETVVGDDFSLYYDSYSVDERVDSDSKSEVEALTEQLSEEEEEEEEEEEEEEEEEEEEEEEEDEESGNQSDRSGSSGRRKAKKKWRKDSPWVKPSRKRRKREPPRAKEPRGVNGVGSSGPSEYMEVPLGSLELPSEGTLSPNHAGVSNDTSSLETERGFEELPLCSCRMEAPKIDRISERAGHKCMATESVDGELSGCNAAILKRETMRPSSRVALMVLCETHRARMVKHHCCPGCGYFCTAGTFLECHPDFRVAHRFHKACVSQLNGMVFCPHCGEDASEAQEVTIPRGDGVTPPAGTAAPAPPPLSQDVPGRADTSQPSARMRGHGEPRRPPCDPLADTIDSSGPSLTLPNGGCLSAVGLPLGPGREALEKALVIQESERRKKLRFHPRQLYLSVKQGELQKVILMLLDNLDPNFQSDQQSKRTPLHAAAQKGSVEICHVLLQAGANINAVDKQQRTPLMEAVVNNHLEVARYMVQRGGCVYSKEEDGSTCLHHAAKIGNLEMVSLLLSTGQVDVNAQDSGGWTPIIWAAEHKHIEVIRMLLTRGADVTLTDNEENICLHWASFTGSAAIAEVLLNARCDLHAVNYHGDTPLHIAARESYHDCVLLFLSRGANPELRNKEGDTAWDLTPERSDVWFALQLNRKLRLGVGNRAIRTEKIICRDVARGYENVPIPCVNGVDGEPCPEDYKYISENCETSTMNIDRNITHLQHCTCVDDCSSSNCLCGQLSIRCWYDKDGRLLQEFNKIEPPLIFECNQACSCWRNCKNRVVQSGIKVRLQLYRTAKMGWGVRALQTIPQGTFICEYVGELISDAEADVREDDSYLFDLDNKDGEVYCIDARYYGNISRFINHLCDPNIIPVRVFMLHQDLRFPRIAFFSSRDIRTGEELGFDYGDRFWDIKSKYFTCQCGSEKCKHSAEAIALEQSRLARLDPHPELLPELGSLPPVNT</th>\n",
       "      <th>MAAADAEAVPARGEPQQDCCVKTELLGEETPMAADEGSAEKQAGEAHMAADGETNGSCENSDASSHANAAKHTQDSARVNPQDGTNTLTRIAENGVSERDSEAAKQNHVTADDFVQTSVIGSNGYILNKPALQAQPLRTTSTLASSLPGHAAKTLPGGAGKGRTPSAFPQTPAAPPATLGEGSADTEDRKLPAPGADVKVHRARKTMPKSVVGLHAASKDPREVREARDHKEPKEEINKNISDFGRQQLLPPFPSLHQSLPQNQCYMATTKSQTACLPFVLAAAVSRKKKRRMGTYSLVPKKKTKVLKQRTVIEMFKSITHSTVGSKGEKDLGASSLHVNGESLEMDSDEDDSEELEEDDGHGAEQAAAFPTEDSRTSKESMSEADRAQKMDGESEEEQESVDTGEEEEGGDESDLSSESSIKKKFLKRKGKTDSPWIKPARKRRRRSRKKPSGALGSESYKSSAGSAEQTAPGDSTGYMEVSLDSLDLRVKGILSSQAEGLANGPDVLETDGLQEVPLCSCRMETPKSREITTLANNQCMATESVDHELGRCTNSVVKYELMRPSNKAPLLVLCEDHRGRMVKHQCCPGCGYFCTAGNFMECQPESSISHRFHKDCASRVNNASYCPHCGEESSKAKEVTIAKADTTSTVTPVPGQEKGSALEGRADTTTGSAAGPPLSEDDKLQGAASHVPEGFDPTGPAGLGRPTPGLSQGPGKETLESALIALDSEKPKKLRFHPKQLYFSARQGELQKVLLMLVDGIDPNFKMEHQNKRSPLHAAAEAGHVDICHMLVQAGANIDTCSEDQRTPLMEAAENNHLEAVKYLIKAGALVDPKDAEGSTCLHLAAKKGHYEVVQYLLSNGQMDVNCQDDGGWTPMIWATEYKHVDLVKLLLSKGSDINIRDNEENICLHWAAFSGCVDIAEILLAAKCDLHAVNIHGDSPLHIAARENRYDCVVLFLSRDSDVTLKNKEGETPLQCASLNSQVWSALQMSKALQDSAPDRPSPVERIVSRDIARGYERIPIPCVNAVDSEPCPSNYKYVSQNCVTSPMNIDRNITHLQYCVCIDDCSSSNCMCGQLSMRCWYDKDGRLLPEFNMAEPPLIFECNHACSCWRNCRNRVVQNGLRARLQLYRTRDMGWGVRSLQDIPPGTFVCEYVGELISDSEADVREEDSYLFDLDNKDGEVYCIDARFYGNVSRFINHHCEPNLVPVRVFMAHQDLRFPRIAFFSTRLIEAGEQLGFDYGERFWDIKGKLFSCRCGSPKCRHSSAALAQRQASAAQEAQEDGLPDTSSAAAADPL</th>\n",
       "      <th>MAAAEEEPKPKKLKVEAPQALRENILFGMGNPLLDISAVVDKDFLDKYSLKPNDQILAEDKHKELFDELVKKFKVEYHAGGSTQNSIKVAQWMIQQPHKAATFFGCIGIDKFGEILKRKAAEAHVDAHYYEQNEQPTGTCAACITGDNRSLIANLAAANCYKKEKHLDLEKNWMLVEKARVCYIAGFFLTVSPESVLKVAHHASENNRIFTLNLSAPFISQFYKESLMKVMPYVDILFGNETEAATFAREQGFETKDIKEIAKKTQALPKMNSKRQRIVIFTQGRDDTIMATESEVTAFAVLDQDQKEIIDTNGAGDAFVGGFLSQLVSDKPLTECIRAGHYAASIIIRRTGCTFPEKPDFH</th>\n",
       "      <th>MAAAETQSLREQPEMEDANSEKSINEENGEVSEDQSQNKHSRHKKKKHKHRSKHKKHKHSSEEDKDKKHKHKHKHKKHKRKEIIDASDKEGMSPAKRTKLDDLALLEDLEKQRALIKAELDNELMEGKVQSGMGLILQGYESGSEEEGEIHEKARNGNRSSTRSSSTKGKLELVDNKITTKKRSKSRSKERTRHRSDKKKSKGGIEIVKEKTTRSKSKERKKSKSPSKRSKSQDQARKSKSPTLRRRSQEKIGKARSPTDDKVKIEDKSKSKDRKKSPIINESRSRDRGKKSRSPVDLRGKSKDRRSRSKERKSKRSETDKEKKPIKSPSKDASSGKENRSPSRRPGRSPKRRSLSPKPRDKSRRSRSPLLNDRRSKQSKSPSRTLSPGRRAKSRSLERKRREPERRRLSSPRTRPRDDILSRRERSKDASPINRWSPTRRRSRSPIRRRSRSPLRRSRSPRRRSRSPRRRDRGRRSRSRLRRRSRSRGGRRRRSRSKVKEDKFKGSLSEGMKVEQESSSDDNLEDFDVEEEDEEALIEQRRIQRQAIVQKYKYLAEDSNMSVPSEPSSPQSSTRTRSPSPDDILERVAADVKEYERENVDTFEASVKAKHNLMTVEQNNGSSQKKLLAPDMFTESDDMFAAYFDSARLRAAGIGKDFKENPNLRDNWTDAEGYYRVNIGEVLDKRYNVYGYTGQGVFSNVVRARDNARANQEVAVKIIRNNELMQKTGLKELEFLKKLNDADPDDKFHCLRLFRHFYHKQHLCLVFEPLSMNLREVLKKYGKDVGLHIKAVRSYSQQLFLALKLLKRCNILHADIKPDNILVNESKTILKLCDFGSASHVADNDITPYLVSRFYRAPEIIIGKSYDYGIDMWSVGCTLYELYTGKILFPGKTNNHMLKLAMDLKGKMPNKMIRKGVFKDQHFDQNLNFMYIEVDKVTEREKVTVMSTINPTKDLLADLIGCQRLPEDQRKKVHQLKDLLDQILMLDPAKRISINQALQHAFIQEKI_x</th>\n",
       "      <th>MAAAYLDPNLNHTPNSSTKTHLGTGMERSPGAMERVLKVFHYFESNSEPTTWASIIRHGDATDVRGIIQKIVDSHKVKHVACYGFRLSHLRSEEVHWLHVDMGVSSVREKYELAHPPEEWKYELRIRYLPKGFLNQFTEDKPTLNFFYQQVKSDYMLEIADQVDQEIALKLGCLEIRRSYWEMRGNALEKKSNYEVLEKDVGLKRFFPKSLLDSVKAKTLRKLIQQTFRQFANLNREESILKFFEILSPVYRFDKECFKCALGSSWIISVELAIGPEEGISYLTDKGCNPTHLADFTQVQTIQYSNSEDKDRKGMLQLKIAGAPEPLTVTAPSLTIAENMADLIDGYCRLVNGTSQSFIIRPQKEGERALPSIPKLANSEKQGMRTHAVSVSETDDYAEIIDEEDTYTMPSTRDYEIQRERIELGRCIGEGQFGDVHQGIYMSPENPALAVAIKTCKNCTSDSVREKFLQEALTMRQFDHPHIVKLIGVITENPVWIIMELCTLGELRSFLQVRKYSLDLASLILYAYQLSTALAYLESKRFVHRDIAARNVLVSSNDCVKLGDFGLSRYMEDSTYYKASKGKLPIKWMAPESINFRRFTSASDVWMFGVCMWEILMHGVKPFQGVKNNDVIGRIENGERLPMPPNCPPTLYSLMTKCWAYDPSRRPRFTELKAQLSTILEEEKAQQEERMRMESRRQATVSWDSGGSDEAPPKPSRPGYPSPRSSEGFYPSPQHMVQTNHYQVSGYPGSHGITAMAGSIYPGQASLLDQTDSWNHRPQEIAMWQPNVEDSTVLDLRGIGQVLPTHLMEERLIRQQQEMEEDQRWLEKEERFLKPDVRLSRGSIDREDGSLQGPIGNQHIYQPVGKPDPAAPPKKPPRPGAPGHLGSLASLSSPADSYNEGVKLQPQEISPPPTANLDRSNDKVYENVTGLVKAVIEMSSKIQPAPPEEYVPMVKEVGLALRTLLATVDETIPLLPASTHREIEMAQKLLNSDLGELINKMKLAQQYVMTSLQQEYKKQMLTAAHALAVDAKNLLDVIDQARLKMLGQTRPH_x</th>\n",
       "      <th>...</th>\n",
       "      <th>MTVKTEAAKGTLTYSRMRGMVAILIAFMKQRRMGLNDFIQKIANNSYACKHPEVQSILKISQPQEPELMNANPSPPPSPSQQINLGPSSNPHAKPSDFHFLKVIGKGSFGKVLLARHKAEEVFYAVKVLQKKAILKKKEEKHIMSERNVLLKNVKHPFLVGLHFSFQTADKLYFVLDYINGGELFYHLQRERCFLEPRARFYAAEIASALGYLHSLNIVYRDLKPENILLDSQGHIVLTDFGLCKENIEHNSTTSTFCGTPEYLAPEVLHKQPYDRTVDWWCLGAVLYEMLYGLPPFYSRNTAEMYDNILNKPLQLKPNITNSARHLLEGLLQKDRTKRLGAKDDFMEIKSHVFFSLINWDDLINKKITPPFNPNVSGPNDLRHFDPEFTEEPVPNSIGKSPDSVLVTASVKEAAEAFLGFSYAPPTDSFL</th>\n",
       "      <th>MVDGVMILPVLIMIALPSPSMEDEKPKVNPKLYMCVCEGLSCGNEDHCEGQQCFSSLSINDGFHVYQKGCFQVYEQGKMTCKTPPSPGQAVECCQGDWCNRNITAQLPTKGKSFPGTQNFHLEVGLIILSVVFAVCLLACLLGVALRKFKRRNQERLNPRDVEYGTIEGLITTNVGDSTLADLLDHSCTSGSGSGLPFLVQRTVARQITLLECVGKGRYGEVWRGSWQGENVAVKIFSSRDEKSWFRETELYNTVMLRHENILGFIASDMTSRHSSTQLWLITHYHEMGSLYDYLQLTTLDTVSCLRIVLSIASGLAHLHIEIFGTQGKPAIAHRDLKSKNILVKKNGQCCIADLGLAVMHSQSTNQLDVGNNPRVGTKRYMAPEVLDETIQVDCFDSYKRVDIWAFGLVLWEVARRMVSNGIVEDYKPPFYDVVPNDPSFEDMRKVVCVDQQRPNIPNRWFSDPTLTSLAKLMKECWYQNPSARLTALRIKKTLTKIDNSLDKLKTDC</th>\n",
       "      <th>MVMADGPRHLQRGPVRVGFYDIEGTLGKGNFAVVKLGRHRITKTEVAIKIIDKSQLDAVNLEKIYREVQIMKMLDHPHIIKLYQVMETKSMLYLVTEYAKNGEIFDYLANHGRLNESEARRKFWQILSAVDYCHGRKIVHRDLKAENLLLDNNMNIKIADFGFGNFFKSGELLATWCGSPPYAAPEVFEGQQYEGPQLDIWSMGVVLYVLVCGALPFDGPTLPILRQRVLEGRFRIPYFMSEDCEHLIRRMLVLDPSKRLTIAQIKEHKWMLIEVPVQRPVLYPQEQENEPSIGEFNEQVLRLMHSLGIDQQKTIESLQNKSYNHFAAIYFLLVERLKSHRSSFPVEQRLDGRQRRPSTIAEQTVAKAQTVGLPVTMHSPNMRLLRSALLPQASNVEAFSFPASGCQAEAAFMEEECVDTPKVNGCLLDPVPPVLVRKGCQSLPSNMMETSIDEGLETEGEAEEDPAHAFEAFQSTRSGQRRHTLSEVTNQLVVMPGAGKIFSMNDSPSLDSVDSEYDMGSVQRDLNFLEDNPSLKDIMLANQPSPRMTSPFISLRPTNPAMQALSSQKREVHNRSPVSFREGRRASDTSLTQGIVAFRQHLQNLARTKGILELNKVQLLYEQIGPEADPNLAPAAPQLQDLASSCPQEEVSQQQESVSTLPASVHPQLSPRQSLETQYLQHRLQKPSLLSKAQNTCQLYCKEPPRSLEQQLQEHRLQQKRLFLQKQSQLQAYFNQMQIAESSYPQPSQQLPLPRQETPPPSQQAPPFSLTQPLSPVLEPSSEQMQYSPFLSQYQEMQLQPLPSTSGPRAAPPLPTQLQQQQPPPPPPPPPPRQPGAAPAPLQFSYQTCELPSAASPAPDYPTPCQYPVDGAQQSDLTGPDCPRSPGLQEAPSSYDPLALSELPGLFDCEMLDAVDPQHNGYVLVN</th>\n",
       "      <th>MVQKKPAELQGFHRSFKGQNPFELAFSLDQPDHGDSDFGLQCSARPDMPASQPIDIPDAKKRGKKKKRGRATDSFSGRFEDVYQLQEDVLGEGAHARVQTCINLITSQEYAVKIIEKQPGHIRSRVFREVEMLYQCQGHRNVLELIEFFEEEDRFYLVFEKMRGGSILSHIHKRRHFNELEASVVVQDVASALDFLHNKGIAHRDLKPENILCEHPNQVSPVKICDFDLGSGIKLNGDCSPISTPELLTPCGSAEYMAPEVVEAFSEEASIYDKRCDLWSLGVILYILLSGYPPFVGRCGSDCGWDRGEACPACQNMLFESIQEGKYEFPDKDWAHISCAAKDLISKLLVRDAKQRLSAAQVLQHPWVQGCAPENTLPTPMVLQRNSCAKDLTSFAAEAIAMNRQLAQHDEDLAEEEAAGQGQPVLVRATSRCLQLSPPSQSKLAQRRQRASLSSAPVVLVGDHA</th>\n",
       "      <th>MVSRDQAHLGPKYVGLWDFKSRTDEELSFRAGDVFHVARKEEQWWWATLLDEAGGAVAQGYVPHNYLAERETVESEPWFFGCISRSEAVRRLQAEGNATGAFLIRVSEKPSADYVLSVRDTQAVRHYKIWRRAGGRLHLNEAVSFLSLPELVNYHRAQSLSHGLRLAAPCRKHEPEPLPHWDDWERPREEFTLCRKLGSGYFGEVFEGLWKDRVQVAIKVISRDNLLHQQMLQSEIQAMKKLRHKHILALYAVVSVGDPVYIITELMAKGSLLELLRDSDEKVLPVSELLDIAWQVAEGMCYLESQNYIHRDLAARNILVGENTLCKVGDFGLARLIKEDVYLSHDHNIPYKWTAPEALSRGHYSTKSDVWSFGILLHEMFSRGQVPYPGMSNHEAFLRVDAGYRMPCPLECPPSVHKLMLTCWCRDPEQRPCFKALRERLSSFTSYENPT</th>\n",
       "      <th>MVSSQKLEKPIEMGSSEPLPIADGDRRRKKKRRGRATDSLPGKFEDMYKLTSELLGEGAYAKVQGAVSLQNGKEYAVKIIEKQAGHSRSRVFREVETLYQCQGNKNILELIEFFEDDTRFYLVFEKLQGGSILAHIQKQKHFNEREASRVVRDVAAALDFLHTKDKVSLCHLGWSAMAPSGLTAAPTSLGSSDPPTSASQVAGTTGIAHRDLKPENILCESPEKVSPVKICDFDLGSGMKLNNSCTPITTPELTTPCGSAEYMAPEVVEVFTDQATFYDKRCDLWSLGVVLYIMLSGYPPFVGHCGADCGWDRGEVCRVCQNKLFESIQEGKYEFPDKDWAHISSEAKDLISKLLVRDAKQRLSAAQVLQHPWVQGQAPEKGLPTPQVLQRNSSTMDLTLFAAEAIALNRQLSQHEENELAEEPEALADGLCSMKLSPPCKSRLARRRALAQAGRGEDRSPPTAL</th>\n",
       "      <th>MVSWGRFICLVVVTMATLSLARPSFSLVEDTTLEPEEPPTKYQISQPEVYVAAPGESLEVRCLLKDAAVISWTKDGVHLGPNNRTVLIGEYLQIKGATPRDSGLYACTASRTVDSETWYFMVNVTDAISSGDDEDDTDGAEDFVSENSNNKRAPYWTNTEKMEKRLHAVPAANTVKFRCPAGGNPMPTMRWLKNGKEFKQEHRIGGYKVRNQHWSLIMESVVPSDKGNYTCVVENEYGSINHTYHLDVVERSPHRPILQAGLPANASTVVGGDVEFVCKVYSDAQPHIQWIKHVEKNGSKYGPDGLPYLKVLKAAGVNTTDKEIEVLYIRNVTFEDAGEYTCLAGNSIGISFHSAWLTVLPAPGREKEITASPDYLEIAIYCIGVFLIACMVVTVILCRMKNTTKKPDFSSQPAVHKLTKRIPLRRQVTVSAESSSSMNSNTPLVRITTRLSSTADTPMLAGVSEYELPEDPKWEFPRDKLTLGKPLGEGCFGQVVMAEAVGIDKDKPKEAVTVAVKMLKDDATEKDLSDLVSEMEMMKMIGKHKNIINLLGACTQDGPLYVIVEYASKGNLREYLRARRPPGMEYSYDINRVPEEQMTFKDLVSCTYQLARGMEYLASQKCIHRDLAARNVLVTENNVMKIADFGLARDINNIDYYKKTTNGRLPVKWMAPEALFDRVYTHQSDVWSFGVLMWEIFTLGGSPYPGIPVEELFKLLKEGHRMDKPANCTNELYMMMRDCWHAVPSQRPTFKQLVEDLDRILTLTTNEEYLDLSQPLEQYSPSYPDTRSSCSSGDDSVFSPDPMPYEPCLPQYPHINGSVKT</th>\n",
       "      <th>MVSYWDTGVLLCALLSCLLLTGSSSGSKLKDPELSLKGTQHIMQAGQTLHLQCRGEAAHKWSLPEMVSKESERLSITKSACGRNGKQFCSTLTLNTAQANHTGFYSCKYLAVPTSKKKETESAIYIFISDTGRPFVEMYSEIPEIIHMTEGRELVIPCRVTSPNITVTLKKFPLDTLIPDGKRIIWDSRKGFIISNATYKEIGLLTCEATVNGHLYKTNYLTHRQTNTIIDVQISTPRPVKLLRGHTLVLNCTATTPLNTRVQMTWSYPDEKNKRASVRRRIDQSNSHANIFYSVLTIDKMQNKDKGLYTCRVRSGPSFKSVNTSVHIYDKAFITVKHRKQQVLETVAGKRSYRLSMKVKAFPSPEVVWLKDGLPATEKSARYLTRGYSLIIKDVTEEDAGNYTILLSIKQSNVFKNLTATLIVNVKPQIYEKAVSSFPDPALYPLGSRQILTCTAYGIPQPTIKWFWHPCNHNHSEARCDFCSNNEESFILDADSNMGNRIESITQRMAIIEGKNKMASTLVVADSRISGIYICIASNKVGTVGRNISFYITDVPNGFHVNLEKMPTEGEDLKLSCTVNKFLYRDVTWILLRTVNNRTMHYSISKQKMAITKEHSITLNLTIMNVSLQDSGTYACRARNVYTGEEILQKKEITIRDQEAPYLLRNLSDHTVAISSSTTLDCHANGVPEPQITWFKNNHKIQQEPGIILGPGSSTLFIERVTEEDEGVYHCKATNQKGSVESSAYLTVQGTSDKSNLELITLTCTCVAATLFWLLLTLFIRKMKRSSSEIKTDYLSIIMDPDEVPLDEQCERLPYDASKWEFARERLKLGKSLGRGAFGKVVQASAFGIKKSPTCRTVAVKMLKEGATASEYKALMTELKILTHIGHHLNVVNLLGACTKQGGPLMVIVEYCKYGNLSNYLKSKRDLFFLNKDAALHMEPKKEKMEPGLEQGKKPRLDSVTSSESFASSGFQEDKSLSDVEEEEDSDGFYKEPITMEDLISYSFQVARGMEFLSSRKCIHRDLAARNILLSENNVVKICDFGLARDIYKNPDYVRKGDTRLPLKWMAPESIFDKIYSTKSDVWSYGVLLWEIFSLGGSPYPGVQMDEDFCSRLREGMRMRAPEYSTPEIYQIMLDCWHRDPKERPRFAELVEKLGDLLQANVQQDGKDYIPINAILTGNSGFTYSTPAFSEDFFKESISAPKFNSGSSDDVRYVNAFKFMSLERIKTFEELLPNATSMFDDYQGDSSTLLASPMLKRFTWTDSKPKASLKIDLRVTSKSKESGLSDVSRPSFCHSSCGHVSEGKRRFTYDHAELERKIACCSPPPDYNSVVLYSTPPI</th>\n",
       "      <th>MVVFNGLLKIKICEAVSLKPTAWSLRHAVGPRPQTFLLDPYIALNVDDSRIGQTATKQKTNSPAWHDEFVTDVCNGRKIELAVFHDAPIGYDDFVANCTIQFEELLQNGSRHFEDWIDLEPEGRVYVIIDLSGSSGEAPKDNEERVFRERMRPRKRQGAVRRRVHQVNGHKFMATYLRQPTYCSHCRDFIWGVIGKQGYQCQVCTCVVHKRCHELIITKCAGLKKQETPDQVGSQRFSVNMPHKFGIHNYKVPTFCDHCGSLLWGLLRQGLQCKVCKMNVHRRCETNVAPNCGVDARGIAKVLADLGVTPDKITNSGQRRKKLIAGAESPQPASGSSPSEEDRSKSAPTSPCDQEIKELENNIRKALSFDNRGEEHRAASSPDGQLMSPGENGEVRQGQAKRLGLDEFNFIKVLGKGSFGKVMLAELKGKDEVYAVKVLKKDVILQDDDVDCTMTEKRILALARKHPYLTQLYCCFQTKDRLFFVMEYVNGGDLMFQIQRSRKFDEPRSRFYAAEVTSALMFLHQHGVIYRDLKLDNILLDAEGHCKLADFGMCKEGILNGVTTTTFCGTPDYIAPEILQELEYGPSVDWWALGVLMYEMMAGQPPFEADNEDDLFESILHDDVLYPVWLSKEAVSILKAFMTKNPHKRLGCVASQNGEDAIKQHPFFKEIDWVLLEQKKIKPPFKPRIKTKRDVNNFDQDFTREEPVLTLVDEAIVKQINQEEFKGFSYFGEDLMP</th>\n",
       "      <th>MWSWKCLLFWAVLVTATLCTARPSPTLPEQAQPWGAPVEVESFLVHPGDLLQLRCRLRDDVQSINWLRDGVQLAESNRTRITGEEVEVQDSVPADSGLYACVTSSPSGSDTTYFSVNVSDALPSSEDDDDDDDSSSEEKETDNTKPNRMPVAPYWTSPEKMEKKLHAVPAAKTVKFKCPSSGTPNPTLRWLKNGKEFKPDHRIGGYKVRYATWSIIMDSVVPSDKGNYTCIVENEYGSINHTYQLDVVERSPHRPILQAGLPANKTVALGSNVEFMCKVYSDPQPHIQWLKHIEVNGSKIGPDNLPYVQILKTAGVNTTDKEMEVLHLRNVSFEDAGEYTCLAGNSIGLSHHSAWLTVLEALEERPAVMTSPLYLEIIIYCTGAFLISCMVGSVIVYKMKSGTKKSDFHSQMAVHKLAKSIPLRRQVTVSADSSASMNSGVLLVRPSRLSSSGTPMLAGVSEYELPEDPRWELPRDRLVLGKPLGEGCFGQVVLAEAIGLDKDKPNRVTKVAVKMLKSDATEKDLSDLISEMEMMKMIGKHKNIINLLGACTQDGPLYVIVEYASKGNLREYLQARRPPGLEYCYNPSHNPEEQLSSKDLVSCAYQVARGMEYLASKKCIHRDLAARNVLVTEDNVMKIADFGLARDIHHIDYYKKTTNGRLPVKWMAPEALFDRIYTHQSDVWSFGVLLWEIFTLGGSPYPGVPVEELFKLLKEGHRMDKPSNCTNELYMMMRDCWHAVPSQRPTFKQLVEDLDRIVALTSNQEYLDLSMPLDQYSPSFPDTRSSTCSSGEDSVFSHEPLPEEPCLPRHPAQLANGGLKRR</th>\n",
       "    </tr>\n",
       "    <tr>\n",
       "      <th>Drug</th>\n",
       "      <th></th>\n",
       "      <th></th>\n",
       "      <th></th>\n",
       "      <th></th>\n",
       "      <th></th>\n",
       "      <th></th>\n",
       "      <th></th>\n",
       "      <th></th>\n",
       "      <th></th>\n",
       "      <th></th>\n",
       "      <th></th>\n",
       "      <th></th>\n",
       "      <th></th>\n",
       "      <th></th>\n",
       "      <th></th>\n",
       "      <th></th>\n",
       "      <th></th>\n",
       "      <th></th>\n",
       "      <th></th>\n",
       "      <th></th>\n",
       "      <th></th>\n",
       "    </tr>\n",
       "  </thead>\n",
       "  <tbody>\n",
       "    <tr>\n",
       "      <th>Br[Se]c1ccccc1</th>\n",
       "      <td>0</td>\n",
       "      <td>0</td>\n",
       "      <td>0</td>\n",
       "      <td>0</td>\n",
       "      <td>0</td>\n",
       "      <td>0</td>\n",
       "      <td>0</td>\n",
       "      <td>0</td>\n",
       "      <td>0</td>\n",
       "      <td>0</td>\n",
       "      <td>...</td>\n",
       "      <td>0</td>\n",
       "      <td>0</td>\n",
       "      <td>0</td>\n",
       "      <td>0</td>\n",
       "      <td>0</td>\n",
       "      <td>0</td>\n",
       "      <td>0</td>\n",
       "      <td>0</td>\n",
       "      <td>0</td>\n",
       "      <td>0</td>\n",
       "    </tr>\n",
       "    <tr>\n",
       "      <th>Brc1c[nH]c2nccnc12</th>\n",
       "      <td>0</td>\n",
       "      <td>0</td>\n",
       "      <td>0</td>\n",
       "      <td>0</td>\n",
       "      <td>0</td>\n",
       "      <td>0</td>\n",
       "      <td>0</td>\n",
       "      <td>0</td>\n",
       "      <td>0</td>\n",
       "      <td>0</td>\n",
       "      <td>...</td>\n",
       "      <td>0</td>\n",
       "      <td>0</td>\n",
       "      <td>0</td>\n",
       "      <td>0</td>\n",
       "      <td>0</td>\n",
       "      <td>0</td>\n",
       "      <td>0</td>\n",
       "      <td>0</td>\n",
       "      <td>0</td>\n",
       "      <td>0</td>\n",
       "    </tr>\n",
       "    <tr>\n",
       "      <th>Brc1ccc(C2CC3CCC2N3)cc1</th>\n",
       "      <td>0</td>\n",
       "      <td>0</td>\n",
       "      <td>0</td>\n",
       "      <td>0</td>\n",
       "      <td>0</td>\n",
       "      <td>0</td>\n",
       "      <td>0</td>\n",
       "      <td>0</td>\n",
       "      <td>0</td>\n",
       "      <td>0</td>\n",
       "      <td>...</td>\n",
       "      <td>0</td>\n",
       "      <td>0</td>\n",
       "      <td>0</td>\n",
       "      <td>0</td>\n",
       "      <td>0</td>\n",
       "      <td>0</td>\n",
       "      <td>0</td>\n",
       "      <td>0</td>\n",
       "      <td>0</td>\n",
       "      <td>0</td>\n",
       "    </tr>\n",
       "    <tr>\n",
       "      <th>Brc1ccc(OCc2ccccc2)c(CNCC2CCCO2)c1</th>\n",
       "      <td>0</td>\n",
       "      <td>0</td>\n",
       "      <td>0</td>\n",
       "      <td>0</td>\n",
       "      <td>0</td>\n",
       "      <td>0</td>\n",
       "      <td>0</td>\n",
       "      <td>0</td>\n",
       "      <td>0</td>\n",
       "      <td>0</td>\n",
       "      <td>...</td>\n",
       "      <td>0</td>\n",
       "      <td>0</td>\n",
       "      <td>0</td>\n",
       "      <td>0</td>\n",
       "      <td>0</td>\n",
       "      <td>0</td>\n",
       "      <td>0</td>\n",
       "      <td>0</td>\n",
       "      <td>0</td>\n",
       "      <td>0</td>\n",
       "    </tr>\n",
       "    <tr>\n",
       "      <th>Brc1ccc(OCc2ccccc2)c(CNCc2ccccn2)c1</th>\n",
       "      <td>0</td>\n",
       "      <td>0</td>\n",
       "      <td>0</td>\n",
       "      <td>0</td>\n",
       "      <td>0</td>\n",
       "      <td>0</td>\n",
       "      <td>0</td>\n",
       "      <td>0</td>\n",
       "      <td>0</td>\n",
       "      <td>0</td>\n",
       "      <td>...</td>\n",
       "      <td>0</td>\n",
       "      <td>0</td>\n",
       "      <td>0</td>\n",
       "      <td>0</td>\n",
       "      <td>0</td>\n",
       "      <td>0</td>\n",
       "      <td>0</td>\n",
       "      <td>0</td>\n",
       "      <td>0</td>\n",
       "      <td>0</td>\n",
       "    </tr>\n",
       "    <tr>\n",
       "      <th>...</th>\n",
       "      <td>...</td>\n",
       "      <td>...</td>\n",
       "      <td>...</td>\n",
       "      <td>...</td>\n",
       "      <td>...</td>\n",
       "      <td>...</td>\n",
       "      <td>...</td>\n",
       "      <td>...</td>\n",
       "      <td>...</td>\n",
       "      <td>...</td>\n",
       "      <td>...</td>\n",
       "      <td>...</td>\n",
       "      <td>...</td>\n",
       "      <td>...</td>\n",
       "      <td>...</td>\n",
       "      <td>...</td>\n",
       "      <td>...</td>\n",
       "      <td>...</td>\n",
       "      <td>...</td>\n",
       "      <td>...</td>\n",
       "      <td>...</td>\n",
       "    </tr>\n",
       "    <tr>\n",
       "      <th>c1cnc2[nH]cc(-c3ccnc(NC4CCCCC4)n3)c2c1</th>\n",
       "      <td>0</td>\n",
       "      <td>0</td>\n",
       "      <td>0</td>\n",
       "      <td>0</td>\n",
       "      <td>0</td>\n",
       "      <td>0</td>\n",
       "      <td>0</td>\n",
       "      <td>0</td>\n",
       "      <td>0</td>\n",
       "      <td>0</td>\n",
       "      <td>...</td>\n",
       "      <td>0</td>\n",
       "      <td>0</td>\n",
       "      <td>0</td>\n",
       "      <td>0</td>\n",
       "      <td>0</td>\n",
       "      <td>0</td>\n",
       "      <td>0</td>\n",
       "      <td>0</td>\n",
       "      <td>0</td>\n",
       "      <td>0</td>\n",
       "    </tr>\n",
       "    <tr>\n",
       "      <th>c1cnc2[nH]cc(-c3ccnc(NCC4CCCCC4)n3)c2c1</th>\n",
       "      <td>0</td>\n",
       "      <td>0</td>\n",
       "      <td>0</td>\n",
       "      <td>0</td>\n",
       "      <td>0</td>\n",
       "      <td>0</td>\n",
       "      <td>0</td>\n",
       "      <td>0</td>\n",
       "      <td>0</td>\n",
       "      <td>0</td>\n",
       "      <td>...</td>\n",
       "      <td>0</td>\n",
       "      <td>0</td>\n",
       "      <td>0</td>\n",
       "      <td>0</td>\n",
       "      <td>0</td>\n",
       "      <td>0</td>\n",
       "      <td>0</td>\n",
       "      <td>0</td>\n",
       "      <td>0</td>\n",
       "      <td>0</td>\n",
       "    </tr>\n",
       "    <tr>\n",
       "      <th>c1cnc2nc(-c3ccc4[nH]ncc4c3)c(NC3CCCCC3)n2c1</th>\n",
       "      <td>0</td>\n",
       "      <td>0</td>\n",
       "      <td>0</td>\n",
       "      <td>0</td>\n",
       "      <td>0</td>\n",
       "      <td>0</td>\n",
       "      <td>0</td>\n",
       "      <td>0</td>\n",
       "      <td>0</td>\n",
       "      <td>0</td>\n",
       "      <td>...</td>\n",
       "      <td>0</td>\n",
       "      <td>0</td>\n",
       "      <td>0</td>\n",
       "      <td>0</td>\n",
       "      <td>0</td>\n",
       "      <td>0</td>\n",
       "      <td>0</td>\n",
       "      <td>0</td>\n",
       "      <td>0</td>\n",
       "      <td>0</td>\n",
       "    </tr>\n",
       "    <tr>\n",
       "      <th>c1cnc2nc(-c3ccc4[nH]ncc4c3)cn2c1</th>\n",
       "      <td>0</td>\n",
       "      <td>0</td>\n",
       "      <td>0</td>\n",
       "      <td>0</td>\n",
       "      <td>0</td>\n",
       "      <td>0</td>\n",
       "      <td>0</td>\n",
       "      <td>0</td>\n",
       "      <td>0</td>\n",
       "      <td>0</td>\n",
       "      <td>...</td>\n",
       "      <td>0</td>\n",
       "      <td>0</td>\n",
       "      <td>0</td>\n",
       "      <td>0</td>\n",
       "      <td>0</td>\n",
       "      <td>0</td>\n",
       "      <td>0</td>\n",
       "      <td>0</td>\n",
       "      <td>0</td>\n",
       "      <td>0</td>\n",
       "    </tr>\n",
       "    <tr>\n",
       "      <th>c1nc(-c2ccc3c(c2)OCO3)c2cc[nH]c2n1</th>\n",
       "      <td>0</td>\n",
       "      <td>0</td>\n",
       "      <td>0</td>\n",
       "      <td>0</td>\n",
       "      <td>0</td>\n",
       "      <td>0</td>\n",
       "      <td>0</td>\n",
       "      <td>0</td>\n",
       "      <td>0</td>\n",
       "      <td>0</td>\n",
       "      <td>...</td>\n",
       "      <td>0</td>\n",
       "      <td>0</td>\n",
       "      <td>0</td>\n",
       "      <td>0</td>\n",
       "      <td>0</td>\n",
       "      <td>0</td>\n",
       "      <td>0</td>\n",
       "      <td>0</td>\n",
       "      <td>0</td>\n",
       "      <td>0</td>\n",
       "    </tr>\n",
       "  </tbody>\n",
       "</table>\n",
       "<p>11958 rows × 1696 columns</p>\n",
       "</div>"
      ],
      "text/plain": [
       "Target                                      AMTDLLVSILVMPISIPYTITQTWSFGQLLCDIWLSSDITCCTASILHLCVIALDRYWAITDALEYSKRRTAGHAAAMIAIVWAISICISIPPLFWRQARAHEEISDCLVNTSQISYTIYSTCGAFYIPSLLLIILYGRIYRAARNRILNPPSLYGKRFTTAHLITGSAGSSLCSLNPSLHEGHSHSAGSPLFFNHVKIKLADSVLERKRISAARERKATKTLGIILGAFIICWLPFFVASLVLPICRDSCWIHPALFDFFTWLGYLNSLINPIIYTVFNEEFRQAFQKVV  \\\n",
       "Drug                                                                                                                                                                                                                                                                                                                                              \n",
       "Br[Se]c1ccccc1                                                                               0                                                                                                                                                                                                                                                    \n",
       "Brc1c[nH]c2nccnc12                                                                           0                                                                                                                                                                                                                                                    \n",
       "Brc1ccc(C2CC3CCC2N3)cc1                                                                      0                                                                                                                                                                                                                                                    \n",
       "Brc1ccc(OCc2ccccc2)c(CNCC2CCCO2)c1                                                           0                                                                                                                                                                                                                                                    \n",
       "Brc1ccc(OCc2ccccc2)c(CNCc2ccccn2)c1                                                          0                                                                                                                                                                                                                                                    \n",
       "...                                                                                        ...                                                                                                                                                                                                                                                    \n",
       "c1cnc2[nH]cc(-c3ccnc(NC4CCCCC4)n3)c2c1                                                       0                                                                                                                                                                                                                                                    \n",
       "c1cnc2[nH]cc(-c3ccnc(NCC4CCCCC4)n3)c2c1                                                      0                                                                                                                                                                                                                                                    \n",
       "c1cnc2nc(-c3ccc4[nH]ncc4c3)c(NC3CCCCC3)n2c1                                                  0                                                                                                                                                                                                                                                    \n",
       "c1cnc2nc(-c3ccc4[nH]ncc4c3)cn2c1                                                             0                                                                                                                                                                                                                                                    \n",
       "c1nc(-c2ccc3c(c2)OCO3)c2cc[nH]c2n1                                                           0                                                                                                                                                                                                                                                    \n",
       "\n",
       "Target                                      MAAAAAAGAGPEMVRGQVFDVGPRYTNLSYIGEGAYGMVCSAYDNVNKVRVAIKKISPFEHQTYCQRTLREIKILLRFRHENIIGINDIIRAPTIEQMKDVYIVQDLMETDLYKLLKTQHLSNDHICYFLYQILRGLKYIHSANVLHRDLKPSNLLLNTTCDLKICDFGLARVADPDHDHTGFLTEYVATRWYRAPEIMLNSKGYTKSIDIWSVGCILAEMLSNRPIFPGKHYLDQLNHILGILGSPSQEDLNCIINLKARNYLLSLPHKNKVPWNRLFPNADSKALDLLDKMLTFNPHKRIEVEQALAHPYLEQYYDPSDEPIAEAPFKFDMELDDLPKEKLKELIFEETARFQPGYRS_x  \\\n",
       "Drug                                                                                                                                                                                                                                                                                                                                                                                                                     \n",
       "Br[Se]c1ccccc1                                                                               0                                                                                                                                                                                                                                                                                                                           \n",
       "Brc1c[nH]c2nccnc12                                                                           0                                                                                                                                                                                                                                                                                                                           \n",
       "Brc1ccc(C2CC3CCC2N3)cc1                                                                      0                                                                                                                                                                                                                                                                                                                           \n",
       "Brc1ccc(OCc2ccccc2)c(CNCC2CCCO2)c1                                                           0                                                                                                                                                                                                                                                                                                                           \n",
       "Brc1ccc(OCc2ccccc2)c(CNCc2ccccn2)c1                                                          0                                                                                                                                                                                                                                                                                                                           \n",
       "...                                                                                        ...                                                                                                                                                                                                                                                                                                                           \n",
       "c1cnc2[nH]cc(-c3ccnc(NC4CCCCC4)n3)c2c1                                                       0                                                                                                                                                                                                                                                                                                                           \n",
       "c1cnc2[nH]cc(-c3ccnc(NCC4CCCCC4)n3)c2c1                                                      0                                                                                                                                                                                                                                                                                                                           \n",
       "c1cnc2nc(-c3ccc4[nH]ncc4c3)c(NC3CCCCC3)n2c1                                                  0                                                                                                                                                                                                                                                                                                                           \n",
       "c1cnc2nc(-c3ccc4[nH]ncc4c3)cn2c1                                                             0                                                                                                                                                                                                                                                                                                                           \n",
       "c1nc(-c2ccc3c(c2)OCO3)c2cc[nH]c2n1                                                           0                                                                                                                                                                                                                                                                                                                           \n",
       "\n",
       "Target                                      MAAAAAAGPEMVRGQVFDVGPRYTNLSYIGEGAYGMVCSAYDNLNKVRVAIKKISPFEHQTYCQRTLREIKILLRFRHENIIGINDIIRAPTIEQMKDVYIVQDLMETDLYKLLKTQHLSNDHICYFLYQILRGLKYIHSANVLHRDLKPSNLLLNTTCDLKICDFGLARVADPDHDHTGFLTEYVATRWYRAPEIMLNSKGYTKSIDIWSVGCILAEMLSNRPIFPGKHYLDQLNHILGILGSPSQEDLNCIINLKARNYLLSLPHKNKVPWNRLFPNADSKALDLLDKMLTFNPHKRIEVEQALAHPYLEQYYDPSDEPIAEAPFKFDMELDDLPKEKLKELIFEETARFQPGYRS  \\\n",
       "Drug                                                                                                                                                                                                                                                                                                                                                                                                                 \n",
       "Br[Se]c1ccccc1                                                                               0                                                                                                                                                                                                                                                                                                                       \n",
       "Brc1c[nH]c2nccnc12                                                                           0                                                                                                                                                                                                                                                                                                                       \n",
       "Brc1ccc(C2CC3CCC2N3)cc1                                                                      0                                                                                                                                                                                                                                                                                                                       \n",
       "Brc1ccc(OCc2ccccc2)c(CNCC2CCCO2)c1                                                           0                                                                                                                                                                                                                                                                                                                       \n",
       "Brc1ccc(OCc2ccccc2)c(CNCc2ccccn2)c1                                                          0                                                                                                                                                                                                                                                                                                                       \n",
       "...                                                                                        ...                                                                                                                                                                                                                                                                                                                       \n",
       "c1cnc2[nH]cc(-c3ccnc(NC4CCCCC4)n3)c2c1                                                       0                                                                                                                                                                                                                                                                                                                       \n",
       "c1cnc2[nH]cc(-c3ccnc(NCC4CCCCC4)n3)c2c1                                                      0                                                                                                                                                                                                                                                                                                                       \n",
       "c1cnc2nc(-c3ccc4[nH]ncc4c3)c(NC3CCCCC3)n2c1                                                  0                                                                                                                                                                                                                                                                                                                       \n",
       "c1cnc2nc(-c3ccc4[nH]ncc4c3)cn2c1                                                             0                                                                                                                                                                                                                                                                                                                       \n",
       "c1nc(-c2ccc3c(c2)OCO3)c2cc[nH]c2n1                                                           0                                                                                                                                                                                                                                                                                                                       \n",
       "\n",
       "Target                                      MAAAAAAVGPGAGGAGSAVPGGAGPCATVSVFPGARLLTIGDANGEIQRHAEQQALRLEVRAGPDSAGIALYSHEDVCVFKCSVSRETECSRVGKQSFIITLGCNSVLIQFATPNDFCSFYNILKTCRGHTLERSVFSERTEESSAVQYFQFYGYLSQQQNMMQDYVRTGTYQRAILQNHTDFKDKIVLDVGCGSGILSFFAAQAGARKIYAVEASTMAQHAEVLVKSNNLTDRIVVIPGKVEEVSLPEQVDIIISEPMGYMLFNERMLESYLHAKKYLKPSGNMFPTIGDVHLAPFTDEQLYMEQFTKANFWYQPSFHGVDLSALRGAAVDEYFRQPVVDTFDIRILMAKSVKYTVNFLEAKEGDLHRIEIPFKFHMLHSGLVHGLAFWFDVAFIGSIMTVWLSTAPTEPLTHWYQVRCLFQSPLFAKAGDTLSGTCLLIANKRQSYDISIVAQVDQTGSKSSNLLDLKNPFFRYTGTTPSPPPGSHYTSPSENMWNTGSTYNLSSGMAVAGMPTAYDLSSVIASGSSVGHNNLIPLANTGIVNHTHSRMGSIMSTGIVQGSSGAQGSGGGSTSAHYAVNSQFTMGGPAISMASPMSIPTNTMHYGS  \\\n",
       "Drug                                                                                                                                                                                                                                                                                                                                                                                                                                                                                                                                                                                                                                                                           \n",
       "Br[Se]c1ccccc1                                                                               0                                                                                                                                                                                                                                                                                                                                                                                                                                                                                                                                                                                 \n",
       "Brc1c[nH]c2nccnc12                                                                           0                                                                                                                                                                                                                                                                                                                                                                                                                                                                                                                                                                                 \n",
       "Brc1ccc(C2CC3CCC2N3)cc1                                                                      0                                                                                                                                                                                                                                                                                                                                                                                                                                                                                                                                                                                 \n",
       "Brc1ccc(OCc2ccccc2)c(CNCC2CCCO2)c1                                                           0                                                                                                                                                                                                                                                                                                                                                                                                                                                                                                                                                                                 \n",
       "Brc1ccc(OCc2ccccc2)c(CNCc2ccccn2)c1                                                          0                                                                                                                                                                                                                                                                                                                                                                                                                                                                                                                                                                                 \n",
       "...                                                                                        ...                                                                                                                                                                                                                                                                                                                                                                                                                                                                                                                                                                                 \n",
       "c1cnc2[nH]cc(-c3ccnc(NC4CCCCC4)n3)c2c1                                                       0                                                                                                                                                                                                                                                                                                                                                                                                                                                                                                                                                                                 \n",
       "c1cnc2[nH]cc(-c3ccnc(NCC4CCCCC4)n3)c2c1                                                      0                                                                                                                                                                                                                                                                                                                                                                                                                                                                                                                                                                                 \n",
       "c1cnc2nc(-c3ccc4[nH]ncc4c3)c(NC3CCCCC3)n2c1                                                  0                                                                                                                                                                                                                                                                                                                                                                                                                                                                                                                                                                                 \n",
       "c1cnc2nc(-c3ccc4[nH]ncc4c3)cn2c1                                                             0                                                                                                                                                                                                                                                                                                                                                                                                                                                                                                                                                                                 \n",
       "c1nc(-c2ccc3c(c2)OCO3)c2cc[nH]c2n1                                                           0                                                                                                                                                                                                                                                                                                                                                                                                                                                                                                                                                                                 \n",
       "\n",
       "Target                                      MAAAAAQGGGGGEPRRTEGVGPGVPGEVEMVKGQPFDVGPRYTQLQYIGEGAYGMVSSAYDHVRKTRVAIKKISPFEHQTYCQRTLREIQILLRFRHENVIGIRDILRASTLEAMRDVYIVQDLMETDLYKLLKSQQLSNDHICYFLYQILRGLKYIHSANVLHRDLKPSNLLINTTCDLKICDFGLARIADPEHDHTGFLTEYVATRWYRAPEIMLNSKGYTKSIDIWSVGCILAEMLSNRPIFPGKHYLDQLNHILGILGSPSQEDLNCIINMKARNYLQSLPSKTKVAWAKLFPKSDSKALDLLDRMLTFNPNKRITVEEALAHPYLEQYYDPTDEPVAEEPFTFAMELDDLPKERLKELIFQETARFQPGVLEAP_x  \\\n",
       "Drug                                                                                                                                                                                                                                                                                                                                                                                                                                        \n",
       "Br[Se]c1ccccc1                                                                               0                                                                                                                                                                                                                                                                                                                                              \n",
       "Brc1c[nH]c2nccnc12                                                                           0                                                                                                                                                                                                                                                                                                                                              \n",
       "Brc1ccc(C2CC3CCC2N3)cc1                                                                      0                                                                                                                                                                                                                                                                                                                                              \n",
       "Brc1ccc(OCc2ccccc2)c(CNCC2CCCO2)c1                                                           0                                                                                                                                                                                                                                                                                                                                              \n",
       "Brc1ccc(OCc2ccccc2)c(CNCc2ccccn2)c1                                                          0                                                                                                                                                                                                                                                                                                                                              \n",
       "...                                                                                        ...                                                                                                                                                                                                                                                                                                                                              \n",
       "c1cnc2[nH]cc(-c3ccnc(NC4CCCCC4)n3)c2c1                                                       0                                                                                                                                                                                                                                                                                                                                              \n",
       "c1cnc2[nH]cc(-c3ccnc(NCC4CCCCC4)n3)c2c1                                                      0                                                                                                                                                                                                                                                                                                                                              \n",
       "c1cnc2nc(-c3ccc4[nH]ncc4c3)c(NC3CCCCC3)n2c1                                                  0                                                                                                                                                                                                                                                                                                                                              \n",
       "c1cnc2nc(-c3ccc4[nH]ncc4c3)cn2c1                                                             0                                                                                                                                                                                                                                                                                                                                              \n",
       "c1nc(-c2ccc3c(c2)OCO3)c2cc[nH]c2n1                                                           0                                                                                                                                                                                                                                                                                                                                              \n",
       "\n",
       "Target                                      MAAAAGAAAAAAAEGEAPAEMGALLLEKETRGATERVHGSLGDTPRSEETLPKATPDSLEPAGPSSPASVTVTVGDEGADTPVGATPLIGDESENLEGDGDLRGGRILLGHATKSFPSSPSKGGSCPSRAKMSMTGAGKSPPSVQSLAMRLLSMPGAQGAAAAGSEPPPATTSPEGQPKVHRARKTMSKPGNGQPPVPEKRPPEIQHFRMSDDVHSLGKVTSDLAKRRKLNSGGGLSEELGSARRSGEVTLTKGDPGSLEEWETVVGDDFSLYYDSYSVDERVDSDSKSEVEALTEQLSEEEEEEEEEEEEEEEEEEEEEEEEDEESGNQSDRSGSSGRRKAKKKWRKDSPWVKPSRKRRKREPPRAKEPRGVNGVGSSGPSEYMEVPLGSLELPSEGTLSPNHAGVSNDTSSLETERGFEELPLCSCRMEAPKIDRISERAGHKCMATESVDGELSGCNAAILKRETMRPSSRVALMVLCETHRARMVKHHCCPGCGYFCTAGTFLECHPDFRVAHRFHKACVSQLNGMVFCPHCGEDASEAQEVTIPRGDGVTPPAGTAAPAPPPLSQDVPGRADTSQPSARMRGHGEPRRPPCDPLADTIDSSGPSLTLPNGGCLSAVGLPLGPGREALEKALVIQESERRKKLRFHPRQLYLSVKQGELQKVILMLLDNLDPNFQSDQQSKRTPLHAAAQKGSVEICHVLLQAGANINAVDKQQRTPLMEAVVNNHLEVARYMVQRGGCVYSKEEDGSTCLHHAAKIGNLEMVSLLLSTGQVDVNAQDSGGWTPIIWAAEHKHIEVIRMLLTRGADVTLTDNEENICLHWASFTGSAAIAEVLLNARCDLHAVNYHGDTPLHIAARESYHDCVLLFLSRGANPELRNKEGDTAWDLTPERSDVWFALQLNRKLRLGVGNRAIRTEKIICRDVARGYENVPIPCVNGVDGEPCPEDYKYISENCETSTMNIDRNITHLQHCTCVDDCSSSNCLCGQLSIRCWYDKDGRLLQEFNKIEPPLIFECNQACSCWRNCKNRVVQSGIKVRLQLYRTAKMGWGVRALQTIPQGTFICEYVGELISDAEADVREDDSYLFDLDNKDGEVYCIDARYYGNISRFINHLCDPNIIPVRVFMLHQDLRFPRIAFFSSRDIRTGEELGFDYGDRFWDIKSKYFTCQCGSEKCKHSAEAIALEQSRLARLDPHPELLPELGSLPPVNT  \\\n",
       "Drug                                                                                                                                                                                                                                                                                                                                                                                                                                                                                                                                                                                                                                                                                                                                                                                                                                                                                                                                                                                                                                                                                                                                                                                                                                                                                                     \n",
       "Br[Se]c1ccccc1                                                                               0                                                                                                                                                                                                                                                                                                                                                                                                                                                                                                                                                                                                                                                                                                                                                                                                                                                                                                                                                                                                                                                                                                                                                                                                           \n",
       "Brc1c[nH]c2nccnc12                                                                           0                                                                                                                                                                                                                                                                                                                                                                                                                                                                                                                                                                                                                                                                                                                                                                                                                                                                                                                                                                                                                                                                                                                                                                                                           \n",
       "Brc1ccc(C2CC3CCC2N3)cc1                                                                      0                                                                                                                                                                                                                                                                                                                                                                                                                                                                                                                                                                                                                                                                                                                                                                                                                                                                                                                                                                                                                                                                                                                                                                                                           \n",
       "Brc1ccc(OCc2ccccc2)c(CNCC2CCCO2)c1                                                           0                                                                                                                                                                                                                                                                                                                                                                                                                                                                                                                                                                                                                                                                                                                                                                                                                                                                                                                                                                                                                                                                                                                                                                                                           \n",
       "Brc1ccc(OCc2ccccc2)c(CNCc2ccccn2)c1                                                          0                                                                                                                                                                                                                                                                                                                                                                                                                                                                                                                                                                                                                                                                                                                                                                                                                                                                                                                                                                                                                                                                                                                                                                                                           \n",
       "...                                                                                        ...                                                                                                                                                                                                                                                                                                                                                                                                                                                                                                                                                                                                                                                                                                                                                                                                                                                                                                                                                                                                                                                                                                                                                                                                           \n",
       "c1cnc2[nH]cc(-c3ccnc(NC4CCCCC4)n3)c2c1                                                       0                                                                                                                                                                                                                                                                                                                                                                                                                                                                                                                                                                                                                                                                                                                                                                                                                                                                                                                                                                                                                                                                                                                                                                                                           \n",
       "c1cnc2[nH]cc(-c3ccnc(NCC4CCCCC4)n3)c2c1                                                      0                                                                                                                                                                                                                                                                                                                                                                                                                                                                                                                                                                                                                                                                                                                                                                                                                                                                                                                                                                                                                                                                                                                                                                                                           \n",
       "c1cnc2nc(-c3ccc4[nH]ncc4c3)c(NC3CCCCC3)n2c1                                                  0                                                                                                                                                                                                                                                                                                                                                                                                                                                                                                                                                                                                                                                                                                                                                                                                                                                                                                                                                                                                                                                                                                                                                                                                           \n",
       "c1cnc2nc(-c3ccc4[nH]ncc4c3)cn2c1                                                             0                                                                                                                                                                                                                                                                                                                                                                                                                                                                                                                                                                                                                                                                                                                                                                                                                                                                                                                                                                                                                                                                                                                                                                                                           \n",
       "c1nc(-c2ccc3c(c2)OCO3)c2cc[nH]c2n1                                                           0                                                                                                                                                                                                                                                                                                                                                                                                                                                                                                                                                                                                                                                                                                                                                                                                                                                                                                                                                                                                                                                                                                                                                                                                           \n",
       "\n",
       "Target                                      MAAADAEAVPARGEPQQDCCVKTELLGEETPMAADEGSAEKQAGEAHMAADGETNGSCENSDASSHANAAKHTQDSARVNPQDGTNTLTRIAENGVSERDSEAAKQNHVTADDFVQTSVIGSNGYILNKPALQAQPLRTTSTLASSLPGHAAKTLPGGAGKGRTPSAFPQTPAAPPATLGEGSADTEDRKLPAPGADVKVHRARKTMPKSVVGLHAASKDPREVREARDHKEPKEEINKNISDFGRQQLLPPFPSLHQSLPQNQCYMATTKSQTACLPFVLAAAVSRKKKRRMGTYSLVPKKKTKVLKQRTVIEMFKSITHSTVGSKGEKDLGASSLHVNGESLEMDSDEDDSEELEEDDGHGAEQAAAFPTEDSRTSKESMSEADRAQKMDGESEEEQESVDTGEEEEGGDESDLSSESSIKKKFLKRKGKTDSPWIKPARKRRRRSRKKPSGALGSESYKSSAGSAEQTAPGDSTGYMEVSLDSLDLRVKGILSSQAEGLANGPDVLETDGLQEVPLCSCRMETPKSREITTLANNQCMATESVDHELGRCTNSVVKYELMRPSNKAPLLVLCEDHRGRMVKHQCCPGCGYFCTAGNFMECQPESSISHRFHKDCASRVNNASYCPHCGEESSKAKEVTIAKADTTSTVTPVPGQEKGSALEGRADTTTGSAAGPPLSEDDKLQGAASHVPEGFDPTGPAGLGRPTPGLSQGPGKETLESALIALDSEKPKKLRFHPKQLYFSARQGELQKVLLMLVDGIDPNFKMEHQNKRSPLHAAAEAGHVDICHMLVQAGANIDTCSEDQRTPLMEAAENNHLEAVKYLIKAGALVDPKDAEGSTCLHLAAKKGHYEVVQYLLSNGQMDVNCQDDGGWTPMIWATEYKHVDLVKLLLSKGSDINIRDNEENICLHWAAFSGCVDIAEILLAAKCDLHAVNIHGDSPLHIAARENRYDCVVLFLSRDSDVTLKNKEGETPLQCASLNSQVWSALQMSKALQDSAPDRPSPVERIVSRDIARGYERIPIPCVNAVDSEPCPSNYKYVSQNCVTSPMNIDRNITHLQYCVCIDDCSSSNCMCGQLSMRCWYDKDGRLLPEFNMAEPPLIFECNHACSCWRNCRNRVVQNGLRARLQLYRTRDMGWGVRSLQDIPPGTFVCEYVGELISDSEADVREEDSYLFDLDNKDGEVYCIDARFYGNVSRFINHHCEPNLVPVRVFMAHQDLRFPRIAFFSTRLIEAGEQLGFDYGERFWDIKGKLFSCRCGSPKCRHSSAALAQRQASAAQEAQEDGLPDTSSAAAADPL  \\\n",
       "Drug                                                                                                                                                                                                                                                                                                                                                                                                                                                                                                                                                                                                                                                                                                                                                                                                                                                                                                                                                                                                                                                                                                                                                                                                                                                                                                                                                                                             \n",
       "Br[Se]c1ccccc1                                                                               0                                                                                                                                                                                                                                                                                                                                                                                                                                                                                                                                                                                                                                                                                                                                                                                                                                                                                                                                                                                                                                                                                                                                                                                                                                                                                                   \n",
       "Brc1c[nH]c2nccnc12                                                                           0                                                                                                                                                                                                                                                                                                                                                                                                                                                                                                                                                                                                                                                                                                                                                                                                                                                                                                                                                                                                                                                                                                                                                                                                                                                                                                   \n",
       "Brc1ccc(C2CC3CCC2N3)cc1                                                                      0                                                                                                                                                                                                                                                                                                                                                                                                                                                                                                                                                                                                                                                                                                                                                                                                                                                                                                                                                                                                                                                                                                                                                                                                                                                                                                   \n",
       "Brc1ccc(OCc2ccccc2)c(CNCC2CCCO2)c1                                                           0                                                                                                                                                                                                                                                                                                                                                                                                                                                                                                                                                                                                                                                                                                                                                                                                                                                                                                                                                                                                                                                                                                                                                                                                                                                                                                   \n",
       "Brc1ccc(OCc2ccccc2)c(CNCc2ccccn2)c1                                                          0                                                                                                                                                                                                                                                                                                                                                                                                                                                                                                                                                                                                                                                                                                                                                                                                                                                                                                                                                                                                                                                                                                                                                                                                                                                                                                   \n",
       "...                                                                                        ...                                                                                                                                                                                                                                                                                                                                                                                                                                                                                                                                                                                                                                                                                                                                                                                                                                                                                                                                                                                                                                                                                                                                                                                                                                                                                                   \n",
       "c1cnc2[nH]cc(-c3ccnc(NC4CCCCC4)n3)c2c1                                                       0                                                                                                                                                                                                                                                                                                                                                                                                                                                                                                                                                                                                                                                                                                                                                                                                                                                                                                                                                                                                                                                                                                                                                                                                                                                                                                   \n",
       "c1cnc2[nH]cc(-c3ccnc(NCC4CCCCC4)n3)c2c1                                                      0                                                                                                                                                                                                                                                                                                                                                                                                                                                                                                                                                                                                                                                                                                                                                                                                                                                                                                                                                                                                                                                                                                                                                                                                                                                                                                   \n",
       "c1cnc2nc(-c3ccc4[nH]ncc4c3)c(NC3CCCCC3)n2c1                                                  0                                                                                                                                                                                                                                                                                                                                                                                                                                                                                                                                                                                                                                                                                                                                                                                                                                                                                                                                                                                                                                                                                                                                                                                                                                                                                                   \n",
       "c1cnc2nc(-c3ccc4[nH]ncc4c3)cn2c1                                                             0                                                                                                                                                                                                                                                                                                                                                                                                                                                                                                                                                                                                                                                                                                                                                                                                                                                                                                                                                                                                                                                                                                                                                                                                                                                                                                   \n",
       "c1nc(-c2ccc3c(c2)OCO3)c2cc[nH]c2n1                                                           0                                                                                                                                                                                                                                                                                                                                                                                                                                                                                                                                                                                                                                                                                                                                                                                                                                                                                                                                                                                                                                                                                                                                                                                                                                                                                                   \n",
       "\n",
       "Target                                      MAAAEEEPKPKKLKVEAPQALRENILFGMGNPLLDISAVVDKDFLDKYSLKPNDQILAEDKHKELFDELVKKFKVEYHAGGSTQNSIKVAQWMIQQPHKAATFFGCIGIDKFGEILKRKAAEAHVDAHYYEQNEQPTGTCAACITGDNRSLIANLAAANCYKKEKHLDLEKNWMLVEKARVCYIAGFFLTVSPESVLKVAHHASENNRIFTLNLSAPFISQFYKESLMKVMPYVDILFGNETEAATFAREQGFETKDIKEIAKKTQALPKMNSKRQRIVIFTQGRDDTIMATESEVTAFAVLDQDQKEIIDTNGAGDAFVGGFLSQLVSDKPLTECIRAGHYAASIIIRRTGCTFPEKPDFH  \\\n",
       "Drug                                                                                                                                                                                                                                                                                                                                                                                                                     \n",
       "Br[Se]c1ccccc1                                                                               0                                                                                                                                                                                                                                                                                                                           \n",
       "Brc1c[nH]c2nccnc12                                                                           0                                                                                                                                                                                                                                                                                                                           \n",
       "Brc1ccc(C2CC3CCC2N3)cc1                                                                      0                                                                                                                                                                                                                                                                                                                           \n",
       "Brc1ccc(OCc2ccccc2)c(CNCC2CCCO2)c1                                                           0                                                                                                                                                                                                                                                                                                                           \n",
       "Brc1ccc(OCc2ccccc2)c(CNCc2ccccn2)c1                                                          0                                                                                                                                                                                                                                                                                                                           \n",
       "...                                                                                        ...                                                                                                                                                                                                                                                                                                                           \n",
       "c1cnc2[nH]cc(-c3ccnc(NC4CCCCC4)n3)c2c1                                                       0                                                                                                                                                                                                                                                                                                                           \n",
       "c1cnc2[nH]cc(-c3ccnc(NCC4CCCCC4)n3)c2c1                                                      0                                                                                                                                                                                                                                                                                                                           \n",
       "c1cnc2nc(-c3ccc4[nH]ncc4c3)c(NC3CCCCC3)n2c1                                                  0                                                                                                                                                                                                                                                                                                                           \n",
       "c1cnc2nc(-c3ccc4[nH]ncc4c3)cn2c1                                                             0                                                                                                                                                                                                                                                                                                                           \n",
       "c1nc(-c2ccc3c(c2)OCO3)c2cc[nH]c2n1                                                           0                                                                                                                                                                                                                                                                                                                           \n",
       "\n",
       "Target                                      MAAAETQSLREQPEMEDANSEKSINEENGEVSEDQSQNKHSRHKKKKHKHRSKHKKHKHSSEEDKDKKHKHKHKHKKHKRKEIIDASDKEGMSPAKRTKLDDLALLEDLEKQRALIKAELDNELMEGKVQSGMGLILQGYESGSEEEGEIHEKARNGNRSSTRSSSTKGKLELVDNKITTKKRSKSRSKERTRHRSDKKKSKGGIEIVKEKTTRSKSKERKKSKSPSKRSKSQDQARKSKSPTLRRRSQEKIGKARSPTDDKVKIEDKSKSKDRKKSPIINESRSRDRGKKSRSPVDLRGKSKDRRSRSKERKSKRSETDKEKKPIKSPSKDASSGKENRSPSRRPGRSPKRRSLSPKPRDKSRRSRSPLLNDRRSKQSKSPSRTLSPGRRAKSRSLERKRREPERRRLSSPRTRPRDDILSRRERSKDASPINRWSPTRRRSRSPIRRRSRSPLRRSRSPRRRSRSPRRRDRGRRSRSRLRRRSRSRGGRRRRSRSKVKEDKFKGSLSEGMKVEQESSSDDNLEDFDVEEEDEEALIEQRRIQRQAIVQKYKYLAEDSNMSVPSEPSSPQSSTRTRSPSPDDILERVAADVKEYERENVDTFEASVKAKHNLMTVEQNNGSSQKKLLAPDMFTESDDMFAAYFDSARLRAAGIGKDFKENPNLRDNWTDAEGYYRVNIGEVLDKRYNVYGYTGQGVFSNVVRARDNARANQEVAVKIIRNNELMQKTGLKELEFLKKLNDADPDDKFHCLRLFRHFYHKQHLCLVFEPLSMNLREVLKKYGKDVGLHIKAVRSYSQQLFLALKLLKRCNILHADIKPDNILVNESKTILKLCDFGSASHVADNDITPYLVSRFYRAPEIIIGKSYDYGIDMWSVGCTLYELYTGKILFPGKTNNHMLKLAMDLKGKMPNKMIRKGVFKDQHFDQNLNFMYIEVDKVTEREKVTVMSTINPTKDLLADLIGCQRLPEDQRKKVHQLKDLLDQILMLDPAKRISINQALQHAFIQEKI_x  \\\n",
       "Drug                                                                                                                                                                                                                                                                                                                                                                                                                                                                                                                                                                                                                                                                                                                                                                                                                                                                                                                                                                                                                                                                                            \n",
       "Br[Se]c1ccccc1                                                                               0                                                                                                                                                                                                                                                                                                                                                                                                                                                                                                                                                                                                                                                                                                                                                                                                                                                                                                                                                                                                  \n",
       "Brc1c[nH]c2nccnc12                                                                           0                                                                                                                                                                                                                                                                                                                                                                                                                                                                                                                                                                                                                                                                                                                                                                                                                                                                                                                                                                                                  \n",
       "Brc1ccc(C2CC3CCC2N3)cc1                                                                      0                                                                                                                                                                                                                                                                                                                                                                                                                                                                                                                                                                                                                                                                                                                                                                                                                                                                                                                                                                                                  \n",
       "Brc1ccc(OCc2ccccc2)c(CNCC2CCCO2)c1                                                           0                                                                                                                                                                                                                                                                                                                                                                                                                                                                                                                                                                                                                                                                                                                                                                                                                                                                                                                                                                                                  \n",
       "Brc1ccc(OCc2ccccc2)c(CNCc2ccccn2)c1                                                          0                                                                                                                                                                                                                                                                                                                                                                                                                                                                                                                                                                                                                                                                                                                                                                                                                                                                                                                                                                                                  \n",
       "...                                                                                        ...                                                                                                                                                                                                                                                                                                                                                                                                                                                                                                                                                                                                                                                                                                                                                                                                                                                                                                                                                                                                  \n",
       "c1cnc2[nH]cc(-c3ccnc(NC4CCCCC4)n3)c2c1                                                       0                                                                                                                                                                                                                                                                                                                                                                                                                                                                                                                                                                                                                                                                                                                                                                                                                                                                                                                                                                                                  \n",
       "c1cnc2[nH]cc(-c3ccnc(NCC4CCCCC4)n3)c2c1                                                      0                                                                                                                                                                                                                                                                                                                                                                                                                                                                                                                                                                                                                                                                                                                                                                                                                                                                                                                                                                                                  \n",
       "c1cnc2nc(-c3ccc4[nH]ncc4c3)c(NC3CCCCC3)n2c1                                                  0                                                                                                                                                                                                                                                                                                                                                                                                                                                                                                                                                                                                                                                                                                                                                                                                                                                                                                                                                                                                  \n",
       "c1cnc2nc(-c3ccc4[nH]ncc4c3)cn2c1                                                             0                                                                                                                                                                                                                                                                                                                                                                                                                                                                                                                                                                                                                                                                                                                                                                                                                                                                                                                                                                                                  \n",
       "c1nc(-c2ccc3c(c2)OCO3)c2cc[nH]c2n1                                                           0                                                                                                                                                                                                                                                                                                                                                                                                                                                                                                                                                                                                                                                                                                                                                                                                                                                                                                                                                                                                  \n",
       "\n",
       "Target                                      MAAAYLDPNLNHTPNSSTKTHLGTGMERSPGAMERVLKVFHYFESNSEPTTWASIIRHGDATDVRGIIQKIVDSHKVKHVACYGFRLSHLRSEEVHWLHVDMGVSSVREKYELAHPPEEWKYELRIRYLPKGFLNQFTEDKPTLNFFYQQVKSDYMLEIADQVDQEIALKLGCLEIRRSYWEMRGNALEKKSNYEVLEKDVGLKRFFPKSLLDSVKAKTLRKLIQQTFRQFANLNREESILKFFEILSPVYRFDKECFKCALGSSWIISVELAIGPEEGISYLTDKGCNPTHLADFTQVQTIQYSNSEDKDRKGMLQLKIAGAPEPLTVTAPSLTIAENMADLIDGYCRLVNGTSQSFIIRPQKEGERALPSIPKLANSEKQGMRTHAVSVSETDDYAEIIDEEDTYTMPSTRDYEIQRERIELGRCIGEGQFGDVHQGIYMSPENPALAVAIKTCKNCTSDSVREKFLQEALTMRQFDHPHIVKLIGVITENPVWIIMELCTLGELRSFLQVRKYSLDLASLILYAYQLSTALAYLESKRFVHRDIAARNVLVSSNDCVKLGDFGLSRYMEDSTYYKASKGKLPIKWMAPESINFRRFTSASDVWMFGVCMWEILMHGVKPFQGVKNNDVIGRIENGERLPMPPNCPPTLYSLMTKCWAYDPSRRPRFTELKAQLSTILEEEKAQQEERMRMESRRQATVSWDSGGSDEAPPKPSRPGYPSPRSSEGFYPSPQHMVQTNHYQVSGYPGSHGITAMAGSIYPGQASLLDQTDSWNHRPQEIAMWQPNVEDSTVLDLRGIGQVLPTHLMEERLIRQQQEMEEDQRWLEKEERFLKPDVRLSRGSIDREDGSLQGPIGNQHIYQPVGKPDPAAPPKKPPRPGAPGHLGSLASLSSPADSYNEGVKLQPQEISPPPTANLDRSNDKVYENVTGLVKAVIEMSSKIQPAPPEEYVPMVKEVGLALRTLLATVDETIPLLPASTHREIEMAQKLLNSDLGELINKMKLAQQYVMTSLQQEYKKQMLTAAHALAVDAKNLLDVIDQARLKMLGQTRPH_x  \\\n",
       "Drug                                                                                                                                                                                                                                                                                                                                                                                                                                                                                                                                                                                                                                                                                                                                                                                                                                                                                                                                                                                                                                                                                                                                         \n",
       "Br[Se]c1ccccc1                                                                               0                                                                                                                                                                                                                                                                                                                                                                                                                                                                                                                                                                                                                                                                                                                                                                                                                                                                                                                                                                                                                                               \n",
       "Brc1c[nH]c2nccnc12                                                                           0                                                                                                                                                                                                                                                                                                                                                                                                                                                                                                                                                                                                                                                                                                                                                                                                                                                                                                                                                                                                                                               \n",
       "Brc1ccc(C2CC3CCC2N3)cc1                                                                      0                                                                                                                                                                                                                                                                                                                                                                                                                                                                                                                                                                                                                                                                                                                                                                                                                                                                                                                                                                                                                                               \n",
       "Brc1ccc(OCc2ccccc2)c(CNCC2CCCO2)c1                                                           0                                                                                                                                                                                                                                                                                                                                                                                                                                                                                                                                                                                                                                                                                                                                                                                                                                                                                                                                                                                                                                               \n",
       "Brc1ccc(OCc2ccccc2)c(CNCc2ccccn2)c1                                                          0                                                                                                                                                                                                                                                                                                                                                                                                                                                                                                                                                                                                                                                                                                                                                                                                                                                                                                                                                                                                                                               \n",
       "...                                                                                        ...                                                                                                                                                                                                                                                                                                                                                                                                                                                                                                                                                                                                                                                                                                                                                                                                                                                                                                                                                                                                                                               \n",
       "c1cnc2[nH]cc(-c3ccnc(NC4CCCCC4)n3)c2c1                                                       0                                                                                                                                                                                                                                                                                                                                                                                                                                                                                                                                                                                                                                                                                                                                                                                                                                                                                                                                                                                                                                               \n",
       "c1cnc2[nH]cc(-c3ccnc(NCC4CCCCC4)n3)c2c1                                                      0                                                                                                                                                                                                                                                                                                                                                                                                                                                                                                                                                                                                                                                                                                                                                                                                                                                                                                                                                                                                                                               \n",
       "c1cnc2nc(-c3ccc4[nH]ncc4c3)c(NC3CCCCC3)n2c1                                                  0                                                                                                                                                                                                                                                                                                                                                                                                                                                                                                                                                                                                                                                                                                                                                                                                                                                                                                                                                                                                                                               \n",
       "c1cnc2nc(-c3ccc4[nH]ncc4c3)cn2c1                                                             0                                                                                                                                                                                                                                                                                                                                                                                                                                                                                                                                                                                                                                                                                                                                                                                                                                                                                                                                                                                                                                               \n",
       "c1nc(-c2ccc3c(c2)OCO3)c2cc[nH]c2n1                                                           0                                                                                                                                                                                                                                                                                                                                                                                                                                                                                                                                                                                                                                                                                                                                                                                                                                                                                                                                                                                                                                               \n",
       "\n",
       "Target                                       ...  \\\n",
       "Drug                                         ...   \n",
       "Br[Se]c1ccccc1                               ...   \n",
       "Brc1c[nH]c2nccnc12                           ...   \n",
       "Brc1ccc(C2CC3CCC2N3)cc1                      ...   \n",
       "Brc1ccc(OCc2ccccc2)c(CNCC2CCCO2)c1           ...   \n",
       "Brc1ccc(OCc2ccccc2)c(CNCc2ccccn2)c1          ...   \n",
       "...                                          ...   \n",
       "c1cnc2[nH]cc(-c3ccnc(NC4CCCCC4)n3)c2c1       ...   \n",
       "c1cnc2[nH]cc(-c3ccnc(NCC4CCCCC4)n3)c2c1      ...   \n",
       "c1cnc2nc(-c3ccc4[nH]ncc4c3)c(NC3CCCCC3)n2c1  ...   \n",
       "c1cnc2nc(-c3ccc4[nH]ncc4c3)cn2c1             ...   \n",
       "c1nc(-c2ccc3c(c2)OCO3)c2cc[nH]c2n1           ...   \n",
       "\n",
       "Target                                      MTVKTEAAKGTLTYSRMRGMVAILIAFMKQRRMGLNDFIQKIANNSYACKHPEVQSILKISQPQEPELMNANPSPPPSPSQQINLGPSSNPHAKPSDFHFLKVIGKGSFGKVLLARHKAEEVFYAVKVLQKKAILKKKEEKHIMSERNVLLKNVKHPFLVGLHFSFQTADKLYFVLDYINGGELFYHLQRERCFLEPRARFYAAEIASALGYLHSLNIVYRDLKPENILLDSQGHIVLTDFGLCKENIEHNSTTSTFCGTPEYLAPEVLHKQPYDRTVDWWCLGAVLYEMLYGLPPFYSRNTAEMYDNILNKPLQLKPNITNSARHLLEGLLQKDRTKRLGAKDDFMEIKSHVFFSLINWDDLINKKITPPFNPNVSGPNDLRHFDPEFTEEPVPNSIGKSPDSVLVTASVKEAAEAFLGFSYAPPTDSFL  \\\n",
       "Drug                                                                                                                                                                                                                                                                                                                                                                                                                                                                                          \n",
       "Br[Se]c1ccccc1                                                                               0                                                                                                                                                                                                                                                                                                                                                                                                \n",
       "Brc1c[nH]c2nccnc12                                                                           0                                                                                                                                                                                                                                                                                                                                                                                                \n",
       "Brc1ccc(C2CC3CCC2N3)cc1                                                                      0                                                                                                                                                                                                                                                                                                                                                                                                \n",
       "Brc1ccc(OCc2ccccc2)c(CNCC2CCCO2)c1                                                           0                                                                                                                                                                                                                                                                                                                                                                                                \n",
       "Brc1ccc(OCc2ccccc2)c(CNCc2ccccn2)c1                                                          0                                                                                                                                                                                                                                                                                                                                                                                                \n",
       "...                                                                                        ...                                                                                                                                                                                                                                                                                                                                                                                                \n",
       "c1cnc2[nH]cc(-c3ccnc(NC4CCCCC4)n3)c2c1                                                       0                                                                                                                                                                                                                                                                                                                                                                                                \n",
       "c1cnc2[nH]cc(-c3ccnc(NCC4CCCCC4)n3)c2c1                                                      0                                                                                                                                                                                                                                                                                                                                                                                                \n",
       "c1cnc2nc(-c3ccc4[nH]ncc4c3)c(NC3CCCCC3)n2c1                                                  0                                                                                                                                                                                                                                                                                                                                                                                                \n",
       "c1cnc2nc(-c3ccc4[nH]ncc4c3)cn2c1                                                             0                                                                                                                                                                                                                                                                                                                                                                                                \n",
       "c1nc(-c2ccc3c(c2)OCO3)c2cc[nH]c2n1                                                           0                                                                                                                                                                                                                                                                                                                                                                                                \n",
       "\n",
       "Target                                      MVDGVMILPVLIMIALPSPSMEDEKPKVNPKLYMCVCEGLSCGNEDHCEGQQCFSSLSINDGFHVYQKGCFQVYEQGKMTCKTPPSPGQAVECCQGDWCNRNITAQLPTKGKSFPGTQNFHLEVGLIILSVVFAVCLLACLLGVALRKFKRRNQERLNPRDVEYGTIEGLITTNVGDSTLADLLDHSCTSGSGSGLPFLVQRTVARQITLLECVGKGRYGEVWRGSWQGENVAVKIFSSRDEKSWFRETELYNTVMLRHENILGFIASDMTSRHSSTQLWLITHYHEMGSLYDYLQLTTLDTVSCLRIVLSIASGLAHLHIEIFGTQGKPAIAHRDLKSKNILVKKNGQCCIADLGLAVMHSQSTNQLDVGNNPRVGTKRYMAPEVLDETIQVDCFDSYKRVDIWAFGLVLWEVARRMVSNGIVEDYKPPFYDVVPNDPSFEDMRKVVCVDQQRPNIPNRWFSDPTLTSLAKLMKECWYQNPSARLTALRIKKTLTKIDNSLDKLKTDC  \\\n",
       "Drug                                                                                                                                                                                                                                                                                                                                                                                                                                                                                                                                                                        \n",
       "Br[Se]c1ccccc1                                                                               0                                                                                                                                                                                                                                                                                                                                                                                                                                                                              \n",
       "Brc1c[nH]c2nccnc12                                                                           0                                                                                                                                                                                                                                                                                                                                                                                                                                                                              \n",
       "Brc1ccc(C2CC3CCC2N3)cc1                                                                      0                                                                                                                                                                                                                                                                                                                                                                                                                                                                              \n",
       "Brc1ccc(OCc2ccccc2)c(CNCC2CCCO2)c1                                                           0                                                                                                                                                                                                                                                                                                                                                                                                                                                                              \n",
       "Brc1ccc(OCc2ccccc2)c(CNCc2ccccn2)c1                                                          0                                                                                                                                                                                                                                                                                                                                                                                                                                                                              \n",
       "...                                                                                        ...                                                                                                                                                                                                                                                                                                                                                                                                                                                                              \n",
       "c1cnc2[nH]cc(-c3ccnc(NC4CCCCC4)n3)c2c1                                                       0                                                                                                                                                                                                                                                                                                                                                                                                                                                                              \n",
       "c1cnc2[nH]cc(-c3ccnc(NCC4CCCCC4)n3)c2c1                                                      0                                                                                                                                                                                                                                                                                                                                                                                                                                                                              \n",
       "c1cnc2nc(-c3ccc4[nH]ncc4c3)c(NC3CCCCC3)n2c1                                                  0                                                                                                                                                                                                                                                                                                                                                                                                                                                                              \n",
       "c1cnc2nc(-c3ccc4[nH]ncc4c3)cn2c1                                                             0                                                                                                                                                                                                                                                                                                                                                                                                                                                                              \n",
       "c1nc(-c2ccc3c(c2)OCO3)c2cc[nH]c2n1                                                           0                                                                                                                                                                                                                                                                                                                                                                                                                                                                              \n",
       "\n",
       "Target                                      MVMADGPRHLQRGPVRVGFYDIEGTLGKGNFAVVKLGRHRITKTEVAIKIIDKSQLDAVNLEKIYREVQIMKMLDHPHIIKLYQVMETKSMLYLVTEYAKNGEIFDYLANHGRLNESEARRKFWQILSAVDYCHGRKIVHRDLKAENLLLDNNMNIKIADFGFGNFFKSGELLATWCGSPPYAAPEVFEGQQYEGPQLDIWSMGVVLYVLVCGALPFDGPTLPILRQRVLEGRFRIPYFMSEDCEHLIRRMLVLDPSKRLTIAQIKEHKWMLIEVPVQRPVLYPQEQENEPSIGEFNEQVLRLMHSLGIDQQKTIESLQNKSYNHFAAIYFLLVERLKSHRSSFPVEQRLDGRQRRPSTIAEQTVAKAQTVGLPVTMHSPNMRLLRSALLPQASNVEAFSFPASGCQAEAAFMEEECVDTPKVNGCLLDPVPPVLVRKGCQSLPSNMMETSIDEGLETEGEAEEDPAHAFEAFQSTRSGQRRHTLSEVTNQLVVMPGAGKIFSMNDSPSLDSVDSEYDMGSVQRDLNFLEDNPSLKDIMLANQPSPRMTSPFISLRPTNPAMQALSSQKREVHNRSPVSFREGRRASDTSLTQGIVAFRQHLQNLARTKGILELNKVQLLYEQIGPEADPNLAPAAPQLQDLASSCPQEEVSQQQESVSTLPASVHPQLSPRQSLETQYLQHRLQKPSLLSKAQNTCQLYCKEPPRSLEQQLQEHRLQQKRLFLQKQSQLQAYFNQMQIAESSYPQPSQQLPLPRQETPPPSQQAPPFSLTQPLSPVLEPSSEQMQYSPFLSQYQEMQLQPLPSTSGPRAAPPLPTQLQQQQPPPPPPPPPPRQPGAAPAPLQFSYQTCELPSAASPAPDYPTPCQYPVDGAQQSDLTGPDCPRSPGLQEAPSSYDPLALSELPGLFDCEMLDAVDPQHNGYVLVN  \\\n",
       "Drug                                                                                                                                                                                                                                                                                                                                                                                                                                                                                                                                                                                                                                                                                                                                                                                                                                                                                                                                                                                                         \n",
       "Br[Se]c1ccccc1                                                                               0                                                                                                                                                                                                                                                                                                                                                                                                                                                                                                                                                                                                                                                                                                                                                                                                                                                                                                               \n",
       "Brc1c[nH]c2nccnc12                                                                           0                                                                                                                                                                                                                                                                                                                                                                                                                                                                                                                                                                                                                                                                                                                                                                                                                                                                                                               \n",
       "Brc1ccc(C2CC3CCC2N3)cc1                                                                      0                                                                                                                                                                                                                                                                                                                                                                                                                                                                                                                                                                                                                                                                                                                                                                                                                                                                                                               \n",
       "Brc1ccc(OCc2ccccc2)c(CNCC2CCCO2)c1                                                           0                                                                                                                                                                                                                                                                                                                                                                                                                                                                                                                                                                                                                                                                                                                                                                                                                                                                                                               \n",
       "Brc1ccc(OCc2ccccc2)c(CNCc2ccccn2)c1                                                          0                                                                                                                                                                                                                                                                                                                                                                                                                                                                                                                                                                                                                                                                                                                                                                                                                                                                                                               \n",
       "...                                                                                        ...                                                                                                                                                                                                                                                                                                                                                                                                                                                                                                                                                                                                                                                                                                                                                                                                                                                                                                               \n",
       "c1cnc2[nH]cc(-c3ccnc(NC4CCCCC4)n3)c2c1                                                       0                                                                                                                                                                                                                                                                                                                                                                                                                                                                                                                                                                                                                                                                                                                                                                                                                                                                                                               \n",
       "c1cnc2[nH]cc(-c3ccnc(NCC4CCCCC4)n3)c2c1                                                      0                                                                                                                                                                                                                                                                                                                                                                                                                                                                                                                                                                                                                                                                                                                                                                                                                                                                                                               \n",
       "c1cnc2nc(-c3ccc4[nH]ncc4c3)c(NC3CCCCC3)n2c1                                                  0                                                                                                                                                                                                                                                                                                                                                                                                                                                                                                                                                                                                                                                                                                                                                                                                                                                                                                               \n",
       "c1cnc2nc(-c3ccc4[nH]ncc4c3)cn2c1                                                             0                                                                                                                                                                                                                                                                                                                                                                                                                                                                                                                                                                                                                                                                                                                                                                                                                                                                                                               \n",
       "c1nc(-c2ccc3c(c2)OCO3)c2cc[nH]c2n1                                                           0                                                                                                                                                                                                                                                                                                                                                                                                                                                                                                                                                                                                                                                                                                                                                                                                                                                                                                               \n",
       "\n",
       "Target                                      MVQKKPAELQGFHRSFKGQNPFELAFSLDQPDHGDSDFGLQCSARPDMPASQPIDIPDAKKRGKKKKRGRATDSFSGRFEDVYQLQEDVLGEGAHARVQTCINLITSQEYAVKIIEKQPGHIRSRVFREVEMLYQCQGHRNVLELIEFFEEEDRFYLVFEKMRGGSILSHIHKRRHFNELEASVVVQDVASALDFLHNKGIAHRDLKPENILCEHPNQVSPVKICDFDLGSGIKLNGDCSPISTPELLTPCGSAEYMAPEVVEAFSEEASIYDKRCDLWSLGVILYILLSGYPPFVGRCGSDCGWDRGEACPACQNMLFESIQEGKYEFPDKDWAHISCAAKDLISKLLVRDAKQRLSAAQVLQHPWVQGCAPENTLPTPMVLQRNSCAKDLTSFAAEAIAMNRQLAQHDEDLAEEEAAGQGQPVLVRATSRCLQLSPPSQSKLAQRRQRASLSSAPVVLVGDHA  \\\n",
       "Drug                                                                                                                                                                                                                                                                                                                                                                                                                                                                                                                            \n",
       "Br[Se]c1ccccc1                                                                               0                                                                                                                                                                                                                                                                                                                                                                                                                                  \n",
       "Brc1c[nH]c2nccnc12                                                                           0                                                                                                                                                                                                                                                                                                                                                                                                                                  \n",
       "Brc1ccc(C2CC3CCC2N3)cc1                                                                      0                                                                                                                                                                                                                                                                                                                                                                                                                                  \n",
       "Brc1ccc(OCc2ccccc2)c(CNCC2CCCO2)c1                                                           0                                                                                                                                                                                                                                                                                                                                                                                                                                  \n",
       "Brc1ccc(OCc2ccccc2)c(CNCc2ccccn2)c1                                                          0                                                                                                                                                                                                                                                                                                                                                                                                                                  \n",
       "...                                                                                        ...                                                                                                                                                                                                                                                                                                                                                                                                                                  \n",
       "c1cnc2[nH]cc(-c3ccnc(NC4CCCCC4)n3)c2c1                                                       0                                                                                                                                                                                                                                                                                                                                                                                                                                  \n",
       "c1cnc2[nH]cc(-c3ccnc(NCC4CCCCC4)n3)c2c1                                                      0                                                                                                                                                                                                                                                                                                                                                                                                                                  \n",
       "c1cnc2nc(-c3ccc4[nH]ncc4c3)c(NC3CCCCC3)n2c1                                                  0                                                                                                                                                                                                                                                                                                                                                                                                                                  \n",
       "c1cnc2nc(-c3ccc4[nH]ncc4c3)cn2c1                                                             0                                                                                                                                                                                                                                                                                                                                                                                                                                  \n",
       "c1nc(-c2ccc3c(c2)OCO3)c2cc[nH]c2n1                                                           0                                                                                                                                                                                                                                                                                                                                                                                                                                  \n",
       "\n",
       "Target                                      MVSRDQAHLGPKYVGLWDFKSRTDEELSFRAGDVFHVARKEEQWWWATLLDEAGGAVAQGYVPHNYLAERETVESEPWFFGCISRSEAVRRLQAEGNATGAFLIRVSEKPSADYVLSVRDTQAVRHYKIWRRAGGRLHLNEAVSFLSLPELVNYHRAQSLSHGLRLAAPCRKHEPEPLPHWDDWERPREEFTLCRKLGSGYFGEVFEGLWKDRVQVAIKVISRDNLLHQQMLQSEIQAMKKLRHKHILALYAVVSVGDPVYIITELMAKGSLLELLRDSDEKVLPVSELLDIAWQVAEGMCYLESQNYIHRDLAARNILVGENTLCKVGDFGLARLIKEDVYLSHDHNIPYKWTAPEALSRGHYSTKSDVWSFGILLHEMFSRGQVPYPGMSNHEAFLRVDAGYRMPCPLECPPSVHKLMLTCWCRDPEQRPCFKALRERLSSFTSYENPT  \\\n",
       "Drug                                                                                                                                                                                                                                                                                                                                                                                                                                                                                                              \n",
       "Br[Se]c1ccccc1                                                                               0                                                                                                                                                                                                                                                                                                                                                                                                                    \n",
       "Brc1c[nH]c2nccnc12                                                                           0                                                                                                                                                                                                                                                                                                                                                                                                                    \n",
       "Brc1ccc(C2CC3CCC2N3)cc1                                                                      0                                                                                                                                                                                                                                                                                                                                                                                                                    \n",
       "Brc1ccc(OCc2ccccc2)c(CNCC2CCCO2)c1                                                           0                                                                                                                                                                                                                                                                                                                                                                                                                    \n",
       "Brc1ccc(OCc2ccccc2)c(CNCc2ccccn2)c1                                                          0                                                                                                                                                                                                                                                                                                                                                                                                                    \n",
       "...                                                                                        ...                                                                                                                                                                                                                                                                                                                                                                                                                    \n",
       "c1cnc2[nH]cc(-c3ccnc(NC4CCCCC4)n3)c2c1                                                       0                                                                                                                                                                                                                                                                                                                                                                                                                    \n",
       "c1cnc2[nH]cc(-c3ccnc(NCC4CCCCC4)n3)c2c1                                                      0                                                                                                                                                                                                                                                                                                                                                                                                                    \n",
       "c1cnc2nc(-c3ccc4[nH]ncc4c3)c(NC3CCCCC3)n2c1                                                  0                                                                                                                                                                                                                                                                                                                                                                                                                    \n",
       "c1cnc2nc(-c3ccc4[nH]ncc4c3)cn2c1                                                             0                                                                                                                                                                                                                                                                                                                                                                                                                    \n",
       "c1nc(-c2ccc3c(c2)OCO3)c2cc[nH]c2n1                                                           0                                                                                                                                                                                                                                                                                                                                                                                                                    \n",
       "\n",
       "Target                                      MVSSQKLEKPIEMGSSEPLPIADGDRRRKKKRRGRATDSLPGKFEDMYKLTSELLGEGAYAKVQGAVSLQNGKEYAVKIIEKQAGHSRSRVFREVETLYQCQGNKNILELIEFFEDDTRFYLVFEKLQGGSILAHIQKQKHFNEREASRVVRDVAAALDFLHTKDKVSLCHLGWSAMAPSGLTAAPTSLGSSDPPTSASQVAGTTGIAHRDLKPENILCESPEKVSPVKICDFDLGSGMKLNNSCTPITTPELTTPCGSAEYMAPEVVEVFTDQATFYDKRCDLWSLGVVLYIMLSGYPPFVGHCGADCGWDRGEVCRVCQNKLFESIQEGKYEFPDKDWAHISSEAKDLISKLLVRDAKQRLSAAQVLQHPWVQGQAPEKGLPTPQVLQRNSSTMDLTLFAAEAIALNRQLSQHEENELAEEPEALADGLCSMKLSPPCKSRLARRRALAQAGRGEDRSPPTAL  \\\n",
       "Drug                                                                                                                                                                                                                                                                                                                                                                                                                                                                                                                            \n",
       "Br[Se]c1ccccc1                                                                               0                                                                                                                                                                                                                                                                                                                                                                                                                                  \n",
       "Brc1c[nH]c2nccnc12                                                                           0                                                                                                                                                                                                                                                                                                                                                                                                                                  \n",
       "Brc1ccc(C2CC3CCC2N3)cc1                                                                      0                                                                                                                                                                                                                                                                                                                                                                                                                                  \n",
       "Brc1ccc(OCc2ccccc2)c(CNCC2CCCO2)c1                                                           0                                                                                                                                                                                                                                                                                                                                                                                                                                  \n",
       "Brc1ccc(OCc2ccccc2)c(CNCc2ccccn2)c1                                                          0                                                                                                                                                                                                                                                                                                                                                                                                                                  \n",
       "...                                                                                        ...                                                                                                                                                                                                                                                                                                                                                                                                                                  \n",
       "c1cnc2[nH]cc(-c3ccnc(NC4CCCCC4)n3)c2c1                                                       0                                                                                                                                                                                                                                                                                                                                                                                                                                  \n",
       "c1cnc2[nH]cc(-c3ccnc(NCC4CCCCC4)n3)c2c1                                                      0                                                                                                                                                                                                                                                                                                                                                                                                                                  \n",
       "c1cnc2nc(-c3ccc4[nH]ncc4c3)c(NC3CCCCC3)n2c1                                                  0                                                                                                                                                                                                                                                                                                                                                                                                                                  \n",
       "c1cnc2nc(-c3ccc4[nH]ncc4c3)cn2c1                                                             0                                                                                                                                                                                                                                                                                                                                                                                                                                  \n",
       "c1nc(-c2ccc3c(c2)OCO3)c2cc[nH]c2n1                                                           0                                                                                                                                                                                                                                                                                                                                                                                                                                  \n",
       "\n",
       "Target                                      MVSWGRFICLVVVTMATLSLARPSFSLVEDTTLEPEEPPTKYQISQPEVYVAAPGESLEVRCLLKDAAVISWTKDGVHLGPNNRTVLIGEYLQIKGATPRDSGLYACTASRTVDSETWYFMVNVTDAISSGDDEDDTDGAEDFVSENSNNKRAPYWTNTEKMEKRLHAVPAANTVKFRCPAGGNPMPTMRWLKNGKEFKQEHRIGGYKVRNQHWSLIMESVVPSDKGNYTCVVENEYGSINHTYHLDVVERSPHRPILQAGLPANASTVVGGDVEFVCKVYSDAQPHIQWIKHVEKNGSKYGPDGLPYLKVLKAAGVNTTDKEIEVLYIRNVTFEDAGEYTCLAGNSIGISFHSAWLTVLPAPGREKEITASPDYLEIAIYCIGVFLIACMVVTVILCRMKNTTKKPDFSSQPAVHKLTKRIPLRRQVTVSAESSSSMNSNTPLVRITTRLSSTADTPMLAGVSEYELPEDPKWEFPRDKLTLGKPLGEGCFGQVVMAEAVGIDKDKPKEAVTVAVKMLKDDATEKDLSDLVSEMEMMKMIGKHKNIINLLGACTQDGPLYVIVEYASKGNLREYLRARRPPGMEYSYDINRVPEEQMTFKDLVSCTYQLARGMEYLASQKCIHRDLAARNVLVTENNVMKIADFGLARDINNIDYYKKTTNGRLPVKWMAPEALFDRVYTHQSDVWSFGVLMWEIFTLGGSPYPGIPVEELFKLLKEGHRMDKPANCTNELYMMMRDCWHAVPSQRPTFKQLVEDLDRILTLTTNEEYLDLSQPLEQYSPSYPDTRSSCSSGDDSVFSPDPMPYEPCLPQYPHINGSVKT  \\\n",
       "Drug                                                                                                                                                                                                                                                                                                                                                                                                                                                                                                                                                                                                                                                                                                                                                                                                                                                                                                \n",
       "Br[Se]c1ccccc1                                                                               0                                                                                                                                                                                                                                                                                                                                                                                                                                                                                                                                                                                                                                                                                                                                                                                                      \n",
       "Brc1c[nH]c2nccnc12                                                                           0                                                                                                                                                                                                                                                                                                                                                                                                                                                                                                                                                                                                                                                                                                                                                                                                      \n",
       "Brc1ccc(C2CC3CCC2N3)cc1                                                                      0                                                                                                                                                                                                                                                                                                                                                                                                                                                                                                                                                                                                                                                                                                                                                                                                      \n",
       "Brc1ccc(OCc2ccccc2)c(CNCC2CCCO2)c1                                                           0                                                                                                                                                                                                                                                                                                                                                                                                                                                                                                                                                                                                                                                                                                                                                                                                      \n",
       "Brc1ccc(OCc2ccccc2)c(CNCc2ccccn2)c1                                                          0                                                                                                                                                                                                                                                                                                                                                                                                                                                                                                                                                                                                                                                                                                                                                                                                      \n",
       "...                                                                                        ...                                                                                                                                                                                                                                                                                                                                                                                                                                                                                                                                                                                                                                                                                                                                                                                                      \n",
       "c1cnc2[nH]cc(-c3ccnc(NC4CCCCC4)n3)c2c1                                                       0                                                                                                                                                                                                                                                                                                                                                                                                                                                                                                                                                                                                                                                                                                                                                                                                      \n",
       "c1cnc2[nH]cc(-c3ccnc(NCC4CCCCC4)n3)c2c1                                                      0                                                                                                                                                                                                                                                                                                                                                                                                                                                                                                                                                                                                                                                                                                                                                                                                      \n",
       "c1cnc2nc(-c3ccc4[nH]ncc4c3)c(NC3CCCCC3)n2c1                                                  0                                                                                                                                                                                                                                                                                                                                                                                                                                                                                                                                                                                                                                                                                                                                                                                                      \n",
       "c1cnc2nc(-c3ccc4[nH]ncc4c3)cn2c1                                                             0                                                                                                                                                                                                                                                                                                                                                                                                                                                                                                                                                                                                                                                                                                                                                                                                      \n",
       "c1nc(-c2ccc3c(c2)OCO3)c2cc[nH]c2n1                                                           0                                                                                                                                                                                                                                                                                                                                                                                                                                                                                                                                                                                                                                                                                                                                                                                                      \n",
       "\n",
       "Target                                      MVSYWDTGVLLCALLSCLLLTGSSSGSKLKDPELSLKGTQHIMQAGQTLHLQCRGEAAHKWSLPEMVSKESERLSITKSACGRNGKQFCSTLTLNTAQANHTGFYSCKYLAVPTSKKKETESAIYIFISDTGRPFVEMYSEIPEIIHMTEGRELVIPCRVTSPNITVTLKKFPLDTLIPDGKRIIWDSRKGFIISNATYKEIGLLTCEATVNGHLYKTNYLTHRQTNTIIDVQISTPRPVKLLRGHTLVLNCTATTPLNTRVQMTWSYPDEKNKRASVRRRIDQSNSHANIFYSVLTIDKMQNKDKGLYTCRVRSGPSFKSVNTSVHIYDKAFITVKHRKQQVLETVAGKRSYRLSMKVKAFPSPEVVWLKDGLPATEKSARYLTRGYSLIIKDVTEEDAGNYTILLSIKQSNVFKNLTATLIVNVKPQIYEKAVSSFPDPALYPLGSRQILTCTAYGIPQPTIKWFWHPCNHNHSEARCDFCSNNEESFILDADSNMGNRIESITQRMAIIEGKNKMASTLVVADSRISGIYICIASNKVGTVGRNISFYITDVPNGFHVNLEKMPTEGEDLKLSCTVNKFLYRDVTWILLRTVNNRTMHYSISKQKMAITKEHSITLNLTIMNVSLQDSGTYACRARNVYTGEEILQKKEITIRDQEAPYLLRNLSDHTVAISSSTTLDCHANGVPEPQITWFKNNHKIQQEPGIILGPGSSTLFIERVTEEDEGVYHCKATNQKGSVESSAYLTVQGTSDKSNLELITLTCTCVAATLFWLLLTLFIRKMKRSSSEIKTDYLSIIMDPDEVPLDEQCERLPYDASKWEFARERLKLGKSLGRGAFGKVVQASAFGIKKSPTCRTVAVKMLKEGATASEYKALMTELKILTHIGHHLNVVNLLGACTKQGGPLMVIVEYCKYGNLSNYLKSKRDLFFLNKDAALHMEPKKEKMEPGLEQGKKPRLDSVTSSESFASSGFQEDKSLSDVEEEEDSDGFYKEPITMEDLISYSFQVARGMEFLSSRKCIHRDLAARNILLSENNVVKICDFGLARDIYKNPDYVRKGDTRLPLKWMAPESIFDKIYSTKSDVWSYGVLLWEIFSLGGSPYPGVQMDEDFCSRLREGMRMRAPEYSTPEIYQIMLDCWHRDPKERPRFAELVEKLGDLLQANVQQDGKDYIPINAILTGNSGFTYSTPAFSEDFFKESISAPKFNSGSSDDVRYVNAFKFMSLERIKTFEELLPNATSMFDDYQGDSSTLLASPMLKRFTWTDSKPKASLKIDLRVTSKSKESGLSDVSRPSFCHSSCGHVSEGKRRFTYDHAELERKIACCSPPPDYNSVVLYSTPPI  \\\n",
       "Drug                                                                                                                                                                                                                                                                                                                                                                                                                                                                                                                                                                                                                                                                                                                                                                                                                                                                                                                                                                                                                                                                                                                                                                                                                                                                                                                                                                                                                                     \n",
       "Br[Se]c1ccccc1                                                                               0                                                                                                                                                                                                                                                                                                                                                                                                                                                                                                                                                                                                                                                                                                                                                                                                                                                                                                                                                                                                                                                                                                                                                                                                                                                                                                                                           \n",
       "Brc1c[nH]c2nccnc12                                                                           0                                                                                                                                                                                                                                                                                                                                                                                                                                                                                                                                                                                                                                                                                                                                                                                                                                                                                                                                                                                                                                                                                                                                                                                                                                                                                                                                           \n",
       "Brc1ccc(C2CC3CCC2N3)cc1                                                                      0                                                                                                                                                                                                                                                                                                                                                                                                                                                                                                                                                                                                                                                                                                                                                                                                                                                                                                                                                                                                                                                                                                                                                                                                                                                                                                                                           \n",
       "Brc1ccc(OCc2ccccc2)c(CNCC2CCCO2)c1                                                           0                                                                                                                                                                                                                                                                                                                                                                                                                                                                                                                                                                                                                                                                                                                                                                                                                                                                                                                                                                                                                                                                                                                                                                                                                                                                                                                                           \n",
       "Brc1ccc(OCc2ccccc2)c(CNCc2ccccn2)c1                                                          0                                                                                                                                                                                                                                                                                                                                                                                                                                                                                                                                                                                                                                                                                                                                                                                                                                                                                                                                                                                                                                                                                                                                                                                                                                                                                                                                           \n",
       "...                                                                                        ...                                                                                                                                                                                                                                                                                                                                                                                                                                                                                                                                                                                                                                                                                                                                                                                                                                                                                                                                                                                                                                                                                                                                                                                                                                                                                                                                           \n",
       "c1cnc2[nH]cc(-c3ccnc(NC4CCCCC4)n3)c2c1                                                       0                                                                                                                                                                                                                                                                                                                                                                                                                                                                                                                                                                                                                                                                                                                                                                                                                                                                                                                                                                                                                                                                                                                                                                                                                                                                                                                                           \n",
       "c1cnc2[nH]cc(-c3ccnc(NCC4CCCCC4)n3)c2c1                                                      0                                                                                                                                                                                                                                                                                                                                                                                                                                                                                                                                                                                                                                                                                                                                                                                                                                                                                                                                                                                                                                                                                                                                                                                                                                                                                                                                           \n",
       "c1cnc2nc(-c3ccc4[nH]ncc4c3)c(NC3CCCCC3)n2c1                                                  0                                                                                                                                                                                                                                                                                                                                                                                                                                                                                                                                                                                                                                                                                                                                                                                                                                                                                                                                                                                                                                                                                                                                                                                                                                                                                                                                           \n",
       "c1cnc2nc(-c3ccc4[nH]ncc4c3)cn2c1                                                             0                                                                                                                                                                                                                                                                                                                                                                                                                                                                                                                                                                                                                                                                                                                                                                                                                                                                                                                                                                                                                                                                                                                                                                                                                                                                                                                                           \n",
       "c1nc(-c2ccc3c(c2)OCO3)c2cc[nH]c2n1                                                           0                                                                                                                                                                                                                                                                                                                                                                                                                                                                                                                                                                                                                                                                                                                                                                                                                                                                                                                                                                                                                                                                                                                                                                                                                                                                                                                                           \n",
       "\n",
       "Target                                      MVVFNGLLKIKICEAVSLKPTAWSLRHAVGPRPQTFLLDPYIALNVDDSRIGQTATKQKTNSPAWHDEFVTDVCNGRKIELAVFHDAPIGYDDFVANCTIQFEELLQNGSRHFEDWIDLEPEGRVYVIIDLSGSSGEAPKDNEERVFRERMRPRKRQGAVRRRVHQVNGHKFMATYLRQPTYCSHCRDFIWGVIGKQGYQCQVCTCVVHKRCHELIITKCAGLKKQETPDQVGSQRFSVNMPHKFGIHNYKVPTFCDHCGSLLWGLLRQGLQCKVCKMNVHRRCETNVAPNCGVDARGIAKVLADLGVTPDKITNSGQRRKKLIAGAESPQPASGSSPSEEDRSKSAPTSPCDQEIKELENNIRKALSFDNRGEEHRAASSPDGQLMSPGENGEVRQGQAKRLGLDEFNFIKVLGKGSFGKVMLAELKGKDEVYAVKVLKKDVILQDDDVDCTMTEKRILALARKHPYLTQLYCCFQTKDRLFFVMEYVNGGDLMFQIQRSRKFDEPRSRFYAAEVTSALMFLHQHGVIYRDLKLDNILLDAEGHCKLADFGMCKEGILNGVTTTTFCGTPDYIAPEILQELEYGPSVDWWALGVLMYEMMAGQPPFEADNEDDLFESILHDDVLYPVWLSKEAVSILKAFMTKNPHKRLGCVASQNGEDAIKQHPFFKEIDWVLLEQKKIKPPFKPRIKTKRDVNNFDQDFTREEPVLTLVDEAIVKQINQEEFKGFSYFGEDLMP  \\\n",
       "Drug                                                                                                                                                                                                                                                                                                                                                                                                                                                                                                                                                                                                                                                                                                                                                                                                            \n",
       "Br[Se]c1ccccc1                                                                               0                                                                                                                                                                                                                                                                                                                                                                                                                                                                                                                                                                                                                                                                                                                  \n",
       "Brc1c[nH]c2nccnc12                                                                           0                                                                                                                                                                                                                                                                                                                                                                                                                                                                                                                                                                                                                                                                                                                  \n",
       "Brc1ccc(C2CC3CCC2N3)cc1                                                                      0                                                                                                                                                                                                                                                                                                                                                                                                                                                                                                                                                                                                                                                                                                                  \n",
       "Brc1ccc(OCc2ccccc2)c(CNCC2CCCO2)c1                                                           0                                                                                                                                                                                                                                                                                                                                                                                                                                                                                                                                                                                                                                                                                                                  \n",
       "Brc1ccc(OCc2ccccc2)c(CNCc2ccccn2)c1                                                          0                                                                                                                                                                                                                                                                                                                                                                                                                                                                                                                                                                                                                                                                                                                  \n",
       "...                                                                                        ...                                                                                                                                                                                                                                                                                                                                                                                                                                                                                                                                                                                                                                                                                                                  \n",
       "c1cnc2[nH]cc(-c3ccnc(NC4CCCCC4)n3)c2c1                                                       0                                                                                                                                                                                                                                                                                                                                                                                                                                                                                                                                                                                                                                                                                                                  \n",
       "c1cnc2[nH]cc(-c3ccnc(NCC4CCCCC4)n3)c2c1                                                      0                                                                                                                                                                                                                                                                                                                                                                                                                                                                                                                                                                                                                                                                                                                  \n",
       "c1cnc2nc(-c3ccc4[nH]ncc4c3)c(NC3CCCCC3)n2c1                                                  0                                                                                                                                                                                                                                                                                                                                                                                                                                                                                                                                                                                                                                                                                                                  \n",
       "c1cnc2nc(-c3ccc4[nH]ncc4c3)cn2c1                                                             0                                                                                                                                                                                                                                                                                                                                                                                                                                                                                                                                                                                                                                                                                                                  \n",
       "c1nc(-c2ccc3c(c2)OCO3)c2cc[nH]c2n1                                                           0                                                                                                                                                                                                                                                                                                                                                                                                                                                                                                                                                                                                                                                                                                                  \n",
       "\n",
       "Target                                      MWSWKCLLFWAVLVTATLCTARPSPTLPEQAQPWGAPVEVESFLVHPGDLLQLRCRLRDDVQSINWLRDGVQLAESNRTRITGEEVEVQDSVPADSGLYACVTSSPSGSDTTYFSVNVSDALPSSEDDDDDDDSSSEEKETDNTKPNRMPVAPYWTSPEKMEKKLHAVPAAKTVKFKCPSSGTPNPTLRWLKNGKEFKPDHRIGGYKVRYATWSIIMDSVVPSDKGNYTCIVENEYGSINHTYQLDVVERSPHRPILQAGLPANKTVALGSNVEFMCKVYSDPQPHIQWLKHIEVNGSKIGPDNLPYVQILKTAGVNTTDKEMEVLHLRNVSFEDAGEYTCLAGNSIGLSHHSAWLTVLEALEERPAVMTSPLYLEIIIYCTGAFLISCMVGSVIVYKMKSGTKKSDFHSQMAVHKLAKSIPLRRQVTVSADSSASMNSGVLLVRPSRLSSSGTPMLAGVSEYELPEDPRWELPRDRLVLGKPLGEGCFGQVVLAEAIGLDKDKPNRVTKVAVKMLKSDATEKDLSDLISEMEMMKMIGKHKNIINLLGACTQDGPLYVIVEYASKGNLREYLQARRPPGLEYCYNPSHNPEEQLSSKDLVSCAYQVARGMEYLASKKCIHRDLAARNVLVTEDNVMKIADFGLARDIHHIDYYKKTTNGRLPVKWMAPEALFDRIYTHQSDVWSFGVLLWEIFTLGGSPYPGVPVEELFKLLKEGHRMDKPSNCTNELYMMMRDCWHAVPSQRPTFKQLVEDLDRIVALTSNQEYLDLSMPLDQYSPSFPDTRSSTCSSGEDSVFSHEPLPEEPCLPRHPAQLANGGLKRR  \n",
       "Drug                                                                                                                                                                                                                                                                                                                                                                                                                                                                                                                                                                                                                                                                                                                                                                                                                                                                                                \n",
       "Br[Se]c1ccccc1                                                                               0                                                                                                                                                                                                                                                                                                                                                                                                                                                                                                                                                                                                                                                                                                                                                                                                      \n",
       "Brc1c[nH]c2nccnc12                                                                           0                                                                                                                                                                                                                                                                                                                                                                                                                                                                                                                                                                                                                                                                                                                                                                                                      \n",
       "Brc1ccc(C2CC3CCC2N3)cc1                                                                      0                                                                                                                                                                                                                                                                                                                                                                                                                                                                                                                                                                                                                                                                                                                                                                                                      \n",
       "Brc1ccc(OCc2ccccc2)c(CNCC2CCCO2)c1                                                           0                                                                                                                                                                                                                                                                                                                                                                                                                                                                                                                                                                                                                                                                                                                                                                                                      \n",
       "Brc1ccc(OCc2ccccc2)c(CNCc2ccccn2)c1                                                          0                                                                                                                                                                                                                                                                                                                                                                                                                                                                                                                                                                                                                                                                                                                                                                                                      \n",
       "...                                                                                        ...                                                                                                                                                                                                                                                                                                                                                                                                                                                                                                                                                                                                                                                                                                                                                                                                      \n",
       "c1cnc2[nH]cc(-c3ccnc(NC4CCCCC4)n3)c2c1                                                       0                                                                                                                                                                                                                                                                                                                                                                                                                                                                                                                                                                                                                                                                                                                                                                                                      \n",
       "c1cnc2[nH]cc(-c3ccnc(NCC4CCCCC4)n3)c2c1                                                      0                                                                                                                                                                                                                                                                                                                                                                                                                                                                                                                                                                                                                                                                                                                                                                                                      \n",
       "c1cnc2nc(-c3ccc4[nH]ncc4c3)c(NC3CCCCC3)n2c1                                                  0                                                                                                                                                                                                                                                                                                                                                                                                                                                                                                                                                                                                                                                                                                                                                                                                      \n",
       "c1cnc2nc(-c3ccc4[nH]ncc4c3)cn2c1                                                             0                                                                                                                                                                                                                                                                                                                                                                                                                                                                                                                                                                                                                                                                                                                                                                                                      \n",
       "c1nc(-c2ccc3c(c2)OCO3)c2cc[nH]c2n1                                                           0                                                                                                                                                                                                                                                                                                                                                                                                                                                                                                                                                                                                                                                                                                                                                                                                      \n",
       "\n",
       "[11958 rows x 1696 columns]"
      ]
     },
     "execution_count": 9,
     "metadata": {},
     "output_type": "execute_result"
    }
   ],
   "source": [
    "DTI_merged"
   ]
  },
  {
   "cell_type": "markdown",
   "id": "2ea1a2de",
   "metadata": {
    "heading_collapsed": true
   },
   "source": [
    "## ADME Property Prediction"
   ]
  },
  {
   "cell_type": "markdown",
   "id": "41320b76",
   "metadata": {
    "hidden": true
   },
   "source": [
    "https://tdcommons.ai/single_pred_tasks/adme/"
   ]
  },
  {
   "cell_type": "markdown",
   "id": "4ca10093",
   "metadata": {
    "hidden": true
   },
   "source": [
    "### Data Extraction"
   ]
  },
  {
   "cell_type": "code",
   "execution_count": 10,
   "id": "45c273b7",
   "metadata": {
    "hidden": true
   },
   "outputs": [
    {
     "name": "stderr",
     "output_type": "stream",
     "text": [
      "Found local copy...\n",
      "Loading...\n",
      "Done!\n"
     ]
    }
   ],
   "source": [
    "Caco2_Wang = ADME(name = 'Caco2_Wang').get_data()"
   ]
  },
  {
   "cell_type": "code",
   "execution_count": 11,
   "id": "6d28eecf",
   "metadata": {
    "hidden": true
   },
   "outputs": [
    {
     "name": "stderr",
     "output_type": "stream",
     "text": [
      "Found local copy...\n",
      "Loading...\n",
      "Done!\n"
     ]
    }
   ],
   "source": [
    "HIA_Hou = ADME(name = 'HIA_Hou').get_data()"
   ]
  },
  {
   "cell_type": "code",
   "execution_count": 12,
   "id": "4f240c20",
   "metadata": {
    "hidden": true
   },
   "outputs": [
    {
     "name": "stderr",
     "output_type": "stream",
     "text": [
      "Found local copy...\n",
      "Loading...\n",
      "Done!\n"
     ]
    }
   ],
   "source": [
    "Pgp_Broccatelli = ADME(name = 'Pgp_Broccatelli').get_data()"
   ]
  },
  {
   "cell_type": "code",
   "execution_count": 13,
   "id": "0f4fcdfa",
   "metadata": {
    "hidden": true
   },
   "outputs": [
    {
     "name": "stderr",
     "output_type": "stream",
     "text": [
      "Found local copy...\n",
      "Loading...\n",
      "Done!\n"
     ]
    }
   ],
   "source": [
    "Bioavailability_Ma = ADME(name = 'Bioavailability_Ma').get_data()"
   ]
  },
  {
   "cell_type": "code",
   "execution_count": 14,
   "id": "3bfa2102",
   "metadata": {
    "hidden": true
   },
   "outputs": [
    {
     "name": "stderr",
     "output_type": "stream",
     "text": [
      "Found local copy...\n",
      "Loading...\n",
      "Done!\n"
     ]
    }
   ],
   "source": [
    "Lipophilicity_AstraZeneca = ADME(name = 'Lipophilicity_AstraZeneca').get_data()"
   ]
  },
  {
   "cell_type": "code",
   "execution_count": 15,
   "id": "5377251d",
   "metadata": {
    "hidden": true
   },
   "outputs": [
    {
     "name": "stderr",
     "output_type": "stream",
     "text": [
      "Found local copy...\n",
      "Loading...\n",
      "Done!\n"
     ]
    }
   ],
   "source": [
    "Solubility_AqSolDB = ADME(name = 'Solubility_AqSolDB').get_data()"
   ]
  },
  {
   "cell_type": "code",
   "execution_count": 16,
   "id": "0b06ce91",
   "metadata": {
    "hidden": true
   },
   "outputs": [
    {
     "name": "stderr",
     "output_type": "stream",
     "text": [
      "Found local copy...\n",
      "Loading...\n",
      "Done!\n"
     ]
    }
   ],
   "source": [
    "HydrationFreeEnergy_FreeSolv = ADME(name = 'HydrationFreeEnergy_FreeSolv').get_data()"
   ]
  },
  {
   "cell_type": "code",
   "execution_count": 17,
   "id": "bb04d405",
   "metadata": {
    "hidden": true
   },
   "outputs": [
    {
     "name": "stderr",
     "output_type": "stream",
     "text": [
      "Found local copy...\n",
      "Loading...\n",
      "Done!\n"
     ]
    }
   ],
   "source": [
    "BBB_Martins = ADME(name = 'BBB_Martins').get_data()"
   ]
  },
  {
   "cell_type": "code",
   "execution_count": 18,
   "id": "eb6ccb97",
   "metadata": {
    "hidden": true
   },
   "outputs": [
    {
     "name": "stderr",
     "output_type": "stream",
     "text": [
      "Found local copy...\n",
      "Loading...\n",
      "Done!\n"
     ]
    }
   ],
   "source": [
    "PPBR_AZ = ADME(name = 'PPBR_AZ').get_data()"
   ]
  },
  {
   "cell_type": "code",
   "execution_count": 19,
   "id": "c30f188f",
   "metadata": {
    "hidden": true
   },
   "outputs": [
    {
     "name": "stderr",
     "output_type": "stream",
     "text": [
      "Found local copy...\n",
      "Loading...\n",
      "Done!\n"
     ]
    }
   ],
   "source": [
    "VDss_Lombardo = ADME(name = 'VDss_Lombardo').get_data()"
   ]
  },
  {
   "cell_type": "code",
   "execution_count": 20,
   "id": "9cebe9f0",
   "metadata": {
    "hidden": true
   },
   "outputs": [
    {
     "name": "stderr",
     "output_type": "stream",
     "text": [
      "Found local copy...\n",
      "Loading...\n",
      "Done!\n"
     ]
    }
   ],
   "source": [
    "CYP2C19_Veith = ADME(name = 'CYP2C19_Veith').get_data()"
   ]
  },
  {
   "cell_type": "code",
   "execution_count": 21,
   "id": "8397cdb3",
   "metadata": {
    "hidden": true
   },
   "outputs": [
    {
     "name": "stderr",
     "output_type": "stream",
     "text": [
      "Found local copy...\n",
      "Loading...\n",
      "Done!\n"
     ]
    }
   ],
   "source": [
    "CYP2D6_Veith = ADME(name = 'CYP2D6_Veith').get_data()"
   ]
  },
  {
   "cell_type": "code",
   "execution_count": 22,
   "id": "69726dc5",
   "metadata": {
    "hidden": true
   },
   "outputs": [
    {
     "name": "stderr",
     "output_type": "stream",
     "text": [
      "Found local copy...\n",
      "Loading...\n",
      "Done!\n"
     ]
    }
   ],
   "source": [
    "CYP3A4_Veith = ADME(name = 'CYP3A4_Veith').get_data()"
   ]
  },
  {
   "cell_type": "code",
   "execution_count": 23,
   "id": "892e6a12",
   "metadata": {
    "hidden": true
   },
   "outputs": [
    {
     "name": "stderr",
     "output_type": "stream",
     "text": [
      "Found local copy...\n",
      "Loading...\n",
      "Done!\n"
     ]
    }
   ],
   "source": [
    "CYP1A2_Veith= ADME(name = 'CYP1A2_Veith').get_data()"
   ]
  },
  {
   "cell_type": "code",
   "execution_count": 24,
   "id": "023abf9e",
   "metadata": {
    "hidden": true
   },
   "outputs": [
    {
     "name": "stderr",
     "output_type": "stream",
     "text": [
      "Found local copy...\n",
      "Loading...\n",
      "Done!\n"
     ]
    }
   ],
   "source": [
    "CYP2C9_Veith = ADME(name = 'CYP2C9_Veith').get_data()"
   ]
  },
  {
   "cell_type": "code",
   "execution_count": 25,
   "id": "db696f22",
   "metadata": {
    "hidden": true
   },
   "outputs": [
    {
     "name": "stderr",
     "output_type": "stream",
     "text": [
      "Found local copy...\n",
      "Loading...\n",
      "Done!\n"
     ]
    }
   ],
   "source": [
    "CYP2C9_Substrate_CarbonMangels = ADME(name = 'CYP2C9_Substrate_CarbonMangels').get_data()"
   ]
  },
  {
   "cell_type": "code",
   "execution_count": 26,
   "id": "0c49f4cd",
   "metadata": {
    "hidden": true
   },
   "outputs": [
    {
     "name": "stderr",
     "output_type": "stream",
     "text": [
      "Found local copy...\n",
      "Loading...\n",
      "Done!\n"
     ]
    }
   ],
   "source": [
    "CYP2D6_Substrate_CarbonMangels = ADME(name = 'CYP2D6_Substrate_CarbonMangels').get_data()"
   ]
  },
  {
   "cell_type": "code",
   "execution_count": 27,
   "id": "78613314",
   "metadata": {
    "hidden": true
   },
   "outputs": [
    {
     "name": "stderr",
     "output_type": "stream",
     "text": [
      "Found local copy...\n",
      "Loading...\n",
      "Done!\n"
     ]
    }
   ],
   "source": [
    "CYP3A4_Substrate_CarbonMangels = ADME(name = 'CYP3A4_Substrate_CarbonMangels').get_data()"
   ]
  },
  {
   "cell_type": "code",
   "execution_count": 28,
   "id": "b9163235",
   "metadata": {
    "hidden": true
   },
   "outputs": [
    {
     "name": "stderr",
     "output_type": "stream",
     "text": [
      "Found local copy...\n",
      "Loading...\n",
      "Done!\n"
     ]
    }
   ],
   "source": [
    "Half_Life_Obach = ADME(name = 'Half_Life_Obach').get_data()"
   ]
  },
  {
   "cell_type": "code",
   "execution_count": 29,
   "id": "829d0208",
   "metadata": {
    "hidden": true
   },
   "outputs": [
    {
     "name": "stderr",
     "output_type": "stream",
     "text": [
      "Found local copy...\n",
      "Loading...\n",
      "Done!\n"
     ]
    }
   ],
   "source": [
    "Clearance_Hepatocyte_AZ = ADME(name = 'Clearance_Hepatocyte_AZ').get_data()"
   ]
  },
  {
   "cell_type": "markdown",
   "id": "cd228d53",
   "metadata": {
    "hidden": true
   },
   "source": [
    "### Data Cleaning"
   ]
  },
  {
   "cell_type": "code",
   "execution_count": 30,
   "id": "f9063c52",
   "metadata": {
    "hidden": true
   },
   "outputs": [
    {
     "data": {
      "text/html": [
       "<div>\n",
       "<style scoped>\n",
       "    .dataframe tbody tr th:only-of-type {\n",
       "        vertical-align: middle;\n",
       "    }\n",
       "\n",
       "    .dataframe tbody tr th {\n",
       "        vertical-align: top;\n",
       "    }\n",
       "\n",
       "    .dataframe thead th {\n",
       "        text-align: right;\n",
       "    }\n",
       "</style>\n",
       "<table border=\"1\" class=\"dataframe\">\n",
       "  <thead>\n",
       "    <tr style=\"text-align: right;\">\n",
       "      <th></th>\n",
       "      <th>Drug</th>\n",
       "      <th>Caco2_Wang</th>\n",
       "      <th>HIA_Hou</th>\n",
       "      <th>Pgp_Broccatelli</th>\n",
       "      <th>Bioavailability_Ma</th>\n",
       "      <th>Lipophilicity_AstraZeneca</th>\n",
       "      <th>Solubility_AqSolDB</th>\n",
       "      <th>HydrationFreeEnergy_FreeSolv</th>\n",
       "      <th>BBB_Martins</th>\n",
       "      <th>PPBR_AZ</th>\n",
       "      <th>...</th>\n",
       "      <th>CYP2C19_Veith</th>\n",
       "      <th>CYP2D6_Veith</th>\n",
       "      <th>CYP3A4_Veith</th>\n",
       "      <th>CYP1A2_Veith</th>\n",
       "      <th>CYP2C9_Veith</th>\n",
       "      <th>CYP2C9_Substrate_CarbonMangels</th>\n",
       "      <th>CYP2D6_Substrate_CarbonMangels</th>\n",
       "      <th>CYP3A4_Substrate_CarbonMangels</th>\n",
       "      <th>Half_Life_Obach</th>\n",
       "      <th>Clearance_Hepatocyte_AZ</th>\n",
       "    </tr>\n",
       "  </thead>\n",
       "  <tbody>\n",
       "    <tr>\n",
       "      <th>0</th>\n",
       "      <td>Oc1cc(O)c2c(c1)OC(c1ccc(O)c(O)c1)C(O)C2</td>\n",
       "      <td>-6.220000</td>\n",
       "      <td>0.0</td>\n",
       "      <td>0.0</td>\n",
       "      <td>0.0</td>\n",
       "      <td>0.0</td>\n",
       "      <td>0.000</td>\n",
       "      <td>0.0</td>\n",
       "      <td>0.0</td>\n",
       "      <td>0.0</td>\n",
       "      <td>...</td>\n",
       "      <td>0.0</td>\n",
       "      <td>0.0</td>\n",
       "      <td>0.0</td>\n",
       "      <td>0.0</td>\n",
       "      <td>0.0</td>\n",
       "      <td>0.0</td>\n",
       "      <td>0.0</td>\n",
       "      <td>0.0</td>\n",
       "      <td>0.0</td>\n",
       "      <td>0.00</td>\n",
       "    </tr>\n",
       "    <tr>\n",
       "      <th>1</th>\n",
       "      <td>C/C=C\\C#CCC/C=C\\C=C\\C(=O)NCC(C)C</td>\n",
       "      <td>-3.860000</td>\n",
       "      <td>0.0</td>\n",
       "      <td>0.0</td>\n",
       "      <td>0.0</td>\n",
       "      <td>0.0</td>\n",
       "      <td>0.000</td>\n",
       "      <td>0.0</td>\n",
       "      <td>0.0</td>\n",
       "      <td>0.0</td>\n",
       "      <td>...</td>\n",
       "      <td>0.0</td>\n",
       "      <td>0.0</td>\n",
       "      <td>0.0</td>\n",
       "      <td>0.0</td>\n",
       "      <td>0.0</td>\n",
       "      <td>0.0</td>\n",
       "      <td>0.0</td>\n",
       "      <td>0.0</td>\n",
       "      <td>0.0</td>\n",
       "      <td>0.00</td>\n",
       "    </tr>\n",
       "    <tr>\n",
       "      <th>2</th>\n",
       "      <td>COc1ccc2c3c1O[C@H]1[C@@H](O)C=C[C@H]4[C@@H](C2...</td>\n",
       "      <td>-4.090000</td>\n",
       "      <td>0.0</td>\n",
       "      <td>0.0</td>\n",
       "      <td>1.0</td>\n",
       "      <td>0.0</td>\n",
       "      <td>-1.522</td>\n",
       "      <td>0.0</td>\n",
       "      <td>1.0</td>\n",
       "      <td>0.0</td>\n",
       "      <td>...</td>\n",
       "      <td>0.0</td>\n",
       "      <td>0.0</td>\n",
       "      <td>0.0</td>\n",
       "      <td>0.0</td>\n",
       "      <td>0.0</td>\n",
       "      <td>0.0</td>\n",
       "      <td>1.0</td>\n",
       "      <td>1.0</td>\n",
       "      <td>4.0</td>\n",
       "      <td>0.00</td>\n",
       "    </tr>\n",
       "    <tr>\n",
       "      <th>3</th>\n",
       "      <td>CN1CC(=O)NC1=N</td>\n",
       "      <td>-5.935409</td>\n",
       "      <td>0.0</td>\n",
       "      <td>0.0</td>\n",
       "      <td>0.0</td>\n",
       "      <td>0.0</td>\n",
       "      <td>0.000</td>\n",
       "      <td>0.0</td>\n",
       "      <td>0.0</td>\n",
       "      <td>0.0</td>\n",
       "      <td>...</td>\n",
       "      <td>0.0</td>\n",
       "      <td>0.0</td>\n",
       "      <td>0.0</td>\n",
       "      <td>0.0</td>\n",
       "      <td>0.0</td>\n",
       "      <td>0.0</td>\n",
       "      <td>0.0</td>\n",
       "      <td>0.0</td>\n",
       "      <td>0.0</td>\n",
       "      <td>0.00</td>\n",
       "    </tr>\n",
       "    <tr>\n",
       "      <th>4</th>\n",
       "      <td>C#C[C@]1(O)CC[C@H]2[C@@H]3CCC4=Cc5oncc5C[C@]4(...</td>\n",
       "      <td>-4.840000</td>\n",
       "      <td>0.0</td>\n",
       "      <td>0.0</td>\n",
       "      <td>0.0</td>\n",
       "      <td>0.0</td>\n",
       "      <td>0.000</td>\n",
       "      <td>0.0</td>\n",
       "      <td>0.0</td>\n",
       "      <td>0.0</td>\n",
       "      <td>...</td>\n",
       "      <td>0.0</td>\n",
       "      <td>0.0</td>\n",
       "      <td>0.0</td>\n",
       "      <td>0.0</td>\n",
       "      <td>0.0</td>\n",
       "      <td>0.0</td>\n",
       "      <td>0.0</td>\n",
       "      <td>0.0</td>\n",
       "      <td>0.0</td>\n",
       "      <td>0.00</td>\n",
       "    </tr>\n",
       "    <tr>\n",
       "      <th>...</th>\n",
       "      <td>...</td>\n",
       "      <td>...</td>\n",
       "      <td>...</td>\n",
       "      <td>...</td>\n",
       "      <td>...</td>\n",
       "      <td>...</td>\n",
       "      <td>...</td>\n",
       "      <td>...</td>\n",
       "      <td>...</td>\n",
       "      <td>...</td>\n",
       "      <td>...</td>\n",
       "      <td>...</td>\n",
       "      <td>...</td>\n",
       "      <td>...</td>\n",
       "      <td>...</td>\n",
       "      <td>...</td>\n",
       "      <td>...</td>\n",
       "      <td>...</td>\n",
       "      <td>...</td>\n",
       "      <td>...</td>\n",
       "      <td>...</td>\n",
       "    </tr>\n",
       "    <tr>\n",
       "      <th>37387</th>\n",
       "      <td>CC1CCC2C(C)C(=O)OC3OC4(C)CCC1C32OO4</td>\n",
       "      <td>0.000000</td>\n",
       "      <td>0.0</td>\n",
       "      <td>0.0</td>\n",
       "      <td>0.0</td>\n",
       "      <td>0.0</td>\n",
       "      <td>0.000</td>\n",
       "      <td>0.0</td>\n",
       "      <td>0.0</td>\n",
       "      <td>0.0</td>\n",
       "      <td>...</td>\n",
       "      <td>0.0</td>\n",
       "      <td>0.0</td>\n",
       "      <td>0.0</td>\n",
       "      <td>0.0</td>\n",
       "      <td>0.0</td>\n",
       "      <td>0.0</td>\n",
       "      <td>0.0</td>\n",
       "      <td>0.0</td>\n",
       "      <td>0.0</td>\n",
       "      <td>18.20</td>\n",
       "    </tr>\n",
       "    <tr>\n",
       "      <th>37388</th>\n",
       "      <td>Cc1nc2ccccn2c1-c1ccnc(N)n1</td>\n",
       "      <td>0.000000</td>\n",
       "      <td>0.0</td>\n",
       "      <td>0.0</td>\n",
       "      <td>0.0</td>\n",
       "      <td>0.0</td>\n",
       "      <td>0.000</td>\n",
       "      <td>0.0</td>\n",
       "      <td>0.0</td>\n",
       "      <td>0.0</td>\n",
       "      <td>...</td>\n",
       "      <td>0.0</td>\n",
       "      <td>0.0</td>\n",
       "      <td>0.0</td>\n",
       "      <td>0.0</td>\n",
       "      <td>0.0</td>\n",
       "      <td>0.0</td>\n",
       "      <td>0.0</td>\n",
       "      <td>0.0</td>\n",
       "      <td>0.0</td>\n",
       "      <td>21.38</td>\n",
       "    </tr>\n",
       "    <tr>\n",
       "      <th>37389</th>\n",
       "      <td>COc1ccc(-c2ccc3c(N4CCOC[C@@H]4C)nc(N4CCOC[C@@H...</td>\n",
       "      <td>0.000000</td>\n",
       "      <td>0.0</td>\n",
       "      <td>0.0</td>\n",
       "      <td>0.0</td>\n",
       "      <td>0.0</td>\n",
       "      <td>0.000</td>\n",
       "      <td>0.0</td>\n",
       "      <td>0.0</td>\n",
       "      <td>0.0</td>\n",
       "      <td>...</td>\n",
       "      <td>0.0</td>\n",
       "      <td>0.0</td>\n",
       "      <td>0.0</td>\n",
       "      <td>0.0</td>\n",
       "      <td>0.0</td>\n",
       "      <td>0.0</td>\n",
       "      <td>0.0</td>\n",
       "      <td>0.0</td>\n",
       "      <td>0.0</td>\n",
       "      <td>38.02</td>\n",
       "    </tr>\n",
       "    <tr>\n",
       "      <th>37390</th>\n",
       "      <td>CC(C)(C)c1csc(N2CCN(C(=O)[C@@H]3CCCC[C@H]3C(=O...</td>\n",
       "      <td>0.000000</td>\n",
       "      <td>0.0</td>\n",
       "      <td>0.0</td>\n",
       "      <td>0.0</td>\n",
       "      <td>0.0</td>\n",
       "      <td>0.000</td>\n",
       "      <td>0.0</td>\n",
       "      <td>0.0</td>\n",
       "      <td>0.0</td>\n",
       "      <td>...</td>\n",
       "      <td>0.0</td>\n",
       "      <td>0.0</td>\n",
       "      <td>0.0</td>\n",
       "      <td>0.0</td>\n",
       "      <td>0.0</td>\n",
       "      <td>0.0</td>\n",
       "      <td>0.0</td>\n",
       "      <td>0.0</td>\n",
       "      <td>0.0</td>\n",
       "      <td>150.00</td>\n",
       "    </tr>\n",
       "    <tr>\n",
       "      <th>37391</th>\n",
       "      <td>C[C@H]1COCCN1c1nc(N2CCOC[C@@H]2C)c2ccc(-c3ccc4...</td>\n",
       "      <td>0.000000</td>\n",
       "      <td>0.0</td>\n",
       "      <td>0.0</td>\n",
       "      <td>0.0</td>\n",
       "      <td>0.0</td>\n",
       "      <td>0.000</td>\n",
       "      <td>0.0</td>\n",
       "      <td>0.0</td>\n",
       "      <td>0.0</td>\n",
       "      <td>...</td>\n",
       "      <td>0.0</td>\n",
       "      <td>0.0</td>\n",
       "      <td>0.0</td>\n",
       "      <td>0.0</td>\n",
       "      <td>0.0</td>\n",
       "      <td>0.0</td>\n",
       "      <td>0.0</td>\n",
       "      <td>0.0</td>\n",
       "      <td>0.0</td>\n",
       "      <td>150.00</td>\n",
       "    </tr>\n",
       "  </tbody>\n",
       "</table>\n",
       "<p>37392 rows × 21 columns</p>\n",
       "</div>"
      ],
      "text/plain": [
       "                                                    Drug  Caco2_Wang  HIA_Hou  \\\n",
       "0                Oc1cc(O)c2c(c1)OC(c1ccc(O)c(O)c1)C(O)C2   -6.220000      0.0   \n",
       "1                       C/C=C\\C#CCC/C=C\\C=C\\C(=O)NCC(C)C   -3.860000      0.0   \n",
       "2      COc1ccc2c3c1O[C@H]1[C@@H](O)C=C[C@H]4[C@@H](C2...   -4.090000      0.0   \n",
       "3                                         CN1CC(=O)NC1=N   -5.935409      0.0   \n",
       "4      C#C[C@]1(O)CC[C@H]2[C@@H]3CCC4=Cc5oncc5C[C@]4(...   -4.840000      0.0   \n",
       "...                                                  ...         ...      ...   \n",
       "37387                CC1CCC2C(C)C(=O)OC3OC4(C)CCC1C32OO4    0.000000      0.0   \n",
       "37388                         Cc1nc2ccccn2c1-c1ccnc(N)n1    0.000000      0.0   \n",
       "37389  COc1ccc(-c2ccc3c(N4CCOC[C@@H]4C)nc(N4CCOC[C@@H...    0.000000      0.0   \n",
       "37390  CC(C)(C)c1csc(N2CCN(C(=O)[C@@H]3CCCC[C@H]3C(=O...    0.000000      0.0   \n",
       "37391  C[C@H]1COCCN1c1nc(N2CCOC[C@@H]2C)c2ccc(-c3ccc4...    0.000000      0.0   \n",
       "\n",
       "       Pgp_Broccatelli  Bioavailability_Ma  Lipophilicity_AstraZeneca  \\\n",
       "0                  0.0                 0.0                        0.0   \n",
       "1                  0.0                 0.0                        0.0   \n",
       "2                  0.0                 1.0                        0.0   \n",
       "3                  0.0                 0.0                        0.0   \n",
       "4                  0.0                 0.0                        0.0   \n",
       "...                ...                 ...                        ...   \n",
       "37387              0.0                 0.0                        0.0   \n",
       "37388              0.0                 0.0                        0.0   \n",
       "37389              0.0                 0.0                        0.0   \n",
       "37390              0.0                 0.0                        0.0   \n",
       "37391              0.0                 0.0                        0.0   \n",
       "\n",
       "       Solubility_AqSolDB  HydrationFreeEnergy_FreeSolv  BBB_Martins  PPBR_AZ  \\\n",
       "0                   0.000                           0.0          0.0      0.0   \n",
       "1                   0.000                           0.0          0.0      0.0   \n",
       "2                  -1.522                           0.0          1.0      0.0   \n",
       "3                   0.000                           0.0          0.0      0.0   \n",
       "4                   0.000                           0.0          0.0      0.0   \n",
       "...                   ...                           ...          ...      ...   \n",
       "37387               0.000                           0.0          0.0      0.0   \n",
       "37388               0.000                           0.0          0.0      0.0   \n",
       "37389               0.000                           0.0          0.0      0.0   \n",
       "37390               0.000                           0.0          0.0      0.0   \n",
       "37391               0.000                           0.0          0.0      0.0   \n",
       "\n",
       "       ...  CYP2C19_Veith  CYP2D6_Veith  CYP3A4_Veith  CYP1A2_Veith  \\\n",
       "0      ...            0.0           0.0           0.0           0.0   \n",
       "1      ...            0.0           0.0           0.0           0.0   \n",
       "2      ...            0.0           0.0           0.0           0.0   \n",
       "3      ...            0.0           0.0           0.0           0.0   \n",
       "4      ...            0.0           0.0           0.0           0.0   \n",
       "...    ...            ...           ...           ...           ...   \n",
       "37387  ...            0.0           0.0           0.0           0.0   \n",
       "37388  ...            0.0           0.0           0.0           0.0   \n",
       "37389  ...            0.0           0.0           0.0           0.0   \n",
       "37390  ...            0.0           0.0           0.0           0.0   \n",
       "37391  ...            0.0           0.0           0.0           0.0   \n",
       "\n",
       "       CYP2C9_Veith  CYP2C9_Substrate_CarbonMangels  \\\n",
       "0               0.0                             0.0   \n",
       "1               0.0                             0.0   \n",
       "2               0.0                             0.0   \n",
       "3               0.0                             0.0   \n",
       "4               0.0                             0.0   \n",
       "...             ...                             ...   \n",
       "37387           0.0                             0.0   \n",
       "37388           0.0                             0.0   \n",
       "37389           0.0                             0.0   \n",
       "37390           0.0                             0.0   \n",
       "37391           0.0                             0.0   \n",
       "\n",
       "       CYP2D6_Substrate_CarbonMangels  CYP3A4_Substrate_CarbonMangels  \\\n",
       "0                                 0.0                             0.0   \n",
       "1                                 0.0                             0.0   \n",
       "2                                 1.0                             1.0   \n",
       "3                                 0.0                             0.0   \n",
       "4                                 0.0                             0.0   \n",
       "...                               ...                             ...   \n",
       "37387                             0.0                             0.0   \n",
       "37388                             0.0                             0.0   \n",
       "37389                             0.0                             0.0   \n",
       "37390                             0.0                             0.0   \n",
       "37391                             0.0                             0.0   \n",
       "\n",
       "       Half_Life_Obach  Clearance_Hepatocyte_AZ  \n",
       "0                  0.0                     0.00  \n",
       "1                  0.0                     0.00  \n",
       "2                  4.0                     0.00  \n",
       "3                  0.0                     0.00  \n",
       "4                  0.0                     0.00  \n",
       "...                ...                      ...  \n",
       "37387              0.0                    18.20  \n",
       "37388              0.0                    21.38  \n",
       "37389              0.0                    38.02  \n",
       "37390              0.0                   150.00  \n",
       "37391              0.0                   150.00  \n",
       "\n",
       "[37392 rows x 21 columns]"
      ]
     },
     "execution_count": 30,
     "metadata": {},
     "output_type": "execute_result"
    }
   ],
   "source": [
    "ADME_dfs = {'Caco2_Wang':Caco2_Wang,'HIA_Hou':HIA_Hou, 'Pgp_Broccatelli':Pgp_Broccatelli, 'Bioavailability_Ma': Bioavailability_Ma,\n",
    "           'Lipophilicity_AstraZeneca': Lipophilicity_AstraZeneca, 'Solubility_AqSolDB': Solubility_AqSolDB,\n",
    "           'HydrationFreeEnergy_FreeSolv':HydrationFreeEnergy_FreeSolv,'BBB_Martins': BBB_Martins,\n",
    "           'PPBR_AZ': PPBR_AZ, 'VDss_Lombardo': VDss_Lombardo, 'CYP2C19_Veith': CYP2C19_Veith, \n",
    "           'CYP2D6_Veith':CYP2D6_Veith, 'CYP3A4_Veith':CYP3A4_Veith, 'CYP1A2_Veith':CYP1A2_Veith,\n",
    "           'CYP2C9_Veith':CYP2C9_Veith, 'CYP2C9_Substrate_CarbonMangels': CYP2C9_Substrate_CarbonMangels,\n",
    "           'CYP2D6_Substrate_CarbonMangels':CYP2D6_Substrate_CarbonMangels, \n",
    "            'CYP3A4_Substrate_CarbonMangels': CYP3A4_Substrate_CarbonMangels, \n",
    "           'Half_Life_Obach':Half_Life_Obach, 'Clearance_Hepatocyte_AZ': Clearance_Hepatocyte_AZ}\n",
    "\n",
    "\n",
    "# rename Y as the name\n",
    "for df in ADME_dfs.items():\n",
    "    df[1].rename(columns= {\"Y\": df[0]}, inplace = True)\n",
    "    df[1].drop(columns ='Drug_ID', inplace = True, axis = 0)\n",
    "\n",
    "ADME_df_clean = []\n",
    "for i in ADME_dfs:\n",
    "    ADME_df_clean.append(ADME_dfs[i])\n",
    "\n",
    "\n",
    "AMDE_merged = reduce(lambda left, right : pd.merge(left,right, on =['Drug'], \n",
    "                                                 how ='outer'),ADME_df_clean).fillna(0)\n",
    "\n",
    "AMDE_merged"
   ]
  },
  {
   "cell_type": "markdown",
   "id": "4ff1662a",
   "metadata": {
    "heading_collapsed": true
   },
   "source": [
    "## Toxicity Prediction Task"
   ]
  },
  {
   "cell_type": "markdown",
   "id": "6df24c9e",
   "metadata": {
    "hidden": true
   },
   "source": [
    "https://tdcommons.ai/single_pred_tasks/tox/"
   ]
  },
  {
   "cell_type": "markdown",
   "id": "71279d86",
   "metadata": {
    "hidden": true
   },
   "source": [
    "### Data Extraction"
   ]
  },
  {
   "cell_type": "code",
   "execution_count": 31,
   "id": "b88b2444",
   "metadata": {
    "hidden": true
   },
   "outputs": [
    {
     "name": "stderr",
     "output_type": "stream",
     "text": [
      "Found local copy...\n",
      "Loading...\n",
      "Done!\n"
     ]
    }
   ],
   "source": [
    "LD50_Zhu = Tox(name = 'LD50_Zhu').get_data()"
   ]
  },
  {
   "cell_type": "code",
   "execution_count": 32,
   "id": "9841af81",
   "metadata": {
    "hidden": true
   },
   "outputs": [
    {
     "name": "stderr",
     "output_type": "stream",
     "text": [
      "Found local copy...\n",
      "Loading...\n",
      "Done!\n"
     ]
    }
   ],
   "source": [
    "hERG = Tox(name = 'hERG').get_data()"
   ]
  },
  {
   "cell_type": "code",
   "execution_count": 33,
   "id": "10480dff",
   "metadata": {
    "hidden": true
   },
   "outputs": [
    {
     "name": "stderr",
     "output_type": "stream",
     "text": [
      "Found local copy...\n",
      "Loading...\n",
      "Done!\n"
     ]
    }
   ],
   "source": [
    "from tdc.utils import retrieve_label_name_list\n",
    "label_list = retrieve_label_name_list('herg_central')\n",
    "herg_central = Tox(name = 'herg_central', label_name = label_list[0]).get_data()"
   ]
  },
  {
   "cell_type": "code",
   "execution_count": 34,
   "id": "2b39bf57",
   "metadata": {
    "hidden": true
   },
   "outputs": [
    {
     "name": "stderr",
     "output_type": "stream",
     "text": [
      "Found local copy...\n",
      "Loading...\n",
      "Done!\n"
     ]
    }
   ],
   "source": [
    "AMES = Tox(name = 'AMES').get_data()"
   ]
  },
  {
   "cell_type": "code",
   "execution_count": 35,
   "id": "170b4204",
   "metadata": {
    "hidden": true
   },
   "outputs": [
    {
     "name": "stderr",
     "output_type": "stream",
     "text": [
      "Found local copy...\n",
      "Loading...\n",
      "Done!\n"
     ]
    }
   ],
   "source": [
    "DILI = Tox(name = 'DILI').get_data()"
   ]
  },
  {
   "cell_type": "code",
   "execution_count": 36,
   "id": "4198c44f",
   "metadata": {
    "hidden": true
   },
   "outputs": [
    {
     "name": "stderr",
     "output_type": "stream",
     "text": [
      "Found local copy...\n",
      "Loading...\n",
      "Done!\n"
     ]
    }
   ],
   "source": [
    "Skin_Reaction = Tox(name = 'Skin Reaction').get_data()"
   ]
  },
  {
   "cell_type": "code",
   "execution_count": 37,
   "id": "eeeb01bb",
   "metadata": {
    "hidden": true
   },
   "outputs": [
    {
     "name": "stderr",
     "output_type": "stream",
     "text": [
      "Found local copy...\n",
      "Loading...\n",
      "Done!\n"
     ]
    }
   ],
   "source": [
    "Carcinogens_Lagunin = Tox(name = 'Carcinogens_Lagunin').get_data()"
   ]
  },
  {
   "cell_type": "code",
   "execution_count": 38,
   "id": "13227f01",
   "metadata": {
    "hidden": true
   },
   "outputs": [
    {
     "name": "stderr",
     "output_type": "stream",
     "text": [
      "Found local copy...\n",
      "Loading...\n",
      "Done!\n"
     ]
    }
   ],
   "source": [
    "label_list = retrieve_label_name_list('Tox21')\n",
    "Tox21 = Tox(name = 'Tox21', label_name = label_list[0]).get_data()"
   ]
  },
  {
   "cell_type": "code",
   "execution_count": 39,
   "id": "25450f65",
   "metadata": {
    "hidden": true
   },
   "outputs": [
    {
     "name": "stderr",
     "output_type": "stream",
     "text": [
      "Found local copy...\n",
      "Loading...\n",
      "Done!\n"
     ]
    }
   ],
   "source": [
    "label_list = retrieve_label_name_list('Toxcast')\n",
    "ToxCast = Tox(name = 'ToxCast', label_name = label_list[0]).get_data()"
   ]
  },
  {
   "cell_type": "code",
   "execution_count": 40,
   "id": "9083edb5",
   "metadata": {
    "hidden": true
   },
   "outputs": [
    {
     "name": "stderr",
     "output_type": "stream",
     "text": [
      "Found local copy...\n",
      "Loading...\n",
      "Done!\n"
     ]
    }
   ],
   "source": [
    "ClinTox = Tox(name = 'ClinTox').get_data()"
   ]
  },
  {
   "cell_type": "markdown",
   "id": "05d1b664",
   "metadata": {
    "hidden": true
   },
   "source": [
    "### Data Cleaning"
   ]
  },
  {
   "cell_type": "code",
   "execution_count": 41,
   "id": "c997e784",
   "metadata": {
    "hidden": true
   },
   "outputs": [
    {
     "data": {
      "text/html": [
       "<div>\n",
       "<style scoped>\n",
       "    .dataframe tbody tr th:only-of-type {\n",
       "        vertical-align: middle;\n",
       "    }\n",
       "\n",
       "    .dataframe tbody tr th {\n",
       "        vertical-align: top;\n",
       "    }\n",
       "\n",
       "    .dataframe thead th {\n",
       "        text-align: right;\n",
       "    }\n",
       "</style>\n",
       "<table border=\"1\" class=\"dataframe\">\n",
       "  <thead>\n",
       "    <tr style=\"text-align: right;\">\n",
       "      <th></th>\n",
       "      <th>Drug</th>\n",
       "      <th>LD50_Zhu</th>\n",
       "      <th>hERG</th>\n",
       "      <th>herg_central</th>\n",
       "      <th>AMES</th>\n",
       "      <th>DILI</th>\n",
       "      <th>Skin_Reaction</th>\n",
       "      <th>Carcinogens_Lagunin</th>\n",
       "      <th>Tox21</th>\n",
       "      <th>ToxCast</th>\n",
       "      <th>ClinTox</th>\n",
       "    </tr>\n",
       "  </thead>\n",
       "  <tbody>\n",
       "    <tr>\n",
       "      <th>0</th>\n",
       "      <td>[O-][N+](=Nc1ccccc1)c1ccccc1</td>\n",
       "      <td>2.505</td>\n",
       "      <td>0.0</td>\n",
       "      <td>0.0</td>\n",
       "      <td>1.0</td>\n",
       "      <td>0.0</td>\n",
       "      <td>0.0</td>\n",
       "      <td>0.0</td>\n",
       "      <td>0.0</td>\n",
       "      <td>0.0</td>\n",
       "      <td>0.0</td>\n",
       "    </tr>\n",
       "    <tr>\n",
       "      <th>1</th>\n",
       "      <td>BrC(Br)Br</td>\n",
       "      <td>2.343</td>\n",
       "      <td>0.0</td>\n",
       "      <td>0.0</td>\n",
       "      <td>1.0</td>\n",
       "      <td>0.0</td>\n",
       "      <td>0.0</td>\n",
       "      <td>0.0</td>\n",
       "      <td>0.0</td>\n",
       "      <td>0.0</td>\n",
       "      <td>0.0</td>\n",
       "    </tr>\n",
       "    <tr>\n",
       "      <th>2</th>\n",
       "      <td>C=CBr</td>\n",
       "      <td>2.330</td>\n",
       "      <td>0.0</td>\n",
       "      <td>0.0</td>\n",
       "      <td>1.0</td>\n",
       "      <td>0.0</td>\n",
       "      <td>0.0</td>\n",
       "      <td>0.0</td>\n",
       "      <td>0.0</td>\n",
       "      <td>0.0</td>\n",
       "      <td>0.0</td>\n",
       "    </tr>\n",
       "    <tr>\n",
       "      <th>3</th>\n",
       "      <td>Brc1ccc(-c2ccc(Br)c(Br)c2Br)c(Br)c1Br</td>\n",
       "      <td>1.465</td>\n",
       "      <td>0.0</td>\n",
       "      <td>0.0</td>\n",
       "      <td>0.0</td>\n",
       "      <td>0.0</td>\n",
       "      <td>0.0</td>\n",
       "      <td>0.0</td>\n",
       "      <td>0.0</td>\n",
       "      <td>0.0</td>\n",
       "      <td>0.0</td>\n",
       "    </tr>\n",
       "    <tr>\n",
       "      <th>4</th>\n",
       "      <td>S=C=Nc1ccc(Br)cc1</td>\n",
       "      <td>2.729</td>\n",
       "      <td>0.0</td>\n",
       "      <td>0.0</td>\n",
       "      <td>0.0</td>\n",
       "      <td>0.0</td>\n",
       "      <td>0.0</td>\n",
       "      <td>0.0</td>\n",
       "      <td>0.0</td>\n",
       "      <td>0.0</td>\n",
       "      <td>0.0</td>\n",
       "    </tr>\n",
       "    <tr>\n",
       "      <th>...</th>\n",
       "      <td>...</td>\n",
       "      <td>...</td>\n",
       "      <td>...</td>\n",
       "      <td>...</td>\n",
       "      <td>...</td>\n",
       "      <td>...</td>\n",
       "      <td>...</td>\n",
       "      <td>...</td>\n",
       "      <td>...</td>\n",
       "      <td>...</td>\n",
       "      <td>...</td>\n",
       "    </tr>\n",
       "    <tr>\n",
       "      <th>325376</th>\n",
       "      <td>O=[Si](O)O</td>\n",
       "      <td>0.000</td>\n",
       "      <td>0.0</td>\n",
       "      <td>0.0</td>\n",
       "      <td>0.0</td>\n",
       "      <td>0.0</td>\n",
       "      <td>0.0</td>\n",
       "      <td>0.0</td>\n",
       "      <td>0.0</td>\n",
       "      <td>0.0</td>\n",
       "      <td>0.0</td>\n",
       "    </tr>\n",
       "    <tr>\n",
       "      <th>325377</th>\n",
       "      <td>O=[Ti]=O</td>\n",
       "      <td>0.000</td>\n",
       "      <td>0.0</td>\n",
       "      <td>0.0</td>\n",
       "      <td>0.0</td>\n",
       "      <td>0.0</td>\n",
       "      <td>0.0</td>\n",
       "      <td>0.0</td>\n",
       "      <td>0.0</td>\n",
       "      <td>0.0</td>\n",
       "      <td>0.0</td>\n",
       "    </tr>\n",
       "    <tr>\n",
       "      <th>325378</th>\n",
       "      <td>O=[Zn]</td>\n",
       "      <td>0.000</td>\n",
       "      <td>0.0</td>\n",
       "      <td>0.0</td>\n",
       "      <td>0.0</td>\n",
       "      <td>0.0</td>\n",
       "      <td>0.0</td>\n",
       "      <td>0.0</td>\n",
       "      <td>0.0</td>\n",
       "      <td>0.0</td>\n",
       "      <td>0.0</td>\n",
       "    </tr>\n",
       "    <tr>\n",
       "      <th>325379</th>\n",
       "      <td>[O-][Cl+3]([O-])([O-])O</td>\n",
       "      <td>0.000</td>\n",
       "      <td>0.0</td>\n",
       "      <td>0.0</td>\n",
       "      <td>0.0</td>\n",
       "      <td>0.0</td>\n",
       "      <td>0.0</td>\n",
       "      <td>0.0</td>\n",
       "      <td>0.0</td>\n",
       "      <td>0.0</td>\n",
       "      <td>0.0</td>\n",
       "    </tr>\n",
       "    <tr>\n",
       "      <th>325380</th>\n",
       "      <td>S=[Se]=S</td>\n",
       "      <td>0.000</td>\n",
       "      <td>0.0</td>\n",
       "      <td>0.0</td>\n",
       "      <td>0.0</td>\n",
       "      <td>0.0</td>\n",
       "      <td>0.0</td>\n",
       "      <td>0.0</td>\n",
       "      <td>0.0</td>\n",
       "      <td>0.0</td>\n",
       "      <td>0.0</td>\n",
       "    </tr>\n",
       "  </tbody>\n",
       "</table>\n",
       "<p>325381 rows × 11 columns</p>\n",
       "</div>"
      ],
      "text/plain": [
       "                                         Drug  LD50_Zhu  hERG  herg_central  \\\n",
       "0                [O-][N+](=Nc1ccccc1)c1ccccc1     2.505   0.0           0.0   \n",
       "1                                   BrC(Br)Br     2.343   0.0           0.0   \n",
       "2                                       C=CBr     2.330   0.0           0.0   \n",
       "3       Brc1ccc(-c2ccc(Br)c(Br)c2Br)c(Br)c1Br     1.465   0.0           0.0   \n",
       "4                           S=C=Nc1ccc(Br)cc1     2.729   0.0           0.0   \n",
       "...                                       ...       ...   ...           ...   \n",
       "325376                             O=[Si](O)O     0.000   0.0           0.0   \n",
       "325377                               O=[Ti]=O     0.000   0.0           0.0   \n",
       "325378                                 O=[Zn]     0.000   0.0           0.0   \n",
       "325379                [O-][Cl+3]([O-])([O-])O     0.000   0.0           0.0   \n",
       "325380                               S=[Se]=S     0.000   0.0           0.0   \n",
       "\n",
       "        AMES  DILI  Skin_Reaction  Carcinogens_Lagunin  Tox21  ToxCast  \\\n",
       "0        1.0   0.0            0.0                  0.0    0.0      0.0   \n",
       "1        1.0   0.0            0.0                  0.0    0.0      0.0   \n",
       "2        1.0   0.0            0.0                  0.0    0.0      0.0   \n",
       "3        0.0   0.0            0.0                  0.0    0.0      0.0   \n",
       "4        0.0   0.0            0.0                  0.0    0.0      0.0   \n",
       "...      ...   ...            ...                  ...    ...      ...   \n",
       "325376   0.0   0.0            0.0                  0.0    0.0      0.0   \n",
       "325377   0.0   0.0            0.0                  0.0    0.0      0.0   \n",
       "325378   0.0   0.0            0.0                  0.0    0.0      0.0   \n",
       "325379   0.0   0.0            0.0                  0.0    0.0      0.0   \n",
       "325380   0.0   0.0            0.0                  0.0    0.0      0.0   \n",
       "\n",
       "        ClinTox  \n",
       "0           0.0  \n",
       "1           0.0  \n",
       "2           0.0  \n",
       "3           0.0  \n",
       "4           0.0  \n",
       "...         ...  \n",
       "325376      0.0  \n",
       "325377      0.0  \n",
       "325378      0.0  \n",
       "325379      0.0  \n",
       "325380      0.0  \n",
       "\n",
       "[325381 rows x 11 columns]"
      ]
     },
     "execution_count": 41,
     "metadata": {},
     "output_type": "execute_result"
    }
   ],
   "source": [
    "TOX_dfs = {'LD50_Zhu':LD50_Zhu, 'hERG': hERG, 'herg_central': herg_central, \n",
    "          'AMES': AMES, 'DILI': DILI, 'Skin_Reaction': Skin_Reaction, \n",
    "           'Carcinogens_Lagunin': Carcinogens_Lagunin, 'Tox21': Tox21, 'ToxCast': ToxCast,\n",
    "          'ClinTox': ClinTox }\n",
    "\n",
    "for df in TOX_dfs.items():\n",
    "    df[1].rename(columns= {\"Y\": df[0]}, inplace = True)\n",
    "    df[1].drop(columns ='Drug_ID', inplace = True, axis = 0)\n",
    "\n",
    "TOX_df_clean = []\n",
    "for i in TOX_dfs:\n",
    "    TOX_df_clean.append(TOX_dfs[i])\n",
    "\n",
    "TOX_merged = reduce(lambda left, right : pd.merge(left,right, on =['Drug'], \n",
    "                                                 how ='outer'),TOX_df_clean).fillna(0)\n",
    "TOX_merged"
   ]
  },
  {
   "cell_type": "markdown",
   "id": "80b21db4",
   "metadata": {
    "heading_collapsed": true
   },
   "source": [
    "## Final Merge"
   ]
  },
  {
   "cell_type": "code",
   "execution_count": 42,
   "id": "256181d1",
   "metadata": {
    "hidden": true
   },
   "outputs": [],
   "source": [
    "merged_df = DTI_merged.merge(AMDE_merged, on ='Drug', how='outer').merge(TOX_merged, on ='Drug', how='outer').fillna(0)"
   ]
  },
  {
   "cell_type": "code",
   "execution_count": 43,
   "id": "3d57a27e",
   "metadata": {
    "hidden": true
   },
   "outputs": [],
   "source": [
    "merged_df_dropped = merged_df.copy()"
   ]
  },
  {
   "cell_type": "code",
   "execution_count": 44,
   "id": "1574d3a3",
   "metadata": {
    "hidden": true
   },
   "outputs": [
    {
     "name": "stdout",
     "output_type": "stream",
     "text": [
      "1263\n"
     ]
    }
   ],
   "source": [
    "# counting how many cols have a lot of 0s. \n",
    "count = 0 \n",
    "for col in merged_df_dropped.columns[1:]:\n",
    "    if merged_df_dropped[col].value_counts()[0]/len(merged_df_dropped[col]) > 0.9999:\n",
    "        count += 1\n",
    "print(count)"
   ]
  },
  {
   "cell_type": "code",
   "execution_count": 45,
   "id": "b114d2db",
   "metadata": {
    "hidden": true
   },
   "outputs": [],
   "source": [
    "# dropping the cols that have a lot of 0s. \n",
    "for col in merged_df_dropped.columns[1:]:\n",
    "    if merged_df_dropped[col].value_counts()[0]/len(merged_df_dropped[col]) > 0.9999:\n",
    "        merged_df_dropped.drop(columns = col, inplace = True)"
   ]
  },
  {
   "cell_type": "code",
   "execution_count": 46,
   "id": "59373a0c",
   "metadata": {
    "hidden": true
   },
   "outputs": [],
   "source": [
    "# merged_df_dropped.to_csv('/Users/george/Desktop/LW-DDI Project/xgb_merged_df_dropped.c"
   ]
  }
 ],
 "metadata": {
  "kernelspec": {
   "display_name": "Python 3 (ipykernel)",
   "language": "python",
   "name": "python3"
  },
  "language_info": {
   "codemirror_mode": {
    "name": "ipython",
    "version": 3
   },
   "file_extension": ".py",
   "mimetype": "text/x-python",
   "name": "python",
   "nbconvert_exporter": "python",
   "pygments_lexer": "ipython3",
   "version": "3.8.12"
  },
  "toc": {
   "base_numbering": 1,
   "nav_menu": {},
   "number_sections": true,
   "sideBar": true,
   "skip_h1_title": false,
   "title_cell": "Table of Contents",
   "title_sidebar": "Contents",
   "toc_cell": false,
   "toc_position": {},
   "toc_section_display": true,
   "toc_window_display": false
  }
 },
 "nbformat": 4,
 "nbformat_minor": 5
}
