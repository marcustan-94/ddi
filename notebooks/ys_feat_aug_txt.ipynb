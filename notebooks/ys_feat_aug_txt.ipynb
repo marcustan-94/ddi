{
 "cells": [
  {
   "cell_type": "markdown",
   "id": "8d055905",
   "metadata": {},
   "source": [
    "# Cleaning DataSet"
   ]
  },
  {
   "cell_type": "code",
   "execution_count": 1,
   "id": "c644a1cd",
   "metadata": {},
   "outputs": [],
   "source": [
    "import pandas as pd\n",
    "import re\n",
    "import numpy as np"
   ]
  },
  {
   "cell_type": "markdown",
   "id": "c6ecf3ec",
   "metadata": {
    "heading_collapsed": true
   },
   "source": [
    "## Text File to DataFrame"
   ]
  },
  {
   "cell_type": "code",
   "execution_count": 2,
   "id": "3979a9e6",
   "metadata": {
    "hidden": true
   },
   "outputs": [
    {
     "data": {
      "text/plain": [
       "[('D00AAN',\n",
       "  'C1CCN2CCC3C(=CC(CCC=CC1)(C4C3(C2)CC5N4CCCC(=O)CC5)O)C6=NC=CC7=C6NC8=C7C=CC=C8OS(=O)(=O)C9=CC=C(C=C9)Cl')]"
      ]
     },
     "execution_count": 2,
     "metadata": {},
     "output_type": "execute_result"
    }
   ],
   "source": [
    "pattern = r\"(\\S*)\\tDRUGSMIL\\t(\\S*)\" #r\"DRUGSMIL\\t(/w+)\"\n",
    "text_to_search = 'D00AAN\\tDRUGSMIL\\tC1CCN2CCC3C(=CC(CCC=CC1)(C4C3(C2)CC5N4CCCC(=O)CC5)O)C6=NC=CC7=C6NC8=C7C=CC=C8OS(=O)(=O)C9=CC=C(C=C9)Cl'\n",
    "re.findall(pattern, text_to_search)"
   ]
  },
  {
   "cell_type": "code",
   "execution_count": 3,
   "id": "ad4d5714",
   "metadata": {
    "hidden": true,
    "scrolled": true
   },
   "outputs": [],
   "source": [
    "filepath = \"../lewagon-ddi/raw_data/ttd_drug_ids.txt\"\n",
    "with open(filepath, encoding=\"utf-8\") as f:\n",
    "    drug_str = f.read()"
   ]
  },
  {
   "cell_type": "code",
   "execution_count": 4,
   "id": "0fb129fa",
   "metadata": {
    "hidden": true
   },
   "outputs": [
    {
     "data": {
      "text/plain": [
       "3"
      ]
     },
     "execution_count": 4,
     "metadata": {},
     "output_type": "execute_result"
    }
   ],
   "source": [
    "drug_list = drug_str.split(\"_______________________________________________________________________\")\n",
    "len(drug_list)"
   ]
  },
  {
   "cell_type": "code",
   "execution_count": 5,
   "id": "b611e8ab",
   "metadata": {
    "hidden": true
   },
   "outputs": [],
   "source": [
    "actual_data = drug_list[2]"
   ]
  },
  {
   "cell_type": "code",
   "execution_count": 6,
   "id": "5e7aaef2",
   "metadata": {
    "hidden": true
   },
   "outputs": [],
   "source": [
    "drug_dict = {\n",
    "    \"DRUG__ID\" :[],\n",
    "    \"DRUGSMIL\":[]\n",
    "}"
   ]
  },
  {
   "cell_type": "code",
   "execution_count": 7,
   "id": "ff476b74",
   "metadata": {
    "hidden": true
   },
   "outputs": [],
   "source": [
    "data2 = actual_data.split('\\n')\n",
    "data3 = list(filter(lambda a: a != '\\t\\t', data2))\n",
    "data4 = list(filter(lambda a: a != '_\\t\\t', data3))"
   ]
  },
  {
   "cell_type": "code",
   "execution_count": 8,
   "id": "644fabc7",
   "metadata": {
    "hidden": true
   },
   "outputs": [],
   "source": [
    "for i in data4:\n",
    "    pattern = r\"(\\S*)\\tDRUGSMIL\\t(\\S*)\"\n",
    "    drugid = re.findall(pattern, i)\n",
    "    if drugid !=[]:\n",
    "        drug_id = drugid[0][0]\n",
    "        drug_dict[\"DRUG__ID\"].append(drug_id)\n",
    "        drug_mil = drugid[0][1]\n",
    "        drug_dict[\"DRUGSMIL\"].append(drug_mil)"
   ]
  },
  {
   "cell_type": "code",
   "execution_count": 9,
   "id": "b16b0a97",
   "metadata": {
    "hidden": true,
    "scrolled": true
   },
   "outputs": [
    {
     "data": {
      "text/plain": [
       "21083"
      ]
     },
     "execution_count": 9,
     "metadata": {},
     "output_type": "execute_result"
    }
   ],
   "source": [
    "len(drug_dict[\"DRUG__ID\"])"
   ]
  },
  {
   "cell_type": "code",
   "execution_count": 10,
   "id": "0be0463a",
   "metadata": {
    "hidden": true
   },
   "outputs": [
    {
     "data": {
      "text/plain": [
       "21083"
      ]
     },
     "execution_count": 10,
     "metadata": {},
     "output_type": "execute_result"
    }
   ],
   "source": [
    "len(drug_dict[\"DRUGSMIL\"])"
   ]
  },
  {
   "cell_type": "code",
   "execution_count": 11,
   "id": "a728e2e7",
   "metadata": {
    "hidden": true
   },
   "outputs": [],
   "source": [
    "id_df = pd.DataFrame(drug_dict)"
   ]
  },
  {
   "cell_type": "code",
   "execution_count": 12,
   "id": "2805769d",
   "metadata": {
    "hidden": true
   },
   "outputs": [],
   "source": [
    "id_df.columns = id_df.columns.str.replace('DRUG__ID', 'DrugID')"
   ]
  },
  {
   "cell_type": "markdown",
   "id": "38513061",
   "metadata": {
    "heading_collapsed": true
   },
   "source": [
    "## TDD CSV to DataFrame"
   ]
  },
  {
   "cell_type": "code",
   "execution_count": 13,
   "id": "58e2a300",
   "metadata": {
    "hidden": true
   },
   "outputs": [],
   "source": [
    "df = pd.read_excel(\"../lewagon-ddi/raw_data/ttd_database.xlsx\", index_col=0)"
   ]
  },
  {
   "cell_type": "code",
   "execution_count": 14,
   "id": "7b10113b",
   "metadata": {
    "hidden": true
   },
   "outputs": [],
   "source": [
    "df.reset_index(drop=False, inplace=True)"
   ]
  },
  {
   "cell_type": "code",
   "execution_count": 15,
   "id": "7e9072c0",
   "metadata": {
    "hidden": true
   },
   "outputs": [
    {
     "data": {
      "text/html": [
       "<div>\n",
       "<style scoped>\n",
       "    .dataframe tbody tr th:only-of-type {\n",
       "        vertical-align: middle;\n",
       "    }\n",
       "\n",
       "    .dataframe tbody tr th {\n",
       "        vertical-align: top;\n",
       "    }\n",
       "\n",
       "    .dataframe thead th {\n",
       "        text-align: right;\n",
       "    }\n",
       "</style>\n",
       "<table border=\"1\" class=\"dataframe\">\n",
       "  <thead>\n",
       "    <tr style=\"text-align: right;\">\n",
       "      <th></th>\n",
       "      <th>TargetID</th>\n",
       "      <th>DrugID</th>\n",
       "      <th>MOA</th>\n",
       "    </tr>\n",
       "  </thead>\n",
       "  <tbody>\n",
       "    <tr>\n",
       "      <th>0</th>\n",
       "      <td>T71390</td>\n",
       "      <td>D07OAC</td>\n",
       "      <td>Inhibitor</td>\n",
       "    </tr>\n",
       "    <tr>\n",
       "      <th>1</th>\n",
       "      <td>T70309</td>\n",
       "      <td>D07OAC</td>\n",
       "      <td>Inhibitor</td>\n",
       "    </tr>\n",
       "    <tr>\n",
       "      <th>2</th>\n",
       "      <td>T97071</td>\n",
       "      <td>D0Y6UB</td>\n",
       "      <td>Inhibitor</td>\n",
       "    </tr>\n",
       "    <tr>\n",
       "      <th>3</th>\n",
       "      <td>T86679</td>\n",
       "      <td>D0J2UW</td>\n",
       "      <td>Agonist</td>\n",
       "    </tr>\n",
       "    <tr>\n",
       "      <th>4</th>\n",
       "      <td>T19229</td>\n",
       "      <td>D0UZ9U</td>\n",
       "      <td>Modulator</td>\n",
       "    </tr>\n",
       "  </tbody>\n",
       "</table>\n",
       "</div>"
      ],
      "text/plain": [
       "  TargetID  DrugID        MOA\n",
       "0   T71390  D07OAC  Inhibitor\n",
       "1   T70309  D07OAC  Inhibitor\n",
       "2   T97071  D0Y6UB  Inhibitor\n",
       "3   T86679  D0J2UW    Agonist\n",
       "4   T19229  D0UZ9U  Modulator"
      ]
     },
     "execution_count": 15,
     "metadata": {},
     "output_type": "execute_result"
    }
   ],
   "source": [
    "tdd_df = df.drop(columns = 'Highest_status')\n",
    "tdd_df.head()"
   ]
  },
  {
   "cell_type": "code",
   "execution_count": 16,
   "id": "cdbb5750",
   "metadata": {
    "hidden": true
   },
   "outputs": [],
   "source": [
    "anta_list = ['Inhibitor', 'Antagonist', 'Blocker', 'Inhibitor (gating inhibitor)', \n",
    "             'Blocker (channel blocker)', 'Disrupter', 'Suppressor', 'Inactivator', 'Inverse agonist',\n",
    "             'Inhibitor; Antagonist; Blocker', 'antagonist', 'Antagonist (gating inhibitor)','Antagonist (channel blocker)',\n",
    "            'Antagonist; Antagonist; Antagonist','Agonis; Antagonist','Agonis; Inverse agonist']\n",
    "ago_list = ['Agonist', 'Activator', 'Stimulator', 'Immunostimulant', 'Enhancer', 'Inducer', 'Regulator (upregulator)', \n",
    "            'Cofactor', 'Partial agonist', 'Co-agonist', 'Stimulator ','Agonist ','Modulator (Agonist)']\n",
    "mod_list = ['Modulator', 'Binder', 'Binder (minor groove binder)', 'Immunomodulator', 'Modulator (allosteric modulator)',\n",
    "            'Immunomodulator (Immunostimulant)','Regulator', 'Immunomodulator ','Modulator (minor groove binder)',\n",
    "           'Modulator (upregulator)','Modulator ']\n",
    "cart_list = ['CAR-T-Cell-Therapy', 'CAR-T-Cell-Therapy(Dual specific)','CART(Dual specific)']\n",
    "drop_list = ['Chelator', 'Reactivator', 'Intercalator', 'Antisense', 'Immune response agent', 'Stabilizer','Stablizer',\n",
    "             'Opener', 'Breaker', 'Degrader', 'Replacement', 'Antisense ','.']"
   ]
  },
  {
   "cell_type": "code",
   "execution_count": 17,
   "id": "ec6b2841",
   "metadata": {
    "hidden": true
   },
   "outputs": [],
   "source": [
    "tdd_df = tdd_df[tdd_df['MOA'].isin(drop_list) == False]\n",
    "tdd_df['MOA'] = tdd_df['MOA'].replace(anta_list, 'Antagonist')\n",
    "tdd_df['MOA'] = tdd_df['MOA'].replace(ago_list, 'Agonist')\n",
    "tdd_df['MOA'] = tdd_df['MOA'].replace(mod_list, 'Modulator')\n",
    "tdd_df['MOA'] = tdd_df['MOA'].replace(cart_list, 'CART')"
   ]
  },
  {
   "cell_type": "code",
   "execution_count": 18,
   "id": "adabb0a9",
   "metadata": {
    "hidden": true
   },
   "outputs": [
    {
     "data": {
      "text/plain": [
       "array(['Antagonist', 'Agonist', 'Modulator', 'CART', 'Ligand'],\n",
       "      dtype=object)"
      ]
     },
     "execution_count": 18,
     "metadata": {},
     "output_type": "execute_result"
    }
   ],
   "source": [
    "tdd_df['MOA'].unique()"
   ]
  },
  {
   "cell_type": "code",
   "execution_count": 19,
   "id": "0abd4674",
   "metadata": {
    "hidden": true
   },
   "outputs": [
    {
     "data": {
      "text/plain": [
       "TargetID     2890\n",
       "DrugID      30276\n",
       "MOA             5\n",
       "dtype: int64"
      ]
     },
     "execution_count": 19,
     "metadata": {},
     "output_type": "execute_result"
    }
   ],
   "source": [
    "tdd_df.nunique()"
   ]
  },
  {
   "cell_type": "code",
   "execution_count": 20,
   "id": "534d63f8",
   "metadata": {
    "hidden": true
   },
   "outputs": [
    {
     "data": {
      "text/plain": [
       "Antagonist    33501\n",
       "Modulator      5386\n",
       "Agonist        3108\n",
       "CART            427\n",
       "Ligand          208\n",
       "Name: MOA, dtype: int64"
      ]
     },
     "execution_count": 20,
     "metadata": {},
     "output_type": "execute_result"
    }
   ],
   "source": [
    "tdd_df['MOA'].value_counts()"
   ]
  },
  {
   "cell_type": "markdown",
   "id": "e4a5ceb6",
   "metadata": {
    "heading_collapsed": true
   },
   "source": [
    "## Concat 2 DrugID, and replace SMILE"
   ]
  },
  {
   "cell_type": "code",
   "execution_count": 21,
   "id": "a2693994",
   "metadata": {
    "hidden": true
   },
   "outputs": [],
   "source": [
    "drug_df = pd.merge(tdd_df, id_df, on='DrugID', how='right')"
   ]
  },
  {
   "cell_type": "code",
   "execution_count": 22,
   "id": "4983759e",
   "metadata": {
    "hidden": true
   },
   "outputs": [
    {
     "data": {
      "text/html": [
       "<div>\n",
       "<style scoped>\n",
       "    .dataframe tbody tr th:only-of-type {\n",
       "        vertical-align: middle;\n",
       "    }\n",
       "\n",
       "    .dataframe tbody tr th {\n",
       "        vertical-align: top;\n",
       "    }\n",
       "\n",
       "    .dataframe thead th {\n",
       "        text-align: right;\n",
       "    }\n",
       "</style>\n",
       "<table border=\"1\" class=\"dataframe\">\n",
       "  <thead>\n",
       "    <tr style=\"text-align: right;\">\n",
       "      <th></th>\n",
       "      <th>TargetID</th>\n",
       "      <th>DrugID</th>\n",
       "      <th>MOA</th>\n",
       "      <th>DRUGSMIL</th>\n",
       "    </tr>\n",
       "  </thead>\n",
       "  <tbody>\n",
       "    <tr>\n",
       "      <th>0</th>\n",
       "      <td>T70977</td>\n",
       "      <td>D00AAN</td>\n",
       "      <td>Antagonist</td>\n",
       "      <td>C1CCN2CCC3C(=CC(CCC=CC1)(C4C3(C2)CC5N4CCCC(=O)...</td>\n",
       "    </tr>\n",
       "    <tr>\n",
       "      <th>1</th>\n",
       "      <td>T80896</td>\n",
       "      <td>D00AAU</td>\n",
       "      <td>Antagonist</td>\n",
       "      <td>CCC(C1=CC(=CC=C1)O)C(CC)C2=CC(=CC=C2)O</td>\n",
       "    </tr>\n",
       "    <tr>\n",
       "      <th>2</th>\n",
       "      <td>T89534</td>\n",
       "      <td>D00AAU</td>\n",
       "      <td>Antagonist</td>\n",
       "      <td>CCC(C1=CC(=CC=C1)O)C(CC)C2=CC(=CC=C2)O</td>\n",
       "    </tr>\n",
       "    <tr>\n",
       "      <th>3</th>\n",
       "      <td>NaN</td>\n",
       "      <td>D00ABO</td>\n",
       "      <td>NaN</td>\n",
       "      <td>C1CN(CCN1)C(=O)C2=CC=C(C=C2)C=CC3=NNC4=CC=CC=C43</td>\n",
       "    </tr>\n",
       "    <tr>\n",
       "      <th>4</th>\n",
       "      <td>T58716</td>\n",
       "      <td>D00ACC</td>\n",
       "      <td>Antagonist</td>\n",
       "      <td>C1CC2CCC(C3=CC=CC(=C23)C1)N4CCC5(CC4)C(=O)NCN5...</td>\n",
       "    </tr>\n",
       "    <tr>\n",
       "      <th>...</th>\n",
       "      <td>...</td>\n",
       "      <td>...</td>\n",
       "      <td>...</td>\n",
       "      <td>...</td>\n",
       "    </tr>\n",
       "    <tr>\n",
       "      <th>30364</th>\n",
       "      <td>T26623</td>\n",
       "      <td>D0SY2M</td>\n",
       "      <td>Antagonist</td>\n",
       "      <td>C1=CC(=CC=C1C2=COC3=C(C2=O)C=CC(=C3)O)O</td>\n",
       "    </tr>\n",
       "    <tr>\n",
       "      <th>30365</th>\n",
       "      <td>T13260</td>\n",
       "      <td>D0SY6C</td>\n",
       "      <td>Antagonist</td>\n",
       "      <td>C1=CC(=CC=C1C2=CC(=O)C3=C(O2)C=C(C=C3)O)O</td>\n",
       "    </tr>\n",
       "    <tr>\n",
       "      <th>30366</th>\n",
       "      <td>T40954</td>\n",
       "      <td>D0SY6J</td>\n",
       "      <td>Antagonist</td>\n",
       "      <td>CC1=C(SC(=N1)C2=CC(=C3C(=C2)C=CN3C)[N+](=O)[O-...</td>\n",
       "    </tr>\n",
       "    <tr>\n",
       "      <th>30367</th>\n",
       "      <td>T28330</td>\n",
       "      <td>D0SY6T</td>\n",
       "      <td>Antagonist</td>\n",
       "      <td>CC1=CC(=CC=C1)NC(=O)NCC=C(C2=CC=CC=C2)C3=CC=CC=C3</td>\n",
       "    </tr>\n",
       "    <tr>\n",
       "      <th>30368</th>\n",
       "      <td>T38763</td>\n",
       "      <td>D0SY7H</td>\n",
       "      <td>Antagonist</td>\n",
       "      <td>CC1(C(C(OC1N2C=NC3=C2N=C(NC3=O)N)COP(=O)(NCC4=...</td>\n",
       "    </tr>\n",
       "  </tbody>\n",
       "</table>\n",
       "<p>30369 rows × 4 columns</p>\n",
       "</div>"
      ],
      "text/plain": [
       "      TargetID  DrugID         MOA  \\\n",
       "0       T70977  D00AAN  Antagonist   \n",
       "1       T80896  D00AAU  Antagonist   \n",
       "2       T89534  D00AAU  Antagonist   \n",
       "3          NaN  D00ABO         NaN   \n",
       "4       T58716  D00ACC  Antagonist   \n",
       "...        ...     ...         ...   \n",
       "30364   T26623  D0SY2M  Antagonist   \n",
       "30365   T13260  D0SY6C  Antagonist   \n",
       "30366   T40954  D0SY6J  Antagonist   \n",
       "30367   T28330  D0SY6T  Antagonist   \n",
       "30368   T38763  D0SY7H  Antagonist   \n",
       "\n",
       "                                                DRUGSMIL  \n",
       "0      C1CCN2CCC3C(=CC(CCC=CC1)(C4C3(C2)CC5N4CCCC(=O)...  \n",
       "1                 CCC(C1=CC(=CC=C1)O)C(CC)C2=CC(=CC=C2)O  \n",
       "2                 CCC(C1=CC(=CC=C1)O)C(CC)C2=CC(=CC=C2)O  \n",
       "3       C1CN(CCN1)C(=O)C2=CC=C(C=C2)C=CC3=NNC4=CC=CC=C43  \n",
       "4      C1CC2CCC(C3=CC=CC(=C23)C1)N4CCC5(CC4)C(=O)NCN5...  \n",
       "...                                                  ...  \n",
       "30364            C1=CC(=CC=C1C2=COC3=C(C2=O)C=CC(=C3)O)O  \n",
       "30365          C1=CC(=CC=C1C2=CC(=O)C3=C(O2)C=C(C=C3)O)O  \n",
       "30366  CC1=C(SC(=N1)C2=CC(=C3C(=C2)C=CN3C)[N+](=O)[O-...  \n",
       "30367  CC1=CC(=CC=C1)NC(=O)NCC=C(C2=CC=CC=C2)C3=CC=CC=C3  \n",
       "30368  CC1(C(C(OC1N2C=NC3=C2N=C(NC3=O)N)COP(=O)(NCC4=...  \n",
       "\n",
       "[30369 rows x 4 columns]"
      ]
     },
     "execution_count": 22,
     "metadata": {},
     "output_type": "execute_result"
    }
   ],
   "source": [
    "drug_df"
   ]
  },
  {
   "cell_type": "code",
   "execution_count": 23,
   "id": "5a8c2048",
   "metadata": {
    "hidden": true
   },
   "outputs": [
    {
     "data": {
      "text/plain": [
       "0"
      ]
     },
     "execution_count": 23,
     "metadata": {},
     "output_type": "execute_result"
    }
   ],
   "source": [
    "drug_df['DRUGSMIL'].isnull().sum()"
   ]
  },
  {
   "cell_type": "code",
   "execution_count": 24,
   "id": "c8688f5e",
   "metadata": {
    "hidden": true
   },
   "outputs": [
    {
     "data": {
      "text/plain": [
       "1972"
      ]
     },
     "execution_count": 24,
     "metadata": {},
     "output_type": "execute_result"
    }
   ],
   "source": [
    "drug_df['TargetID'].isnull().sum()"
   ]
  },
  {
   "cell_type": "code",
   "execution_count": 25,
   "id": "eca51bc0",
   "metadata": {
    "hidden": true
   },
   "outputs": [],
   "source": [
    "drug_df = drug_df.dropna()"
   ]
  },
  {
   "cell_type": "code",
   "execution_count": 26,
   "id": "60fa5722",
   "metadata": {
    "hidden": true
   },
   "outputs": [
    {
     "data": {
      "text/html": [
       "<div>\n",
       "<style scoped>\n",
       "    .dataframe tbody tr th:only-of-type {\n",
       "        vertical-align: middle;\n",
       "    }\n",
       "\n",
       "    .dataframe tbody tr th {\n",
       "        vertical-align: top;\n",
       "    }\n",
       "\n",
       "    .dataframe thead th {\n",
       "        text-align: right;\n",
       "    }\n",
       "</style>\n",
       "<table border=\"1\" class=\"dataframe\">\n",
       "  <thead>\n",
       "    <tr style=\"text-align: right;\">\n",
       "      <th></th>\n",
       "      <th>TargetID</th>\n",
       "      <th>DrugID</th>\n",
       "      <th>MOA</th>\n",
       "      <th>DRUGSMIL</th>\n",
       "    </tr>\n",
       "  </thead>\n",
       "  <tbody>\n",
       "    <tr>\n",
       "      <th>0</th>\n",
       "      <td>T70977</td>\n",
       "      <td>D00AAN</td>\n",
       "      <td>Antagonist</td>\n",
       "      <td>C1CCN2CCC3C(=CC(CCC=CC1)(C4C3(C2)CC5N4CCCC(=O)...</td>\n",
       "    </tr>\n",
       "    <tr>\n",
       "      <th>1</th>\n",
       "      <td>T80896</td>\n",
       "      <td>D00AAU</td>\n",
       "      <td>Antagonist</td>\n",
       "      <td>CCC(C1=CC(=CC=C1)O)C(CC)C2=CC(=CC=C2)O</td>\n",
       "    </tr>\n",
       "    <tr>\n",
       "      <th>2</th>\n",
       "      <td>T89534</td>\n",
       "      <td>D00AAU</td>\n",
       "      <td>Antagonist</td>\n",
       "      <td>CCC(C1=CC(=CC=C1)O)C(CC)C2=CC(=CC=C2)O</td>\n",
       "    </tr>\n",
       "    <tr>\n",
       "      <th>4</th>\n",
       "      <td>T58716</td>\n",
       "      <td>D00ACC</td>\n",
       "      <td>Antagonist</td>\n",
       "      <td>C1CC2CCC(C3=CC=CC(=C23)C1)N4CCC5(CC4)C(=O)NCN5...</td>\n",
       "    </tr>\n",
       "    <tr>\n",
       "      <th>5</th>\n",
       "      <td>T52921</td>\n",
       "      <td>D00ACC</td>\n",
       "      <td>Agonist</td>\n",
       "      <td>C1CC2CCC(C3=CC=CC(=C23)C1)N4CCC5(CC4)C(=O)NCN5...</td>\n",
       "    </tr>\n",
       "    <tr>\n",
       "      <th>...</th>\n",
       "      <td>...</td>\n",
       "      <td>...</td>\n",
       "      <td>...</td>\n",
       "      <td>...</td>\n",
       "    </tr>\n",
       "    <tr>\n",
       "      <th>30364</th>\n",
       "      <td>T26623</td>\n",
       "      <td>D0SY2M</td>\n",
       "      <td>Antagonist</td>\n",
       "      <td>C1=CC(=CC=C1C2=COC3=C(C2=O)C=CC(=C3)O)O</td>\n",
       "    </tr>\n",
       "    <tr>\n",
       "      <th>30365</th>\n",
       "      <td>T13260</td>\n",
       "      <td>D0SY6C</td>\n",
       "      <td>Antagonist</td>\n",
       "      <td>C1=CC(=CC=C1C2=CC(=O)C3=C(O2)C=C(C=C3)O)O</td>\n",
       "    </tr>\n",
       "    <tr>\n",
       "      <th>30366</th>\n",
       "      <td>T40954</td>\n",
       "      <td>D0SY6J</td>\n",
       "      <td>Antagonist</td>\n",
       "      <td>CC1=C(SC(=N1)C2=CC(=C3C(=C2)C=CN3C)[N+](=O)[O-...</td>\n",
       "    </tr>\n",
       "    <tr>\n",
       "      <th>30367</th>\n",
       "      <td>T28330</td>\n",
       "      <td>D0SY6T</td>\n",
       "      <td>Antagonist</td>\n",
       "      <td>CC1=CC(=CC=C1)NC(=O)NCC=C(C2=CC=CC=C2)C3=CC=CC=C3</td>\n",
       "    </tr>\n",
       "    <tr>\n",
       "      <th>30368</th>\n",
       "      <td>T38763</td>\n",
       "      <td>D0SY7H</td>\n",
       "      <td>Antagonist</td>\n",
       "      <td>CC1(C(C(OC1N2C=NC3=C2N=C(NC3=O)N)COP(=O)(NCC4=...</td>\n",
       "    </tr>\n",
       "  </tbody>\n",
       "</table>\n",
       "<p>28397 rows × 4 columns</p>\n",
       "</div>"
      ],
      "text/plain": [
       "      TargetID  DrugID         MOA  \\\n",
       "0       T70977  D00AAN  Antagonist   \n",
       "1       T80896  D00AAU  Antagonist   \n",
       "2       T89534  D00AAU  Antagonist   \n",
       "4       T58716  D00ACC  Antagonist   \n",
       "5       T52921  D00ACC     Agonist   \n",
       "...        ...     ...         ...   \n",
       "30364   T26623  D0SY2M  Antagonist   \n",
       "30365   T13260  D0SY6C  Antagonist   \n",
       "30366   T40954  D0SY6J  Antagonist   \n",
       "30367   T28330  D0SY6T  Antagonist   \n",
       "30368   T38763  D0SY7H  Antagonist   \n",
       "\n",
       "                                                DRUGSMIL  \n",
       "0      C1CCN2CCC3C(=CC(CCC=CC1)(C4C3(C2)CC5N4CCCC(=O)...  \n",
       "1                 CCC(C1=CC(=CC=C1)O)C(CC)C2=CC(=CC=C2)O  \n",
       "2                 CCC(C1=CC(=CC=C1)O)C(CC)C2=CC(=CC=C2)O  \n",
       "4      C1CC2CCC(C3=CC=CC(=C23)C1)N4CCC5(CC4)C(=O)NCN5...  \n",
       "5      C1CC2CCC(C3=CC=CC(=C23)C1)N4CCC5(CC4)C(=O)NCN5...  \n",
       "...                                                  ...  \n",
       "30364            C1=CC(=CC=C1C2=COC3=C(C2=O)C=CC(=C3)O)O  \n",
       "30365          C1=CC(=CC=C1C2=CC(=O)C3=C(O2)C=C(C=C3)O)O  \n",
       "30366  CC1=C(SC(=N1)C2=CC(=C3C(=C2)C=CN3C)[N+](=O)[O-...  \n",
       "30367  CC1=CC(=CC=C1)NC(=O)NCC=C(C2=CC=CC=C2)C3=CC=CC=C3  \n",
       "30368  CC1(C(C(OC1N2C=NC3=C2N=C(NC3=O)N)COP(=O)(NCC4=...  \n",
       "\n",
       "[28397 rows x 4 columns]"
      ]
     },
     "execution_count": 26,
     "metadata": {},
     "output_type": "execute_result"
    }
   ],
   "source": [
    "drug_df"
   ]
  },
  {
   "cell_type": "code",
   "execution_count": 27,
   "id": "25cd7a67",
   "metadata": {
    "hidden": true
   },
   "outputs": [
    {
     "data": {
      "text/plain": [
       "18510"
      ]
     },
     "execution_count": 27,
     "metadata": {},
     "output_type": "execute_result"
    }
   ],
   "source": [
    "drug_df['DRUGSMIL'].nunique()"
   ]
  },
  {
   "cell_type": "markdown",
   "id": "17da7d88",
   "metadata": {},
   "source": [
    "## TWOSIDE DataSet"
   ]
  },
  {
   "cell_type": "code",
   "execution_count": 28,
   "id": "cf7f3c18",
   "metadata": {},
   "outputs": [],
   "source": [
    "twoside_df = pd.read_csv(\"../lewagon-ddi/raw_data/twosides.csv\", index_col=0)"
   ]
  },
  {
   "cell_type": "code",
   "execution_count": 29,
   "id": "84f4bd69",
   "metadata": {},
   "outputs": [
    {
     "data": {
      "text/html": [
       "<div>\n",
       "<style scoped>\n",
       "    .dataframe tbody tr th:only-of-type {\n",
       "        vertical-align: middle;\n",
       "    }\n",
       "\n",
       "    .dataframe tbody tr th {\n",
       "        vertical-align: top;\n",
       "    }\n",
       "\n",
       "    .dataframe thead th {\n",
       "        text-align: right;\n",
       "    }\n",
       "</style>\n",
       "<table border=\"1\" class=\"dataframe\">\n",
       "  <thead>\n",
       "    <tr style=\"text-align: right;\">\n",
       "      <th></th>\n",
       "      <th>Drug1_ID</th>\n",
       "      <th>Drug1</th>\n",
       "      <th>Drug2_ID</th>\n",
       "      <th>Drug2</th>\n",
       "      <th>Y</th>\n",
       "    </tr>\n",
       "  </thead>\n",
       "  <tbody>\n",
       "    <tr>\n",
       "      <th>0</th>\n",
       "      <td>CID000002173</td>\n",
       "      <td>CC1(C(N2C(S1)C(C2=O)NC(=O)C(C3=CC=CC=C3)N)C(=O...</td>\n",
       "      <td>CID000003345</td>\n",
       "      <td>CCC(=O)N(C1CCN(CC1)CCC2=CC=CC=C2)C3=CC=CC=C3</td>\n",
       "      <td>767</td>\n",
       "    </tr>\n",
       "    <tr>\n",
       "      <th>1</th>\n",
       "      <td>CID000002173</td>\n",
       "      <td>CC1(C(N2C(S1)C(C2=O)NC(=O)C(C3=CC=CC=C3)N)C(=O...</td>\n",
       "      <td>CID000003345</td>\n",
       "      <td>CCC(=O)N(C1CCN(CC1)CCC2=CC=CC=C2)C3=CC=CC=C3</td>\n",
       "      <td>25</td>\n",
       "    </tr>\n",
       "    <tr>\n",
       "      <th>2</th>\n",
       "      <td>CID000002173</td>\n",
       "      <td>CC1(C(N2C(S1)C(C2=O)NC(=O)C(C3=CC=CC=C3)N)C(=O...</td>\n",
       "      <td>CID000003345</td>\n",
       "      <td>CCC(=O)N(C1CCN(CC1)CCC2=CC=CC=C2)C3=CC=CC=C3</td>\n",
       "      <td>85</td>\n",
       "    </tr>\n",
       "    <tr>\n",
       "      <th>3</th>\n",
       "      <td>CID000002173</td>\n",
       "      <td>CC1(C(N2C(S1)C(C2=O)NC(=O)C(C3=CC=CC=C3)N)C(=O...</td>\n",
       "      <td>CID000003345</td>\n",
       "      <td>CCC(=O)N(C1CCN(CC1)CCC2=CC=CC=C2)C3=CC=CC=C3</td>\n",
       "      <td>735</td>\n",
       "    </tr>\n",
       "    <tr>\n",
       "      <th>4</th>\n",
       "      <td>CID000002173</td>\n",
       "      <td>CC1(C(N2C(S1)C(C2=O)NC(=O)C(C3=CC=CC=C3)N)C(=O...</td>\n",
       "      <td>CID000003345</td>\n",
       "      <td>CCC(=O)N(C1CCN(CC1)CCC2=CC=CC=C2)C3=CC=CC=C3</td>\n",
       "      <td>959</td>\n",
       "    </tr>\n",
       "  </tbody>\n",
       "</table>\n",
       "</div>"
      ],
      "text/plain": [
       "       Drug1_ID                                              Drug1  \\\n",
       "0  CID000002173  CC1(C(N2C(S1)C(C2=O)NC(=O)C(C3=CC=CC=C3)N)C(=O...   \n",
       "1  CID000002173  CC1(C(N2C(S1)C(C2=O)NC(=O)C(C3=CC=CC=C3)N)C(=O...   \n",
       "2  CID000002173  CC1(C(N2C(S1)C(C2=O)NC(=O)C(C3=CC=CC=C3)N)C(=O...   \n",
       "3  CID000002173  CC1(C(N2C(S1)C(C2=O)NC(=O)C(C3=CC=CC=C3)N)C(=O...   \n",
       "4  CID000002173  CC1(C(N2C(S1)C(C2=O)NC(=O)C(C3=CC=CC=C3)N)C(=O...   \n",
       "\n",
       "       Drug2_ID                                         Drug2    Y  \n",
       "0  CID000003345  CCC(=O)N(C1CCN(CC1)CCC2=CC=CC=C2)C3=CC=CC=C3  767  \n",
       "1  CID000003345  CCC(=O)N(C1CCN(CC1)CCC2=CC=CC=C2)C3=CC=CC=C3   25  \n",
       "2  CID000003345  CCC(=O)N(C1CCN(CC1)CCC2=CC=CC=C2)C3=CC=CC=C3   85  \n",
       "3  CID000003345  CCC(=O)N(C1CCN(CC1)CCC2=CC=CC=C2)C3=CC=CC=C3  735  \n",
       "4  CID000003345  CCC(=O)N(C1CCN(CC1)CCC2=CC=CC=C2)C3=CC=CC=C3  959  "
      ]
     },
     "execution_count": 29,
     "metadata": {},
     "output_type": "execute_result"
    }
   ],
   "source": [
    "twoside_df.head()"
   ]
  },
  {
   "cell_type": "code",
   "execution_count": 30,
   "id": "35cf4f6e",
   "metadata": {},
   "outputs": [],
   "source": [
    "drug1_unique = twoside_df['Drug1'].unique()"
   ]
  },
  {
   "cell_type": "code",
   "execution_count": 31,
   "id": "02cc5023",
   "metadata": {},
   "outputs": [],
   "source": [
    "drug2_unique = twoside_df['Drug2'].unique()"
   ]
  },
  {
   "cell_type": "code",
   "execution_count": 32,
   "id": "e63ed3ac",
   "metadata": {},
   "outputs": [],
   "source": [
    "drug_unique = np.concatenate((drug1_unique, drug2_unique))"
   ]
  },
  {
   "cell_type": "code",
   "execution_count": 33,
   "id": "a1a7dd37",
   "metadata": {},
   "outputs": [],
   "source": [
    "drug_unique = sorted(set(drug_unique))"
   ]
  },
  {
   "cell_type": "code",
   "execution_count": 34,
   "id": "9c02b16a",
   "metadata": {},
   "outputs": [],
   "source": [
    "drug_df2 = drug_df[drug_df['DRUGSMIL'].isin(drug_unique)]"
   ]
  },
  {
   "cell_type": "code",
   "execution_count": 35,
   "id": "e9bc92a8",
   "metadata": {
    "scrolled": true
   },
   "outputs": [
    {
     "data": {
      "text/plain": [
       "452"
      ]
     },
     "execution_count": 35,
     "metadata": {},
     "output_type": "execute_result"
    }
   ],
   "source": [
    "len(drug_df2['DRUGSMIL'].unique())"
   ]
  },
  {
   "cell_type": "code",
   "execution_count": 36,
   "id": "d9fcd054",
   "metadata": {},
   "outputs": [
    {
     "data": {
      "text/plain": [
       "517"
      ]
     },
     "execution_count": 36,
     "metadata": {},
     "output_type": "execute_result"
    }
   ],
   "source": [
    "len(drug_df2['DrugID'].unique())"
   ]
  },
  {
   "cell_type": "code",
   "execution_count": 37,
   "id": "07577538",
   "metadata": {},
   "outputs": [
    {
     "data": {
      "text/plain": [
       "313"
      ]
     },
     "execution_count": 37,
     "metadata": {},
     "output_type": "execute_result"
    }
   ],
   "source": [
    "len(drug_df2['TargetID'].unique())"
   ]
  },
  {
   "cell_type": "code",
   "execution_count": 38,
   "id": "5a89e08d",
   "metadata": {},
   "outputs": [
    {
     "data": {
      "text/html": [
       "<div>\n",
       "<style scoped>\n",
       "    .dataframe tbody tr th:only-of-type {\n",
       "        vertical-align: middle;\n",
       "    }\n",
       "\n",
       "    .dataframe tbody tr th {\n",
       "        vertical-align: top;\n",
       "    }\n",
       "\n",
       "    .dataframe thead th {\n",
       "        text-align: right;\n",
       "    }\n",
       "</style>\n",
       "<table border=\"1\" class=\"dataframe\">\n",
       "  <thead>\n",
       "    <tr style=\"text-align: right;\">\n",
       "      <th></th>\n",
       "      <th>TargetID</th>\n",
       "      <th>DrugID</th>\n",
       "      <th>MOA</th>\n",
       "      <th>DRUGSMIL</th>\n",
       "    </tr>\n",
       "  </thead>\n",
       "  <tbody>\n",
       "    <tr>\n",
       "      <th>23</th>\n",
       "      <td>T23459</td>\n",
       "      <td>D00AOJ</td>\n",
       "      <td>Modulator</td>\n",
       "      <td>CCCCCCCCCCCCCCCCCCCCCCO</td>\n",
       "    </tr>\n",
       "    <tr>\n",
       "      <th>51</th>\n",
       "      <td>T73726</td>\n",
       "      <td>D00AXJ</td>\n",
       "      <td>Modulator</td>\n",
       "      <td>C1=CC(=C(C=C1Cl)Cl)COC(CN2C=CN=C2)C3=C(C=C(C=C...</td>\n",
       "    </tr>\n",
       "    <tr>\n",
       "      <th>57</th>\n",
       "      <td>T18950</td>\n",
       "      <td>D00BCG</td>\n",
       "      <td>Agonist</td>\n",
       "      <td>CC(C)CC(C(=O)NC(CCCN=C(N)N)C(=O)N1CCCC1C(=O)NN...</td>\n",
       "    </tr>\n",
       "    <tr>\n",
       "      <th>59</th>\n",
       "      <td>T09423</td>\n",
       "      <td>D00BCP</td>\n",
       "      <td>Antagonist</td>\n",
       "      <td>CCCNC(=O)NS(=O)(=O)C1=CC=C(C=C1)Cl</td>\n",
       "    </tr>\n",
       "    <tr>\n",
       "      <th>195</th>\n",
       "      <td>T11822</td>\n",
       "      <td>D00DKK</td>\n",
       "      <td>Agonist</td>\n",
       "      <td>CC1=C(C(CCC1)(C)C)C=CC(=CC=CC(=CC(=O)O)C)C</td>\n",
       "    </tr>\n",
       "    <tr>\n",
       "      <th>...</th>\n",
       "      <td>...</td>\n",
       "      <td>...</td>\n",
       "      <td>...</td>\n",
       "      <td>...</td>\n",
       "    </tr>\n",
       "    <tr>\n",
       "      <th>30251</th>\n",
       "      <td>T27602</td>\n",
       "      <td>D0SH3I</td>\n",
       "      <td>Antagonist</td>\n",
       "      <td>B(C(CC(C)C)NC(=O)C(CC1=CC=CC=C1)NC(=O)C2=NC=CN...</td>\n",
       "    </tr>\n",
       "    <tr>\n",
       "      <th>30252</th>\n",
       "      <td>T69707</td>\n",
       "      <td>D0SH3I</td>\n",
       "      <td>Modulator</td>\n",
       "      <td>B(C(CC(C)C)NC(=O)C(CC1=CC=CC=C1)NC(=O)C2=NC=CN...</td>\n",
       "    </tr>\n",
       "    <tr>\n",
       "      <th>30327</th>\n",
       "      <td>T52522</td>\n",
       "      <td>D0SS4P</td>\n",
       "      <td>Agonist</td>\n",
       "      <td>CC(C)(C)NCC(C1=NC(=C(C=C1)O)CO)O</td>\n",
       "    </tr>\n",
       "    <tr>\n",
       "      <th>30352</th>\n",
       "      <td>T19229</td>\n",
       "      <td>D0SV8E</td>\n",
       "      <td>Modulator</td>\n",
       "      <td>CN(CC1=CN=C2C(=N1)C(=NC(=N2)N)N)C3=CC=C(C=C3)C...</td>\n",
       "    </tr>\n",
       "    <tr>\n",
       "      <th>30353</th>\n",
       "      <td>T35465</td>\n",
       "      <td>D0SV8E</td>\n",
       "      <td>Modulator</td>\n",
       "      <td>CN(CC1=CN=C2C(=N1)C(=NC(=N2)N)N)C3=CC=C(C=C3)C...</td>\n",
       "    </tr>\n",
       "  </tbody>\n",
       "</table>\n",
       "<p>678 rows × 4 columns</p>\n",
       "</div>"
      ],
      "text/plain": [
       "      TargetID  DrugID         MOA  \\\n",
       "23      T23459  D00AOJ   Modulator   \n",
       "51      T73726  D00AXJ   Modulator   \n",
       "57      T18950  D00BCG     Agonist   \n",
       "59      T09423  D00BCP  Antagonist   \n",
       "195     T11822  D00DKK     Agonist   \n",
       "...        ...     ...         ...   \n",
       "30251   T27602  D0SH3I  Antagonist   \n",
       "30252   T69707  D0SH3I   Modulator   \n",
       "30327   T52522  D0SS4P     Agonist   \n",
       "30352   T19229  D0SV8E   Modulator   \n",
       "30353   T35465  D0SV8E   Modulator   \n",
       "\n",
       "                                                DRUGSMIL  \n",
       "23                               CCCCCCCCCCCCCCCCCCCCCCO  \n",
       "51     C1=CC(=C(C=C1Cl)Cl)COC(CN2C=CN=C2)C3=C(C=C(C=C...  \n",
       "57     CC(C)CC(C(=O)NC(CCCN=C(N)N)C(=O)N1CCCC1C(=O)NN...  \n",
       "59                    CCCNC(=O)NS(=O)(=O)C1=CC=C(C=C1)Cl  \n",
       "195           CC1=C(C(CCC1)(C)C)C=CC(=CC=CC(=CC(=O)O)C)C  \n",
       "...                                                  ...  \n",
       "30251  B(C(CC(C)C)NC(=O)C(CC1=CC=CC=C1)NC(=O)C2=NC=CN...  \n",
       "30252  B(C(CC(C)C)NC(=O)C(CC1=CC=CC=C1)NC(=O)C2=NC=CN...  \n",
       "30327                   CC(C)(C)NCC(C1=NC(=C(C=C1)O)CO)O  \n",
       "30352  CN(CC1=CN=C2C(=N1)C(=NC(=N2)N)N)C3=CC=C(C=C3)C...  \n",
       "30353  CN(CC1=CN=C2C(=N1)C(=NC(=N2)N)N)C3=CC=C(C=C3)C...  \n",
       "\n",
       "[678 rows x 4 columns]"
      ]
     },
     "execution_count": 38,
     "metadata": {},
     "output_type": "execute_result"
    }
   ],
   "source": [
    "drug_df2"
   ]
  },
  {
   "cell_type": "code",
   "execution_count": 39,
   "id": "c6c9663d",
   "metadata": {},
   "outputs": [],
   "source": [
    "drug_df3 = drug_df2.pivot(columns=['TargetID'], values = 'MOA')"
   ]
  },
  {
   "cell_type": "code",
   "execution_count": 40,
   "id": "40de69b5",
   "metadata": {},
   "outputs": [],
   "source": [
    "drug_df4 = drug_df2.drop(columns = ['TargetID','MOA'])"
   ]
  },
  {
   "cell_type": "code",
   "execution_count": 41,
   "id": "af30baa5",
   "metadata": {},
   "outputs": [],
   "source": [
    "drug_df5 = pd.concat([drug_df4,drug_df3], axis=1)"
   ]
  },
  {
   "cell_type": "code",
   "execution_count": 42,
   "id": "87686034",
   "metadata": {},
   "outputs": [
    {
     "data": {
      "text/html": [
       "<div>\n",
       "<style scoped>\n",
       "    .dataframe tbody tr th:only-of-type {\n",
       "        vertical-align: middle;\n",
       "    }\n",
       "\n",
       "    .dataframe tbody tr th {\n",
       "        vertical-align: top;\n",
       "    }\n",
       "\n",
       "    .dataframe thead th {\n",
       "        text-align: right;\n",
       "    }\n",
       "</style>\n",
       "<table border=\"1\" class=\"dataframe\">\n",
       "  <thead>\n",
       "    <tr style=\"text-align: right;\">\n",
       "      <th>TargetID</th>\n",
       "      <th>T00145</th>\n",
       "      <th>T00158</th>\n",
       "      <th>T00216</th>\n",
       "      <th>T00884</th>\n",
       "      <th>T01318</th>\n",
       "      <th>T01777</th>\n",
       "      <th>T02532</th>\n",
       "      <th>T02551</th>\n",
       "      <th>T02653</th>\n",
       "      <th>T02777</th>\n",
       "      <th>...</th>\n",
       "      <th>T98933</th>\n",
       "      <th>T99009</th>\n",
       "      <th>T99204</th>\n",
       "      <th>T99455</th>\n",
       "      <th>T99524</th>\n",
       "      <th>T99616</th>\n",
       "      <th>T99685</th>\n",
       "      <th>T99799</th>\n",
       "      <th>T99840</th>\n",
       "      <th>T99954</th>\n",
       "    </tr>\n",
       "  </thead>\n",
       "  <tbody>\n",
       "    <tr>\n",
       "      <th>23</th>\n",
       "      <td>NaN</td>\n",
       "      <td>NaN</td>\n",
       "      <td>NaN</td>\n",
       "      <td>NaN</td>\n",
       "      <td>NaN</td>\n",
       "      <td>NaN</td>\n",
       "      <td>NaN</td>\n",
       "      <td>NaN</td>\n",
       "      <td>NaN</td>\n",
       "      <td>NaN</td>\n",
       "      <td>...</td>\n",
       "      <td>NaN</td>\n",
       "      <td>NaN</td>\n",
       "      <td>NaN</td>\n",
       "      <td>NaN</td>\n",
       "      <td>NaN</td>\n",
       "      <td>NaN</td>\n",
       "      <td>NaN</td>\n",
       "      <td>NaN</td>\n",
       "      <td>NaN</td>\n",
       "      <td>NaN</td>\n",
       "    </tr>\n",
       "    <tr>\n",
       "      <th>51</th>\n",
       "      <td>NaN</td>\n",
       "      <td>NaN</td>\n",
       "      <td>NaN</td>\n",
       "      <td>NaN</td>\n",
       "      <td>NaN</td>\n",
       "      <td>NaN</td>\n",
       "      <td>NaN</td>\n",
       "      <td>NaN</td>\n",
       "      <td>NaN</td>\n",
       "      <td>NaN</td>\n",
       "      <td>...</td>\n",
       "      <td>NaN</td>\n",
       "      <td>NaN</td>\n",
       "      <td>NaN</td>\n",
       "      <td>NaN</td>\n",
       "      <td>NaN</td>\n",
       "      <td>NaN</td>\n",
       "      <td>NaN</td>\n",
       "      <td>NaN</td>\n",
       "      <td>NaN</td>\n",
       "      <td>NaN</td>\n",
       "    </tr>\n",
       "    <tr>\n",
       "      <th>57</th>\n",
       "      <td>NaN</td>\n",
       "      <td>NaN</td>\n",
       "      <td>NaN</td>\n",
       "      <td>NaN</td>\n",
       "      <td>NaN</td>\n",
       "      <td>NaN</td>\n",
       "      <td>NaN</td>\n",
       "      <td>NaN</td>\n",
       "      <td>NaN</td>\n",
       "      <td>NaN</td>\n",
       "      <td>...</td>\n",
       "      <td>NaN</td>\n",
       "      <td>NaN</td>\n",
       "      <td>NaN</td>\n",
       "      <td>NaN</td>\n",
       "      <td>NaN</td>\n",
       "      <td>NaN</td>\n",
       "      <td>NaN</td>\n",
       "      <td>NaN</td>\n",
       "      <td>NaN</td>\n",
       "      <td>NaN</td>\n",
       "    </tr>\n",
       "    <tr>\n",
       "      <th>59</th>\n",
       "      <td>NaN</td>\n",
       "      <td>NaN</td>\n",
       "      <td>NaN</td>\n",
       "      <td>NaN</td>\n",
       "      <td>NaN</td>\n",
       "      <td>NaN</td>\n",
       "      <td>NaN</td>\n",
       "      <td>NaN</td>\n",
       "      <td>NaN</td>\n",
       "      <td>NaN</td>\n",
       "      <td>...</td>\n",
       "      <td>NaN</td>\n",
       "      <td>NaN</td>\n",
       "      <td>NaN</td>\n",
       "      <td>NaN</td>\n",
       "      <td>NaN</td>\n",
       "      <td>NaN</td>\n",
       "      <td>NaN</td>\n",
       "      <td>NaN</td>\n",
       "      <td>NaN</td>\n",
       "      <td>NaN</td>\n",
       "    </tr>\n",
       "    <tr>\n",
       "      <th>195</th>\n",
       "      <td>NaN</td>\n",
       "      <td>NaN</td>\n",
       "      <td>NaN</td>\n",
       "      <td>NaN</td>\n",
       "      <td>NaN</td>\n",
       "      <td>NaN</td>\n",
       "      <td>NaN</td>\n",
       "      <td>NaN</td>\n",
       "      <td>NaN</td>\n",
       "      <td>NaN</td>\n",
       "      <td>...</td>\n",
       "      <td>NaN</td>\n",
       "      <td>NaN</td>\n",
       "      <td>NaN</td>\n",
       "      <td>NaN</td>\n",
       "      <td>NaN</td>\n",
       "      <td>NaN</td>\n",
       "      <td>NaN</td>\n",
       "      <td>NaN</td>\n",
       "      <td>NaN</td>\n",
       "      <td>NaN</td>\n",
       "    </tr>\n",
       "    <tr>\n",
       "      <th>...</th>\n",
       "      <td>...</td>\n",
       "      <td>...</td>\n",
       "      <td>...</td>\n",
       "      <td>...</td>\n",
       "      <td>...</td>\n",
       "      <td>...</td>\n",
       "      <td>...</td>\n",
       "      <td>...</td>\n",
       "      <td>...</td>\n",
       "      <td>...</td>\n",
       "      <td>...</td>\n",
       "      <td>...</td>\n",
       "      <td>...</td>\n",
       "      <td>...</td>\n",
       "      <td>...</td>\n",
       "      <td>...</td>\n",
       "      <td>...</td>\n",
       "      <td>...</td>\n",
       "      <td>...</td>\n",
       "      <td>...</td>\n",
       "      <td>...</td>\n",
       "    </tr>\n",
       "    <tr>\n",
       "      <th>30251</th>\n",
       "      <td>NaN</td>\n",
       "      <td>NaN</td>\n",
       "      <td>NaN</td>\n",
       "      <td>NaN</td>\n",
       "      <td>NaN</td>\n",
       "      <td>NaN</td>\n",
       "      <td>NaN</td>\n",
       "      <td>NaN</td>\n",
       "      <td>NaN</td>\n",
       "      <td>NaN</td>\n",
       "      <td>...</td>\n",
       "      <td>NaN</td>\n",
       "      <td>NaN</td>\n",
       "      <td>NaN</td>\n",
       "      <td>NaN</td>\n",
       "      <td>NaN</td>\n",
       "      <td>NaN</td>\n",
       "      <td>NaN</td>\n",
       "      <td>NaN</td>\n",
       "      <td>NaN</td>\n",
       "      <td>NaN</td>\n",
       "    </tr>\n",
       "    <tr>\n",
       "      <th>30252</th>\n",
       "      <td>NaN</td>\n",
       "      <td>NaN</td>\n",
       "      <td>NaN</td>\n",
       "      <td>NaN</td>\n",
       "      <td>NaN</td>\n",
       "      <td>NaN</td>\n",
       "      <td>NaN</td>\n",
       "      <td>NaN</td>\n",
       "      <td>NaN</td>\n",
       "      <td>NaN</td>\n",
       "      <td>...</td>\n",
       "      <td>NaN</td>\n",
       "      <td>NaN</td>\n",
       "      <td>NaN</td>\n",
       "      <td>NaN</td>\n",
       "      <td>NaN</td>\n",
       "      <td>NaN</td>\n",
       "      <td>NaN</td>\n",
       "      <td>NaN</td>\n",
       "      <td>NaN</td>\n",
       "      <td>NaN</td>\n",
       "    </tr>\n",
       "    <tr>\n",
       "      <th>30327</th>\n",
       "      <td>NaN</td>\n",
       "      <td>NaN</td>\n",
       "      <td>NaN</td>\n",
       "      <td>NaN</td>\n",
       "      <td>NaN</td>\n",
       "      <td>NaN</td>\n",
       "      <td>NaN</td>\n",
       "      <td>NaN</td>\n",
       "      <td>NaN</td>\n",
       "      <td>NaN</td>\n",
       "      <td>...</td>\n",
       "      <td>NaN</td>\n",
       "      <td>NaN</td>\n",
       "      <td>NaN</td>\n",
       "      <td>NaN</td>\n",
       "      <td>NaN</td>\n",
       "      <td>NaN</td>\n",
       "      <td>NaN</td>\n",
       "      <td>NaN</td>\n",
       "      <td>NaN</td>\n",
       "      <td>NaN</td>\n",
       "    </tr>\n",
       "    <tr>\n",
       "      <th>30352</th>\n",
       "      <td>NaN</td>\n",
       "      <td>NaN</td>\n",
       "      <td>NaN</td>\n",
       "      <td>NaN</td>\n",
       "      <td>NaN</td>\n",
       "      <td>NaN</td>\n",
       "      <td>NaN</td>\n",
       "      <td>NaN</td>\n",
       "      <td>NaN</td>\n",
       "      <td>NaN</td>\n",
       "      <td>...</td>\n",
       "      <td>NaN</td>\n",
       "      <td>NaN</td>\n",
       "      <td>NaN</td>\n",
       "      <td>NaN</td>\n",
       "      <td>NaN</td>\n",
       "      <td>NaN</td>\n",
       "      <td>NaN</td>\n",
       "      <td>NaN</td>\n",
       "      <td>NaN</td>\n",
       "      <td>NaN</td>\n",
       "    </tr>\n",
       "    <tr>\n",
       "      <th>30353</th>\n",
       "      <td>NaN</td>\n",
       "      <td>NaN</td>\n",
       "      <td>NaN</td>\n",
       "      <td>NaN</td>\n",
       "      <td>NaN</td>\n",
       "      <td>NaN</td>\n",
       "      <td>NaN</td>\n",
       "      <td>NaN</td>\n",
       "      <td>NaN</td>\n",
       "      <td>NaN</td>\n",
       "      <td>...</td>\n",
       "      <td>NaN</td>\n",
       "      <td>NaN</td>\n",
       "      <td>NaN</td>\n",
       "      <td>NaN</td>\n",
       "      <td>NaN</td>\n",
       "      <td>NaN</td>\n",
       "      <td>NaN</td>\n",
       "      <td>NaN</td>\n",
       "      <td>NaN</td>\n",
       "      <td>NaN</td>\n",
       "    </tr>\n",
       "  </tbody>\n",
       "</table>\n",
       "<p>678 rows × 313 columns</p>\n",
       "</div>"
      ],
      "text/plain": [
       "TargetID T00145 T00158 T00216 T00884 T01318 T01777 T02532 T02551 T02653  \\\n",
       "23          NaN    NaN    NaN    NaN    NaN    NaN    NaN    NaN    NaN   \n",
       "51          NaN    NaN    NaN    NaN    NaN    NaN    NaN    NaN    NaN   \n",
       "57          NaN    NaN    NaN    NaN    NaN    NaN    NaN    NaN    NaN   \n",
       "59          NaN    NaN    NaN    NaN    NaN    NaN    NaN    NaN    NaN   \n",
       "195         NaN    NaN    NaN    NaN    NaN    NaN    NaN    NaN    NaN   \n",
       "...         ...    ...    ...    ...    ...    ...    ...    ...    ...   \n",
       "30251       NaN    NaN    NaN    NaN    NaN    NaN    NaN    NaN    NaN   \n",
       "30252       NaN    NaN    NaN    NaN    NaN    NaN    NaN    NaN    NaN   \n",
       "30327       NaN    NaN    NaN    NaN    NaN    NaN    NaN    NaN    NaN   \n",
       "30352       NaN    NaN    NaN    NaN    NaN    NaN    NaN    NaN    NaN   \n",
       "30353       NaN    NaN    NaN    NaN    NaN    NaN    NaN    NaN    NaN   \n",
       "\n",
       "TargetID T02777  ... T98933 T99009 T99204 T99455 T99524 T99616 T99685 T99799  \\\n",
       "23          NaN  ...    NaN    NaN    NaN    NaN    NaN    NaN    NaN    NaN   \n",
       "51          NaN  ...    NaN    NaN    NaN    NaN    NaN    NaN    NaN    NaN   \n",
       "57          NaN  ...    NaN    NaN    NaN    NaN    NaN    NaN    NaN    NaN   \n",
       "59          NaN  ...    NaN    NaN    NaN    NaN    NaN    NaN    NaN    NaN   \n",
       "195         NaN  ...    NaN    NaN    NaN    NaN    NaN    NaN    NaN    NaN   \n",
       "...         ...  ...    ...    ...    ...    ...    ...    ...    ...    ...   \n",
       "30251       NaN  ...    NaN    NaN    NaN    NaN    NaN    NaN    NaN    NaN   \n",
       "30252       NaN  ...    NaN    NaN    NaN    NaN    NaN    NaN    NaN    NaN   \n",
       "30327       NaN  ...    NaN    NaN    NaN    NaN    NaN    NaN    NaN    NaN   \n",
       "30352       NaN  ...    NaN    NaN    NaN    NaN    NaN    NaN    NaN    NaN   \n",
       "30353       NaN  ...    NaN    NaN    NaN    NaN    NaN    NaN    NaN    NaN   \n",
       "\n",
       "TargetID T99840 T99954  \n",
       "23          NaN    NaN  \n",
       "51          NaN    NaN  \n",
       "57          NaN    NaN  \n",
       "59          NaN    NaN  \n",
       "195         NaN    NaN  \n",
       "...         ...    ...  \n",
       "30251       NaN    NaN  \n",
       "30252       NaN    NaN  \n",
       "30327       NaN    NaN  \n",
       "30352       NaN    NaN  \n",
       "30353       NaN    NaN  \n",
       "\n",
       "[678 rows x 313 columns]"
      ]
     },
     "execution_count": 42,
     "metadata": {},
     "output_type": "execute_result"
    }
   ],
   "source": [
    "drug_df3"
   ]
  },
  {
   "cell_type": "code",
   "execution_count": 43,
   "id": "de4efa19",
   "metadata": {},
   "outputs": [],
   "source": [
    "drug_df6 = drug_df5.fillna('')\n",
    "drug_df6 = drug_df6.groupby('DRUGSMIL').agg(lambda x: ''.join(x.unique()))"
   ]
  },
  {
   "cell_type": "code",
   "execution_count": 44,
   "id": "b83d49d5",
   "metadata": {},
   "outputs": [],
   "source": [
    "drug_df6.reset_index(drop=False, inplace=True)"
   ]
  },
  {
   "cell_type": "code",
   "execution_count": 45,
   "id": "efb00a96",
   "metadata": {},
   "outputs": [],
   "source": [
    "drug_df7 = drug_df6.drop(columns = 'DrugID')"
   ]
  },
  {
   "cell_type": "code",
   "execution_count": 46,
   "id": "281f243c",
   "metadata": {},
   "outputs": [
    {
     "data": {
      "text/html": [
       "<div>\n",
       "<style scoped>\n",
       "    .dataframe tbody tr th:only-of-type {\n",
       "        vertical-align: middle;\n",
       "    }\n",
       "\n",
       "    .dataframe tbody tr th {\n",
       "        vertical-align: top;\n",
       "    }\n",
       "\n",
       "    .dataframe thead th {\n",
       "        text-align: right;\n",
       "    }\n",
       "</style>\n",
       "<table border=\"1\" class=\"dataframe\">\n",
       "  <thead>\n",
       "    <tr style=\"text-align: right;\">\n",
       "      <th></th>\n",
       "      <th>DRUGSMIL</th>\n",
       "      <th>T00145</th>\n",
       "      <th>T00158</th>\n",
       "      <th>T00216</th>\n",
       "      <th>T00884</th>\n",
       "      <th>T01318</th>\n",
       "      <th>T01777</th>\n",
       "      <th>T02532</th>\n",
       "      <th>T02551</th>\n",
       "      <th>T02653</th>\n",
       "      <th>...</th>\n",
       "      <th>T98933</th>\n",
       "      <th>T99009</th>\n",
       "      <th>T99204</th>\n",
       "      <th>T99455</th>\n",
       "      <th>T99524</th>\n",
       "      <th>T99616</th>\n",
       "      <th>T99685</th>\n",
       "      <th>T99799</th>\n",
       "      <th>T99840</th>\n",
       "      <th>T99954</th>\n",
       "    </tr>\n",
       "  </thead>\n",
       "  <tbody>\n",
       "    <tr>\n",
       "      <th>0</th>\n",
       "      <td>B(C(CC(C)C)NC(=O)C(CC1=CC=CC=C1)NC(=O)C2=NC=CN...</td>\n",
       "      <td></td>\n",
       "      <td></td>\n",
       "      <td></td>\n",
       "      <td></td>\n",
       "      <td></td>\n",
       "      <td></td>\n",
       "      <td></td>\n",
       "      <td></td>\n",
       "      <td></td>\n",
       "      <td>...</td>\n",
       "      <td></td>\n",
       "      <td></td>\n",
       "      <td></td>\n",
       "      <td></td>\n",
       "      <td></td>\n",
       "      <td></td>\n",
       "      <td></td>\n",
       "      <td></td>\n",
       "      <td></td>\n",
       "      <td></td>\n",
       "    </tr>\n",
       "    <tr>\n",
       "      <th>1</th>\n",
       "      <td>C#CCNC1CCC2=CC=CC=C12</td>\n",
       "      <td></td>\n",
       "      <td></td>\n",
       "      <td></td>\n",
       "      <td></td>\n",
       "      <td></td>\n",
       "      <td></td>\n",
       "      <td></td>\n",
       "      <td></td>\n",
       "      <td></td>\n",
       "      <td>...</td>\n",
       "      <td></td>\n",
       "      <td></td>\n",
       "      <td></td>\n",
       "      <td></td>\n",
       "      <td></td>\n",
       "      <td></td>\n",
       "      <td></td>\n",
       "      <td></td>\n",
       "      <td></td>\n",
       "      <td></td>\n",
       "    </tr>\n",
       "    <tr>\n",
       "      <th>2</th>\n",
       "      <td>C(=O)(N)NO</td>\n",
       "      <td></td>\n",
       "      <td></td>\n",
       "      <td></td>\n",
       "      <td></td>\n",
       "      <td></td>\n",
       "      <td></td>\n",
       "      <td></td>\n",
       "      <td></td>\n",
       "      <td></td>\n",
       "      <td>...</td>\n",
       "      <td></td>\n",
       "      <td></td>\n",
       "      <td></td>\n",
       "      <td></td>\n",
       "      <td></td>\n",
       "      <td></td>\n",
       "      <td></td>\n",
       "      <td></td>\n",
       "      <td></td>\n",
       "      <td></td>\n",
       "    </tr>\n",
       "    <tr>\n",
       "      <th>3</th>\n",
       "      <td>C(=O)(O)[O-].[Na+]</td>\n",
       "      <td></td>\n",
       "      <td></td>\n",
       "      <td></td>\n",
       "      <td></td>\n",
       "      <td></td>\n",
       "      <td></td>\n",
       "      <td></td>\n",
       "      <td></td>\n",
       "      <td></td>\n",
       "      <td>...</td>\n",
       "      <td></td>\n",
       "      <td></td>\n",
       "      <td></td>\n",
       "      <td></td>\n",
       "      <td></td>\n",
       "      <td></td>\n",
       "      <td></td>\n",
       "      <td></td>\n",
       "      <td></td>\n",
       "      <td></td>\n",
       "    </tr>\n",
       "    <tr>\n",
       "      <th>4</th>\n",
       "      <td>C(C(C(C(C(CO)O)O)O)O)O</td>\n",
       "      <td></td>\n",
       "      <td></td>\n",
       "      <td></td>\n",
       "      <td></td>\n",
       "      <td></td>\n",
       "      <td></td>\n",
       "      <td></td>\n",
       "      <td></td>\n",
       "      <td></td>\n",
       "      <td>...</td>\n",
       "      <td></td>\n",
       "      <td></td>\n",
       "      <td></td>\n",
       "      <td></td>\n",
       "      <td></td>\n",
       "      <td></td>\n",
       "      <td></td>\n",
       "      <td></td>\n",
       "      <td></td>\n",
       "      <td></td>\n",
       "    </tr>\n",
       "    <tr>\n",
       "      <th>...</th>\n",
       "      <td>...</td>\n",
       "      <td>...</td>\n",
       "      <td>...</td>\n",
       "      <td>...</td>\n",
       "      <td>...</td>\n",
       "      <td>...</td>\n",
       "      <td>...</td>\n",
       "      <td>...</td>\n",
       "      <td>...</td>\n",
       "      <td>...</td>\n",
       "      <td>...</td>\n",
       "      <td>...</td>\n",
       "      <td>...</td>\n",
       "      <td>...</td>\n",
       "      <td>...</td>\n",
       "      <td>...</td>\n",
       "      <td>...</td>\n",
       "      <td>...</td>\n",
       "      <td>...</td>\n",
       "      <td>...</td>\n",
       "      <td>...</td>\n",
       "    </tr>\n",
       "    <tr>\n",
       "      <th>447</th>\n",
       "      <td>[Cl-].[K+]</td>\n",
       "      <td></td>\n",
       "      <td></td>\n",
       "      <td></td>\n",
       "      <td></td>\n",
       "      <td></td>\n",
       "      <td></td>\n",
       "      <td></td>\n",
       "      <td></td>\n",
       "      <td></td>\n",
       "      <td>...</td>\n",
       "      <td></td>\n",
       "      <td></td>\n",
       "      <td></td>\n",
       "      <td></td>\n",
       "      <td></td>\n",
       "      <td></td>\n",
       "      <td></td>\n",
       "      <td></td>\n",
       "      <td></td>\n",
       "      <td></td>\n",
       "    </tr>\n",
       "    <tr>\n",
       "      <th>448</th>\n",
       "      <td>[N]=O</td>\n",
       "      <td></td>\n",
       "      <td></td>\n",
       "      <td></td>\n",
       "      <td></td>\n",
       "      <td></td>\n",
       "      <td></td>\n",
       "      <td></td>\n",
       "      <td></td>\n",
       "      <td></td>\n",
       "      <td>...</td>\n",
       "      <td></td>\n",
       "      <td></td>\n",
       "      <td></td>\n",
       "      <td></td>\n",
       "      <td></td>\n",
       "      <td></td>\n",
       "      <td></td>\n",
       "      <td></td>\n",
       "      <td></td>\n",
       "      <td></td>\n",
       "    </tr>\n",
       "    <tr>\n",
       "      <th>449</th>\n",
       "      <td>[Na+].[Cl-]</td>\n",
       "      <td></td>\n",
       "      <td></td>\n",
       "      <td></td>\n",
       "      <td></td>\n",
       "      <td></td>\n",
       "      <td></td>\n",
       "      <td></td>\n",
       "      <td></td>\n",
       "      <td></td>\n",
       "      <td>...</td>\n",
       "      <td></td>\n",
       "      <td></td>\n",
       "      <td></td>\n",
       "      <td></td>\n",
       "      <td></td>\n",
       "      <td></td>\n",
       "      <td></td>\n",
       "      <td></td>\n",
       "      <td></td>\n",
       "      <td></td>\n",
       "    </tr>\n",
       "    <tr>\n",
       "      <th>450</th>\n",
       "      <td>[O-2].[O-2].[O-2].[As+3].[As+3]</td>\n",
       "      <td></td>\n",
       "      <td></td>\n",
       "      <td></td>\n",
       "      <td></td>\n",
       "      <td></td>\n",
       "      <td></td>\n",
       "      <td></td>\n",
       "      <td></td>\n",
       "      <td></td>\n",
       "      <td>...</td>\n",
       "      <td></td>\n",
       "      <td></td>\n",
       "      <td></td>\n",
       "      <td></td>\n",
       "      <td></td>\n",
       "      <td></td>\n",
       "      <td></td>\n",
       "      <td></td>\n",
       "      <td></td>\n",
       "      <td></td>\n",
       "    </tr>\n",
       "    <tr>\n",
       "      <th>451</th>\n",
       "      <td>[O-]S(=O)(=O)[O-]</td>\n",
       "      <td></td>\n",
       "      <td></td>\n",
       "      <td></td>\n",
       "      <td></td>\n",
       "      <td></td>\n",
       "      <td></td>\n",
       "      <td></td>\n",
       "      <td></td>\n",
       "      <td></td>\n",
       "      <td>...</td>\n",
       "      <td></td>\n",
       "      <td></td>\n",
       "      <td></td>\n",
       "      <td></td>\n",
       "      <td></td>\n",
       "      <td></td>\n",
       "      <td></td>\n",
       "      <td></td>\n",
       "      <td></td>\n",
       "      <td></td>\n",
       "    </tr>\n",
       "  </tbody>\n",
       "</table>\n",
       "<p>452 rows × 314 columns</p>\n",
       "</div>"
      ],
      "text/plain": [
       "                                              DRUGSMIL T00145 T00158 T00216  \\\n",
       "0    B(C(CC(C)C)NC(=O)C(CC1=CC=CC=C1)NC(=O)C2=NC=CN...                        \n",
       "1                                C#CCNC1CCC2=CC=CC=C12                        \n",
       "2                                           C(=O)(N)NO                        \n",
       "3                                   C(=O)(O)[O-].[Na+]                        \n",
       "4                               C(C(C(C(C(CO)O)O)O)O)O                        \n",
       "..                                                 ...    ...    ...    ...   \n",
       "447                                         [Cl-].[K+]                        \n",
       "448                                              [N]=O                        \n",
       "449                                        [Na+].[Cl-]                        \n",
       "450                    [O-2].[O-2].[O-2].[As+3].[As+3]                        \n",
       "451                                  [O-]S(=O)(=O)[O-]                        \n",
       "\n",
       "    T00884 T01318 T01777 T02532 T02551 T02653  ... T98933 T99009 T99204  \\\n",
       "0                                              ...                        \n",
       "1                                              ...                        \n",
       "2                                              ...                        \n",
       "3                                              ...                        \n",
       "4                                              ...                        \n",
       "..     ...    ...    ...    ...    ...    ...  ...    ...    ...    ...   \n",
       "447                                            ...                        \n",
       "448                                            ...                        \n",
       "449                                            ...                        \n",
       "450                                            ...                        \n",
       "451                                            ...                        \n",
       "\n",
       "    T99455 T99524 T99616 T99685 T99799 T99840 T99954  \n",
       "0                                                     \n",
       "1                                                     \n",
       "2                                                     \n",
       "3                                                     \n",
       "4                                                     \n",
       "..     ...    ...    ...    ...    ...    ...    ...  \n",
       "447                                                   \n",
       "448                                                   \n",
       "449                                                   \n",
       "450                                                   \n",
       "451                                                   \n",
       "\n",
       "[452 rows x 314 columns]"
      ]
     },
     "execution_count": 46,
     "metadata": {},
     "output_type": "execute_result"
    }
   ],
   "source": [
    "drug_df7"
   ]
  },
  {
   "cell_type": "code",
   "execution_count": null,
   "id": "c8cdac28",
   "metadata": {},
   "outputs": [],
   "source": []
  }
 ],
 "metadata": {
  "kernelspec": {
   "display_name": "Python 3 (ipykernel)",
   "language": "python",
   "name": "python3"
  },
  "language_info": {
   "codemirror_mode": {
    "name": "ipython",
    "version": 3
   },
   "file_extension": ".py",
   "mimetype": "text/x-python",
   "name": "python",
   "nbconvert_exporter": "python",
   "pygments_lexer": "ipython3",
   "version": "3.8.12"
  },
  "toc": {
   "base_numbering": 1,
   "nav_menu": {},
   "number_sections": true,
   "sideBar": true,
   "skip_h1_title": false,
   "title_cell": "Table of Contents",
   "title_sidebar": "Contents",
   "toc_cell": false,
   "toc_position": {},
   "toc_section_display": true,
   "toc_window_display": false
  }
 },
 "nbformat": 4,
 "nbformat_minor": 5
}
