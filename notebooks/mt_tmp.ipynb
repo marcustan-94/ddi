{
 "cells": [
  {
   "cell_type": "code",
   "execution_count": 1,
   "id": "19e2b75b",
   "metadata": {},
   "outputs": [],
   "source": [
    "import pandas as pd\n",
    "import numpy as np\n",
    "from ddi.utils import get_data_filepath, get_rawdata_filepath, df_optimized\n",
    "import warnings\n",
    "warnings.filterwarnings('ignore')\n",
    "\n",
    "\n",
    "def drug_map(ts_df):\n",
    "    '''\n",
    "    Returns a dictionary with keys as the SMILES strings and values ranging from 100 to\n",
    "    745 as a unique identifier number\n",
    "    '''\n",
    "    # combining both drug 1 and drug 2 smiles together and creating a list of unique smiles\n",
    "    total_smiles = ts_df['Drug1'].append(ts_df['Drug2'])\n",
    "    unique_smiles = (set(list(total_smiles)))\n",
    "    # converting the unique smiles list to a dataframe for label encoding purposes\n",
    "    unique_smiles = pd.DataFrame(unique_smiles).rename(columns = {0:'Drug'})\n",
    "    unique_smiles.sort_values(by='Drug', inplace=True)\n",
    "    # assigning each drug smiles a unique identifier number from 100 to 745\n",
    "    unique_smiles['Drug_ID'] = [i for i in range(100,745)]\n",
    "    # converting the dataframe back into a dictionary\n",
    "    drug_dict = pd.Series(unique_smiles['Drug_ID'].values, index = unique_smiles['Drug']).to_dict()\n",
    "\n",
    "    return drug_dict\n",
    "\n",
    "\n",
    "def clean_twosides(ts_df):\n",
    "    '''\n",
    "    Replacing drug smiles with their respective unique identifier numbers.\n",
    "    Perform memory optimization and cleaning up ts_df\n",
    "    '''\n",
    "    # replacing smiles strings with the unique drug numbers as defined in the drug_dict\n",
    "    ts_df['Drug1'] = ts_df['Drug1'].map(drug_dict)\n",
    "    ts_df['Drug2'] = ts_df['Drug2'].map(drug_dict)\n",
    "    # drop irrelavant columns\n",
    "    ts_df = ts_df.drop(columns = ['Drug1_ID','Drug2_ID'])\n",
    "    # creating unique 6-digit DD_ID for each drug 1 and drug 2 combination\n",
    "    DD_ID = ts_df['Drug1'].astype(str) + ts_df['Drug2'].astype(str)\n",
    "    DD_ID = DD_ID.astype('int32')\n",
    "    ts_df.insert(loc=2, column='DD_ID', value=DD_ID)\n",
    "    # performing memory optimization\n",
    "    df_optimized(ts_df)\n",
    "\n",
    "    return ts_df.sort_values(by =['DD_ID'])\n",
    "\n",
    "\n",
    "def ts_pivot(ts_df):\n",
    "    '''Reshaping ts_df to generate columns for each of the side effect classes'''\n",
    "    # merging Y_cat column from reclass_df with ts_df\n",
    "    ts_df = ts_df.merge(reclass_df, on='Y', how='left')\n",
    "    \n",
    "    ts_df_slices = [ts_df[:1_500_000], ts_df[1_500_000:3_000_000], ts_df[3_000_000:]]\n",
    "    pivot_df = pd.DataFrame()\n",
    "    \n",
    "    for slice in ts_df_slices:\n",
    "        # pivot Y_cat into columns\n",
    "        pivot = slice.pivot(columns='Y_cat',values='DD_ID').fillna(0).astype('int32')\n",
    "        # concat ts_df with pivoted Y_cat columns\n",
    "        pivot_df_slice = pd.concat([slice, pivot], axis=1)\n",
    "        pivot_df = pd.concat([pivot_df, pivot_df_slice], axis=0)        \n",
    "        # dropping irrelavant columns and groupby by DD_ID\n",
    "        pivot_df = pivot_df.drop(columns=['Drug1','Drug2','Y','Y_cat']).groupby('DD_ID').sum()\n",
    "\n",
    "    # transforming each side effect column into binary\n",
    "    for series in pivot_df.columns:\n",
    "        pivot_df[series] = pivot_df[series].apply(lambda x: x if x == 0 else 1)\n",
    "\n",
    "    # Re-obtaining the unique identifier numbers of drug 1 and 2, by slicing the DD_ID\n",
    "    drug1 = pivot_df.index // 1000\n",
    "    drug2 = pivot_df.index % 1000\n",
    "\n",
    "    # Adding back drug 1 and 2 unique identifier numbers into pivot_df\n",
    "    pivot_df.insert(loc=0, column='Drug1', value=drug1)\n",
    "    pivot_df.insert(loc=1, column='Drug2', value=drug2)\n",
    "\n",
    "    return pivot_df.reset_index()"
   ]
  },
  {
   "cell_type": "code",
   "execution_count": 2,
   "id": "06591704",
   "metadata": {},
   "outputs": [],
   "source": [
    "# importing files\n",
    "ts_df = pd.read_csv(get_rawdata_filepath('twosides.csv'))\n",
    "reclass_df = pd.read_csv(get_data_filepath('complete_severity_reclassification.csv'))\n",
    "feat_eng_df = pd.read_csv(get_data_filepath('feature_engineering.csv'))\n",
    "\n",
    "# simple cleaning\n",
    "reclass_df = reclass_df[['Y','Y_cat']]\n",
    "\n",
    "# running above functions\n",
    "drug_dict = drug_map(ts_df)\n",
    "ts_df = clean_twosides(ts_df)"
   ]
  },
  {
   "cell_type": "code",
   "execution_count": 3,
   "id": "e5e6e09b",
   "metadata": {},
   "outputs": [],
   "source": [
    "# merging Y_cat column from reclass_df with ts_df\n",
    "ts_df = ts_df.merge(reclass_df, on='Y', how='left')\n",
    "\n",
    "ts_df_slices = [ts_df[:1_500_000], ts_df[1_500_000:3_000_000], ts_df[3_000_000:]]\n",
    "pivot_df = pd.DataFrame()"
   ]
  },
  {
   "cell_type": "code",
   "execution_count": 5,
   "id": "a3b337ce",
   "metadata": {},
   "outputs": [],
   "source": [
    "for ts_df_slice in ts_df_slices:\n",
    "    # pivot Y_cat into columns\n",
    "    pivot = ts_df_slice.pivot(columns='Y_cat',values='Y_cat').fillna(0).astype('int8')\n",
    "    pivot_df = pd.concat((pivot_df, pivot), axis=0)        "
   ]
  },
  {
   "cell_type": "code",
   "execution_count": 6,
   "id": "b3b1c337",
   "metadata": {},
   "outputs": [],
   "source": [
    "# concat ts_df with pivoted Y_cat columns\n",
    "pivot_df = pd.concat((ts_df[['DD_ID']], pivot_df), axis=1)"
   ]
  },
  {
   "cell_type": "code",
   "execution_count": null,
   "id": "edd2fc8c",
   "metadata": {},
   "outputs": [],
   "source": [
    "# dropping irrelavant columns and groupby by DD_ID\n",
    "pivot_df = pivot_df.groupby(['DD_ID'], as_index=False).sum()"
   ]
  },
  {
   "cell_type": "code",
   "execution_count": null,
   "id": "f243b130",
   "metadata": {},
   "outputs": [],
   "source": [
    "# transforming each side effect column into binary\n",
    "for col in pivot_df.columns:\n",
    "    pivot_df[col] = pivot_df[col].apply(lambda x: x if x == 0 else 1)"
   ]
  },
  {
   "cell_type": "code",
   "execution_count": null,
   "id": "69847123",
   "metadata": {},
   "outputs": [],
   "source": [
    "pivot_df"
   ]
  },
  {
   "cell_type": "code",
   "execution_count": null,
   "id": "33f016c7",
   "metadata": {},
   "outputs": [],
   "source": [
    "\n",
    "# ## Merging with feat_eng_df\n",
    "# converting each drug smiles into their respective unique drug identifier numbers, using drug_dict\n",
    "feat_eng_df['smiles'] = feat_eng_df['smiles'].map(drug_dict)\n",
    "# renaming column for better clarity\n",
    "feat_eng_df.rename(columns = {'smiles': 'Drug'}, inplace=True)\n",
    "# storing feat_eng_df column names in feat_eng_df_cols variable as it will be needed later\n",
    "feat_eng_df_cols = feat_eng_df.columns[1:]\n",
    "\n",
    "# merging pivot_df with drug1 and drug2 features\n",
    "# feature names for drug2 will contain _1 at the back to differentiate it from drug1 features\n",
    "final_df = pivot_df.merge(feat_eng_df, left_on='Drug1', right_on='Drug', how = 'left')\n",
    "for col in feat_eng_df.columns[1:]:\n",
    "    feat_eng_df.rename(columns = {col: col+'_1'}, inplace=True)\n",
    "final_df = final_df.merge(feat_eng_df, left_on='Drug2', right_on='Drug', how = 'left')\n",
    "\n",
    "# dropping additional columns generated from the merging step\n",
    "final_df.drop(columns=['Drug_x', 'Drug_y'], inplace=True)\n",
    "\n",
    "# ## Differencing the features\n",
    "for col in feat_eng_df_cols:\n",
    "    final_df[col+'_diff']= final_df[col].sub(final_df[col+'_1']) # creating a new column for differenced features\n",
    "    final_df.drop(columns = [col,col+'_1'], inplace = True) # dropping unneeded columns\n",
    "\n",
    "# obtaining absolute values as we are only interested in the magnitude of the difference between features\n",
    "final_df = final_df.abs()\n",
    "\n",
    "# performing memory optimization\n",
    "final_df = df_optimized(final_df)\n",
    "\n",
    "# ## Exporting final_df\n",
    "final_df.to_csv(get_data_filepath('final_dataset.csv'))\n",
    "print(\"final_dataset.csv created and stored in data folder\")\n"
   ]
  }
 ],
 "metadata": {
  "kernelspec": {
   "display_name": "Python 3 (ipykernel)",
   "language": "python",
   "name": "python3"
  },
  "language_info": {
   "codemirror_mode": {
    "name": "ipython",
    "version": 3
   },
   "file_extension": ".py",
   "mimetype": "text/x-python",
   "name": "python",
   "nbconvert_exporter": "python",
   "pygments_lexer": "ipython3",
   "version": "3.8.12"
  },
  "toc": {
   "base_numbering": 1,
   "nav_menu": {},
   "number_sections": true,
   "sideBar": true,
   "skip_h1_title": false,
   "title_cell": "Table of Contents",
   "title_sidebar": "Contents",
   "toc_cell": false,
   "toc_position": {},
   "toc_section_display": true,
   "toc_window_display": false
  },
  "varInspector": {
   "cols": {
    "lenName": 16,
    "lenType": 16,
    "lenVar": 40
   },
   "kernels_config": {
    "python": {
     "delete_cmd_postfix": "",
     "delete_cmd_prefix": "del ",
     "library": "var_list.py",
     "varRefreshCmd": "print(var_dic_list())"
    },
    "r": {
     "delete_cmd_postfix": ") ",
     "delete_cmd_prefix": "rm(",
     "library": "var_list.r",
     "varRefreshCmd": "cat(var_dic_list()) "
    }
   },
   "types_to_exclude": [
    "module",
    "function",
    "builtin_function_or_method",
    "instance",
    "_Feature"
   ],
   "window_display": false
  }
 },
 "nbformat": 4,
 "nbformat_minor": 5
}
