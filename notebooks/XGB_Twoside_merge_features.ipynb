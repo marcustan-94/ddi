{
 "cells": [
  {
   "cell_type": "code",
   "execution_count": null,
   "id": "6d11c0ea",
   "metadata": {},
   "outputs": [],
   "source": [
    "import pandas as pd \n",
    "import numpy as np\n",
    "import os"
   ]
  },
  {
   "cell_type": "code",
   "execution_count": null,
   "id": "88f8cc0b",
   "metadata": {},
   "outputs": [],
   "source": [
    "ts_df = pd.read_csv(\"/Users/george/Desktop/LW-DDI Project/twosides.csv\")"
   ]
  },
  {
   "cell_type": "code",
   "execution_count": null,
   "id": "4712eadb",
   "metadata": {},
   "outputs": [],
   "source": [
    "fe_df = pd.read_csv(\"/Users/george/Desktop/LW-DDI Project/cxe_feat_eng_droppedcolumns.csv\")"
   ]
  },
  {
   "cell_type": "code",
   "execution_count": null,
   "id": "2d93b3ce",
   "metadata": {},
   "outputs": [],
   "source": [
    "def df_optimized(df, verbose=True, **kwargs):\n",
    "    \"\"\"\n",
    "    Reduces size of dataframe by downcasting numerical columns\n",
    "    :param df: input dataframe\n",
    "    :param verbose: print size reduction if set to True\n",
    "    :param kwargs:\n",
    "    :return:\n",
    "    \"\"\"\n",
    "    in_size = df.memory_usage(index=True).sum()\n",
    "    for type in [\"float\", \"integer\"]:\n",
    "        l_cols = list(df.select_dtypes(include=type))\n",
    "        for col in l_cols:\n",
    "            df[col] = pd.to_numeric(df[col], downcast=type)\n",
    "            if type == \"float\":\n",
    "                df[col] = pd.to_numeric(df[col], downcast=\"integer\")\n",
    "    out_size = df.memory_usage(index=True).sum()\n",
    "    ratio = (1 - round(out_size / in_size, 2)) * 100\n",
    "    GB = out_size / 1000000000\n",
    "    if verbose:\n",
    "        print(\"optimized size by {} % | {} GB\".format(ratio, GB))\n",
    "    return df"
   ]
  },
  {
   "cell_type": "code",
   "execution_count": null,
   "id": "f1bbdd94",
   "metadata": {},
   "outputs": [],
   "source": [
    "fe_df= df_optimized(fe_df)"
   ]
  },
  {
   "cell_type": "code",
   "execution_count": null,
   "id": "c01079c3",
   "metadata": {},
   "outputs": [],
   "source": [
    "ts_df"
   ]
  },
  {
   "cell_type": "code",
   "execution_count": null,
   "id": "cea9fd7e",
   "metadata": {},
   "outputs": [],
   "source": [
    "drug1_df = ts_df.copy()"
   ]
  },
  {
   "cell_type": "code",
   "execution_count": null,
   "id": "39cca648",
   "metadata": {},
   "outputs": [],
   "source": [
    "drug1_df = drug1_df[['Drug1']]"
   ]
  },
  {
   "cell_type": "code",
   "execution_count": null,
   "id": "5d33c9b4",
   "metadata": {},
   "outputs": [],
   "source": [
    "drug1_merged = drug1_df.merge(fe_df, on='Drug1', how='left')"
   ]
  },
  {
   "cell_type": "code",
   "execution_count": null,
   "id": "5fe33f45",
   "metadata": {},
   "outputs": [],
   "source": [
    "drug2_df =ts_df[['Drug2','Y']]"
   ]
  },
  {
   "cell_type": "code",
   "execution_count": null,
   "id": "3a35409e",
   "metadata": {},
   "outputs": [],
   "source": [
    "f2_df_copy = fe_df.rename(columns ={'Drug1':'Drug2'})"
   ]
  },
  {
   "cell_type": "code",
   "execution_count": null,
   "id": "34175126",
   "metadata": {},
   "outputs": [],
   "source": [
    "drug2_merged = drug2_df.merge(f2_df_copy, on='Drug2', how='left')"
   ]
  },
  {
   "cell_type": "code",
   "execution_count": null,
   "id": "5a98cae4",
   "metadata": {},
   "outputs": [],
   "source": [
    "final_merge = pd.concat([drug1_merged,drug2_merged],axis =1)"
   ]
  },
  {
   "cell_type": "code",
   "execution_count": null,
   "id": "abebab72",
   "metadata": {},
   "outputs": [],
   "source": [
    "# final_merge.to_csv('/Users/george/Desktop/LW-DDI Project/final_merge2.csv')"
   ]
  },
  {
   "cell_type": "code",
   "execution_count": null,
   "id": "0ec7fde0",
   "metadata": {},
   "outputs": [],
   "source": [
    "final_merge # drop unnamed. "
   ]
  },
  {
   "cell_type": "code",
   "execution_count": null,
   "id": "609445f2",
   "metadata": {},
   "outputs": [],
   "source": []
  }
 ],
 "metadata": {
  "kernelspec": {
   "display_name": "Python 3 (ipykernel)",
   "language": "python",
   "name": "python3"
  },
  "language_info": {
   "codemirror_mode": {
    "name": "ipython",
    "version": 3
   },
   "file_extension": ".py",
   "mimetype": "text/x-python",
   "name": "python",
   "nbconvert_exporter": "python",
   "pygments_lexer": "ipython3",
   "version": "3.8.12"
  },
  "toc": {
   "base_numbering": 1,
   "nav_menu": {},
   "number_sections": true,
   "sideBar": true,
   "skip_h1_title": false,
   "title_cell": "Table of Contents",
   "title_sidebar": "Contents",
   "toc_cell": false,
   "toc_position": {},
   "toc_section_display": true,
   "toc_window_display": false
  }
 },
 "nbformat": 4,
 "nbformat_minor": 5
}
