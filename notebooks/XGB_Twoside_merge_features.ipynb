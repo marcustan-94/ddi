{
 "cells": [
  {
   "cell_type": "code",
   "execution_count": 2,
   "id": "6d11c0ea",
   "metadata": {},
   "outputs": [],
   "source": [
    "import pandas as pd \n",
    "import numpy as np\n",
    "from sklearn import preprocessing\n",
    "\n",
    "import gc\n",
    "import warnings \n",
    "warnings.filterwarnings('ignore')"
   ]
  },
  {
   "cell_type": "markdown",
   "id": "9c54a924",
   "metadata": {},
   "source": [
    "## importing datasets"
   ]
  },
  {
   "cell_type": "code",
   "execution_count": 3,
   "id": "88f8cc0b",
   "metadata": {},
   "outputs": [],
   "source": [
    "ts_df = pd.read_csv(\"/Users/george/Desktop/LW-DDI Project/twosides.csv\")\n",
    "fe_drug1 = pd.read_csv(\"/Users/george/Desktop/LW-DDI Project/cxe_feat_eng_drug1_droppedcolumns.csv\")\n",
    "fe_drug2 = pd.read_csv(\"/Users/george/Desktop/LW-DDI Project/cxe_feat_eng_drug2_droppedcolumns.csv\")"
   ]
  },
  {
   "cell_type": "markdown",
   "id": "c05b1dfc",
   "metadata": {},
   "source": [
    "## Cleaning data "
   ]
  },
  {
   "cell_type": "code",
   "execution_count": 4,
   "id": "8130d360",
   "metadata": {},
   "outputs": [],
   "source": [
    "fe_drug1 = fe_drug1.drop(columns = 'Unnamed: 0')\n",
    "fe_drug2 = fe_drug2.drop(columns ='Unnamed: 0')\n",
    "ts_df = ts_df.drop(columns = 'Unnamed: 0')\n",
    "ts_filtered = ts_df[['Drug1','Drug2','Y']] # filtering smiles and Y from twosides.csv"
   ]
  },
  {
   "cell_type": "code",
   "execution_count": 5,
   "id": "3b954010",
   "metadata": {},
   "outputs": [
    {
     "name": "stdout",
     "output_type": "stream",
     "text": [
      "optimized size by 65.99999999999999 % | 0.001197632 GB\n",
      "optimized size by 65.99999999999999 % | 0.001236428 GB\n"
     ]
    }
   ],
   "source": [
    "def df_optimized(df, verbose=True):\n",
    "    in_size = df.memory_usage(index=True).sum()\n",
    "    for type in [\"float\", \"integer\"]:\n",
    "        l_cols = list(df.select_dtypes(include=type))\n",
    "        for col in l_cols:\n",
    "            df[col] = pd.to_numeric(df[col], downcast=type)\n",
    "            df[col] = round(df[col],4)\n",
    "            if type == \"float\":\n",
    "                df[col] = pd.to_numeric(df[col], downcast=\"integer\")\n",
    "    out_size = df.memory_usage(index=True).sum()\n",
    "    df.replace({False: 0, True: 1}, inplace=True) # converting bool into int \n",
    "    ratio = (1 - round(out_size / in_size, 2)) * 100\n",
    "    GB = out_size / 1000000000\n",
    "    if verbose:\n",
    "        print(\"optimized size by {} % | {} GB\".format(ratio, GB))\n",
    "    return df\n",
    "\n",
    "# optimising datasets \n",
    "fe_drug1 = df_optimized(fe_drug1)\n",
    "fe_drug2 = df_optimized(fe_drug2)"
   ]
  },
  {
   "cell_type": "markdown",
   "id": "bae8f689",
   "metadata": {},
   "source": [
    "## Merging Datasets"
   ]
  },
  {
   "cell_type": "code",
   "execution_count": 6,
   "id": "5d33c9b4",
   "metadata": {},
   "outputs": [],
   "source": [
    "merged_drug1 = ts_filtered[['Drug1']].merge(fe_drug1, on='Drug1', how='left')\n",
    "merged_drug2 = ts_filtered[['Drug2','Y']].merge(fe_drug2, on='Drug2', how='left')\n",
    "\n",
    "for col in merged_drug2.columns[2:]:\n",
    "    merged_drug2.rename(columns = {col: col+'_1'}, inplace=True)\n",
    "\n",
    "final_merge = pd.concat([merged_drug1,merged_drug2],axis =1)\n",
    "final_df = final_merge.dropna()"
   ]
  },
  {
   "cell_type": "markdown",
   "id": "60ef0078",
   "metadata": {},
   "source": [
    "## Encoding Smiles to Numbers"
   ]
  },
  {
   "cell_type": "code",
   "execution_count": 7,
   "id": "b4b1606e",
   "metadata": {},
   "outputs": [],
   "source": [
    "total_smiles = final_df['Drug1'].append(final_df['Drug2']) # combining both drug1 and drug2 smiles together \n",
    "unique_smiles = (set(list(total_smiles))) #create a list of drug_names and extract unique smiles\n",
    "unique_smiles = pd.DataFrame(unique_smiles).rename(columns ={0:'Drug'}) # create a dataframe for label encoding purposes\n",
    "\n",
    "# fit and transform. \n",
    "le = preprocessing.LabelEncoder()\n",
    "le.fit(unique_smiles[['Drug']])\n",
    "unique_smiles['Drug_number'] = le.transform(unique_smiles[['Drug']])\n",
    "\n",
    "# downcasting \n",
    "unique_smiles['Drug_number']= \\\n",
    "    pd.to_numeric(unique_smiles['Drug_number'], downcast=\"integer\")\n",
    "\n",
    "\n",
    "# forming a dictionary to map onto the final_df\n",
    "drug_dict = pd.Series(unique_smiles.Drug_number.values, index = unique_smiles.Drug).to_dict()\n",
    "\n",
    "# mapping drug numbers to smiles in the final_df \n",
    "final_df['Drug1'] = final_df['Drug1'].map(drug_dict)\n",
    "final_df['Drug2'] = final_df['Drug2'].map(drug_dict)"
   ]
  },
  {
   "cell_type": "markdown",
   "id": "71a02434",
   "metadata": {},
   "source": [
    "## Differencing"
   ]
  },
  {
   "cell_type": "code",
   "execution_count": 8,
   "id": "18595e67",
   "metadata": {},
   "outputs": [
    {
     "data": {
      "text/plain": [
       "0"
      ]
     },
     "execution_count": 8,
     "metadata": {},
     "output_type": "execute_result"
    }
   ],
   "source": [
    "## deleting dataframes that are not required to save up ram \n",
    "del merged_drug1 \n",
    "del merged_drug2\n",
    "del final_merge\n",
    "del ts_df\n",
    "del ts_filtered\n",
    "gc.collect()"
   ]
  },
  {
   "cell_type": "code",
   "execution_count": 9,
   "id": "be7be413",
   "metadata": {},
   "outputs": [],
   "source": [
    "reclass = pd.read_csv(\"/Users/george/Desktop/LW-DDI Project/gl_reclassification_encoded.csv\")\n",
    "reclass = reclass[['Y','Y_cat']]"
   ]
  },
  {
   "cell_type": "code",
   "execution_count": 10,
   "id": "c0bdd671",
   "metadata": {},
   "outputs": [
    {
     "name": "stdout",
     "output_type": "stream",
     "text": [
      "0\n",
      "1\n",
      "2\n",
      "3\n",
      "4\n"
     ]
    }
   ],
   "source": [
    "## splitting the datasets \n",
    "\n",
    "df_list = []\n",
    "\n",
    "start = 0\n",
    "last = 500_000\n",
    "for i in range(1,10):\n",
    "    if i == 9:\n",
    "        df_list.append(final_df.iloc[last:])\n",
    "    else:\n",
    "        df_list.append(final_df.iloc[start:last])\n",
    "        start += 500_000\n",
    "        last += 500_000\n",
    "        \n",
    "del final_df \n",
    "gc.collect()\n",
    "\n",
    "# extracting the all the features for drug1 and drug2\n",
    "f_list = list(fe_drug1.columns[1:])\n",
    "\n",
    "final_df = 0\n",
    "for index, df in enumerate(df_list):\n",
    "    print(index)\n",
    "    for col in f_list:\n",
    "        df[col+'_diff']= df[col].sub(df[col+'_1'])\n",
    "        df.drop(columns = [col,col+'_1'], inplace = True)\n",
    "    df_merged = df.merge(reclass, on='Y', how='left')\n",
    "    del df_list[index]\n",
    "    gc.collect()\n",
    "    if index == 0:\n",
    "        final_df = df_merged\n",
    "    else:\n",
    "        final_df = pd.concat([final_df,df_merged])  "
   ]
  },
  {
   "cell_type": "code",
   "execution_count": null,
   "id": "4181a0bd",
   "metadata": {},
   "outputs": [],
   "source": [
    "final_df.to_csv(\"/Users/george/Desktop/LW-DDI Project/final_df.csv\")"
   ]
  },
  {
   "cell_type": "markdown",
   "id": "8a024f8c",
   "metadata": {},
   "source": [
    "## Reclassification and encoding"
   ]
  },
  {
   "cell_type": "code",
   "execution_count": null,
   "id": "3c7ea77e",
   "metadata": {},
   "outputs": [],
   "source": [
    "## code to encode \n",
    "# reclass = pd.read_csv(\"/Users/george/Desktop/LW-DDI Project/mt_reclassified_twosides_labels.csv\")\n",
    "# reclass = reclass.rename(columns = {'Unnamed: 0': 'Y'}).dropna().drop(columns ='side_effect')\n",
    "# reclass\n",
    "\n",
    "# le = preprocessing.LabelEncoder()\n",
    "# le.fit(reclass[['sub_system']])\n",
    "# reclass['Y_cat']= le.transform(reclass[['sub_system']])\n",
    "# reclass_cat = reclass[['Y','Y_cat']]"
   ]
  },
  {
   "cell_type": "code",
   "execution_count": null,
   "id": "ce58a92e",
   "metadata": {},
   "outputs": [],
   "source": [
    "## import reclassification csv for consistency purposes \n"
   ]
  },
  {
   "cell_type": "code",
   "execution_count": null,
   "id": "daf3102f",
   "metadata": {},
   "outputs": [],
   "source": [
    "reclass"
   ]
  },
  {
   "cell_type": "code",
   "execution_count": null,
   "id": "9defa3c2",
   "metadata": {},
   "outputs": [],
   "source": [
    "ten_percent_df = df1.merge(reclass_cat, on='Y', how='left')"
   ]
  },
  {
   "cell_type": "markdown",
   "id": "a9c6ede3",
   "metadata": {},
   "source": [
    "## Exporting CSV"
   ]
  },
  {
   "cell_type": "code",
   "execution_count": null,
   "id": "dc9e07dc",
   "metadata": {},
   "outputs": [],
   "source": [
    "ten_percent_df.to_csv(\"/Users/george/Desktop/LW-DDI Project/ten_percent_df.csv\")"
   ]
  },
  {
   "cell_type": "code",
   "execution_count": null,
   "id": "0037213b",
   "metadata": {},
   "outputs": [],
   "source": [
    "unique_smiles.to_csv(\"/Users/george/Desktop/LW-DDI Project/gl_unique_smiles_encoded.csv\")"
   ]
  },
  {
   "cell_type": "code",
   "execution_count": null,
   "id": "c4f3d572",
   "metadata": {},
   "outputs": [],
   "source": []
  }
 ],
 "metadata": {
  "kernelspec": {
   "display_name": "Python 3 (ipykernel)",
   "language": "python",
   "name": "python3"
  },
  "language_info": {
   "codemirror_mode": {
    "name": "ipython",
    "version": 3
   },
   "file_extension": ".py",
   "mimetype": "text/x-python",
   "name": "python",
   "nbconvert_exporter": "python",
   "pygments_lexer": "ipython3",
   "version": "3.8.12"
  },
  "toc": {
   "base_numbering": 1,
   "nav_menu": {},
   "number_sections": true,
   "sideBar": true,
   "skip_h1_title": false,
   "title_cell": "Table of Contents",
   "title_sidebar": "Contents",
   "toc_cell": false,
   "toc_position": {},
   "toc_section_display": true,
   "toc_window_display": false
  }
 },
 "nbformat": 4,
 "nbformat_minor": 5
}
