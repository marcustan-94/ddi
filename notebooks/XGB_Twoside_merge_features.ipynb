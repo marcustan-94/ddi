{
 "cells": [
  {
   "cell_type": "code",
   "execution_count": 1,
   "id": "6d11c0ea",
   "metadata": {},
   "outputs": [],
   "source": [
    "import pandas as pd \n",
    "import numpy as np\n",
    "import os"
   ]
  },
  {
   "cell_type": "code",
   "execution_count": 2,
   "id": "88f8cc0b",
   "metadata": {},
   "outputs": [],
   "source": [
    "ts_df = pd.read_csv(\"/Users/george/Desktop/LW-DDI Project/twosides.csv\")"
   ]
  },
  {
   "cell_type": "code",
   "execution_count": 3,
   "id": "4712eadb",
   "metadata": {},
   "outputs": [],
   "source": [
    "fe_df = pd.read_csv(\"/Users/george/Desktop/LW-DDI Project/cxe_feat_eng_droppedcolumns.csv\")"
   ]
  },
  {
   "cell_type": "code",
   "execution_count": 4,
   "id": "9e7a3386",
   "metadata": {},
   "outputs": [],
   "source": [
    "def df_optimized(df, verbose=True, **kwargs):\n",
    "    \"\"\"\n",
    "    Reduces size of dataframe by downcasting numerical columns\n",
    "    :param df: input dataframe\n",
    "    :param verbose: print size reduction if set to True\n",
    "    :param kwargs:\n",
    "    :return:\n",
    "    \"\"\"\n",
    "    in_size = df.memory_usage(index=True).sum()\n",
    "    for type in [\"float\", \"integer\"]:\n",
    "        l_cols = list(df.select_dtypes(include=type))\n",
    "        for col in l_cols:\n",
    "            df[col] = pd.to_numeric(df[col], downcast=type)\n",
    "            if type == \"float\":\n",
    "                df[col] = pd.to_numeric(df[col], downcast=\"integer\")\n",
    "    out_size = df.memory_usage(index=True).sum()\n",
    "    ratio = (1 - round(out_size / in_size, 2)) * 100\n",
    "    GB = out_size / 1000000000\n",
    "    if verbose:\n",
    "        print(\"optimized size by {} % | {} GB\".format(ratio, GB))\n",
    "    return df"
   ]
  },
  {
   "cell_type": "code",
   "execution_count": 5,
   "id": "f1bbdd94",
   "metadata": {},
   "outputs": [
    {
     "name": "stdout",
     "output_type": "stream",
     "text": [
      "optimized size by 65.99999999999999 % | 0.001197632 GB\n"
     ]
    }
   ],
   "source": [
    "fe_df= df_optimized(fe_df)"
   ]
  },
  {
   "cell_type": "code",
   "execution_count": 6,
   "id": "c01079c3",
   "metadata": {},
   "outputs": [
    {
     "data": {
      "text/html": [
       "<div>\n",
       "<style scoped>\n",
       "    .dataframe tbody tr th:only-of-type {\n",
       "        vertical-align: middle;\n",
       "    }\n",
       "\n",
       "    .dataframe tbody tr th {\n",
       "        vertical-align: top;\n",
       "    }\n",
       "\n",
       "    .dataframe thead th {\n",
       "        text-align: right;\n",
       "    }\n",
       "</style>\n",
       "<table border=\"1\" class=\"dataframe\">\n",
       "  <thead>\n",
       "    <tr style=\"text-align: right;\">\n",
       "      <th></th>\n",
       "      <th>Unnamed: 0</th>\n",
       "      <th>Drug1_ID</th>\n",
       "      <th>Drug1</th>\n",
       "      <th>Drug2_ID</th>\n",
       "      <th>Drug2</th>\n",
       "      <th>Y</th>\n",
       "    </tr>\n",
       "  </thead>\n",
       "  <tbody>\n",
       "    <tr>\n",
       "      <th>0</th>\n",
       "      <td>0</td>\n",
       "      <td>CID000002173</td>\n",
       "      <td>CC1(C(N2C(S1)C(C2=O)NC(=O)C(C3=CC=CC=C3)N)C(=O...</td>\n",
       "      <td>CID000003345</td>\n",
       "      <td>CCC(=O)N(C1CCN(CC1)CCC2=CC=CC=C2)C3=CC=CC=C3</td>\n",
       "      <td>767</td>\n",
       "    </tr>\n",
       "    <tr>\n",
       "      <th>1</th>\n",
       "      <td>1</td>\n",
       "      <td>CID000002173</td>\n",
       "      <td>CC1(C(N2C(S1)C(C2=O)NC(=O)C(C3=CC=CC=C3)N)C(=O...</td>\n",
       "      <td>CID000003345</td>\n",
       "      <td>CCC(=O)N(C1CCN(CC1)CCC2=CC=CC=C2)C3=CC=CC=C3</td>\n",
       "      <td>25</td>\n",
       "    </tr>\n",
       "    <tr>\n",
       "      <th>2</th>\n",
       "      <td>2</td>\n",
       "      <td>CID000002173</td>\n",
       "      <td>CC1(C(N2C(S1)C(C2=O)NC(=O)C(C3=CC=CC=C3)N)C(=O...</td>\n",
       "      <td>CID000003345</td>\n",
       "      <td>CCC(=O)N(C1CCN(CC1)CCC2=CC=CC=C2)C3=CC=CC=C3</td>\n",
       "      <td>85</td>\n",
       "    </tr>\n",
       "    <tr>\n",
       "      <th>3</th>\n",
       "      <td>3</td>\n",
       "      <td>CID000002173</td>\n",
       "      <td>CC1(C(N2C(S1)C(C2=O)NC(=O)C(C3=CC=CC=C3)N)C(=O...</td>\n",
       "      <td>CID000003345</td>\n",
       "      <td>CCC(=O)N(C1CCN(CC1)CCC2=CC=CC=C2)C3=CC=CC=C3</td>\n",
       "      <td>735</td>\n",
       "    </tr>\n",
       "    <tr>\n",
       "      <th>4</th>\n",
       "      <td>4</td>\n",
       "      <td>CID000002173</td>\n",
       "      <td>CC1(C(N2C(S1)C(C2=O)NC(=O)C(C3=CC=CC=C3)N)C(=O...</td>\n",
       "      <td>CID000003345</td>\n",
       "      <td>CCC(=O)N(C1CCN(CC1)CCC2=CC=CC=C2)C3=CC=CC=C3</td>\n",
       "      <td>959</td>\n",
       "    </tr>\n",
       "    <tr>\n",
       "      <th>...</th>\n",
       "      <td>...</td>\n",
       "      <td>...</td>\n",
       "      <td>...</td>\n",
       "      <td>...</td>\n",
       "      <td>...</td>\n",
       "      <td>...</td>\n",
       "    </tr>\n",
       "    <tr>\n",
       "      <th>4649436</th>\n",
       "      <td>929883</td>\n",
       "      <td>CID000000453</td>\n",
       "      <td>C(C(C(C(C(CO)O)O)O)O)O</td>\n",
       "      <td>CID000004595</td>\n",
       "      <td>CC1=NC=CN1CC2CCC3=C(C2=O)C4=CC=CC=C4N3C</td>\n",
       "      <td>912</td>\n",
       "    </tr>\n",
       "    <tr>\n",
       "      <th>4649437</th>\n",
       "      <td>929884</td>\n",
       "      <td>CID000005391</td>\n",
       "      <td>CN1C2=C(C=C(C=C2)Cl)C(=NC(C1=O)O)C3=CC=CC=C3</td>\n",
       "      <td>CID000068740</td>\n",
       "      <td>C1=CN(C=N1)CC(O)(P(=O)(O)O)P(=O)(O)O</td>\n",
       "      <td>1281</td>\n",
       "    </tr>\n",
       "    <tr>\n",
       "      <th>4649438</th>\n",
       "      <td>929885</td>\n",
       "      <td>CID000002909</td>\n",
       "      <td>CCC1C(=O)N(CC(=O)N(C(C(=O)NC(C(=O)N(C(C(=O)NC(...</td>\n",
       "      <td>CID000005978</td>\n",
       "      <td>CCC1(CC2CC(C3=C(CCN(C2)C1)C4=CC=CC=C4N3)(C5=C(...</td>\n",
       "      <td>289</td>\n",
       "    </tr>\n",
       "    <tr>\n",
       "      <th>4649439</th>\n",
       "      <td>929886</td>\n",
       "      <td>CID000003937</td>\n",
       "      <td>C1CC(N(C1)C(=O)C(CCCCN)NC(CCC2=CC=CC=C2)C(=O)O...</td>\n",
       "      <td>CID000077999</td>\n",
       "      <td>CN(CCOC1=CC=C(C=C1)CC2C(=O)NC(=O)S2)C3=CC=CC=N3</td>\n",
       "      <td>2</td>\n",
       "    </tr>\n",
       "    <tr>\n",
       "      <th>4649440</th>\n",
       "      <td>929887</td>\n",
       "      <td>CID000005212</td>\n",
       "      <td>CCCC1=NN(C2=C1NC(=NC2=O)C3=C(C=CC(=C3)S(=O)(=O...</td>\n",
       "      <td>CID006398525</td>\n",
       "      <td>C(C1C(C(C(C(O1)OC2(C(C(C(O2)OS(=O)(=O)O)OS(=O)...</td>\n",
       "      <td>201</td>\n",
       "    </tr>\n",
       "  </tbody>\n",
       "</table>\n",
       "<p>4649441 rows × 6 columns</p>\n",
       "</div>"
      ],
      "text/plain": [
       "         Unnamed: 0      Drug1_ID  \\\n",
       "0                 0  CID000002173   \n",
       "1                 1  CID000002173   \n",
       "2                 2  CID000002173   \n",
       "3                 3  CID000002173   \n",
       "4                 4  CID000002173   \n",
       "...             ...           ...   \n",
       "4649436      929883  CID000000453   \n",
       "4649437      929884  CID000005391   \n",
       "4649438      929885  CID000002909   \n",
       "4649439      929886  CID000003937   \n",
       "4649440      929887  CID000005212   \n",
       "\n",
       "                                                     Drug1      Drug2_ID  \\\n",
       "0        CC1(C(N2C(S1)C(C2=O)NC(=O)C(C3=CC=CC=C3)N)C(=O...  CID000003345   \n",
       "1        CC1(C(N2C(S1)C(C2=O)NC(=O)C(C3=CC=CC=C3)N)C(=O...  CID000003345   \n",
       "2        CC1(C(N2C(S1)C(C2=O)NC(=O)C(C3=CC=CC=C3)N)C(=O...  CID000003345   \n",
       "3        CC1(C(N2C(S1)C(C2=O)NC(=O)C(C3=CC=CC=C3)N)C(=O...  CID000003345   \n",
       "4        CC1(C(N2C(S1)C(C2=O)NC(=O)C(C3=CC=CC=C3)N)C(=O...  CID000003345   \n",
       "...                                                    ...           ...   \n",
       "4649436                             C(C(C(C(C(CO)O)O)O)O)O  CID000004595   \n",
       "4649437       CN1C2=C(C=C(C=C2)Cl)C(=NC(C1=O)O)C3=CC=CC=C3  CID000068740   \n",
       "4649438  CCC1C(=O)N(CC(=O)N(C(C(=O)NC(C(=O)N(C(C(=O)NC(...  CID000005978   \n",
       "4649439  C1CC(N(C1)C(=O)C(CCCCN)NC(CCC2=CC=CC=C2)C(=O)O...  CID000077999   \n",
       "4649440  CCCC1=NN(C2=C1NC(=NC2=O)C3=C(C=CC(=C3)S(=O)(=O...  CID006398525   \n",
       "\n",
       "                                                     Drug2     Y  \n",
       "0             CCC(=O)N(C1CCN(CC1)CCC2=CC=CC=C2)C3=CC=CC=C3   767  \n",
       "1             CCC(=O)N(C1CCN(CC1)CCC2=CC=CC=C2)C3=CC=CC=C3    25  \n",
       "2             CCC(=O)N(C1CCN(CC1)CCC2=CC=CC=C2)C3=CC=CC=C3    85  \n",
       "3             CCC(=O)N(C1CCN(CC1)CCC2=CC=CC=C2)C3=CC=CC=C3   735  \n",
       "4             CCC(=O)N(C1CCN(CC1)CCC2=CC=CC=C2)C3=CC=CC=C3   959  \n",
       "...                                                    ...   ...  \n",
       "4649436            CC1=NC=CN1CC2CCC3=C(C2=O)C4=CC=CC=C4N3C   912  \n",
       "4649437               C1=CN(C=N1)CC(O)(P(=O)(O)O)P(=O)(O)O  1281  \n",
       "4649438  CCC1(CC2CC(C3=C(CCN(C2)C1)C4=CC=CC=C4N3)(C5=C(...   289  \n",
       "4649439    CN(CCOC1=CC=C(C=C1)CC2C(=O)NC(=O)S2)C3=CC=CC=N3     2  \n",
       "4649440  C(C1C(C(C(C(O1)OC2(C(C(C(O2)OS(=O)(=O)O)OS(=O)...   201  \n",
       "\n",
       "[4649441 rows x 6 columns]"
      ]
     },
     "execution_count": 6,
     "metadata": {},
     "output_type": "execute_result"
    }
   ],
   "source": [
    "ts_df"
   ]
  },
  {
   "cell_type": "code",
   "execution_count": 7,
   "id": "cea9fd7e",
   "metadata": {},
   "outputs": [],
   "source": [
    "drug1_df = ts_df.copy()"
   ]
  },
  {
   "cell_type": "code",
   "execution_count": 8,
   "id": "39cca648",
   "metadata": {},
   "outputs": [],
   "source": [
    "drug1_df = drug1_df[['Drug1']]"
   ]
  },
  {
   "cell_type": "code",
   "execution_count": 9,
   "id": "5d33c9b4",
   "metadata": {},
   "outputs": [],
   "source": [
    "drug1_merged = drug1_df.merge(fe_df, on='Drug1', how='left')"
   ]
  },
  {
   "cell_type": "code",
   "execution_count": 10,
   "id": "5fe33f45",
   "metadata": {},
   "outputs": [],
   "source": [
    "drug2_df =ts_df[['Drug2','Y']]"
   ]
  },
  {
   "cell_type": "code",
   "execution_count": 11,
   "id": "3a35409e",
   "metadata": {},
   "outputs": [],
   "source": [
    "f2_df_copy = fe_df.rename(columns ={'Drug1':'Drug2'})"
   ]
  },
  {
   "cell_type": "code",
   "execution_count": 12,
   "id": "34175126",
   "metadata": {},
   "outputs": [],
   "source": [
    "drug2_merged = drug2_df.merge(f2_df_copy, on='Drug2', how='left')"
   ]
  },
  {
   "cell_type": "code",
   "execution_count": 13,
   "id": "5a98cae4",
   "metadata": {},
   "outputs": [],
   "source": [
    "final_merge = pd.concat([drug1_merged,drug2_merged],axis =1)"
   ]
  },
  {
   "cell_type": "code",
   "execution_count": 15,
   "id": "abebab72",
   "metadata": {},
   "outputs": [],
   "source": [
    "# final_merge.to_csv('/Users/george/Desktop/LW-DDI Project/final_merge2.csv')"
   ]
  },
  {
   "cell_type": "code",
   "execution_count": 21,
   "id": "1ca9b579",
   "metadata": {},
   "outputs": [
    {
     "data": {
      "text/plain": [
       "0               CCC(=O)N(C1CCN(CC1)CCC2=CC=CC=C2)C3=CC=CC=C3\n",
       "1               CCC(=O)N(C1CCN(CC1)CCC2=CC=CC=C2)C3=CC=CC=C3\n",
       "2               CCC(=O)N(C1CCN(CC1)CCC2=CC=CC=C2)C3=CC=CC=C3\n",
       "3               CCC(=O)N(C1CCN(CC1)CCC2=CC=CC=C2)C3=CC=CC=C3\n",
       "4               CCC(=O)N(C1CCN(CC1)CCC2=CC=CC=C2)C3=CC=CC=C3\n",
       "                                 ...                        \n",
       "4649436              CC1=NC=CN1CC2CCC3=C(C2=O)C4=CC=CC=C4N3C\n",
       "4649437                 C1=CN(C=N1)CC(O)(P(=O)(O)O)P(=O)(O)O\n",
       "4649438    CCC1(CC2CC(C3=C(CCN(C2)C1)C4=CC=CC=C4N3)(C5=C(...\n",
       "4649439      CN(CCOC1=CC=C(C=C1)CC2C(=O)NC(=O)S2)C3=CC=CC=N3\n",
       "4649440    C(C1C(C(C(C(O1)OC2(C(C(C(O2)OS(=O)(=O)O)OS(=O)...\n",
       "Name: Drug2, Length: 4649441, dtype: object"
      ]
     },
     "execution_count": 21,
     "metadata": {},
     "output_type": "execute_result"
    }
   ],
   "source": [
    "final_merge # drop unnamed. "
   ]
  },
  {
   "cell_type": "code",
   "execution_count": null,
   "id": "65a19b35",
   "metadata": {},
   "outputs": [],
   "source": []
  }
 ],
 "metadata": {
  "kernelspec": {
   "display_name": "Python 3 (ipykernel)",
   "language": "python",
   "name": "python3"
  },
  "language_info": {
   "codemirror_mode": {
    "name": "ipython",
    "version": 3
   },
   "file_extension": ".py",
   "mimetype": "text/x-python",
   "name": "python",
   "nbconvert_exporter": "python",
   "pygments_lexer": "ipython3",
   "version": "3.8.12"
  },
  "toc": {
   "base_numbering": 1,
   "nav_menu": {},
   "number_sections": true,
   "sideBar": true,
   "skip_h1_title": false,
   "title_cell": "Table of Contents",
   "title_sidebar": "Contents",
   "toc_cell": false,
   "toc_position": {},
   "toc_section_display": true,
   "toc_window_display": false
  }
 },
 "nbformat": 4,
 "nbformat_minor": 5
}
