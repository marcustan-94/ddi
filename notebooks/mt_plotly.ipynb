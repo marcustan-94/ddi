{
 "cells": [
  {
   "cell_type": "code",
   "execution_count": null,
   "id": "65e6b279",
   "metadata": {},
   "outputs": [],
   "source": [
    "model = joblib.load('../model.joblib')"
   ]
  },
  {
   "cell_type": "code",
   "execution_count": 2,
   "id": "7f8cdcd5",
   "metadata": {},
   "outputs": [],
   "source": [
    "from mordred import Calculator, descriptors\n",
    "from rdkit import Chem\n",
    "from urllib.request import urlopen\n",
    "from urllib.parse import quote\n",
    "import pandas as pd\n",
    "import joblib\n",
    "\n",
    "\n",
    "Y_class= pd.read_csv(\"../raw_data/mt_reclassification_encoded_beautify.csv\",\n",
    "                   usecols = ['sub_system_severity','Y_cat'],\n",
    "                    nrows = 1307) # remove rows\n",
    "\n",
    "df = pd.read_csv('../raw_data/base_diff_df.csv', nrows=0)\n",
    "df.drop(columns =[col for col in df.columns if 'Unnamed' in col], inplace = True )\n",
    "X = df[df.columns[90:]]\n",
    "\n",
    "\n",
    "def get_smiles(drug1,drug2):\n",
    "\n",
    "    '''converting drug names to smiles, return try again error if cant process the drug names'''\n",
    "    smile_list = []\n",
    "    for drug in [drug1,drug2]:\n",
    "        try:\n",
    "            url = 'http://cactus.nci.nih.gov/chemical/structure/' + quote(drug) + '/smiles'\n",
    "            ans = urlopen(url).read().decode('utf8')\n",
    "            smile_list.append(ans)\n",
    "        except:\n",
    "            smile_list.append('Unable to find the drug, please try again.')\n",
    "\n",
    "    return smile_list\n",
    "\n",
    "def get_mordred(drug1, drug2):\n",
    "    smile_list = get_smiles(drug1, drug2)\n",
    "\n",
    "    '''building pandas dataframe'''\n",
    "    mols = [Chem.MolFromSmiles(item) for item in smile_list]\n",
    "    calc = Calculator(descriptors, ignore_3D=True)\n",
    "    drug_features = calc.pandas(mols)\n",
    "    return drug_features\n",
    "\n",
    "\n",
    "def preproc(drug1, drug2):\n",
    "    '''cleaning drug_features dataframe'''\n",
    "    drug_features = get_mordred(drug1, drug2)\n",
    "    drug_features.replace({False: 0, True: 1}, inplace=True)\n",
    "    drug_features = drug_features[X.columns]\n",
    "    drug_features.iloc[0] = drug_features.iloc[0].astype(\"float32\")\n",
    "    drug_features.iloc[1] = drug_features.iloc[1].astype(\"float32\")\n",
    "    X_test = pd.DataFrame(drug_features.iloc[0] - drug_features.iloc[1]).astype('float32').transpose()\n",
    "    return X_test\n",
    "\n",
    "\n",
    "def load_model():\n",
    "    '''predicting X_test with the model'''\n",
    "    pipeline = joblib.load('../model.joblib')\n",
    "    return pipeline\n",
    "\n",
    "def predict(drug1, drug2):\n",
    "    pipeline = load_model()\n",
    "    X_test = preproc(drug1, drug2)\n",
    "    y_pred = pipeline.predict(X_test)\n",
    "    return y_pred\n",
    "\n",
    "def predict_proba(drug1, drug2):\n",
    "    pipeline = load_model()\n",
    "    X_test = preproc(drug1, drug2)\n",
    "    y_proba = pipeline.predict_proba(X_test)\n",
    "    return y_proba\n",
    "\n",
    "\n",
    "\n",
    "def classify(drug1, drug2):\n",
    "    y_pred = predict(drug1, drug2)\n",
    "    '''creating a dictionary that returns the sub_system as values '''\n",
    "    cat_dict = pd.Series(Y_class.sub_system_severity.values, index = Y_class.Y_cat).to_dict()\n",
    "\n",
    "    '''retrieving the predicted categories and store into a list'''\n",
    "    prediction_list = []\n",
    "    for i,x in enumerate(y_pred[0]):\n",
    "        if x == 0:\n",
    "            continue\n",
    "        prediction_list.append(i)\n",
    "\n",
    "    '''retrieving the side_effects given the predicted categories'''\n",
    "    side_effect_list = []\n",
    "    for i in prediction_list:\n",
    "        side_effect_list.append(cat_dict[i])\n",
    "\n",
    "    return side_effect_list\n",
    "\n",
    "def classify_proba(drug1, drug2):\n",
    "    y_pred = predict(drug1, drug2)\n",
    "    y_proba = predict_proba(drug1, drug2)\n",
    "    prediction_list = []\n",
    "    proba_list = []\n",
    "    for i,x in enumerate(y_pred[0]):\n",
    "        if x == 0:\n",
    "            continue\n",
    "        prediction_list.append(i)\n",
    "\n",
    "    for i in prediction_list:\n",
    "        proba_list.append(y_proba[i][0][1])\n",
    "\n",
    "    return proba_list\n"
   ]
  },
  {
   "cell_type": "code",
   "execution_count": 9,
   "id": "7213ef35",
   "metadata": {},
   "outputs": [],
   "source": [
    "import streamlit as st\n",
    "import matplotlib.pyplot as plt\n",
    "import time\n",
    "import pandas as pd\n",
    "import plotly.express as px\n",
    "import numpy as np\n",
    "import math"
   ]
  },
  {
   "cell_type": "code",
   "execution_count": 10,
   "id": "fa9153d7",
   "metadata": {},
   "outputs": [],
   "source": [
    "drug1 = 'Aspirin'\n",
    "drug2 = 'paracetamol'"
   ]
  },
  {
   "cell_type": "code",
   "execution_count": null,
   "id": "6237f263",
   "metadata": {},
   "outputs": [],
   "source": [
    "pred = classify(drug1, drug2)\n",
    "proba = classify_proba(drug1, drug2)\n",
    "\n",
    "prediction = {}\n",
    "prediction[\"side_effects\"] = []\n",
    "prediction[\"probability\"] = proba\n",
    "prediction[\"severity\"] = []\n",
    "\n",
    "for item in pred:\n",
    "    prediction[\"severity\"].append(item.split()[-1].replace(\"-\", \"\"))\n",
    "    prediction[\"side_effects\"].append(\" \".join(item.split()[:-1]).replace(\"-\", \"\"))\n",
    "\n",
    "prediction_df = pd.DataFrame(prediction, columns = [\"side_effects\",\n",
    "                                                    \"probability\",\n",
    "                                                    \"severity\"])\n"
   ]
  },
  {
   "cell_type": "code",
   "execution_count": null,
   "id": "1ee3975c",
   "metadata": {},
   "outputs": [],
   "source": []
  }
 ],
 "metadata": {
  "kernelspec": {
   "display_name": "Python 3 (ipykernel)",
   "language": "python",
   "name": "python3"
  },
  "language_info": {
   "codemirror_mode": {
    "name": "ipython",
    "version": 3
   },
   "file_extension": ".py",
   "mimetype": "text/x-python",
   "name": "python",
   "nbconvert_exporter": "python",
   "pygments_lexer": "ipython3",
   "version": "3.8.12"
  },
  "toc": {
   "base_numbering": 1,
   "nav_menu": {},
   "number_sections": true,
   "sideBar": true,
   "skip_h1_title": false,
   "title_cell": "Table of Contents",
   "title_sidebar": "Contents",
   "toc_cell": false,
   "toc_position": {},
   "toc_section_display": true,
   "toc_window_display": false
  },
  "varInspector": {
   "cols": {
    "lenName": 16,
    "lenType": 16,
    "lenVar": 40
   },
   "kernels_config": {
    "python": {
     "delete_cmd_postfix": "",
     "delete_cmd_prefix": "del ",
     "library": "var_list.py",
     "varRefreshCmd": "print(var_dic_list())"
    },
    "r": {
     "delete_cmd_postfix": ") ",
     "delete_cmd_prefix": "rm(",
     "library": "var_list.r",
     "varRefreshCmd": "cat(var_dic_list()) "
    }
   },
   "types_to_exclude": [
    "module",
    "function",
    "builtin_function_or_method",
    "instance",
    "_Feature"
   ],
   "window_display": false
  }
 },
 "nbformat": 4,
 "nbformat_minor": 5
}
