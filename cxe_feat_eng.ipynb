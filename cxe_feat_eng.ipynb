{
 "cells": [
  {
   "cell_type": "code",
   "execution_count": 1,
   "id": "2fb8d59d",
   "metadata": {},
   "outputs": [],
   "source": [
    "import pandas as pd\n",
    "from mordred import Calculator, descriptors\n",
    "from rdkit import Chem"
   ]
  },
  {
   "cell_type": "code",
   "execution_count": 2,
   "id": "95c906f7",
   "metadata": {},
   "outputs": [],
   "source": [
    "df = pd.read_csv(\"twosides.csv\").drop(columns = \"Unnamed: 0\")"
   ]
  },
  {
   "cell_type": "code",
   "execution_count": 3,
   "id": "b740831d",
   "metadata": {},
   "outputs": [],
   "source": [
    "drug_list = list(df[\"Drug1\"].unique())"
   ]
  },
  {
   "cell_type": "code",
   "execution_count": 4,
   "id": "40720c11",
   "metadata": {},
   "outputs": [
    {
     "name": "stderr",
     "output_type": "stream",
     "text": [
      "  9%|████████                                                                              | 58/616 [00:11<02:07,  4.37it/s]"
     ]
    },
    {
     "name": "stdout",
     "output_type": "stream",
     "text": [
      "/home/chongxe1991/.pyenv/versions/3.8.12/envs/ddi/lib/python3.8/site-packages/numpy/core/fromnumeric.py:86: RuntimeWarning: overflow encountered in reduce\n",
      "  return ufunc.reduce(obj, axis, dtype, out, **passkwargs)\n"
     ]
    },
    {
     "name": "stderr",
     "output_type": "stream",
     "text": [
      " 13%|███████████▌                                                                          | 83/616 [00:15<01:47,  4.97it/s]"
     ]
    },
    {
     "name": "stdout",
     "output_type": "stream",
     "text": [
      "/home/chongxe1991/.pyenv/versions/3.8.12/envs/ddi/lib/python3.8/site-packages/numpy/core/fromnumeric.py:86: RuntimeWarning: overflow encountered in reduce\n",
      "  return ufunc.reduce(obj, axis, dtype, out, **passkwargs)\n"
     ]
    },
    {
     "name": "stderr",
     "output_type": "stream",
     "text": [
      " 23%|███████████████████▍                                                                 | 141/616 [00:21<00:43, 10.94it/s]"
     ]
    },
    {
     "name": "stdout",
     "output_type": "stream",
     "text": [
      "/home/chongxe1991/.pyenv/versions/3.8.12/envs/ddi/lib/python3.8/site-packages/numpy/core/fromnumeric.py:86: RuntimeWarning: overflow encountered in reduce\n",
      "  return ufunc.reduce(obj, axis, dtype, out, **passkwargs)\n"
     ]
    },
    {
     "name": "stderr",
     "output_type": "stream",
     "text": [
      " 53%|█████████████████████████████████████████████                                        | 327/616 [00:57<03:13,  1.49it/s]"
     ]
    },
    {
     "name": "stdout",
     "output_type": "stream",
     "text": [
      "/home/chongxe1991/.pyenv/versions/3.8.12/envs/ddi/lib/python3.8/site-packages/numpy/core/fromnumeric.py:86: RuntimeWarning: overflow encountered in reduce\n",
      "  return ufunc.reduce(obj, axis, dtype, out, **passkwargs)\n"
     ]
    },
    {
     "name": "stderr",
     "output_type": "stream",
     "text": [
      " 54%|██████████████████████████████████████████████                                       | 334/616 [01:02<01:25,  3.30it/s]"
     ]
    },
    {
     "name": "stdout",
     "output_type": "stream",
     "text": [
      "/home/chongxe1991/.pyenv/versions/3.8.12/envs/ddi/lib/python3.8/site-packages/numpy/core/fromnumeric.py:86: RuntimeWarning: overflow encountered in reduce\n",
      "  return ufunc.reduce(obj, axis, dtype, out, **passkwargs)\n"
     ]
    },
    {
     "name": "stderr",
     "output_type": "stream",
     "text": [
      " 73%|█████████████████████████████████████████████████████████████▊                       | 448/616 [01:24<01:06,  2.52it/s]"
     ]
    },
    {
     "name": "stdout",
     "output_type": "stream",
     "text": [
      "/home/chongxe1991/.pyenv/versions/3.8.12/envs/ddi/lib/python3.8/site-packages/numpy/core/fromnumeric.py:86: RuntimeWarning: overflow encountered in reduce\n",
      "  return ufunc.reduce(obj, axis, dtype, out, **passkwargs)\n"
     ]
    },
    {
     "name": "stderr",
     "output_type": "stream",
     "text": [
      " 78%|██████████████████████████████████████████████████████████████████▎                  | 481/616 [01:33<00:41,  3.24it/s]"
     ]
    },
    {
     "name": "stdout",
     "output_type": "stream",
     "text": [
      "/home/chongxe1991/.pyenv/versions/3.8.12/envs/ddi/lib/python3.8/site-packages/numpy/core/fromnumeric.py:86: RuntimeWarning: overflow encountered in reduce\n",
      "  return ufunc.reduce(obj, axis, dtype, out, **passkwargs)\n"
     ]
    },
    {
     "name": "stderr",
     "output_type": "stream",
     "text": [
      " 93%|███████████████████████████████████████████████████████████████████████████████▏     | 574/616 [01:55<00:20,  2.02it/s]"
     ]
    },
    {
     "name": "stdout",
     "output_type": "stream",
     "text": [
      "/home/chongxe1991/.pyenv/versions/3.8.12/envs/ddi/lib/python3.8/site-packages/numpy/core/fromnumeric.py:86: RuntimeWarning: overflow encountered in reduce\n",
      "  return ufunc.reduce(obj, axis, dtype, out, **passkwargs)\n"
     ]
    },
    {
     "name": "stderr",
     "output_type": "stream",
     "text": [
      "100%|█████████████████████████████████████████████████████████████████████████████████████| 616/616 [02:00<00:00,  5.09it/s]\n"
     ]
    }
   ],
   "source": [
    "from rdkit import Chem\n",
    "from mordred import Calculator, descriptors\n",
    "\n",
    "mols = [Chem.MolFromSmiles(item) for item in drug_list]\n",
    "calc = Calculator(descriptors, ignore_3D=True)\n",
    "df2 = calc.pandas(mols)"
   ]
  },
  {
   "cell_type": "code",
   "execution_count": 7,
   "id": "b9c6d3c6",
   "metadata": {},
   "outputs": [],
   "source": [
    "df2[\"Drug1\"] = drug_list"
   ]
  },
  {
   "cell_type": "code",
   "execution_count": 10,
   "id": "33e71e7f",
   "metadata": {},
   "outputs": [],
   "source": [
    "df2 = df2.set_index(\"Drug1\")"
   ]
  },
  {
   "cell_type": "code",
   "execution_count": 13,
   "id": "d9e4fb0b",
   "metadata": {},
   "outputs": [],
   "source": [
    "df2 = df2.reset_index()"
   ]
  },
  {
   "cell_type": "code",
   "execution_count": 15,
   "id": "673714a9",
   "metadata": {},
   "outputs": [],
   "source": [
    "df2_object_list = list(df2.select_dtypes(\"object\").keys()[1:])"
   ]
  },
  {
   "cell_type": "code",
   "execution_count": 16,
   "id": "6a3f4012",
   "metadata": {},
   "outputs": [],
   "source": [
    "df2 = df2.drop(columns = df2_object_list)"
   ]
  },
  {
   "cell_type": "code",
   "execution_count": 17,
   "id": "2b91679a",
   "metadata": {},
   "outputs": [],
   "source": [
    "df2.to_csv(\"cxe_feat_eng_droppedcolumns.csv\")"
   ]
  }
 ],
 "metadata": {
  "kernelspec": {
   "display_name": "Python 3 (ipykernel)",
   "language": "python",
   "name": "python3"
  },
  "language_info": {
   "codemirror_mode": {
    "name": "ipython",
    "version": 3
   },
   "file_extension": ".py",
   "mimetype": "text/x-python",
   "name": "python",
   "nbconvert_exporter": "python",
   "pygments_lexer": "ipython3",
   "version": "3.8.12"
  },
  "toc": {
   "base_numbering": 1,
   "nav_menu": {},
   "number_sections": true,
   "sideBar": true,
   "skip_h1_title": false,
   "title_cell": "Table of Contents",
   "title_sidebar": "Contents",
   "toc_cell": false,
   "toc_position": {},
   "toc_section_display": true,
   "toc_window_display": false
  }
 },
 "nbformat": 4,
 "nbformat_minor": 5
}
